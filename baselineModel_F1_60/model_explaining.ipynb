{
 "cells": [
  {
   "cell_type": "code",
   "execution_count": 6,
   "metadata": {},
   "outputs": [],
   "source": [
    "import numpy as np\n",
    "import pandas as pd\n",
    "import tensorflow as tf\n",
    "from keras.preprocessing.text import Tokenizer\n",
    "from keras.preprocessing.sequence import pad_sequences\n",
    "from keras.utils import to_categorical\n",
    "from keras.models import Sequential\n",
    "from keras.callbacks import EarlyStopping, ModelCheckpoint\n",
    "from keras.layers import Dense, Embedding, LSTM\n",
    "from keras import optimizers\n",
    "from keras.models import load_model\n",
    "import tensorflow_hub as hub\n",
    "from matplotlib import pyplot\n",
    "import tf_metrics\n",
    "import emoji\n",
    "import json, argparse, os\n",
    "import re\n",
    "import io\n",
    "import sys\n",
    "sys.path.append(os.getcwd())\n",
    "#from helper_functions import *"
   ]
  },
  {
   "cell_type": "code",
   "execution_count": 7,
   "metadata": {},
   "outputs": [],
   "source": [
    "np.random.seed(7)\n",
    "\n",
    "global trainDataPath, testDataPath, solutionPath, gloveDir\n",
    "global NUM_FOLDS, NUM_CLASSES, MAX_NB_WORDS, MAX_SEQUENCE_LENGTH, EMBEDDING_DIM\n",
    "global BATCH_SIZE, LSTM_DIM, DROPOUT, NUM_EPOCHS, LEARNING_RATE, EARLY_STOPPING\n",
    "\n",
    "#parser = argparse.ArgumentParser(description=\"Baseline Script for SemEval\")\n",
    "#parser.add_argument('-config', help='Config to read details', required=True)\n",
    "#args = parser.parse_args()\n",
    "\n",
    "with open('testBaseline.config') as configfile:\n",
    "    config = json.load(configfile)\n",
    "\n",
    "trainDataPath = config[\"train_data_path\"]\n",
    "validationDataPath = config[\"validation_data_path\"]\n",
    "testDataPath = config[\"test_data_path\"]\n",
    "solutionPath = config[\"solution_path\"]\n",
    "gloveDir = config[\"glove_dir\"]\n",
    "\n",
    "NUM_FOLDS = config[\"num_folds\"]\n",
    "NUM_CLASSES = config[\"num_classes\"]\n",
    "MAX_NB_WORDS = config[\"max_nb_words\"]\n",
    "MAX_SEQUENCE_LENGTH = config[\"max_sequence_length\"]\n",
    "EMBEDDING_DIM = config[\"embedding_dim\"]\n",
    "BATCH_SIZE = config[\"batch_size\"]\n",
    "LSTM_DIM = config[\"lstm_dim\"]\n",
    "DROPOUT = config[\"dropout\"]\n",
    "LEARNING_RATE = config[\"learning_rate\"]\n",
    "NUM_EPOCHS = config[\"num_epochs\"]\n",
    "EARLY_STOPPING = config[\"early_stopping\"]\n",
    "label2emotion = {0:\"others\", 1:\"happy\", 2: \"sad\", 3:\"angry\"}\n",
    "emotion2label = {\"others\":0, \"happy\":1, \"sad\":2, \"angry\":3}"
   ]
  },
  {
   "cell_type": "code",
   "execution_count": 8,
   "metadata": {},
   "outputs": [],
   "source": [
    "def preprocessData(dataFilePath, mode):\n",
    "    \"\"\"Load data from a file, process and return indices, conversations and labels in separate lists\n",
    "    Input:\n",
    "        dataFilePath : Path to train/test file to be processed\n",
    "        mode : \"train\" mode returns labels. \"test\" mode doesn't return labels.\n",
    "    Output:\n",
    "        indices : Unique conversation ID list\n",
    "        conversations : List of 3 turn conversations, processed and each turn separated by the <eos> tag\n",
    "        labels : [Only available in \"train\" mode] List of labels\n",
    "    \"\"\"\n",
    "    indices = []\n",
    "    conversations = []\n",
    "    labels = []\n",
    "    with io.open(dataFilePath, encoding=\"utf8\") as finput:\n",
    "        finput.readline()\n",
    "        for line in finput:\n",
    "            # Convert multiple instances of . ? ! , to single instance\n",
    "            # okay...sure -> okay . sure\n",
    "            # okay???sure -> okay ? sure\n",
    "            # Add whitespace around such punctuation\n",
    "            # okay!sure -> okay ! sure\n",
    "            repeatedChars = ['.', '?', '!', ',']\n",
    "            for c in repeatedChars:\n",
    "                lineSplit = line.split(c)\n",
    "                while True:\n",
    "                    try:\n",
    "                        lineSplit.remove('')\n",
    "                    except:\n",
    "                        break\n",
    "                cSpace = ' ' + c + ' '\n",
    "                line = cSpace.join(lineSplit)\n",
    "\n",
    "            line = line.strip().split('\\t')\n",
    "            if mode == \"train\":\n",
    "                # Train data contains id, 3 turns and label\n",
    "                label = emotion2label[line[4]]\n",
    "                labels.append(label)\n",
    "\n",
    "            conv = ' <eos> '.join(line[1:4])\n",
    "\n",
    "            # Remove any duplicate spaces\n",
    "            duplicateSpacePattern = re.compile(r'\\ +')\n",
    "            conv = re.sub(duplicateSpacePattern, ' ', conv)\n",
    "\n",
    "            indices.append(int(line[0]))\n",
    "            conversations.append(conv.lower())\n",
    "\n",
    "    if mode == \"train\":\n",
    "        return indices, conversations, labels\n",
    "    else:\n",
    "        return indices, conversations\n"
   ]
  },
  {
   "cell_type": "code",
   "execution_count": 9,
   "metadata": {},
   "outputs": [],
   "source": [
    "def getEmbeddingMatrix(wordIndex):\n",
    "    \"\"\"Populate an embedding matrix using a word-index. If the word \"happy\" has an index 19,\n",
    "       the 19th row in the embedding matrix should contain the embedding vector for the word \"happy\".\n",
    "    Input:\n",
    "        wordIndex : A dictionary of (word : index) pairs, extracted using a tokeniser\n",
    "    Output:\n",
    "        embeddingMatrix : A matrix where every row has 100 dimensional GloVe embedding\n",
    "    \"\"\"\n",
    "    embeddingsIndex = {}\n",
    "    # Load the embedding vectors from ther GloVe file\n",
    "    with io.open(os.path.join(gloveDir, 'glove.6B.100d.txt'), encoding=\"utf8\") as f:\n",
    "        for line in f:\n",
    "            values = line.split()\n",
    "            word = values[0]\n",
    "            embeddingVector = np.asarray(values[1:], dtype='float32')\n",
    "            embeddingsIndex[word] = embeddingVector\n",
    "\n",
    "    print('Found %s word vectors.' % len(embeddingsIndex))\n",
    "\n",
    "    # Minimum word index of any word is 1.\n",
    "    embeddingMatrix = np.zeros((len(wordIndex) + 1, EMBEDDING_DIM))\n",
    "    for word, i in wordIndex.items():\n",
    "        embeddingVector = embeddingsIndex.get(word)\n",
    "        if embeddingVector is not None:\n",
    "            # words not found in embedding index will be all-zeros.\n",
    "            embeddingMatrix[i] = embeddingVector\n",
    "\n",
    "    return embeddingMatrix\n",
    "#############################################"
   ]
  },
  {
   "cell_type": "code",
   "execution_count": 10,
   "metadata": {},
   "outputs": [
    {
     "name": "stdout",
     "output_type": "stream",
     "text": [
      "Processing training data...\n",
      "Processing validation data...\n",
      "Processing test data...\n",
      "Extracting tokens...\n",
      "Found 16831 unique tokens.\n",
      "Populating embedding matrix...\n",
      "Found 400000 word vectors.\n"
     ]
    }
   ],
   "source": [
    "print(\"Processing training data...\")\n",
    "trainIndices, trainTexts, labels = preprocessData(trainDataPath, mode=\"train\")\n",
    "# Write normalised text to file to check if normalisation works. Disabled now. Uncomment following line to enable\n",
    "# writeNormalisedData(trainDataPath, trainTexts)\n",
    "print(\"Processing validation data...\")\n",
    "validationIndices, validationTexts, validationLabels = preprocessData(validationDataPath, mode=\"train\")\n",
    "# writeNormalisedData(testDataPath, testTexts)\n",
    "print(\"Processing test data...\")\n",
    "testIndices, testTexts, testLabels = preprocessData(testDataPath, mode=\"train\")\n",
    "\n",
    "print(\"Extracting tokens...\")\n",
    "tokenizer = Tokenizer(num_words=MAX_NB_WORDS)\n",
    "tokenizer.fit_on_texts(trainTexts)\n",
    "trainSequences = tokenizer.texts_to_sequences(trainTexts)\n",
    "validationSequences = tokenizer.texts_to_sequences(validationTexts)\n",
    "testSequences = tokenizer.texts_to_sequences(testTexts)\n",
    "\n",
    "wordIndex = tokenizer.word_index\n",
    "print(\"Found %s unique tokens.\" % len(wordIndex))\n",
    "\n",
    "print(\"Populating embedding matrix...\")\n",
    "embeddingMatrix = getEmbeddingMatrix(wordIndex)\n",
    "\n",
    "data = pad_sequences(trainSequences, maxlen=MAX_SEQUENCE_LENGTH)\n",
    "labels_cat = to_categorical(np.asarray(labels))\n",
    "validationData = pad_sequences(validationSequences, maxlen=MAX_SEQUENCE_LENGTH)\n",
    "validationLabels_cat = to_categorical(np.asarray(validationLabels))\n",
    "testData = pad_sequences(testSequences, maxlen=MAX_SEQUENCE_LENGTH)\n",
    "testLabels_cat = to_categorical(np.asarray(testLabels))\n",
    "\n"
   ]
  },
  {
   "cell_type": "code",
   "execution_count": 11,
   "metadata": {},
   "outputs": [],
   "source": [
    "model = load_model('EP100_LR300e-5_LDim128_BS200.h5')\n",
    "predictions = model.predict(data, batch_size=BATCH_SIZE)\n",
    "predictions_val = model.predict(validationData, batch_size=BATCH_SIZE)\n",
    "predictions_test = model.predict(testData, batch_size=BATCH_SIZE)\n"
   ]
  },
  {
   "cell_type": "code",
   "execution_count": 12,
   "metadata": {},
   "outputs": [],
   "source": [
    "def getMetrics(predictions, ground):\n",
    "    \"\"\"Given predicted labels and the respective ground truth labels, display some metrics\n",
    "    Input: shape [# of samples, NUM_CLASSES]\n",
    "        predictions : Model output. Every row has 4 decimal values, with the highest belonging to the predicted class\n",
    "        ground : Ground truth labels, converted to one-hot encodings. A sample belonging to Happy class will be [0, 1, 0, 0]\n",
    "    Output:\n",
    "        accuracy : Average accuracy\n",
    "        microPrecision : Precision calculated on a micro level. Ref - https://datascience.stackexchange.com/questions/15989/micro-average-vs-macro-average-performance-in-a-multiclass-classification-settin/16001\n",
    "        microRecall : Recall calculated on a micro level\n",
    "        microF1 : Harmonic mean of microPrecision and microRecall. Higher value implies better classification\n",
    "    \"\"\"\n",
    "    # [0.1, 0.3 , 0.2, 0.1] -> [0, 1, 0, 0]\n",
    "    discretePredictions = to_categorical(predictions.argmax(axis=1))\n",
    "\n",
    "    truePositives = np.sum(discretePredictions*ground, axis=0)\n",
    "    falsePositives = np.sum(np.clip(discretePredictions - ground, 0, 1), axis=0)\n",
    "    falseNegatives = np.sum(np.clip(ground-discretePredictions, 0, 1), axis=0)\n",
    "\n",
    "    print(\"True Positives per class : \", truePositives)\n",
    "    print(\"False Positives per class : \", falsePositives)\n",
    "    print(\"False Negatives per class : \", falseNegatives)\n",
    "\n",
    "    # ------------- Macro level calculation ---------------\n",
    "    macroPrecision = 0\n",
    "    macroRecall = 0\n",
    "    # We ignore the \"Others\" class during the calculation of Precision, Recall and F1\n",
    "    for c in range(1, NUM_CLASSES):\n",
    "        precision = truePositives[c] / (truePositives[c] + falsePositives[c])\n",
    "        macroPrecision += precision\n",
    "        recall = truePositives[c] / (truePositives[c] + falseNegatives[c])\n",
    "        macroRecall += recall\n",
    "        f1 = ( 2 * recall * precision ) / (precision + recall) if (precision+recall) > 0 else 0\n",
    "        print(\"Class %s : Precision : %.3f, Recall : %.3f, F1 : %.3f\" % (label2emotion[c], precision, recall, f1))\n",
    "\n",
    "    macroPrecision /= 3\n",
    "    macroRecall /= 3\n",
    "    macroF1 = (2 * macroRecall * macroPrecision ) / (macroPrecision + macroRecall) if (macroPrecision+macroRecall) > 0 else 0\n",
    "    print(\"Ignoring the Others class, Macro Precision : %.4f, Macro Recall : %.4f, Macro F1 : %.4f\" % (macroPrecision, macroRecall, macroF1))\n",
    "\n",
    "    # ------------- Micro level calculation ---------------\n",
    "    truePositives = truePositives[1:].sum()\n",
    "    falsePositives = falsePositives[1:].sum()\n",
    "    falseNegatives = falseNegatives[1:].sum()\n",
    "\n",
    "    print(\"Ignoring the Others class, Micro TP : %d, FP : %d, FN : %d\" % (truePositives, falsePositives, falseNegatives))\n",
    "\n",
    "    microPrecision = truePositives / (truePositives + falsePositives)\n",
    "    microRecall = truePositives / (truePositives + falseNegatives)\n",
    "\n",
    "    microF1 = ( 2 * microRecall * microPrecision ) / (microPrecision + microRecall) if (microPrecision+microRecall) > 0 else 0\n",
    "    # -----------------------------------------------------\n",
    "\n",
    "    predictions = predictions.argmax(axis=1)\n",
    "    ground = ground.argmax(axis=1)\n",
    "    accuracy = np.mean(predictions==ground)\n",
    "\n",
    "    print(\"Accuracy : %.4f, Micro Precision : %.4f, Micro Recall : %.4f, Micro F1 : %.4f\" % (accuracy, microPrecision, microRecall, microF1))\n",
    "    return accuracy, microPrecision, microRecall, microF1"
   ]
  },
  {
   "cell_type": "code",
   "execution_count": 13,
   "metadata": {},
   "outputs": [
    {
     "name": "stdout",
     "output_type": "stream",
     "text": [
      "True Positives per class :  [4241.  181.  174.  223.]\n",
      "False Positives per class :  [204. 184. 157. 145.]\n",
      "False Negatives per class :  [436. 103.  76.  75.]\n",
      "Class happy : Precision : 0.496, Recall : 0.637, F1 : 0.558\n",
      "Class sad : Precision : 0.526, Recall : 0.696, F1 : 0.599\n",
      "Class angry : Precision : 0.606, Recall : 0.748, F1 : 0.670\n",
      "Ignoring the Others class, Macro Precision : 0.5425, Macro Recall : 0.6939, Macro F1 : 0.6089\n",
      "Ignoring the Others class, Micro TP : 578, FP : 486, FN : 254\n",
      "Accuracy : 0.8748, Micro Precision : 0.5432, Micro Recall : 0.6947, Micro F1 : 0.6097\n"
     ]
    }
   ],
   "source": [
    "accuracy, microPrecision, microRecall, microF1 = getMetrics(np.asarray(predictions_test), testLabels_cat)\n"
   ]
  },
  {
   "cell_type": "code",
   "execution_count": 14,
   "metadata": {},
   "outputs": [
    {
     "name": "stdout",
     "output_type": "stream",
     "text": [
      "True Positives per class :  [2133.   97.   91.  119.]\n",
      "False Positives per class :  [91. 88. 74. 62.]\n",
      "False Negatives per class :  [205.  45.  34.  31.]\n",
      "Class happy : Precision : 0.524, Recall : 0.683, F1 : 0.593\n",
      "Class sad : Precision : 0.552, Recall : 0.728, F1 : 0.628\n",
      "Class angry : Precision : 0.657, Recall : 0.793, F1 : 0.719\n",
      "Ignoring the Others class, Macro Precision : 0.5778, Macro Recall : 0.7348, Macro F1 : 0.6469\n",
      "Ignoring the Others class, Micro TP : 307, FP : 224, FN : 110\n",
      "Accuracy : 0.8857, Micro Precision : 0.5782, Micro Recall : 0.7362, Micro F1 : 0.6477\n"
     ]
    }
   ],
   "source": [
    "accuracy, microPrecision, microRecall, microF1 = getMetrics(np.asarray(predictions_val), validationLabels_cat)\n"
   ]
  },
  {
   "cell_type": "code",
   "execution_count": 15,
   "metadata": {},
   "outputs": [],
   "source": [
    "y_p = np.asarray(predictions_test).argmax(axis=1)"
   ]
  },
  {
   "cell_type": "code",
   "execution_count": 16,
   "metadata": {},
   "outputs": [],
   "source": [
    "y_t = np.asarray(testLabels)"
   ]
  },
  {
   "cell_type": "code",
   "execution_count": 17,
   "metadata": {},
   "outputs": [
    {
     "data": {
      "text/plain": [
       "array([[4241,  170,  136,  130],\n",
       "       [  87,  181,   11,    5],\n",
       "       [  54,   12,  174,   10],\n",
       "       [  63,    2,   10,  223]])"
      ]
     },
     "execution_count": 17,
     "metadata": {},
     "output_type": "execute_result"
    }
   ],
   "source": [
    "from sklearn.metrics import confusion_matrix\n",
    "confusion_matrix(y_t, y_p)"
   ]
  },
  {
   "cell_type": "code",
   "execution_count": null,
   "metadata": {},
   "outputs": [],
   "source": []
  }
 ],
 "metadata": {
  "kernelspec": {
   "display_name": "Python 3",
   "language": "python",
   "name": "python3"
  },
  "language_info": {
   "codemirror_mode": {
    "name": "ipython",
    "version": 3
   },
   "file_extension": ".py",
   "mimetype": "text/x-python",
   "name": "python",
   "nbconvert_exporter": "python",
   "pygments_lexer": "ipython3",
   "version": "3.7.2"
  }
 },
 "nbformat": 4,
 "nbformat_minor": 2
}

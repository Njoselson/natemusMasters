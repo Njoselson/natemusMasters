{
 "cells": [
  {
   "cell_type": "code",
   "execution_count": 1,
   "metadata": {},
   "outputs": [
    {
     "name": "stderr",
     "output_type": "stream",
     "text": [
      "Using TensorFlow backend.\n",
      "WARNING: Logging before flag parsing goes to stderr.\n",
      "W0606 19:48:05.106102 4619879872 __init__.py:56] Some hub symbols are not available because TensorFlow version is less than 1.14\n"
     ]
    }
   ],
   "source": [
    "import numpy as np\n",
    "import pandas as pd\n",
    "import tensorflow as tf\n",
    "from keras.preprocessing.text import Tokenizer\n",
    "from keras.preprocessing.sequence import pad_sequences\n",
    "from keras.utils import to_categorical\n",
    "from keras.models import Sequential\n",
    "from keras.callbacks import EarlyStopping, ModelCheckpoint\n",
    "from keras.layers import Dense, Embedding, LSTM\n",
    "from keras import optimizers\n",
    "from keras.models import load_model\n",
    "import tensorflow_hub as hub\n",
    "import bert\n",
    "from bert import optimization, run_classifier, tokenization\n",
    "from matplotlib import pyplot\n",
    "import tf_metrics\n",
    "from scipy.special import softmax\n",
    "\n",
    "import emoji\n",
    "import json, argparse, os\n",
    "import re\n",
    "import io\n",
    "import sys"
   ]
  },
  {
   "cell_type": "code",
   "execution_count": 2,
   "metadata": {},
   "outputs": [],
   "source": [
    "np.random.seed(7)\n",
    "\n",
    "global trainDataPath, testDataPath, solutionPath, gloveDir\n",
    "global NUM_FOLDS, NUM_CLASSES, MAX_NB_WORDS, MAX_SEQUENCE_LENGTH, EMBEDDING_DIM\n",
    "global BATCH_SIZE, LSTM_DIM, DROPOUT, NUM_EPOCHS, LEARNING_RATE, EARLY_STOPPING\n",
    "\n",
    "#parser = argparse.ArgumentParser(description=\"Baseline Script for SemEval\")\n",
    "#parser.add_argument('-config', help='Config to read details', required=True)\n",
    "#args = parser.parse_args()\n",
    "\n",
    "with open('testBaseline.config') as configfile:\n",
    "    config = json.load(configfile)\n",
    "\n",
    "trainDataPath = config[\"train_data_path\"]\n",
    "validationDataPath = config[\"validation_data_path\"]\n",
    "testDataPath = config[\"test_data_path\"]\n",
    "solutionPath = config[\"solution_path\"]\n",
    "gloveDir = config[\"glove_dir\"]\n",
    "\n",
    "NUM_FOLDS = config[\"num_folds\"]\n",
    "NUM_CLASSES = config[\"num_classes\"]\n",
    "MAX_NB_WORDS = config[\"max_nb_words\"]\n",
    "MAX_SEQUENCE_LENGTH = config[\"max_sequence_length\"]\n",
    "EMBEDDING_DIM = config[\"embedding_dim\"]\n",
    "BATCH_SIZE = config[\"batch_size\"]\n",
    "LSTM_DIM = config[\"lstm_dim\"]\n",
    "DROPOUT = config[\"dropout\"]\n",
    "LEARNING_RATE = config[\"learning_rate\"]\n",
    "NUM_EPOCHS = config[\"num_epochs\"]\n",
    "EARLY_STOPPING = config[\"early_stopping\"]\n",
    "label2emotion = {0:\"others\", 1:\"happy\", 2: \"sad\", 3:\"angry\"}\n",
    "emotion2label = {\"others\":0, \"happy\":1, \"sad\":2, \"angry\":3}"
   ]
  },
  {
   "cell_type": "code",
   "execution_count": 3,
   "metadata": {},
   "outputs": [],
   "source": [
    "def preprocessData(dataFilePath):\n",
    "    \"\"\"Load data from a file, process and return indices, conversations and labels in separate lists\n",
    "    Input:\n",
    "        dataFilePath : Path to train/test file to be processed\n",
    "        mode : \"train\" mode returns labels. \"test\" mode doesn't return labels.\n",
    "    Output:\n",
    "        indices : Unique conversation ID list\n",
    "        conversations : List of 3 turn conversations, processed and each turn separated by the <eos> tag\n",
    "        labels : [Only available in \"train\" mode] List of labels\n",
    "    \"\"\"\n",
    "    data = {}\n",
    "    data['conversations1'] = []\n",
    "    data['conversations2'] = []\n",
    "    data['labels'] = []\n",
    "    with io.open(dataFilePath, encoding=\"utf8\") as finput:\n",
    "        finput.readline()\n",
    "        for line in finput:\n",
    "            line = line.replace('\\n','').split('\\t')\n",
    "            label = emotion2label[line[4]]\n",
    "            conv1 = ' <eos> '.join(line[1:3])\n",
    "            conv2 = line[3]\n",
    "            data['conversations1'].append(conv1)\n",
    "            data['conversations2'].append(conv2)\n",
    "            data['labels'].append(label)\n",
    "    return pd.DataFrame.from_dict(data)\n",
    "trainData = preprocessData(trainDataPath)\n",
    "validationData = preprocessData(validationDataPath)\n",
    "#trainData = pd.concat([trainData,validationData])\n",
    "testData = preprocessData(testDataPath)"
   ]
  },
  {
   "cell_type": "code",
   "execution_count": 4,
   "metadata": {},
   "outputs": [],
   "source": [
    "testingData = preprocessData('testing.txt')"
   ]
  },
  {
   "cell_type": "code",
   "execution_count": 5,
   "metadata": {},
   "outputs": [
    {
     "data": {
      "text/html": [
       "<div>\n",
       "<style scoped>\n",
       "    .dataframe tbody tr th:only-of-type {\n",
       "        vertical-align: middle;\n",
       "    }\n",
       "\n",
       "    .dataframe tbody tr th {\n",
       "        vertical-align: top;\n",
       "    }\n",
       "\n",
       "    .dataframe thead th {\n",
       "        text-align: right;\n",
       "    }\n",
       "</style>\n",
       "<table border=\"1\" class=\"dataframe\">\n",
       "  <thead>\n",
       "    <tr style=\"text-align: right;\">\n",
       "      <th></th>\n",
       "      <th>conversations1</th>\n",
       "      <th>conversations2</th>\n",
       "      <th>labels</th>\n",
       "    </tr>\n",
       "  </thead>\n",
       "  <tbody>\n",
       "    <tr>\n",
       "      <th>0</th>\n",
       "      <td>Don't worry  I'm girl &lt;eos&gt; hmm how do I know ...</td>\n",
       "      <td>What's ur name?</td>\n",
       "      <td>0</td>\n",
       "    </tr>\n",
       "    <tr>\n",
       "      <th>1</th>\n",
       "      <td>When did I? &lt;eos&gt; saw many times i think -_-</td>\n",
       "      <td>No. I never saw you</td>\n",
       "      <td>3</td>\n",
       "    </tr>\n",
       "    <tr>\n",
       "      <th>2</th>\n",
       "      <td>By &lt;eos&gt; by Google Chrome</td>\n",
       "      <td>Where you live</td>\n",
       "      <td>0</td>\n",
       "    </tr>\n",
       "    <tr>\n",
       "      <th>3</th>\n",
       "      <td>U r ridiculous &lt;eos&gt; I might be ridiculous but...</td>\n",
       "      <td>U little disgusting whore</td>\n",
       "      <td>3</td>\n",
       "    </tr>\n",
       "    <tr>\n",
       "      <th>4</th>\n",
       "      <td>Just for time pass &lt;eos&gt; wt do u do 4 a living...</td>\n",
       "      <td>Maybe</td>\n",
       "      <td>0</td>\n",
       "    </tr>\n",
       "  </tbody>\n",
       "</table>\n",
       "</div>"
      ],
      "text/plain": [
       "                                      conversations1  \\\n",
       "0  Don't worry  I'm girl <eos> hmm how do I know ...   \n",
       "1       When did I? <eos> saw many times i think -_-   \n",
       "2                          By <eos> by Google Chrome   \n",
       "3  U r ridiculous <eos> I might be ridiculous but...   \n",
       "4  Just for time pass <eos> wt do u do 4 a living...   \n",
       "\n",
       "              conversations2  labels  \n",
       "0            What's ur name?       0  \n",
       "1        No. I never saw you       3  \n",
       "2             Where you live       0  \n",
       "3  U little disgusting whore       3  \n",
       "4                      Maybe       0  "
      ]
     },
     "execution_count": 5,
     "metadata": {},
     "output_type": "execute_result"
    }
   ],
   "source": [
    "trainData.head()"
   ]
  },
  {
   "cell_type": "code",
   "execution_count": 6,
   "metadata": {},
   "outputs": [
    {
     "data": {
      "text/plain": [
       "'/Users/nathanieljoselson/Documents/Projects/masters/natemusMasters/bert_F1_69'"
      ]
     },
     "execution_count": 6,
     "metadata": {},
     "output_type": "execute_result"
    }
   ],
   "source": [
    "os.getcwd()"
   ]
  },
  {
   "cell_type": "code",
   "execution_count": 7,
   "metadata": {},
   "outputs": [],
   "source": [
    "DATA_COLUMN1 = 'conversations1'\n",
    "DATA_COLUMN2 = 'conversations2'\n",
    "LABEL_COLUMN = 'labels'\n",
    "OUTPUT_DIR = os.getcwd()\n",
    "# label_list is the list of labels, i.e. True, False or 0, 1 or 'dog', 'cat'\n",
    "label_list = [0, 1, 2, 3]"
   ]
  },
  {
   "cell_type": "code",
   "execution_count": 8,
   "metadata": {},
   "outputs": [],
   "source": [
    "# Use the InputExample class from BERT's run_classifier code to create examples from the data\n",
    "train_InputExamples = trainData.apply(lambda x: bert.run_classifier.InputExample(guid=None, # Globally unique ID for bookkeeping, unused in this example\n",
    "                                                                   text_a = x[DATA_COLUMN1], \n",
    "                                                                   text_b = x[DATA_COLUMN2], \n",
    "                                                                   label = x[LABEL_COLUMN]), axis = 1)\n",
    "\n",
    "test_InputExamples = testData.apply(lambda x: bert.run_classifier.InputExample(guid=None, \n",
    "                                                                   text_a = x[DATA_COLUMN1], \n",
    "                                                                   text_b = x[DATA_COLUMN2], \n",
    "                                                                   label = x[LABEL_COLUMN]), axis = 1)"
   ]
  },
  {
   "cell_type": "code",
   "execution_count": 9,
   "metadata": {},
   "outputs": [
    {
     "name": "stdout",
     "output_type": "stream",
     "text": [
      "WARNING:tensorflow:From /Library/Frameworks/Python.framework/Versions/3.7/lib/python3.7/site-packages/tensorflow/python/ops/control_flow_ops.py:3632: colocate_with (from tensorflow.python.framework.ops) is deprecated and will be removed in a future version.\n",
      "Instructions for updating:\n",
      "Colocations handled automatically by placer.\n"
     ]
    },
    {
     "name": "stderr",
     "output_type": "stream",
     "text": [
      "W0606 19:49:13.841689 4619879872 deprecation.py:323] From /Library/Frameworks/Python.framework/Versions/3.7/lib/python3.7/site-packages/tensorflow/python/ops/control_flow_ops.py:3632: colocate_with (from tensorflow.python.framework.ops) is deprecated and will be removed in a future version.\n",
      "Instructions for updating:\n",
      "Colocations handled automatically by placer.\n"
     ]
    },
    {
     "name": "stdout",
     "output_type": "stream",
     "text": [
      "INFO:tensorflow:Saver not created because there are no variables in the graph to restore\n"
     ]
    },
    {
     "name": "stderr",
     "output_type": "stream",
     "text": [
      "I0606 19:49:15.693947 4619879872 saver.py:1483] Saver not created because there are no variables in the graph to restore\n"
     ]
    }
   ],
   "source": [
    "# This is a path to an uncased (all lowercase) version of BERT\n",
    "BERT_MODEL_HUB = \"https://tfhub.dev/google/bert_uncased_L-12_H-768_A-12/1\"\n",
    "\n",
    "def create_tokenizer_from_hub_module():\n",
    "    \"\"\"Get the vocab file and casing info from the Hub module.\"\"\"\n",
    "    with tf.Graph().as_default():\n",
    "        bert_module = hub.Module(BERT_MODEL_HUB)\n",
    "        tokenization_info = bert_module(signature=\"tokenization_info\", as_dict=True)\n",
    "        with tf.Session() as sess:\n",
    "            vocab_file, do_lower_case = sess.run([tokenization_info[\"vocab_file\"],tokenization_info[\"do_lower_case\"]])\n",
    "      \n",
    "    return bert.tokenization.FullTokenizer(\n",
    "        vocab_file=vocab_file, do_lower_case=do_lower_case)\n",
    "\n",
    "tokenizer = create_tokenizer_from_hub_module()"
   ]
  },
  {
   "cell_type": "code",
   "execution_count": 10,
   "metadata": {},
   "outputs": [
    {
     "name": "stdout",
     "output_type": "stream",
     "text": [
      "INFO:tensorflow:Writing example 0 of 30160\n"
     ]
    },
    {
     "name": "stderr",
     "output_type": "stream",
     "text": [
      "I0606 19:49:16.200010 4619879872 run_classifier.py:774] Writing example 0 of 30160\n"
     ]
    },
    {
     "name": "stdout",
     "output_type": "stream",
     "text": [
      "INFO:tensorflow:*** Example ***\n"
     ]
    },
    {
     "name": "stderr",
     "output_type": "stream",
     "text": [
      "I0606 19:49:16.209877 4619879872 run_classifier.py:461] *** Example ***\n"
     ]
    },
    {
     "name": "stdout",
     "output_type": "stream",
     "text": [
      "INFO:tensorflow:guid: None\n"
     ]
    },
    {
     "name": "stderr",
     "output_type": "stream",
     "text": [
      "I0606 19:49:16.212799 4619879872 run_classifier.py:462] guid: None\n"
     ]
    },
    {
     "name": "stdout",
     "output_type": "stream",
     "text": [
      "INFO:tensorflow:tokens: [CLS] don ' t worry i ' m girl < e ##os > hmm how do i know if you are [SEP] what ' s ur name ? [SEP]\n"
     ]
    },
    {
     "name": "stderr",
     "output_type": "stream",
     "text": [
      "I0606 19:49:16.215108 4619879872 run_classifier.py:464] tokens: [CLS] don ' t worry i ' m girl < e ##os > hmm how do i know if you are [SEP] what ' s ur name ? [SEP]\n"
     ]
    },
    {
     "name": "stdout",
     "output_type": "stream",
     "text": [
      "INFO:tensorflow:input_ids: 101 2123 1005 1056 4737 1045 1005 1049 2611 1026 1041 2891 1028 17012 2129 2079 1045 2113 2065 2017 2024 102 2054 1005 1055 24471 2171 1029 102 0 0 0 0 0 0 0 0 0 0 0 0 0 0 0 0 0 0 0 0 0 0 0 0 0 0 0 0 0 0 0 0 0 0 0 0 0 0 0 0 0 0 0 0 0 0 0 0 0 0 0 0 0 0 0 0 0 0 0 0 0 0 0 0 0 0 0 0 0 0 0 0 0 0 0 0 0 0 0 0 0 0 0 0 0 0 0 0 0 0 0 0 0 0 0 0 0 0 0\n"
     ]
    },
    {
     "name": "stderr",
     "output_type": "stream",
     "text": [
      "I0606 19:49:16.218979 4619879872 run_classifier.py:465] input_ids: 101 2123 1005 1056 4737 1045 1005 1049 2611 1026 1041 2891 1028 17012 2129 2079 1045 2113 2065 2017 2024 102 2054 1005 1055 24471 2171 1029 102 0 0 0 0 0 0 0 0 0 0 0 0 0 0 0 0 0 0 0 0 0 0 0 0 0 0 0 0 0 0 0 0 0 0 0 0 0 0 0 0 0 0 0 0 0 0 0 0 0 0 0 0 0 0 0 0 0 0 0 0 0 0 0 0 0 0 0 0 0 0 0 0 0 0 0 0 0 0 0 0 0 0 0 0 0 0 0 0 0 0 0 0 0 0 0 0 0 0 0\n"
     ]
    },
    {
     "name": "stdout",
     "output_type": "stream",
     "text": [
      "INFO:tensorflow:input_mask: 1 1 1 1 1 1 1 1 1 1 1 1 1 1 1 1 1 1 1 1 1 1 1 1 1 1 1 1 1 0 0 0 0 0 0 0 0 0 0 0 0 0 0 0 0 0 0 0 0 0 0 0 0 0 0 0 0 0 0 0 0 0 0 0 0 0 0 0 0 0 0 0 0 0 0 0 0 0 0 0 0 0 0 0 0 0 0 0 0 0 0 0 0 0 0 0 0 0 0 0 0 0 0 0 0 0 0 0 0 0 0 0 0 0 0 0 0 0 0 0 0 0 0 0 0 0 0 0\n"
     ]
    },
    {
     "name": "stderr",
     "output_type": "stream",
     "text": [
      "I0606 19:49:16.224313 4619879872 run_classifier.py:466] input_mask: 1 1 1 1 1 1 1 1 1 1 1 1 1 1 1 1 1 1 1 1 1 1 1 1 1 1 1 1 1 0 0 0 0 0 0 0 0 0 0 0 0 0 0 0 0 0 0 0 0 0 0 0 0 0 0 0 0 0 0 0 0 0 0 0 0 0 0 0 0 0 0 0 0 0 0 0 0 0 0 0 0 0 0 0 0 0 0 0 0 0 0 0 0 0 0 0 0 0 0 0 0 0 0 0 0 0 0 0 0 0 0 0 0 0 0 0 0 0 0 0 0 0 0 0 0 0 0 0\n"
     ]
    },
    {
     "name": "stdout",
     "output_type": "stream",
     "text": [
      "INFO:tensorflow:segment_ids: 0 0 0 0 0 0 0 0 0 0 0 0 0 0 0 0 0 0 0 0 0 0 1 1 1 1 1 1 1 0 0 0 0 0 0 0 0 0 0 0 0 0 0 0 0 0 0 0 0 0 0 0 0 0 0 0 0 0 0 0 0 0 0 0 0 0 0 0 0 0 0 0 0 0 0 0 0 0 0 0 0 0 0 0 0 0 0 0 0 0 0 0 0 0 0 0 0 0 0 0 0 0 0 0 0 0 0 0 0 0 0 0 0 0 0 0 0 0 0 0 0 0 0 0 0 0 0 0\n"
     ]
    },
    {
     "name": "stderr",
     "output_type": "stream",
     "text": [
      "I0606 19:49:16.226297 4619879872 run_classifier.py:467] segment_ids: 0 0 0 0 0 0 0 0 0 0 0 0 0 0 0 0 0 0 0 0 0 0 1 1 1 1 1 1 1 0 0 0 0 0 0 0 0 0 0 0 0 0 0 0 0 0 0 0 0 0 0 0 0 0 0 0 0 0 0 0 0 0 0 0 0 0 0 0 0 0 0 0 0 0 0 0 0 0 0 0 0 0 0 0 0 0 0 0 0 0 0 0 0 0 0 0 0 0 0 0 0 0 0 0 0 0 0 0 0 0 0 0 0 0 0 0 0 0 0 0 0 0 0 0 0 0 0 0\n"
     ]
    },
    {
     "name": "stdout",
     "output_type": "stream",
     "text": [
      "INFO:tensorflow:label: 0 (id = 0)\n"
     ]
    },
    {
     "name": "stderr",
     "output_type": "stream",
     "text": [
      "I0606 19:49:16.227905 4619879872 run_classifier.py:468] label: 0 (id = 0)\n"
     ]
    },
    {
     "name": "stdout",
     "output_type": "stream",
     "text": [
      "INFO:tensorflow:*** Example ***\n"
     ]
    },
    {
     "name": "stderr",
     "output_type": "stream",
     "text": [
      "I0606 19:49:16.229994 4619879872 run_classifier.py:461] *** Example ***\n"
     ]
    },
    {
     "name": "stdout",
     "output_type": "stream",
     "text": [
      "INFO:tensorflow:guid: None\n"
     ]
    },
    {
     "name": "stderr",
     "output_type": "stream",
     "text": [
      "I0606 19:49:16.231511 4619879872 run_classifier.py:462] guid: None\n"
     ]
    },
    {
     "name": "stdout",
     "output_type": "stream",
     "text": [
      "INFO:tensorflow:tokens: [CLS] when did i ? < e ##os > saw many times i think - _ - [SEP] no . i never saw you [SEP]\n"
     ]
    },
    {
     "name": "stderr",
     "output_type": "stream",
     "text": [
      "I0606 19:49:16.232911 4619879872 run_classifier.py:464] tokens: [CLS] when did i ? < e ##os > saw many times i think - _ - [SEP] no . i never saw you [SEP]\n"
     ]
    },
    {
     "name": "stdout",
     "output_type": "stream",
     "text": [
      "INFO:tensorflow:input_ids: 101 2043 2106 1045 1029 1026 1041 2891 1028 2387 2116 2335 1045 2228 1011 1035 1011 102 2053 1012 1045 2196 2387 2017 102 0 0 0 0 0 0 0 0 0 0 0 0 0 0 0 0 0 0 0 0 0 0 0 0 0 0 0 0 0 0 0 0 0 0 0 0 0 0 0 0 0 0 0 0 0 0 0 0 0 0 0 0 0 0 0 0 0 0 0 0 0 0 0 0 0 0 0 0 0 0 0 0 0 0 0 0 0 0 0 0 0 0 0 0 0 0 0 0 0 0 0 0 0 0 0 0 0 0 0 0 0 0 0\n"
     ]
    },
    {
     "name": "stderr",
     "output_type": "stream",
     "text": [
      "I0606 19:49:16.234230 4619879872 run_classifier.py:465] input_ids: 101 2043 2106 1045 1029 1026 1041 2891 1028 2387 2116 2335 1045 2228 1011 1035 1011 102 2053 1012 1045 2196 2387 2017 102 0 0 0 0 0 0 0 0 0 0 0 0 0 0 0 0 0 0 0 0 0 0 0 0 0 0 0 0 0 0 0 0 0 0 0 0 0 0 0 0 0 0 0 0 0 0 0 0 0 0 0 0 0 0 0 0 0 0 0 0 0 0 0 0 0 0 0 0 0 0 0 0 0 0 0 0 0 0 0 0 0 0 0 0 0 0 0 0 0 0 0 0 0 0 0 0 0 0 0 0 0 0 0\n"
     ]
    },
    {
     "name": "stdout",
     "output_type": "stream",
     "text": [
      "INFO:tensorflow:input_mask: 1 1 1 1 1 1 1 1 1 1 1 1 1 1 1 1 1 1 1 1 1 1 1 1 1 0 0 0 0 0 0 0 0 0 0 0 0 0 0 0 0 0 0 0 0 0 0 0 0 0 0 0 0 0 0 0 0 0 0 0 0 0 0 0 0 0 0 0 0 0 0 0 0 0 0 0 0 0 0 0 0 0 0 0 0 0 0 0 0 0 0 0 0 0 0 0 0 0 0 0 0 0 0 0 0 0 0 0 0 0 0 0 0 0 0 0 0 0 0 0 0 0 0 0 0 0 0 0\n"
     ]
    },
    {
     "name": "stderr",
     "output_type": "stream",
     "text": [
      "I0606 19:49:16.243461 4619879872 run_classifier.py:466] input_mask: 1 1 1 1 1 1 1 1 1 1 1 1 1 1 1 1 1 1 1 1 1 1 1 1 1 0 0 0 0 0 0 0 0 0 0 0 0 0 0 0 0 0 0 0 0 0 0 0 0 0 0 0 0 0 0 0 0 0 0 0 0 0 0 0 0 0 0 0 0 0 0 0 0 0 0 0 0 0 0 0 0 0 0 0 0 0 0 0 0 0 0 0 0 0 0 0 0 0 0 0 0 0 0 0 0 0 0 0 0 0 0 0 0 0 0 0 0 0 0 0 0 0 0 0 0 0 0 0\n"
     ]
    },
    {
     "name": "stdout",
     "output_type": "stream",
     "text": [
      "INFO:tensorflow:segment_ids: 0 0 0 0 0 0 0 0 0 0 0 0 0 0 0 0 0 0 1 1 1 1 1 1 1 0 0 0 0 0 0 0 0 0 0 0 0 0 0 0 0 0 0 0 0 0 0 0 0 0 0 0 0 0 0 0 0 0 0 0 0 0 0 0 0 0 0 0 0 0 0 0 0 0 0 0 0 0 0 0 0 0 0 0 0 0 0 0 0 0 0 0 0 0 0 0 0 0 0 0 0 0 0 0 0 0 0 0 0 0 0 0 0 0 0 0 0 0 0 0 0 0 0 0 0 0 0 0\n"
     ]
    },
    {
     "name": "stderr",
     "output_type": "stream",
     "text": [
      "I0606 19:49:16.250342 4619879872 run_classifier.py:467] segment_ids: 0 0 0 0 0 0 0 0 0 0 0 0 0 0 0 0 0 0 1 1 1 1 1 1 1 0 0 0 0 0 0 0 0 0 0 0 0 0 0 0 0 0 0 0 0 0 0 0 0 0 0 0 0 0 0 0 0 0 0 0 0 0 0 0 0 0 0 0 0 0 0 0 0 0 0 0 0 0 0 0 0 0 0 0 0 0 0 0 0 0 0 0 0 0 0 0 0 0 0 0 0 0 0 0 0 0 0 0 0 0 0 0 0 0 0 0 0 0 0 0 0 0 0 0 0 0 0 0\n"
     ]
    },
    {
     "name": "stdout",
     "output_type": "stream",
     "text": [
      "INFO:tensorflow:label: 3 (id = 3)\n"
     ]
    },
    {
     "name": "stderr",
     "output_type": "stream",
     "text": [
      "I0606 19:49:16.261729 4619879872 run_classifier.py:468] label: 3 (id = 3)\n"
     ]
    },
    {
     "name": "stdout",
     "output_type": "stream",
     "text": [
      "INFO:tensorflow:*** Example ***\n"
     ]
    },
    {
     "name": "stderr",
     "output_type": "stream",
     "text": [
      "I0606 19:49:16.263572 4619879872 run_classifier.py:461] *** Example ***\n"
     ]
    },
    {
     "name": "stdout",
     "output_type": "stream",
     "text": [
      "INFO:tensorflow:guid: None\n"
     ]
    },
    {
     "name": "stderr",
     "output_type": "stream",
     "text": [
      "I0606 19:49:16.266769 4619879872 run_classifier.py:462] guid: None\n"
     ]
    },
    {
     "name": "stdout",
     "output_type": "stream",
     "text": [
      "INFO:tensorflow:tokens: [CLS] by < e ##os > by google chrome [SEP] where you live [SEP]\n"
     ]
    },
    {
     "name": "stderr",
     "output_type": "stream",
     "text": [
      "I0606 19:49:16.271518 4619879872 run_classifier.py:464] tokens: [CLS] by < e ##os > by google chrome [SEP] where you live [SEP]\n"
     ]
    },
    {
     "name": "stdout",
     "output_type": "stream",
     "text": [
      "INFO:tensorflow:input_ids: 101 2011 1026 1041 2891 1028 2011 8224 18546 102 2073 2017 2444 102 0 0 0 0 0 0 0 0 0 0 0 0 0 0 0 0 0 0 0 0 0 0 0 0 0 0 0 0 0 0 0 0 0 0 0 0 0 0 0 0 0 0 0 0 0 0 0 0 0 0 0 0 0 0 0 0 0 0 0 0 0 0 0 0 0 0 0 0 0 0 0 0 0 0 0 0 0 0 0 0 0 0 0 0 0 0 0 0 0 0 0 0 0 0 0 0 0 0 0 0 0 0 0 0 0 0 0 0 0 0 0 0 0 0\n"
     ]
    },
    {
     "name": "stderr",
     "output_type": "stream",
     "text": [
      "I0606 19:49:16.274167 4619879872 run_classifier.py:465] input_ids: 101 2011 1026 1041 2891 1028 2011 8224 18546 102 2073 2017 2444 102 0 0 0 0 0 0 0 0 0 0 0 0 0 0 0 0 0 0 0 0 0 0 0 0 0 0 0 0 0 0 0 0 0 0 0 0 0 0 0 0 0 0 0 0 0 0 0 0 0 0 0 0 0 0 0 0 0 0 0 0 0 0 0 0 0 0 0 0 0 0 0 0 0 0 0 0 0 0 0 0 0 0 0 0 0 0 0 0 0 0 0 0 0 0 0 0 0 0 0 0 0 0 0 0 0 0 0 0 0 0 0 0 0 0\n"
     ]
    },
    {
     "name": "stdout",
     "output_type": "stream",
     "text": [
      "INFO:tensorflow:input_mask: 1 1 1 1 1 1 1 1 1 1 1 1 1 1 0 0 0 0 0 0 0 0 0 0 0 0 0 0 0 0 0 0 0 0 0 0 0 0 0 0 0 0 0 0 0 0 0 0 0 0 0 0 0 0 0 0 0 0 0 0 0 0 0 0 0 0 0 0 0 0 0 0 0 0 0 0 0 0 0 0 0 0 0 0 0 0 0 0 0 0 0 0 0 0 0 0 0 0 0 0 0 0 0 0 0 0 0 0 0 0 0 0 0 0 0 0 0 0 0 0 0 0 0 0 0 0 0 0\n"
     ]
    },
    {
     "name": "stderr",
     "output_type": "stream",
     "text": [
      "I0606 19:49:16.276837 4619879872 run_classifier.py:466] input_mask: 1 1 1 1 1 1 1 1 1 1 1 1 1 1 0 0 0 0 0 0 0 0 0 0 0 0 0 0 0 0 0 0 0 0 0 0 0 0 0 0 0 0 0 0 0 0 0 0 0 0 0 0 0 0 0 0 0 0 0 0 0 0 0 0 0 0 0 0 0 0 0 0 0 0 0 0 0 0 0 0 0 0 0 0 0 0 0 0 0 0 0 0 0 0 0 0 0 0 0 0 0 0 0 0 0 0 0 0 0 0 0 0 0 0 0 0 0 0 0 0 0 0 0 0 0 0 0 0\n"
     ]
    },
    {
     "name": "stdout",
     "output_type": "stream",
     "text": [
      "INFO:tensorflow:segment_ids: 0 0 0 0 0 0 0 0 0 0 1 1 1 1 0 0 0 0 0 0 0 0 0 0 0 0 0 0 0 0 0 0 0 0 0 0 0 0 0 0 0 0 0 0 0 0 0 0 0 0 0 0 0 0 0 0 0 0 0 0 0 0 0 0 0 0 0 0 0 0 0 0 0 0 0 0 0 0 0 0 0 0 0 0 0 0 0 0 0 0 0 0 0 0 0 0 0 0 0 0 0 0 0 0 0 0 0 0 0 0 0 0 0 0 0 0 0 0 0 0 0 0 0 0 0 0 0 0\n"
     ]
    },
    {
     "name": "stderr",
     "output_type": "stream",
     "text": [
      "I0606 19:49:16.278918 4619879872 run_classifier.py:467] segment_ids: 0 0 0 0 0 0 0 0 0 0 1 1 1 1 0 0 0 0 0 0 0 0 0 0 0 0 0 0 0 0 0 0 0 0 0 0 0 0 0 0 0 0 0 0 0 0 0 0 0 0 0 0 0 0 0 0 0 0 0 0 0 0 0 0 0 0 0 0 0 0 0 0 0 0 0 0 0 0 0 0 0 0 0 0 0 0 0 0 0 0 0 0 0 0 0 0 0 0 0 0 0 0 0 0 0 0 0 0 0 0 0 0 0 0 0 0 0 0 0 0 0 0 0 0 0 0 0 0\n"
     ]
    },
    {
     "name": "stdout",
     "output_type": "stream",
     "text": [
      "INFO:tensorflow:label: 0 (id = 0)\n"
     ]
    },
    {
     "name": "stderr",
     "output_type": "stream",
     "text": [
      "I0606 19:49:16.281040 4619879872 run_classifier.py:468] label: 0 (id = 0)\n"
     ]
    },
    {
     "name": "stdout",
     "output_type": "stream",
     "text": [
      "INFO:tensorflow:*** Example ***\n"
     ]
    },
    {
     "name": "stderr",
     "output_type": "stream",
     "text": [
      "I0606 19:49:16.285096 4619879872 run_classifier.py:461] *** Example ***\n"
     ]
    },
    {
     "name": "stdout",
     "output_type": "stream",
     "text": [
      "INFO:tensorflow:guid: None\n"
     ]
    },
    {
     "name": "stderr",
     "output_type": "stream",
     "text": [
      "I0606 19:49:16.286643 4619879872 run_classifier.py:462] guid: None\n"
     ]
    },
    {
     "name": "stdout",
     "output_type": "stream",
     "text": [
      "INFO:tensorflow:tokens: [CLS] u r ridiculous < e ##os > i might be ridiculous but i am telling the truth . [SEP] u little disgusting whore [SEP]\n"
     ]
    },
    {
     "name": "stderr",
     "output_type": "stream",
     "text": [
      "I0606 19:49:16.288136 4619879872 run_classifier.py:464] tokens: [CLS] u r ridiculous < e ##os > i might be ridiculous but i am telling the truth . [SEP] u little disgusting whore [SEP]\n"
     ]
    },
    {
     "name": "stdout",
     "output_type": "stream",
     "text": [
      "INFO:tensorflow:input_ids: 101 1057 1054 9951 1026 1041 2891 1028 1045 2453 2022 9951 2021 1045 2572 4129 1996 3606 1012 102 1057 2210 19424 17219 102 0 0 0 0 0 0 0 0 0 0 0 0 0 0 0 0 0 0 0 0 0 0 0 0 0 0 0 0 0 0 0 0 0 0 0 0 0 0 0 0 0 0 0 0 0 0 0 0 0 0 0 0 0 0 0 0 0 0 0 0 0 0 0 0 0 0 0 0 0 0 0 0 0 0 0 0 0 0 0 0 0 0 0 0 0 0 0 0 0 0 0 0 0 0 0 0 0 0 0 0 0 0 0\n"
     ]
    },
    {
     "name": "stderr",
     "output_type": "stream",
     "text": [
      "I0606 19:49:16.289573 4619879872 run_classifier.py:465] input_ids: 101 1057 1054 9951 1026 1041 2891 1028 1045 2453 2022 9951 2021 1045 2572 4129 1996 3606 1012 102 1057 2210 19424 17219 102 0 0 0 0 0 0 0 0 0 0 0 0 0 0 0 0 0 0 0 0 0 0 0 0 0 0 0 0 0 0 0 0 0 0 0 0 0 0 0 0 0 0 0 0 0 0 0 0 0 0 0 0 0 0 0 0 0 0 0 0 0 0 0 0 0 0 0 0 0 0 0 0 0 0 0 0 0 0 0 0 0 0 0 0 0 0 0 0 0 0 0 0 0 0 0 0 0 0 0 0 0 0 0\n"
     ]
    },
    {
     "name": "stdout",
     "output_type": "stream",
     "text": [
      "INFO:tensorflow:input_mask: 1 1 1 1 1 1 1 1 1 1 1 1 1 1 1 1 1 1 1 1 1 1 1 1 1 0 0 0 0 0 0 0 0 0 0 0 0 0 0 0 0 0 0 0 0 0 0 0 0 0 0 0 0 0 0 0 0 0 0 0 0 0 0 0 0 0 0 0 0 0 0 0 0 0 0 0 0 0 0 0 0 0 0 0 0 0 0 0 0 0 0 0 0 0 0 0 0 0 0 0 0 0 0 0 0 0 0 0 0 0 0 0 0 0 0 0 0 0 0 0 0 0 0 0 0 0 0 0\n"
     ]
    },
    {
     "name": "stderr",
     "output_type": "stream",
     "text": [
      "I0606 19:49:16.290887 4619879872 run_classifier.py:466] input_mask: 1 1 1 1 1 1 1 1 1 1 1 1 1 1 1 1 1 1 1 1 1 1 1 1 1 0 0 0 0 0 0 0 0 0 0 0 0 0 0 0 0 0 0 0 0 0 0 0 0 0 0 0 0 0 0 0 0 0 0 0 0 0 0 0 0 0 0 0 0 0 0 0 0 0 0 0 0 0 0 0 0 0 0 0 0 0 0 0 0 0 0 0 0 0 0 0 0 0 0 0 0 0 0 0 0 0 0 0 0 0 0 0 0 0 0 0 0 0 0 0 0 0 0 0 0 0 0 0\n"
     ]
    },
    {
     "name": "stdout",
     "output_type": "stream",
     "text": [
      "INFO:tensorflow:segment_ids: 0 0 0 0 0 0 0 0 0 0 0 0 0 0 0 0 0 0 0 0 1 1 1 1 1 0 0 0 0 0 0 0 0 0 0 0 0 0 0 0 0 0 0 0 0 0 0 0 0 0 0 0 0 0 0 0 0 0 0 0 0 0 0 0 0 0 0 0 0 0 0 0 0 0 0 0 0 0 0 0 0 0 0 0 0 0 0 0 0 0 0 0 0 0 0 0 0 0 0 0 0 0 0 0 0 0 0 0 0 0 0 0 0 0 0 0 0 0 0 0 0 0 0 0 0 0 0 0\n"
     ]
    },
    {
     "name": "stderr",
     "output_type": "stream",
     "text": [
      "I0606 19:49:16.292345 4619879872 run_classifier.py:467] segment_ids: 0 0 0 0 0 0 0 0 0 0 0 0 0 0 0 0 0 0 0 0 1 1 1 1 1 0 0 0 0 0 0 0 0 0 0 0 0 0 0 0 0 0 0 0 0 0 0 0 0 0 0 0 0 0 0 0 0 0 0 0 0 0 0 0 0 0 0 0 0 0 0 0 0 0 0 0 0 0 0 0 0 0 0 0 0 0 0 0 0 0 0 0 0 0 0 0 0 0 0 0 0 0 0 0 0 0 0 0 0 0 0 0 0 0 0 0 0 0 0 0 0 0 0 0 0 0 0 0\n"
     ]
    },
    {
     "name": "stdout",
     "output_type": "stream",
     "text": [
      "INFO:tensorflow:label: 3 (id = 3)\n"
     ]
    },
    {
     "name": "stderr",
     "output_type": "stream",
     "text": [
      "I0606 19:49:16.294295 4619879872 run_classifier.py:468] label: 3 (id = 3)\n"
     ]
    },
    {
     "name": "stdout",
     "output_type": "stream",
     "text": [
      "INFO:tensorflow:*** Example ***\n"
     ]
    },
    {
     "name": "stderr",
     "output_type": "stream",
     "text": [
      "I0606 19:49:16.295989 4619879872 run_classifier.py:461] *** Example ***\n"
     ]
    },
    {
     "name": "stdout",
     "output_type": "stream",
     "text": [
      "INFO:tensorflow:guid: None\n"
     ]
    },
    {
     "name": "stderr",
     "output_type": "stream",
     "text": [
      "I0606 19:49:16.299437 4619879872 run_classifier.py:462] guid: None\n"
     ]
    },
    {
     "name": "stdout",
     "output_type": "stream",
     "text": [
      "INFO:tensorflow:tokens: [CLS] just for time pass < e ##os > w ##t do u do 4 a living then [SEP] maybe [SEP]\n"
     ]
    },
    {
     "name": "stderr",
     "output_type": "stream",
     "text": [
      "I0606 19:49:16.301093 4619879872 run_classifier.py:464] tokens: [CLS] just for time pass < e ##os > w ##t do u do 4 a living then [SEP] maybe [SEP]\n"
     ]
    },
    {
     "name": "stdout",
     "output_type": "stream",
     "text": [
      "INFO:tensorflow:input_ids: 101 2074 2005 2051 3413 1026 1041 2891 1028 1059 2102 2079 1057 2079 1018 1037 2542 2059 102 2672 102 0 0 0 0 0 0 0 0 0 0 0 0 0 0 0 0 0 0 0 0 0 0 0 0 0 0 0 0 0 0 0 0 0 0 0 0 0 0 0 0 0 0 0 0 0 0 0 0 0 0 0 0 0 0 0 0 0 0 0 0 0 0 0 0 0 0 0 0 0 0 0 0 0 0 0 0 0 0 0 0 0 0 0 0 0 0 0 0 0 0 0 0 0 0 0 0 0 0 0 0 0 0 0 0 0 0 0\n"
     ]
    },
    {
     "name": "stderr",
     "output_type": "stream",
     "text": [
      "I0606 19:49:16.302637 4619879872 run_classifier.py:465] input_ids: 101 2074 2005 2051 3413 1026 1041 2891 1028 1059 2102 2079 1057 2079 1018 1037 2542 2059 102 2672 102 0 0 0 0 0 0 0 0 0 0 0 0 0 0 0 0 0 0 0 0 0 0 0 0 0 0 0 0 0 0 0 0 0 0 0 0 0 0 0 0 0 0 0 0 0 0 0 0 0 0 0 0 0 0 0 0 0 0 0 0 0 0 0 0 0 0 0 0 0 0 0 0 0 0 0 0 0 0 0 0 0 0 0 0 0 0 0 0 0 0 0 0 0 0 0 0 0 0 0 0 0 0 0 0 0 0 0\n"
     ]
    },
    {
     "name": "stdout",
     "output_type": "stream",
     "text": [
      "INFO:tensorflow:input_mask: 1 1 1 1 1 1 1 1 1 1 1 1 1 1 1 1 1 1 1 1 1 0 0 0 0 0 0 0 0 0 0 0 0 0 0 0 0 0 0 0 0 0 0 0 0 0 0 0 0 0 0 0 0 0 0 0 0 0 0 0 0 0 0 0 0 0 0 0 0 0 0 0 0 0 0 0 0 0 0 0 0 0 0 0 0 0 0 0 0 0 0 0 0 0 0 0 0 0 0 0 0 0 0 0 0 0 0 0 0 0 0 0 0 0 0 0 0 0 0 0 0 0 0 0 0 0 0 0\n"
     ]
    },
    {
     "name": "stderr",
     "output_type": "stream",
     "text": [
      "I0606 19:49:16.303954 4619879872 run_classifier.py:466] input_mask: 1 1 1 1 1 1 1 1 1 1 1 1 1 1 1 1 1 1 1 1 1 0 0 0 0 0 0 0 0 0 0 0 0 0 0 0 0 0 0 0 0 0 0 0 0 0 0 0 0 0 0 0 0 0 0 0 0 0 0 0 0 0 0 0 0 0 0 0 0 0 0 0 0 0 0 0 0 0 0 0 0 0 0 0 0 0 0 0 0 0 0 0 0 0 0 0 0 0 0 0 0 0 0 0 0 0 0 0 0 0 0 0 0 0 0 0 0 0 0 0 0 0 0 0 0 0 0 0\n"
     ]
    },
    {
     "name": "stdout",
     "output_type": "stream",
     "text": [
      "INFO:tensorflow:segment_ids: 0 0 0 0 0 0 0 0 0 0 0 0 0 0 0 0 0 0 0 1 1 0 0 0 0 0 0 0 0 0 0 0 0 0 0 0 0 0 0 0 0 0 0 0 0 0 0 0 0 0 0 0 0 0 0 0 0 0 0 0 0 0 0 0 0 0 0 0 0 0 0 0 0 0 0 0 0 0 0 0 0 0 0 0 0 0 0 0 0 0 0 0 0 0 0 0 0 0 0 0 0 0 0 0 0 0 0 0 0 0 0 0 0 0 0 0 0 0 0 0 0 0 0 0 0 0 0 0\n"
     ]
    },
    {
     "name": "stderr",
     "output_type": "stream",
     "text": [
      "I0606 19:49:16.305073 4619879872 run_classifier.py:467] segment_ids: 0 0 0 0 0 0 0 0 0 0 0 0 0 0 0 0 0 0 0 1 1 0 0 0 0 0 0 0 0 0 0 0 0 0 0 0 0 0 0 0 0 0 0 0 0 0 0 0 0 0 0 0 0 0 0 0 0 0 0 0 0 0 0 0 0 0 0 0 0 0 0 0 0 0 0 0 0 0 0 0 0 0 0 0 0 0 0 0 0 0 0 0 0 0 0 0 0 0 0 0 0 0 0 0 0 0 0 0 0 0 0 0 0 0 0 0 0 0 0 0 0 0 0 0 0 0 0 0\n"
     ]
    },
    {
     "name": "stdout",
     "output_type": "stream",
     "text": [
      "INFO:tensorflow:label: 0 (id = 0)\n"
     ]
    },
    {
     "name": "stderr",
     "output_type": "stream",
     "text": [
      "I0606 19:49:16.306324 4619879872 run_classifier.py:468] label: 0 (id = 0)\n"
     ]
    },
    {
     "name": "stdout",
     "output_type": "stream",
     "text": [
      "INFO:tensorflow:Writing example 10000 of 30160\n"
     ]
    },
    {
     "name": "stderr",
     "output_type": "stream",
     "text": [
      "I0606 19:49:19.447273 4619879872 run_classifier.py:774] Writing example 10000 of 30160\n"
     ]
    },
    {
     "name": "stdout",
     "output_type": "stream",
     "text": [
      "INFO:tensorflow:Writing example 20000 of 30160\n"
     ]
    },
    {
     "name": "stderr",
     "output_type": "stream",
     "text": [
      "I0606 19:49:22.680549 4619879872 run_classifier.py:774] Writing example 20000 of 30160\n"
     ]
    },
    {
     "name": "stdout",
     "output_type": "stream",
     "text": [
      "INFO:tensorflow:Writing example 30000 of 30160\n"
     ]
    },
    {
     "name": "stderr",
     "output_type": "stream",
     "text": [
      "I0606 19:49:25.669597 4619879872 run_classifier.py:774] Writing example 30000 of 30160\n"
     ]
    },
    {
     "name": "stdout",
     "output_type": "stream",
     "text": [
      "INFO:tensorflow:Writing example 0 of 5509\n"
     ]
    },
    {
     "name": "stderr",
     "output_type": "stream",
     "text": [
      "I0606 19:49:25.742343 4619879872 run_classifier.py:774] Writing example 0 of 5509\n"
     ]
    },
    {
     "name": "stdout",
     "output_type": "stream",
     "text": [
      "INFO:tensorflow:*** Example ***\n"
     ]
    },
    {
     "name": "stderr",
     "output_type": "stream",
     "text": [
      "I0606 19:49:25.744030 4619879872 run_classifier.py:461] *** Example ***\n"
     ]
    },
    {
     "name": "stdout",
     "output_type": "stream",
     "text": [
      "INFO:tensorflow:guid: None\n"
     ]
    },
    {
     "name": "stderr",
     "output_type": "stream",
     "text": [
      "I0606 19:49:25.745008 4619879872 run_classifier.py:462] guid: None\n"
     ]
    },
    {
     "name": "stdout",
     "output_type": "stream",
     "text": [
      "INFO:tensorflow:tokens: [CLS] hmm < e ##os > what does your bio mean ? [SEP] i don ’ t have any bio [SEP]\n"
     ]
    },
    {
     "name": "stderr",
     "output_type": "stream",
     "text": [
      "I0606 19:49:25.746353 4619879872 run_classifier.py:464] tokens: [CLS] hmm < e ##os > what does your bio mean ? [SEP] i don ’ t have any bio [SEP]\n"
     ]
    },
    {
     "name": "stdout",
     "output_type": "stream",
     "text": [
      "INFO:tensorflow:input_ids: 101 17012 1026 1041 2891 1028 2054 2515 2115 16012 2812 1029 102 1045 2123 1521 1056 2031 2151 16012 102 0 0 0 0 0 0 0 0 0 0 0 0 0 0 0 0 0 0 0 0 0 0 0 0 0 0 0 0 0 0 0 0 0 0 0 0 0 0 0 0 0 0 0 0 0 0 0 0 0 0 0 0 0 0 0 0 0 0 0 0 0 0 0 0 0 0 0 0 0 0 0 0 0 0 0 0 0 0 0 0 0 0 0 0 0 0 0 0 0 0 0 0 0 0 0 0 0 0 0 0 0 0 0 0 0 0 0\n"
     ]
    },
    {
     "name": "stderr",
     "output_type": "stream",
     "text": [
      "I0606 19:49:25.747577 4619879872 run_classifier.py:465] input_ids: 101 17012 1026 1041 2891 1028 2054 2515 2115 16012 2812 1029 102 1045 2123 1521 1056 2031 2151 16012 102 0 0 0 0 0 0 0 0 0 0 0 0 0 0 0 0 0 0 0 0 0 0 0 0 0 0 0 0 0 0 0 0 0 0 0 0 0 0 0 0 0 0 0 0 0 0 0 0 0 0 0 0 0 0 0 0 0 0 0 0 0 0 0 0 0 0 0 0 0 0 0 0 0 0 0 0 0 0 0 0 0 0 0 0 0 0 0 0 0 0 0 0 0 0 0 0 0 0 0 0 0 0 0 0 0 0 0\n"
     ]
    },
    {
     "name": "stdout",
     "output_type": "stream",
     "text": [
      "INFO:tensorflow:input_mask: 1 1 1 1 1 1 1 1 1 1 1 1 1 1 1 1 1 1 1 1 1 0 0 0 0 0 0 0 0 0 0 0 0 0 0 0 0 0 0 0 0 0 0 0 0 0 0 0 0 0 0 0 0 0 0 0 0 0 0 0 0 0 0 0 0 0 0 0 0 0 0 0 0 0 0 0 0 0 0 0 0 0 0 0 0 0 0 0 0 0 0 0 0 0 0 0 0 0 0 0 0 0 0 0 0 0 0 0 0 0 0 0 0 0 0 0 0 0 0 0 0 0 0 0 0 0 0 0\n"
     ]
    },
    {
     "name": "stderr",
     "output_type": "stream",
     "text": [
      "I0606 19:49:25.749273 4619879872 run_classifier.py:466] input_mask: 1 1 1 1 1 1 1 1 1 1 1 1 1 1 1 1 1 1 1 1 1 0 0 0 0 0 0 0 0 0 0 0 0 0 0 0 0 0 0 0 0 0 0 0 0 0 0 0 0 0 0 0 0 0 0 0 0 0 0 0 0 0 0 0 0 0 0 0 0 0 0 0 0 0 0 0 0 0 0 0 0 0 0 0 0 0 0 0 0 0 0 0 0 0 0 0 0 0 0 0 0 0 0 0 0 0 0 0 0 0 0 0 0 0 0 0 0 0 0 0 0 0 0 0 0 0 0 0\n"
     ]
    },
    {
     "name": "stdout",
     "output_type": "stream",
     "text": [
      "INFO:tensorflow:segment_ids: 0 0 0 0 0 0 0 0 0 0 0 0 0 1 1 1 1 1 1 1 1 0 0 0 0 0 0 0 0 0 0 0 0 0 0 0 0 0 0 0 0 0 0 0 0 0 0 0 0 0 0 0 0 0 0 0 0 0 0 0 0 0 0 0 0 0 0 0 0 0 0 0 0 0 0 0 0 0 0 0 0 0 0 0 0 0 0 0 0 0 0 0 0 0 0 0 0 0 0 0 0 0 0 0 0 0 0 0 0 0 0 0 0 0 0 0 0 0 0 0 0 0 0 0 0 0 0 0\n"
     ]
    },
    {
     "name": "stderr",
     "output_type": "stream",
     "text": [
      "I0606 19:49:25.750746 4619879872 run_classifier.py:467] segment_ids: 0 0 0 0 0 0 0 0 0 0 0 0 0 1 1 1 1 1 1 1 1 0 0 0 0 0 0 0 0 0 0 0 0 0 0 0 0 0 0 0 0 0 0 0 0 0 0 0 0 0 0 0 0 0 0 0 0 0 0 0 0 0 0 0 0 0 0 0 0 0 0 0 0 0 0 0 0 0 0 0 0 0 0 0 0 0 0 0 0 0 0 0 0 0 0 0 0 0 0 0 0 0 0 0 0 0 0 0 0 0 0 0 0 0 0 0 0 0 0 0 0 0 0 0 0 0 0 0\n"
     ]
    },
    {
     "name": "stdout",
     "output_type": "stream",
     "text": [
      "INFO:tensorflow:label: 0 (id = 0)\n"
     ]
    },
    {
     "name": "stderr",
     "output_type": "stream",
     "text": [
      "I0606 19:49:25.751967 4619879872 run_classifier.py:468] label: 0 (id = 0)\n"
     ]
    },
    {
     "name": "stdout",
     "output_type": "stream",
     "text": [
      "INFO:tensorflow:*** Example ***\n"
     ]
    },
    {
     "name": "stderr",
     "output_type": "stream",
     "text": [
      "I0606 19:49:25.753539 4619879872 run_classifier.py:461] *** Example ***\n"
     ]
    },
    {
     "name": "stdout",
     "output_type": "stream",
     "text": [
      "INFO:tensorflow:guid: None\n"
     ]
    },
    {
     "name": "stderr",
     "output_type": "stream",
     "text": [
      "I0606 19:49:25.754791 4619879872 run_classifier.py:462] guid: None\n"
     ]
    },
    {
     "name": "stdout",
     "output_type": "stream",
     "text": [
      "INFO:tensorflow:tokens: [CLS] what you like < e ##os > very little things [SEP] ok [SEP]\n"
     ]
    },
    {
     "name": "stderr",
     "output_type": "stream",
     "text": [
      "I0606 19:49:25.756165 4619879872 run_classifier.py:464] tokens: [CLS] what you like < e ##os > very little things [SEP] ok [SEP]\n"
     ]
    },
    {
     "name": "stdout",
     "output_type": "stream",
     "text": [
      "INFO:tensorflow:input_ids: 101 2054 2017 2066 1026 1041 2891 1028 2200 2210 2477 102 7929 102 0 0 0 0 0 0 0 0 0 0 0 0 0 0 0 0 0 0 0 0 0 0 0 0 0 0 0 0 0 0 0 0 0 0 0 0 0 0 0 0 0 0 0 0 0 0 0 0 0 0 0 0 0 0 0 0 0 0 0 0 0 0 0 0 0 0 0 0 0 0 0 0 0 0 0 0 0 0 0 0 0 0 0 0 0 0 0 0 0 0 0 0 0 0 0 0 0 0 0 0 0 0 0 0 0 0 0 0 0 0 0 0 0 0\n"
     ]
    },
    {
     "name": "stderr",
     "output_type": "stream",
     "text": [
      "I0606 19:49:25.757410 4619879872 run_classifier.py:465] input_ids: 101 2054 2017 2066 1026 1041 2891 1028 2200 2210 2477 102 7929 102 0 0 0 0 0 0 0 0 0 0 0 0 0 0 0 0 0 0 0 0 0 0 0 0 0 0 0 0 0 0 0 0 0 0 0 0 0 0 0 0 0 0 0 0 0 0 0 0 0 0 0 0 0 0 0 0 0 0 0 0 0 0 0 0 0 0 0 0 0 0 0 0 0 0 0 0 0 0 0 0 0 0 0 0 0 0 0 0 0 0 0 0 0 0 0 0 0 0 0 0 0 0 0 0 0 0 0 0 0 0 0 0 0 0\n"
     ]
    },
    {
     "name": "stdout",
     "output_type": "stream",
     "text": [
      "INFO:tensorflow:input_mask: 1 1 1 1 1 1 1 1 1 1 1 1 1 1 0 0 0 0 0 0 0 0 0 0 0 0 0 0 0 0 0 0 0 0 0 0 0 0 0 0 0 0 0 0 0 0 0 0 0 0 0 0 0 0 0 0 0 0 0 0 0 0 0 0 0 0 0 0 0 0 0 0 0 0 0 0 0 0 0 0 0 0 0 0 0 0 0 0 0 0 0 0 0 0 0 0 0 0 0 0 0 0 0 0 0 0 0 0 0 0 0 0 0 0 0 0 0 0 0 0 0 0 0 0 0 0 0 0\n"
     ]
    },
    {
     "name": "stderr",
     "output_type": "stream",
     "text": [
      "I0606 19:49:25.759622 4619879872 run_classifier.py:466] input_mask: 1 1 1 1 1 1 1 1 1 1 1 1 1 1 0 0 0 0 0 0 0 0 0 0 0 0 0 0 0 0 0 0 0 0 0 0 0 0 0 0 0 0 0 0 0 0 0 0 0 0 0 0 0 0 0 0 0 0 0 0 0 0 0 0 0 0 0 0 0 0 0 0 0 0 0 0 0 0 0 0 0 0 0 0 0 0 0 0 0 0 0 0 0 0 0 0 0 0 0 0 0 0 0 0 0 0 0 0 0 0 0 0 0 0 0 0 0 0 0 0 0 0 0 0 0 0 0 0\n"
     ]
    },
    {
     "name": "stdout",
     "output_type": "stream",
     "text": [
      "INFO:tensorflow:segment_ids: 0 0 0 0 0 0 0 0 0 0 0 0 1 1 0 0 0 0 0 0 0 0 0 0 0 0 0 0 0 0 0 0 0 0 0 0 0 0 0 0 0 0 0 0 0 0 0 0 0 0 0 0 0 0 0 0 0 0 0 0 0 0 0 0 0 0 0 0 0 0 0 0 0 0 0 0 0 0 0 0 0 0 0 0 0 0 0 0 0 0 0 0 0 0 0 0 0 0 0 0 0 0 0 0 0 0 0 0 0 0 0 0 0 0 0 0 0 0 0 0 0 0 0 0 0 0 0 0\n"
     ]
    },
    {
     "name": "stderr",
     "output_type": "stream",
     "text": [
      "I0606 19:49:25.761186 4619879872 run_classifier.py:467] segment_ids: 0 0 0 0 0 0 0 0 0 0 0 0 1 1 0 0 0 0 0 0 0 0 0 0 0 0 0 0 0 0 0 0 0 0 0 0 0 0 0 0 0 0 0 0 0 0 0 0 0 0 0 0 0 0 0 0 0 0 0 0 0 0 0 0 0 0 0 0 0 0 0 0 0 0 0 0 0 0 0 0 0 0 0 0 0 0 0 0 0 0 0 0 0 0 0 0 0 0 0 0 0 0 0 0 0 0 0 0 0 0 0 0 0 0 0 0 0 0 0 0 0 0 0 0 0 0 0 0\n"
     ]
    },
    {
     "name": "stdout",
     "output_type": "stream",
     "text": [
      "INFO:tensorflow:label: 0 (id = 0)\n"
     ]
    },
    {
     "name": "stderr",
     "output_type": "stream",
     "text": [
      "I0606 19:49:25.762701 4619879872 run_classifier.py:468] label: 0 (id = 0)\n"
     ]
    },
    {
     "name": "stdout",
     "output_type": "stream",
     "text": [
      "INFO:tensorflow:*** Example ***\n"
     ]
    },
    {
     "name": "stderr",
     "output_type": "stream",
     "text": [
      "I0606 19:49:25.764381 4619879872 run_classifier.py:461] *** Example ***\n"
     ]
    },
    {
     "name": "stdout",
     "output_type": "stream",
     "text": [
      "INFO:tensorflow:guid: None\n"
     ]
    },
    {
     "name": "stderr",
     "output_type": "stream",
     "text": [
      "I0606 19:49:25.765647 4619879872 run_classifier.py:462] guid: None\n"
     ]
    },
    {
     "name": "stdout",
     "output_type": "stream",
     "text": [
      "INFO:tensorflow:tokens: [CLS] yes < e ##os > how so ? [SEP] i want to fuck babu [SEP]\n"
     ]
    },
    {
     "name": "stderr",
     "output_type": "stream",
     "text": [
      "I0606 19:49:25.766763 4619879872 run_classifier.py:464] tokens: [CLS] yes < e ##os > how so ? [SEP] i want to fuck babu [SEP]\n"
     ]
    },
    {
     "name": "stdout",
     "output_type": "stream",
     "text": [
      "INFO:tensorflow:input_ids: 101 2748 1026 1041 2891 1028 2129 2061 1029 102 1045 2215 2000 6616 20948 102 0 0 0 0 0 0 0 0 0 0 0 0 0 0 0 0 0 0 0 0 0 0 0 0 0 0 0 0 0 0 0 0 0 0 0 0 0 0 0 0 0 0 0 0 0 0 0 0 0 0 0 0 0 0 0 0 0 0 0 0 0 0 0 0 0 0 0 0 0 0 0 0 0 0 0 0 0 0 0 0 0 0 0 0 0 0 0 0 0 0 0 0 0 0 0 0 0 0 0 0 0 0 0 0 0 0 0 0 0 0 0 0\n"
     ]
    },
    {
     "name": "stderr",
     "output_type": "stream",
     "text": [
      "I0606 19:49:25.768084 4619879872 run_classifier.py:465] input_ids: 101 2748 1026 1041 2891 1028 2129 2061 1029 102 1045 2215 2000 6616 20948 102 0 0 0 0 0 0 0 0 0 0 0 0 0 0 0 0 0 0 0 0 0 0 0 0 0 0 0 0 0 0 0 0 0 0 0 0 0 0 0 0 0 0 0 0 0 0 0 0 0 0 0 0 0 0 0 0 0 0 0 0 0 0 0 0 0 0 0 0 0 0 0 0 0 0 0 0 0 0 0 0 0 0 0 0 0 0 0 0 0 0 0 0 0 0 0 0 0 0 0 0 0 0 0 0 0 0 0 0 0 0 0 0\n"
     ]
    },
    {
     "name": "stdout",
     "output_type": "stream",
     "text": [
      "INFO:tensorflow:input_mask: 1 1 1 1 1 1 1 1 1 1 1 1 1 1 1 1 0 0 0 0 0 0 0 0 0 0 0 0 0 0 0 0 0 0 0 0 0 0 0 0 0 0 0 0 0 0 0 0 0 0 0 0 0 0 0 0 0 0 0 0 0 0 0 0 0 0 0 0 0 0 0 0 0 0 0 0 0 0 0 0 0 0 0 0 0 0 0 0 0 0 0 0 0 0 0 0 0 0 0 0 0 0 0 0 0 0 0 0 0 0 0 0 0 0 0 0 0 0 0 0 0 0 0 0 0 0 0 0\n"
     ]
    },
    {
     "name": "stderr",
     "output_type": "stream",
     "text": [
      "I0606 19:49:25.769493 4619879872 run_classifier.py:466] input_mask: 1 1 1 1 1 1 1 1 1 1 1 1 1 1 1 1 0 0 0 0 0 0 0 0 0 0 0 0 0 0 0 0 0 0 0 0 0 0 0 0 0 0 0 0 0 0 0 0 0 0 0 0 0 0 0 0 0 0 0 0 0 0 0 0 0 0 0 0 0 0 0 0 0 0 0 0 0 0 0 0 0 0 0 0 0 0 0 0 0 0 0 0 0 0 0 0 0 0 0 0 0 0 0 0 0 0 0 0 0 0 0 0 0 0 0 0 0 0 0 0 0 0 0 0 0 0 0 0\n"
     ]
    },
    {
     "name": "stdout",
     "output_type": "stream",
     "text": [
      "INFO:tensorflow:segment_ids: 0 0 0 0 0 0 0 0 0 0 1 1 1 1 1 1 0 0 0 0 0 0 0 0 0 0 0 0 0 0 0 0 0 0 0 0 0 0 0 0 0 0 0 0 0 0 0 0 0 0 0 0 0 0 0 0 0 0 0 0 0 0 0 0 0 0 0 0 0 0 0 0 0 0 0 0 0 0 0 0 0 0 0 0 0 0 0 0 0 0 0 0 0 0 0 0 0 0 0 0 0 0 0 0 0 0 0 0 0 0 0 0 0 0 0 0 0 0 0 0 0 0 0 0 0 0 0 0\n"
     ]
    },
    {
     "name": "stderr",
     "output_type": "stream",
     "text": [
      "I0606 19:49:25.770785 4619879872 run_classifier.py:467] segment_ids: 0 0 0 0 0 0 0 0 0 0 1 1 1 1 1 1 0 0 0 0 0 0 0 0 0 0 0 0 0 0 0 0 0 0 0 0 0 0 0 0 0 0 0 0 0 0 0 0 0 0 0 0 0 0 0 0 0 0 0 0 0 0 0 0 0 0 0 0 0 0 0 0 0 0 0 0 0 0 0 0 0 0 0 0 0 0 0 0 0 0 0 0 0 0 0 0 0 0 0 0 0 0 0 0 0 0 0 0 0 0 0 0 0 0 0 0 0 0 0 0 0 0 0 0 0 0 0 0\n"
     ]
    },
    {
     "name": "stdout",
     "output_type": "stream",
     "text": [
      "INFO:tensorflow:label: 0 (id = 0)\n"
     ]
    },
    {
     "name": "stderr",
     "output_type": "stream",
     "text": [
      "I0606 19:49:25.772197 4619879872 run_classifier.py:468] label: 0 (id = 0)\n"
     ]
    },
    {
     "name": "stdout",
     "output_type": "stream",
     "text": [
      "INFO:tensorflow:*** Example ***\n"
     ]
    },
    {
     "name": "stderr",
     "output_type": "stream",
     "text": [
      "I0606 19:49:25.780030 4619879872 run_classifier.py:461] *** Example ***\n"
     ]
    },
    {
     "name": "stdout",
     "output_type": "stream",
     "text": [
      "INFO:tensorflow:guid: None\n"
     ]
    },
    {
     "name": "stderr",
     "output_type": "stream",
     "text": [
      "I0606 19:49:25.789730 4619879872 run_classifier.py:462] guid: None\n"
     ]
    },
    {
     "name": "stdout",
     "output_type": "stream",
     "text": [
      "INFO:tensorflow:tokens: [CLS] what did you guess < e ##os > what what [SEP] fuck [SEP]\n"
     ]
    },
    {
     "name": "stderr",
     "output_type": "stream",
     "text": [
      "I0606 19:49:25.801912 4619879872 run_classifier.py:464] tokens: [CLS] what did you guess < e ##os > what what [SEP] fuck [SEP]\n"
     ]
    },
    {
     "name": "stdout",
     "output_type": "stream",
     "text": [
      "INFO:tensorflow:input_ids: 101 2054 2106 2017 3984 1026 1041 2891 1028 2054 2054 102 6616 102 0 0 0 0 0 0 0 0 0 0 0 0 0 0 0 0 0 0 0 0 0 0 0 0 0 0 0 0 0 0 0 0 0 0 0 0 0 0 0 0 0 0 0 0 0 0 0 0 0 0 0 0 0 0 0 0 0 0 0 0 0 0 0 0 0 0 0 0 0 0 0 0 0 0 0 0 0 0 0 0 0 0 0 0 0 0 0 0 0 0 0 0 0 0 0 0 0 0 0 0 0 0 0 0 0 0 0 0 0 0 0 0 0 0\n"
     ]
    },
    {
     "name": "stderr",
     "output_type": "stream",
     "text": [
      "I0606 19:49:25.804111 4619879872 run_classifier.py:465] input_ids: 101 2054 2106 2017 3984 1026 1041 2891 1028 2054 2054 102 6616 102 0 0 0 0 0 0 0 0 0 0 0 0 0 0 0 0 0 0 0 0 0 0 0 0 0 0 0 0 0 0 0 0 0 0 0 0 0 0 0 0 0 0 0 0 0 0 0 0 0 0 0 0 0 0 0 0 0 0 0 0 0 0 0 0 0 0 0 0 0 0 0 0 0 0 0 0 0 0 0 0 0 0 0 0 0 0 0 0 0 0 0 0 0 0 0 0 0 0 0 0 0 0 0 0 0 0 0 0 0 0 0 0 0 0\n"
     ]
    },
    {
     "name": "stdout",
     "output_type": "stream",
     "text": [
      "INFO:tensorflow:input_mask: 1 1 1 1 1 1 1 1 1 1 1 1 1 1 0 0 0 0 0 0 0 0 0 0 0 0 0 0 0 0 0 0 0 0 0 0 0 0 0 0 0 0 0 0 0 0 0 0 0 0 0 0 0 0 0 0 0 0 0 0 0 0 0 0 0 0 0 0 0 0 0 0 0 0 0 0 0 0 0 0 0 0 0 0 0 0 0 0 0 0 0 0 0 0 0 0 0 0 0 0 0 0 0 0 0 0 0 0 0 0 0 0 0 0 0 0 0 0 0 0 0 0 0 0 0 0 0 0\n"
     ]
    },
    {
     "name": "stderr",
     "output_type": "stream",
     "text": [
      "I0606 19:49:25.806795 4619879872 run_classifier.py:466] input_mask: 1 1 1 1 1 1 1 1 1 1 1 1 1 1 0 0 0 0 0 0 0 0 0 0 0 0 0 0 0 0 0 0 0 0 0 0 0 0 0 0 0 0 0 0 0 0 0 0 0 0 0 0 0 0 0 0 0 0 0 0 0 0 0 0 0 0 0 0 0 0 0 0 0 0 0 0 0 0 0 0 0 0 0 0 0 0 0 0 0 0 0 0 0 0 0 0 0 0 0 0 0 0 0 0 0 0 0 0 0 0 0 0 0 0 0 0 0 0 0 0 0 0 0 0 0 0 0 0\n"
     ]
    },
    {
     "name": "stdout",
     "output_type": "stream",
     "text": [
      "INFO:tensorflow:segment_ids: 0 0 0 0 0 0 0 0 0 0 0 0 1 1 0 0 0 0 0 0 0 0 0 0 0 0 0 0 0 0 0 0 0 0 0 0 0 0 0 0 0 0 0 0 0 0 0 0 0 0 0 0 0 0 0 0 0 0 0 0 0 0 0 0 0 0 0 0 0 0 0 0 0 0 0 0 0 0 0 0 0 0 0 0 0 0 0 0 0 0 0 0 0 0 0 0 0 0 0 0 0 0 0 0 0 0 0 0 0 0 0 0 0 0 0 0 0 0 0 0 0 0 0 0 0 0 0 0\n"
     ]
    },
    {
     "name": "stderr",
     "output_type": "stream",
     "text": [
      "I0606 19:49:25.810416 4619879872 run_classifier.py:467] segment_ids: 0 0 0 0 0 0 0 0 0 0 0 0 1 1 0 0 0 0 0 0 0 0 0 0 0 0 0 0 0 0 0 0 0 0 0 0 0 0 0 0 0 0 0 0 0 0 0 0 0 0 0 0 0 0 0 0 0 0 0 0 0 0 0 0 0 0 0 0 0 0 0 0 0 0 0 0 0 0 0 0 0 0 0 0 0 0 0 0 0 0 0 0 0 0 0 0 0 0 0 0 0 0 0 0 0 0 0 0 0 0 0 0 0 0 0 0 0 0 0 0 0 0 0 0 0 0 0 0\n"
     ]
    },
    {
     "name": "stdout",
     "output_type": "stream",
     "text": [
      "INFO:tensorflow:label: 0 (id = 0)\n"
     ]
    },
    {
     "name": "stderr",
     "output_type": "stream",
     "text": [
      "I0606 19:49:25.813598 4619879872 run_classifier.py:468] label: 0 (id = 0)\n"
     ]
    },
    {
     "name": "stdout",
     "output_type": "stream",
     "text": [
      "INFO:tensorflow:*** Example ***\n"
     ]
    },
    {
     "name": "stderr",
     "output_type": "stream",
     "text": [
      "I0606 19:49:25.816871 4619879872 run_classifier.py:461] *** Example ***\n"
     ]
    },
    {
     "name": "stdout",
     "output_type": "stream",
     "text": [
      "INFO:tensorflow:guid: None\n"
     ]
    },
    {
     "name": "stderr",
     "output_type": "stream",
     "text": [
      "I0606 19:49:25.818343 4619879872 run_classifier.py:462] guid: None\n"
     ]
    },
    {
     "name": "stdout",
     "output_type": "stream",
     "text": [
      "INFO:tensorflow:tokens: [CLS] we ? < e ##os > of course we will ! [SEP] what gender movies you like ? ? [SEP]\n"
     ]
    },
    {
     "name": "stderr",
     "output_type": "stream",
     "text": [
      "I0606 19:49:25.819510 4619879872 run_classifier.py:464] tokens: [CLS] we ? < e ##os > of course we will ! [SEP] what gender movies you like ? ? [SEP]\n"
     ]
    },
    {
     "name": "stdout",
     "output_type": "stream",
     "text": [
      "INFO:tensorflow:input_ids: 101 2057 1029 1026 1041 2891 1028 1997 2607 2057 2097 999 102 2054 5907 5691 2017 2066 1029 1029 102 0 0 0 0 0 0 0 0 0 0 0 0 0 0 0 0 0 0 0 0 0 0 0 0 0 0 0 0 0 0 0 0 0 0 0 0 0 0 0 0 0 0 0 0 0 0 0 0 0 0 0 0 0 0 0 0 0 0 0 0 0 0 0 0 0 0 0 0 0 0 0 0 0 0 0 0 0 0 0 0 0 0 0 0 0 0 0 0 0 0 0 0 0 0 0 0 0 0 0 0 0 0 0 0 0 0 0\n"
     ]
    },
    {
     "name": "stderr",
     "output_type": "stream",
     "text": [
      "I0606 19:49:25.821162 4619879872 run_classifier.py:465] input_ids: 101 2057 1029 1026 1041 2891 1028 1997 2607 2057 2097 999 102 2054 5907 5691 2017 2066 1029 1029 102 0 0 0 0 0 0 0 0 0 0 0 0 0 0 0 0 0 0 0 0 0 0 0 0 0 0 0 0 0 0 0 0 0 0 0 0 0 0 0 0 0 0 0 0 0 0 0 0 0 0 0 0 0 0 0 0 0 0 0 0 0 0 0 0 0 0 0 0 0 0 0 0 0 0 0 0 0 0 0 0 0 0 0 0 0 0 0 0 0 0 0 0 0 0 0 0 0 0 0 0 0 0 0 0 0 0 0\n"
     ]
    },
    {
     "name": "stdout",
     "output_type": "stream",
     "text": [
      "INFO:tensorflow:input_mask: 1 1 1 1 1 1 1 1 1 1 1 1 1 1 1 1 1 1 1 1 1 0 0 0 0 0 0 0 0 0 0 0 0 0 0 0 0 0 0 0 0 0 0 0 0 0 0 0 0 0 0 0 0 0 0 0 0 0 0 0 0 0 0 0 0 0 0 0 0 0 0 0 0 0 0 0 0 0 0 0 0 0 0 0 0 0 0 0 0 0 0 0 0 0 0 0 0 0 0 0 0 0 0 0 0 0 0 0 0 0 0 0 0 0 0 0 0 0 0 0 0 0 0 0 0 0 0 0\n"
     ]
    },
    {
     "name": "stderr",
     "output_type": "stream",
     "text": [
      "I0606 19:49:25.823215 4619879872 run_classifier.py:466] input_mask: 1 1 1 1 1 1 1 1 1 1 1 1 1 1 1 1 1 1 1 1 1 0 0 0 0 0 0 0 0 0 0 0 0 0 0 0 0 0 0 0 0 0 0 0 0 0 0 0 0 0 0 0 0 0 0 0 0 0 0 0 0 0 0 0 0 0 0 0 0 0 0 0 0 0 0 0 0 0 0 0 0 0 0 0 0 0 0 0 0 0 0 0 0 0 0 0 0 0 0 0 0 0 0 0 0 0 0 0 0 0 0 0 0 0 0 0 0 0 0 0 0 0 0 0 0 0 0 0\n"
     ]
    },
    {
     "name": "stdout",
     "output_type": "stream",
     "text": [
      "INFO:tensorflow:segment_ids: 0 0 0 0 0 0 0 0 0 0 0 0 0 1 1 1 1 1 1 1 1 0 0 0 0 0 0 0 0 0 0 0 0 0 0 0 0 0 0 0 0 0 0 0 0 0 0 0 0 0 0 0 0 0 0 0 0 0 0 0 0 0 0 0 0 0 0 0 0 0 0 0 0 0 0 0 0 0 0 0 0 0 0 0 0 0 0 0 0 0 0 0 0 0 0 0 0 0 0 0 0 0 0 0 0 0 0 0 0 0 0 0 0 0 0 0 0 0 0 0 0 0 0 0 0 0 0 0\n"
     ]
    },
    {
     "name": "stderr",
     "output_type": "stream",
     "text": [
      "I0606 19:49:25.825095 4619879872 run_classifier.py:467] segment_ids: 0 0 0 0 0 0 0 0 0 0 0 0 0 1 1 1 1 1 1 1 1 0 0 0 0 0 0 0 0 0 0 0 0 0 0 0 0 0 0 0 0 0 0 0 0 0 0 0 0 0 0 0 0 0 0 0 0 0 0 0 0 0 0 0 0 0 0 0 0 0 0 0 0 0 0 0 0 0 0 0 0 0 0 0 0 0 0 0 0 0 0 0 0 0 0 0 0 0 0 0 0 0 0 0 0 0 0 0 0 0 0 0 0 0 0 0 0 0 0 0 0 0 0 0 0 0 0 0\n"
     ]
    },
    {
     "name": "stdout",
     "output_type": "stream",
     "text": [
      "INFO:tensorflow:label: 0 (id = 0)\n"
     ]
    },
    {
     "name": "stderr",
     "output_type": "stream",
     "text": [
      "I0606 19:49:25.826480 4619879872 run_classifier.py:468] label: 0 (id = 0)\n"
     ]
    }
   ],
   "source": [
    "# We'll set sequences to be at most 128 tokens long.\n",
    "MAX_SEQ_LENGTH = 128\n",
    "# Convert our train and test features to InputFeatures that BERT understands.\n",
    "train_features = bert.run_classifier.convert_examples_to_features(train_InputExamples, label_list, MAX_SEQ_LENGTH, tokenizer)\n",
    "test_features = bert.run_classifier.convert_examples_to_features(test_InputExamples, label_list, MAX_SEQ_LENGTH, tokenizer)"
   ]
  },
  {
   "cell_type": "code",
   "execution_count": 11,
   "metadata": {},
   "outputs": [],
   "source": [
    "def create_model(is_predicting, input_ids, input_mask, segment_ids, labels,\n",
    "                 num_labels):\n",
    "    \"\"\"Creates a classification model.\"\"\"\n",
    "\n",
    "    bert_module = hub.Module(\n",
    "        BERT_MODEL_HUB,\n",
    "        trainable=True)\n",
    "    bert_inputs = dict(\n",
    "        input_ids=input_ids,\n",
    "        input_mask=input_mask,\n",
    "        segment_ids=segment_ids)\n",
    "    bert_outputs = bert_module(\n",
    "        inputs=bert_inputs,\n",
    "        signature=\"tokens\",\n",
    "        as_dict=True)\n",
    "\n",
    "    # Use \"pooled_output\" for classification tasks on an entire sentence.\n",
    "    # Use \"sequence_outputs\" for token-level output.\n",
    "    output_layer = bert_outputs[\"pooled_output\"]\n",
    "\n",
    "    hidden_size = output_layer.shape[-1].value\n",
    "\n",
    "    # Create our own layer to tune for politeness data.\n",
    "    output_weights = tf.get_variable(\n",
    "        \"output_weights\", [num_labels, hidden_size],\n",
    "        initializer=tf.truncated_normal_initializer(stddev=0.02))\n",
    "\n",
    "    output_bias = tf.get_variable(\n",
    "        \"output_bias\", [num_labels], initializer=tf.zeros_initializer())\n",
    "\n",
    "    with tf.variable_scope(\"loss\"):\n",
    "\n",
    "        # Dropout helps prevent overfitting\n",
    "        output_layer = tf.nn.dropout(output_layer, keep_prob=0.9)\n",
    "  \n",
    "        logits = tf.matmul(output_layer, output_weights, transpose_b=True)\n",
    "        logits = tf.nn.bias_add(logits, output_bias)\n",
    "        log_probs = tf.nn.log_softmax(logits, axis=-1)\n",
    "\n",
    "        # Convert labels into one-hot encoding\n",
    "        one_hot_labels = tf.one_hot(labels, depth=num_labels, dtype=tf.float32)\n",
    "\n",
    "        predicted_labels = tf.squeeze(tf.argmax(log_probs, axis=-1, output_type=tf.int32))\n",
    "        # If we're predicting, we want predicted labels and the probabiltiies.\n",
    "        if is_predicting:\n",
    "            return (predicted_labels, log_probs)\n",
    "\n",
    "        # If we're train/eval, compute loss between predicted and actual label\n",
    "        per_example_loss = -tf.reduce_sum(one_hot_labels * log_probs, axis=-1)\n",
    "        loss = tf.reduce_mean(per_example_loss)\n",
    "        return (loss, predicted_labels, log_probs)\n"
   ]
  },
  {
   "cell_type": "code",
   "execution_count": 12,
   "metadata": {},
   "outputs": [],
   "source": [
    "# model_fn_builder actually creates our model function\n",
    "# using the passed parameters for num_labels, learning_rate, etc.\n",
    "def model_fn_builder(num_labels, learning_rate, num_train_steps,\n",
    "                     num_warmup_steps):\n",
    "    \"\"\"Returns `model_fn` closure for TPUEstimator.\"\"\"\n",
    "    def model_fn(features, labels, mode, params):  # pylint: disable=unused-argument\n",
    "        \"\"\"The `model_fn` for TPUEstimator.\"\"\"\n",
    "\n",
    "        input_ids = features[\"input_ids\"]\n",
    "        input_mask = features[\"input_mask\"]\n",
    "        segment_ids = features[\"segment_ids\"]\n",
    "        label_ids = features[\"label_ids\"]\n",
    "\n",
    "        is_predicting = (mode == tf.estimator.ModeKeys.PREDICT)\n",
    "\n",
    "        # TRAIN and EVAL\n",
    "        if not is_predicting:\n",
    "\n",
    "            (loss, predicted_labels, log_probs) = create_model(is_predicting, input_ids, input_mask, segment_ids, label_ids, num_labels)\n",
    "\n",
    "            train_op = bert.optimization.create_optimizer(loss, learning_rate, num_train_steps, num_warmup_steps, use_tpu=False)\n",
    "\n",
    "            # Calculate evaluation metrics. \n",
    "            def metric_fn(label_ids, predicted_labels):\n",
    "                accuracy = tf.metrics.accuracy(label_ids, predicted_labels)\n",
    "                recall = tf.metrics.recall(\n",
    "                    label_ids,\n",
    "                    predicted_labels)\n",
    "                precision = tf.metrics.precision(\n",
    "                    label_ids,\n",
    "                    predicted_labels)\n",
    "                return {\n",
    "                    \"eval_accuracy\": accuracy,\n",
    "                    \"precision\": precision,\n",
    "                    \"recall\": recall,\n",
    "                }\n",
    "\n",
    "            eval_metrics = metric_fn(label_ids, predicted_labels)\n",
    "\n",
    "            if mode == tf.estimator.ModeKeys.TRAIN:\n",
    "                return tf.estimator.EstimatorSpec(mode=mode,loss=loss,train_op=train_op)\n",
    "            else:\n",
    "                return tf.estimator.EstimatorSpec(mode=mode,\n",
    "                    loss=loss,\n",
    "                    eval_metric_ops=eval_metrics)\n",
    "        else:\n",
    "            (predicted_labels, log_probs) = create_model(is_predicting, input_ids, input_mask, segment_ids, label_ids, num_labels)\n",
    "\n",
    "            predictions = {'probabilities': log_probs,'labels': predicted_labels\n",
    "              }\n",
    "            return tf.estimator.EstimatorSpec(mode, predictions=predictions)\n",
    "\n",
    "    # Return the actual model function in the closure\n",
    "    return model_fn\n"
   ]
  },
  {
   "cell_type": "code",
   "execution_count": 13,
   "metadata": {},
   "outputs": [],
   "source": [
    "# Compute train and warmup steps from batch size\n",
    "# These hyperparameters are copied from this colab notebook (https://colab.sandbox.google.com/github/tensorflow/tpu/blob/master/tools/colab/bert_finetuning_with_cloud_tpus.ipynb)\n",
    "BATCH_SIZE = 32\n",
    "LEARNING_RATE = 2e-5\n",
    "NUM_TRAIN_EPOCHS = 3.0\n",
    "# Warmup is a period of time where hte learning rate \n",
    "# is small and gradually increases--usually helps training.\n",
    "WARMUP_PROPORTION = 0.1\n",
    "# Model configs\n",
    "SAVE_CHECKPOINTS_STEPS = 100\n",
    "SAVE_SUMMARY_STEPS = 100"
   ]
  },
  {
   "cell_type": "code",
   "execution_count": 14,
   "metadata": {},
   "outputs": [],
   "source": [
    "# Compute # train and warmup steps from batch size\n",
    "num_train_steps = int(len(train_features) / BATCH_SIZE * NUM_TRAIN_EPOCHS)\n",
    "num_warmup_steps = int(num_train_steps * WARMUP_PROPORTION)"
   ]
  },
  {
   "cell_type": "code",
   "execution_count": 15,
   "metadata": {},
   "outputs": [],
   "source": [
    "# Specify outpit directory and number of checkpoint steps to save\n",
    "run_config = tf.estimator.RunConfig(\n",
    "    model_dir=OUTPUT_DIR,\n",
    "    save_summary_steps=SAVE_SUMMARY_STEPS,\n",
    "    save_checkpoints_steps=SAVE_CHECKPOINTS_STEPS)"
   ]
  },
  {
   "cell_type": "code",
   "execution_count": 16,
   "metadata": {},
   "outputs": [
    {
     "name": "stdout",
     "output_type": "stream",
     "text": [
      "INFO:tensorflow:Using config: {'_model_dir': '/Users/nathanieljoselson/Documents/Projects/masters/natemusMasters/bert_F1_69', '_tf_random_seed': None, '_save_summary_steps': 100, '_save_checkpoints_steps': 100, '_save_checkpoints_secs': None, '_session_config': allow_soft_placement: true\n",
      "graph_options {\n",
      "  rewrite_options {\n",
      "    meta_optimizer_iterations: ONE\n",
      "  }\n",
      "}\n",
      ", '_keep_checkpoint_max': 5, '_keep_checkpoint_every_n_hours': 10000, '_log_step_count_steps': 100, '_train_distribute': None, '_device_fn': None, '_protocol': None, '_eval_distribute': None, '_experimental_distribute': None, '_service': None, '_cluster_spec': <tensorflow.python.training.server_lib.ClusterSpec object at 0x137c42b00>, '_task_type': 'worker', '_task_id': 0, '_global_id_in_cluster': 0, '_master': '', '_evaluation_master': '', '_is_chief': True, '_num_ps_replicas': 0, '_num_worker_replicas': 1}\n"
     ]
    },
    {
     "name": "stderr",
     "output_type": "stream",
     "text": [
      "I0606 19:49:27.767205 4619879872 estimator.py:201] Using config: {'_model_dir': '/Users/nathanieljoselson/Documents/Projects/masters/natemusMasters/bert_F1_69', '_tf_random_seed': None, '_save_summary_steps': 100, '_save_checkpoints_steps': 100, '_save_checkpoints_secs': None, '_session_config': allow_soft_placement: true\n",
      "graph_options {\n",
      "  rewrite_options {\n",
      "    meta_optimizer_iterations: ONE\n",
      "  }\n",
      "}\n",
      ", '_keep_checkpoint_max': 5, '_keep_checkpoint_every_n_hours': 10000, '_log_step_count_steps': 100, '_train_distribute': None, '_device_fn': None, '_protocol': None, '_eval_distribute': None, '_experimental_distribute': None, '_service': None, '_cluster_spec': <tensorflow.python.training.server_lib.ClusterSpec object at 0x137c42b00>, '_task_type': 'worker', '_task_id': 0, '_global_id_in_cluster': 0, '_master': '', '_evaluation_master': '', '_is_chief': True, '_num_ps_replicas': 0, '_num_worker_replicas': 1}\n"
     ]
    }
   ],
   "source": [
    "model_fn = model_fn_builder(\n",
    "    num_labels=len(label_list),\n",
    "    learning_rate=LEARNING_RATE,\n",
    "    num_train_steps=num_train_steps,\n",
    "    num_warmup_steps=num_warmup_steps)\n",
    "\n",
    "estimator = tf.estimator.Estimator(\n",
    "    model_fn=model_fn,\n",
    "    config=run_config,\n",
    "    params={\"batch_size\": BATCH_SIZE})\n"
   ]
  },
  {
   "cell_type": "code",
   "execution_count": 17,
   "metadata": {},
   "outputs": [],
   "source": [
    "# Create an input function for training. drop_remainder = True for using TPUs.\n",
    "train_input_fn = bert.run_classifier.input_fn_builder(\n",
    "    features=train_features,\n",
    "    seq_length=MAX_SEQ_LENGTH,\n",
    "    is_training=True,\n",
    "    drop_remainder=False)"
   ]
  },
  {
   "cell_type": "code",
   "execution_count": 18,
   "metadata": {},
   "outputs": [
    {
     "name": "stdout",
     "output_type": "stream",
     "text": [
      "INFO:tensorflow:Skipping training since max_steps has already saved.\n"
     ]
    },
    {
     "name": "stderr",
     "output_type": "stream",
     "text": [
      "I0606 19:49:27.834203 4619879872 estimator.py:351] Skipping training since max_steps has already saved.\n"
     ]
    },
    {
     "data": {
      "text/plain": [
       "<tensorflow_estimator.python.estimator.estimator.Estimator at 0x137c421d0>"
      ]
     },
     "execution_count": 18,
     "metadata": {},
     "output_type": "execute_result"
    }
   ],
   "source": [
    "estimator.train(input_fn=train_input_fn, max_steps=num_train_steps)"
   ]
  },
  {
   "cell_type": "code",
   "execution_count": 19,
   "metadata": {},
   "outputs": [],
   "source": [
    "test_input_fn = run_classifier.input_fn_builder(\n",
    "    features=test_features,\n",
    "    seq_length=MAX_SEQ_LENGTH,\n",
    "    is_training=False,\n",
    "    drop_remainder=False)"
   ]
  },
  {
   "cell_type": "code",
   "execution_count": 20,
   "metadata": {},
   "outputs": [
    {
     "name": "stdout",
     "output_type": "stream",
     "text": [
      "INFO:tensorflow:Calling model_fn.\n"
     ]
    },
    {
     "name": "stderr",
     "output_type": "stream",
     "text": [
      "I0606 19:49:30.472592 4619879872 estimator.py:1111] Calling model_fn.\n"
     ]
    },
    {
     "name": "stdout",
     "output_type": "stream",
     "text": [
      "INFO:tensorflow:Saver not created because there are no variables in the graph to restore\n"
     ]
    },
    {
     "name": "stderr",
     "output_type": "stream",
     "text": [
      "I0606 19:49:33.469495 4619879872 saver.py:1483] Saver not created because there are no variables in the graph to restore\n"
     ]
    },
    {
     "name": "stdout",
     "output_type": "stream",
     "text": [
      "WARNING:tensorflow:From <ipython-input-11-ec5589823d1a>:34: calling dropout (from tensorflow.python.ops.nn_ops) with keep_prob is deprecated and will be removed in a future version.\n",
      "Instructions for updating:\n",
      "Please use `rate` instead of `keep_prob`. Rate should be set to `rate = 1 - keep_prob`.\n"
     ]
    },
    {
     "name": "stderr",
     "output_type": "stream",
     "text": [
      "W0606 19:49:33.614749 4619879872 deprecation.py:506] From <ipython-input-11-ec5589823d1a>:34: calling dropout (from tensorflow.python.ops.nn_ops) with keep_prob is deprecated and will be removed in a future version.\n",
      "Instructions for updating:\n",
      "Please use `rate` instead of `keep_prob`. Rate should be set to `rate = 1 - keep_prob`.\n"
     ]
    },
    {
     "name": "stdout",
     "output_type": "stream",
     "text": [
      "WARNING:tensorflow:From /Library/Frameworks/Python.framework/Versions/3.7/lib/python3.7/site-packages/tensorflow/python/training/learning_rate_decay_v2.py:321: div (from tensorflow.python.ops.math_ops) is deprecated and will be removed in a future version.\n",
      "Instructions for updating:\n",
      "Deprecated in favor of operator or tf.math.divide.\n"
     ]
    },
    {
     "name": "stderr",
     "output_type": "stream",
     "text": [
      "W0606 19:49:33.688486 4619879872 deprecation.py:323] From /Library/Frameworks/Python.framework/Versions/3.7/lib/python3.7/site-packages/tensorflow/python/training/learning_rate_decay_v2.py:321: div (from tensorflow.python.ops.math_ops) is deprecated and will be removed in a future version.\n",
      "Instructions for updating:\n",
      "Deprecated in favor of operator or tf.math.divide.\n"
     ]
    },
    {
     "name": "stdout",
     "output_type": "stream",
     "text": [
      "WARNING:tensorflow:From /Library/Frameworks/Python.framework/Versions/3.7/lib/python3.7/site-packages/tensorflow/python/ops/math_ops.py:3066: to_int32 (from tensorflow.python.ops.math_ops) is deprecated and will be removed in a future version.\n",
      "Instructions for updating:\n",
      "Use tf.cast instead.\n"
     ]
    },
    {
     "name": "stderr",
     "output_type": "stream",
     "text": [
      "W0606 19:49:33.782755 4619879872 deprecation.py:323] From /Library/Frameworks/Python.framework/Versions/3.7/lib/python3.7/site-packages/tensorflow/python/ops/math_ops.py:3066: to_int32 (from tensorflow.python.ops.math_ops) is deprecated and will be removed in a future version.\n",
      "Instructions for updating:\n",
      "Use tf.cast instead.\n",
      "/Library/Frameworks/Python.framework/Versions/3.7/lib/python3.7/site-packages/tensorflow/python/ops/gradients_impl.py:110: UserWarning: Converting sparse IndexedSlices to a dense Tensor of unknown shape. This may consume a large amount of memory.\n",
      "  \"Converting sparse IndexedSlices to a dense Tensor of unknown shape. \"\n"
     ]
    },
    {
     "name": "stdout",
     "output_type": "stream",
     "text": [
      "WARNING:tensorflow:From /Library/Frameworks/Python.framework/Versions/3.7/lib/python3.7/site-packages/tensorflow/python/ops/metrics_impl.py:455: to_float (from tensorflow.python.ops.math_ops) is deprecated and will be removed in a future version.\n",
      "Instructions for updating:\n",
      "Use tf.cast instead.\n"
     ]
    },
    {
     "name": "stderr",
     "output_type": "stream",
     "text": [
      "W0606 19:49:40.822426 4619879872 deprecation.py:323] From /Library/Frameworks/Python.framework/Versions/3.7/lib/python3.7/site-packages/tensorflow/python/ops/metrics_impl.py:455: to_float (from tensorflow.python.ops.math_ops) is deprecated and will be removed in a future version.\n",
      "Instructions for updating:\n",
      "Use tf.cast instead.\n"
     ]
    },
    {
     "name": "stdout",
     "output_type": "stream",
     "text": [
      "INFO:tensorflow:Done calling model_fn.\n"
     ]
    },
    {
     "name": "stderr",
     "output_type": "stream",
     "text": [
      "I0606 19:49:41.068289 4619879872 estimator.py:1113] Done calling model_fn.\n"
     ]
    },
    {
     "name": "stdout",
     "output_type": "stream",
     "text": [
      "INFO:tensorflow:Starting evaluation at 2019-06-06T17:49:41Z\n"
     ]
    },
    {
     "name": "stderr",
     "output_type": "stream",
     "text": [
      "I0606 19:49:41.112180 4619879872 evaluation.py:257] Starting evaluation at 2019-06-06T17:49:41Z\n"
     ]
    },
    {
     "name": "stdout",
     "output_type": "stream",
     "text": [
      "INFO:tensorflow:Graph was finalized.\n"
     ]
    },
    {
     "name": "stderr",
     "output_type": "stream",
     "text": [
      "I0606 19:49:43.019356 4619879872 monitored_session.py:222] Graph was finalized.\n"
     ]
    },
    {
     "name": "stdout",
     "output_type": "stream",
     "text": [
      "WARNING:tensorflow:From /Library/Frameworks/Python.framework/Versions/3.7/lib/python3.7/site-packages/tensorflow/python/training/saver.py:1266: checkpoint_exists (from tensorflow.python.training.checkpoint_management) is deprecated and will be removed in a future version.\n",
      "Instructions for updating:\n",
      "Use standard file APIs to check for files with this prefix.\n"
     ]
    },
    {
     "name": "stderr",
     "output_type": "stream",
     "text": [
      "W0606 19:49:43.021028 4619879872 deprecation.py:323] From /Library/Frameworks/Python.framework/Versions/3.7/lib/python3.7/site-packages/tensorflow/python/training/saver.py:1266: checkpoint_exists (from tensorflow.python.training.checkpoint_management) is deprecated and will be removed in a future version.\n",
      "Instructions for updating:\n",
      "Use standard file APIs to check for files with this prefix.\n"
     ]
    },
    {
     "name": "stdout",
     "output_type": "stream",
     "text": [
      "INFO:tensorflow:Restoring parameters from /Users/nathanieljoselson/Documents/Projects/masters/natemusMasters/bert_F1_69/model.ckpt-3085\n"
     ]
    },
    {
     "name": "stderr",
     "output_type": "stream",
     "text": [
      "I0606 19:49:43.025520 4619879872 saver.py:1270] Restoring parameters from /Users/nathanieljoselson/Documents/Projects/masters/natemusMasters/bert_F1_69/model.ckpt-3085\n"
     ]
    },
    {
     "name": "stdout",
     "output_type": "stream",
     "text": [
      "INFO:tensorflow:Running local_init_op.\n"
     ]
    },
    {
     "name": "stderr",
     "output_type": "stream",
     "text": [
      "I0606 19:49:49.484628 4619879872 session_manager.py:491] Running local_init_op.\n"
     ]
    },
    {
     "name": "stdout",
     "output_type": "stream",
     "text": [
      "INFO:tensorflow:Done running local_init_op.\n"
     ]
    },
    {
     "name": "stderr",
     "output_type": "stream",
     "text": [
      "I0606 19:49:49.797874 4619879872 session_manager.py:493] Done running local_init_op.\n"
     ]
    },
    {
     "name": "stdout",
     "output_type": "stream",
     "text": [
      "INFO:tensorflow:Finished evaluation at 2019-06-06-18:24:01\n"
     ]
    },
    {
     "name": "stderr",
     "output_type": "stream",
     "text": [
      "I0606 20:24:01.148360 4619879872 evaluation.py:277] Finished evaluation at 2019-06-06-18:24:01\n"
     ]
    },
    {
     "name": "stdout",
     "output_type": "stream",
     "text": [
      "INFO:tensorflow:Saving dict for global step 3085: eval_accuracy = 0.90506446, global_step = 3085, loss = 0.35250324, precision = 0.6766699, recall = 0.8401442\n"
     ]
    },
    {
     "name": "stderr",
     "output_type": "stream",
     "text": [
      "I0606 20:24:01.151319 4619879872 estimator.py:1979] Saving dict for global step 3085: eval_accuracy = 0.90506446, global_step = 3085, loss = 0.35250324, precision = 0.6766699, recall = 0.8401442\n"
     ]
    },
    {
     "name": "stdout",
     "output_type": "stream",
     "text": [
      "INFO:tensorflow:Saving 'checkpoint_path' summary for global step 3085: /Users/nathanieljoselson/Documents/Projects/masters/natemusMasters/bert_F1_69/model.ckpt-3085\n"
     ]
    },
    {
     "name": "stderr",
     "output_type": "stream",
     "text": [
      "I0606 20:24:04.742187 4619879872 estimator.py:2039] Saving 'checkpoint_path' summary for global step 3085: /Users/nathanieljoselson/Documents/Projects/masters/natemusMasters/bert_F1_69/model.ckpt-3085\n"
     ]
    },
    {
     "data": {
      "text/plain": [
       "{'eval_accuracy': 0.90506446,\n",
       " 'loss': 0.35250324,\n",
       " 'precision': 0.6766699,\n",
       " 'recall': 0.8401442,\n",
       " 'global_step': 3085}"
      ]
     },
     "execution_count": 20,
     "metadata": {},
     "output_type": "execute_result"
    }
   ],
   "source": [
    "estimator.evaluate(input_fn=test_input_fn, steps=None)"
   ]
  },
  {
   "cell_type": "code",
   "execution_count": 21,
   "metadata": {},
   "outputs": [],
   "source": [
    "def getPrediction(in_sentences,verbose):\n",
    "    labels = [\"others\", \"happy\", \"sad\", \"angry\"]\n",
    "    input_examples = [run_classifier.InputExample(guid=\"\", text_a = x[0], text_b = x[1], label = 0) for x in in_sentences] # here, \"\" is just a dummy label\n",
    "    input_features = run_classifier.convert_examples_to_features(input_examples, label_list, MAX_SEQ_LENGTH, tokenizer)\n",
    "    predict_input_fn = run_classifier.input_fn_builder(features=input_features, seq_length=MAX_SEQ_LENGTH, is_training=False, drop_remainder=False)\n",
    "    predictions = estimator.predict(predict_input_fn)\n",
    "    if verbose:\n",
    "        return [(sentence, prediction['probabilities'], labels[prediction['labels']]) for sentence, prediction in zip(in_sentences, predictions)]\n",
    "    else:\n",
    "        return [prediction['probabilities'] for sentence, prediction in zip(in_sentences, predictions)]"
   ]
  },
  {
   "cell_type": "code",
   "execution_count": 50,
   "metadata": {},
   "outputs": [],
   "source": [
    "pred_sentences = [\n",
    "  [\"That movie was absolutely awful \",\n",
    "  \"The acting was a bit lacking\"],\n",
    "  [\"The film was creative and surprising\",\n",
    "  \"Absolutely fantastic!\"]\n",
    "]"
   ]
  },
  {
   "cell_type": "code",
   "execution_count": 51,
   "metadata": {},
   "outputs": [
    {
     "name": "stdout",
     "output_type": "stream",
     "text": [
      "INFO:tensorflow:Writing example 0 of 2\n"
     ]
    },
    {
     "name": "stderr",
     "output_type": "stream",
     "text": [
      "I0612 07:04:44.630981 4619879872 run_classifier.py:774] Writing example 0 of 2\n"
     ]
    },
    {
     "name": "stdout",
     "output_type": "stream",
     "text": [
      "INFO:tensorflow:*** Example ***\n"
     ]
    },
    {
     "name": "stderr",
     "output_type": "stream",
     "text": [
      "I0612 07:04:44.661104 4619879872 run_classifier.py:461] *** Example ***\n"
     ]
    },
    {
     "name": "stdout",
     "output_type": "stream",
     "text": [
      "INFO:tensorflow:guid: \n"
     ]
    },
    {
     "name": "stderr",
     "output_type": "stream",
     "text": [
      "I0612 07:04:44.665817 4619879872 run_classifier.py:462] guid: \n"
     ]
    },
    {
     "name": "stdout",
     "output_type": "stream",
     "text": [
      "INFO:tensorflow:tokens: [CLS] that movie was absolutely awful [SEP] the acting was a bit lacking [SEP]\n"
     ]
    },
    {
     "name": "stderr",
     "output_type": "stream",
     "text": [
      "I0612 07:04:44.668545 4619879872 run_classifier.py:464] tokens: [CLS] that movie was absolutely awful [SEP] the acting was a bit lacking [SEP]\n"
     ]
    },
    {
     "name": "stdout",
     "output_type": "stream",
     "text": [
      "INFO:tensorflow:input_ids: 101 2008 3185 2001 7078 9643 102 1996 3772 2001 1037 2978 11158 102 0 0 0 0 0 0 0 0 0 0 0 0 0 0 0 0 0 0 0 0 0 0 0 0 0 0 0 0 0 0 0 0 0 0 0 0 0 0 0 0 0 0 0 0 0 0 0 0 0 0 0 0 0 0 0 0 0 0 0 0 0 0 0 0 0 0 0 0 0 0 0 0 0 0 0 0 0 0 0 0 0 0 0 0 0 0 0 0 0 0 0 0 0 0 0 0 0 0 0 0 0 0 0 0 0 0 0 0 0 0 0 0 0 0\n"
     ]
    },
    {
     "name": "stderr",
     "output_type": "stream",
     "text": [
      "I0612 07:04:44.673177 4619879872 run_classifier.py:465] input_ids: 101 2008 3185 2001 7078 9643 102 1996 3772 2001 1037 2978 11158 102 0 0 0 0 0 0 0 0 0 0 0 0 0 0 0 0 0 0 0 0 0 0 0 0 0 0 0 0 0 0 0 0 0 0 0 0 0 0 0 0 0 0 0 0 0 0 0 0 0 0 0 0 0 0 0 0 0 0 0 0 0 0 0 0 0 0 0 0 0 0 0 0 0 0 0 0 0 0 0 0 0 0 0 0 0 0 0 0 0 0 0 0 0 0 0 0 0 0 0 0 0 0 0 0 0 0 0 0 0 0 0 0 0 0\n"
     ]
    },
    {
     "name": "stdout",
     "output_type": "stream",
     "text": [
      "INFO:tensorflow:input_mask: 1 1 1 1 1 1 1 1 1 1 1 1 1 1 0 0 0 0 0 0 0 0 0 0 0 0 0 0 0 0 0 0 0 0 0 0 0 0 0 0 0 0 0 0 0 0 0 0 0 0 0 0 0 0 0 0 0 0 0 0 0 0 0 0 0 0 0 0 0 0 0 0 0 0 0 0 0 0 0 0 0 0 0 0 0 0 0 0 0 0 0 0 0 0 0 0 0 0 0 0 0 0 0 0 0 0 0 0 0 0 0 0 0 0 0 0 0 0 0 0 0 0 0 0 0 0 0 0\n"
     ]
    },
    {
     "name": "stderr",
     "output_type": "stream",
     "text": [
      "I0612 07:04:44.675575 4619879872 run_classifier.py:466] input_mask: 1 1 1 1 1 1 1 1 1 1 1 1 1 1 0 0 0 0 0 0 0 0 0 0 0 0 0 0 0 0 0 0 0 0 0 0 0 0 0 0 0 0 0 0 0 0 0 0 0 0 0 0 0 0 0 0 0 0 0 0 0 0 0 0 0 0 0 0 0 0 0 0 0 0 0 0 0 0 0 0 0 0 0 0 0 0 0 0 0 0 0 0 0 0 0 0 0 0 0 0 0 0 0 0 0 0 0 0 0 0 0 0 0 0 0 0 0 0 0 0 0 0 0 0 0 0 0 0\n"
     ]
    },
    {
     "name": "stdout",
     "output_type": "stream",
     "text": [
      "INFO:tensorflow:segment_ids: 0 0 0 0 0 0 0 1 1 1 1 1 1 1 0 0 0 0 0 0 0 0 0 0 0 0 0 0 0 0 0 0 0 0 0 0 0 0 0 0 0 0 0 0 0 0 0 0 0 0 0 0 0 0 0 0 0 0 0 0 0 0 0 0 0 0 0 0 0 0 0 0 0 0 0 0 0 0 0 0 0 0 0 0 0 0 0 0 0 0 0 0 0 0 0 0 0 0 0 0 0 0 0 0 0 0 0 0 0 0 0 0 0 0 0 0 0 0 0 0 0 0 0 0 0 0 0 0\n"
     ]
    },
    {
     "name": "stderr",
     "output_type": "stream",
     "text": [
      "I0612 07:04:44.679373 4619879872 run_classifier.py:467] segment_ids: 0 0 0 0 0 0 0 1 1 1 1 1 1 1 0 0 0 0 0 0 0 0 0 0 0 0 0 0 0 0 0 0 0 0 0 0 0 0 0 0 0 0 0 0 0 0 0 0 0 0 0 0 0 0 0 0 0 0 0 0 0 0 0 0 0 0 0 0 0 0 0 0 0 0 0 0 0 0 0 0 0 0 0 0 0 0 0 0 0 0 0 0 0 0 0 0 0 0 0 0 0 0 0 0 0 0 0 0 0 0 0 0 0 0 0 0 0 0 0 0 0 0 0 0 0 0 0 0\n"
     ]
    },
    {
     "name": "stdout",
     "output_type": "stream",
     "text": [
      "INFO:tensorflow:label: 0 (id = 0)\n"
     ]
    },
    {
     "name": "stderr",
     "output_type": "stream",
     "text": [
      "I0612 07:04:44.682496 4619879872 run_classifier.py:468] label: 0 (id = 0)\n"
     ]
    },
    {
     "name": "stdout",
     "output_type": "stream",
     "text": [
      "INFO:tensorflow:*** Example ***\n"
     ]
    },
    {
     "name": "stderr",
     "output_type": "stream",
     "text": [
      "I0612 07:04:44.707193 4619879872 run_classifier.py:461] *** Example ***\n"
     ]
    },
    {
     "name": "stdout",
     "output_type": "stream",
     "text": [
      "INFO:tensorflow:guid: \n"
     ]
    },
    {
     "name": "stderr",
     "output_type": "stream",
     "text": [
      "I0612 07:04:44.712645 4619879872 run_classifier.py:462] guid: \n"
     ]
    },
    {
     "name": "stdout",
     "output_type": "stream",
     "text": [
      "INFO:tensorflow:tokens: [CLS] the film was creative and surprising [SEP] absolutely fantastic ! [SEP]\n"
     ]
    },
    {
     "name": "stderr",
     "output_type": "stream",
     "text": [
      "I0612 07:04:44.715007 4619879872 run_classifier.py:464] tokens: [CLS] the film was creative and surprising [SEP] absolutely fantastic ! [SEP]\n"
     ]
    },
    {
     "name": "stdout",
     "output_type": "stream",
     "text": [
      "INFO:tensorflow:input_ids: 101 1996 2143 2001 5541 1998 11341 102 7078 10392 999 102 0 0 0 0 0 0 0 0 0 0 0 0 0 0 0 0 0 0 0 0 0 0 0 0 0 0 0 0 0 0 0 0 0 0 0 0 0 0 0 0 0 0 0 0 0 0 0 0 0 0 0 0 0 0 0 0 0 0 0 0 0 0 0 0 0 0 0 0 0 0 0 0 0 0 0 0 0 0 0 0 0 0 0 0 0 0 0 0 0 0 0 0 0 0 0 0 0 0 0 0 0 0 0 0 0 0 0 0 0 0 0 0 0 0 0 0\n"
     ]
    },
    {
     "name": "stderr",
     "output_type": "stream",
     "text": [
      "I0612 07:04:44.716866 4619879872 run_classifier.py:465] input_ids: 101 1996 2143 2001 5541 1998 11341 102 7078 10392 999 102 0 0 0 0 0 0 0 0 0 0 0 0 0 0 0 0 0 0 0 0 0 0 0 0 0 0 0 0 0 0 0 0 0 0 0 0 0 0 0 0 0 0 0 0 0 0 0 0 0 0 0 0 0 0 0 0 0 0 0 0 0 0 0 0 0 0 0 0 0 0 0 0 0 0 0 0 0 0 0 0 0 0 0 0 0 0 0 0 0 0 0 0 0 0 0 0 0 0 0 0 0 0 0 0 0 0 0 0 0 0 0 0 0 0 0 0\n"
     ]
    },
    {
     "name": "stdout",
     "output_type": "stream",
     "text": [
      "INFO:tensorflow:input_mask: 1 1 1 1 1 1 1 1 1 1 1 1 0 0 0 0 0 0 0 0 0 0 0 0 0 0 0 0 0 0 0 0 0 0 0 0 0 0 0 0 0 0 0 0 0 0 0 0 0 0 0 0 0 0 0 0 0 0 0 0 0 0 0 0 0 0 0 0 0 0 0 0 0 0 0 0 0 0 0 0 0 0 0 0 0 0 0 0 0 0 0 0 0 0 0 0 0 0 0 0 0 0 0 0 0 0 0 0 0 0 0 0 0 0 0 0 0 0 0 0 0 0 0 0 0 0 0 0\n"
     ]
    },
    {
     "name": "stderr",
     "output_type": "stream",
     "text": [
      "I0612 07:04:44.719002 4619879872 run_classifier.py:466] input_mask: 1 1 1 1 1 1 1 1 1 1 1 1 0 0 0 0 0 0 0 0 0 0 0 0 0 0 0 0 0 0 0 0 0 0 0 0 0 0 0 0 0 0 0 0 0 0 0 0 0 0 0 0 0 0 0 0 0 0 0 0 0 0 0 0 0 0 0 0 0 0 0 0 0 0 0 0 0 0 0 0 0 0 0 0 0 0 0 0 0 0 0 0 0 0 0 0 0 0 0 0 0 0 0 0 0 0 0 0 0 0 0 0 0 0 0 0 0 0 0 0 0 0 0 0 0 0 0 0\n"
     ]
    },
    {
     "name": "stdout",
     "output_type": "stream",
     "text": [
      "INFO:tensorflow:segment_ids: 0 0 0 0 0 0 0 0 1 1 1 1 0 0 0 0 0 0 0 0 0 0 0 0 0 0 0 0 0 0 0 0 0 0 0 0 0 0 0 0 0 0 0 0 0 0 0 0 0 0 0 0 0 0 0 0 0 0 0 0 0 0 0 0 0 0 0 0 0 0 0 0 0 0 0 0 0 0 0 0 0 0 0 0 0 0 0 0 0 0 0 0 0 0 0 0 0 0 0 0 0 0 0 0 0 0 0 0 0 0 0 0 0 0 0 0 0 0 0 0 0 0 0 0 0 0 0 0\n"
     ]
    },
    {
     "name": "stderr",
     "output_type": "stream",
     "text": [
      "I0612 07:04:44.721177 4619879872 run_classifier.py:467] segment_ids: 0 0 0 0 0 0 0 0 1 1 1 1 0 0 0 0 0 0 0 0 0 0 0 0 0 0 0 0 0 0 0 0 0 0 0 0 0 0 0 0 0 0 0 0 0 0 0 0 0 0 0 0 0 0 0 0 0 0 0 0 0 0 0 0 0 0 0 0 0 0 0 0 0 0 0 0 0 0 0 0 0 0 0 0 0 0 0 0 0 0 0 0 0 0 0 0 0 0 0 0 0 0 0 0 0 0 0 0 0 0 0 0 0 0 0 0 0 0 0 0 0 0 0 0 0 0 0 0\n"
     ]
    },
    {
     "name": "stdout",
     "output_type": "stream",
     "text": [
      "INFO:tensorflow:label: 0 (id = 0)\n"
     ]
    },
    {
     "name": "stderr",
     "output_type": "stream",
     "text": [
      "I0612 07:04:44.726172 4619879872 run_classifier.py:468] label: 0 (id = 0)\n"
     ]
    },
    {
     "name": "stdout",
     "output_type": "stream",
     "text": [
      "INFO:tensorflow:Calling model_fn.\n"
     ]
    },
    {
     "name": "stderr",
     "output_type": "stream",
     "text": [
      "I0612 07:04:46.149296 4619879872 estimator.py:1111] Calling model_fn.\n"
     ]
    },
    {
     "ename": "RuntimeError",
     "evalue": "Missing implementation that supports: loader(*('/var/folders/fn/6m7f8mm57zv69xbwd8751w_r0000gn/T/tfhub_modules/5a395eafef2a37bd9fc55d7f6ae676d2a134a838',), **{})",
     "output_type": "error",
     "traceback": [
      "\u001b[0;31m---------------------------------------------------------------------------\u001b[0m",
      "\u001b[0;31mRuntimeError\u001b[0m                              Traceback (most recent call last)",
      "\u001b[0;32m<ipython-input-51-b56168fcd16c>\u001b[0m in \u001b[0;36m<module>\u001b[0;34m\u001b[0m\n\u001b[0;32m----> 1\u001b[0;31m \u001b[0mpreds\u001b[0m \u001b[0;34m=\u001b[0m \u001b[0mgetPrediction\u001b[0m\u001b[0;34m(\u001b[0m\u001b[0mpred_sentences\u001b[0m\u001b[0;34m,\u001b[0m\u001b[0;32mTrue\u001b[0m\u001b[0;34m)\u001b[0m\u001b[0;34m\u001b[0m\u001b[0;34m\u001b[0m\u001b[0m\n\u001b[0m",
      "\u001b[0;32m<ipython-input-21-a687b856fd3f>\u001b[0m in \u001b[0;36mgetPrediction\u001b[0;34m(in_sentences, verbose)\u001b[0m\n\u001b[1;32m      6\u001b[0m     \u001b[0mpredictions\u001b[0m \u001b[0;34m=\u001b[0m \u001b[0mestimator\u001b[0m\u001b[0;34m.\u001b[0m\u001b[0mpredict\u001b[0m\u001b[0;34m(\u001b[0m\u001b[0mpredict_input_fn\u001b[0m\u001b[0;34m)\u001b[0m\u001b[0;34m\u001b[0m\u001b[0;34m\u001b[0m\u001b[0m\n\u001b[1;32m      7\u001b[0m     \u001b[0;32mif\u001b[0m \u001b[0mverbose\u001b[0m\u001b[0;34m:\u001b[0m\u001b[0;34m\u001b[0m\u001b[0;34m\u001b[0m\u001b[0m\n\u001b[0;32m----> 8\u001b[0;31m         \u001b[0;32mreturn\u001b[0m \u001b[0;34m[\u001b[0m\u001b[0;34m(\u001b[0m\u001b[0msentence\u001b[0m\u001b[0;34m,\u001b[0m \u001b[0mprediction\u001b[0m\u001b[0;34m[\u001b[0m\u001b[0;34m'probabilities'\u001b[0m\u001b[0;34m]\u001b[0m\u001b[0;34m,\u001b[0m \u001b[0mlabels\u001b[0m\u001b[0;34m[\u001b[0m\u001b[0mprediction\u001b[0m\u001b[0;34m[\u001b[0m\u001b[0;34m'labels'\u001b[0m\u001b[0;34m]\u001b[0m\u001b[0;34m]\u001b[0m\u001b[0;34m)\u001b[0m \u001b[0;32mfor\u001b[0m \u001b[0msentence\u001b[0m\u001b[0;34m,\u001b[0m \u001b[0mprediction\u001b[0m \u001b[0;32min\u001b[0m \u001b[0mzip\u001b[0m\u001b[0;34m(\u001b[0m\u001b[0min_sentences\u001b[0m\u001b[0;34m,\u001b[0m \u001b[0mpredictions\u001b[0m\u001b[0;34m)\u001b[0m\u001b[0;34m]\u001b[0m\u001b[0;34m\u001b[0m\u001b[0;34m\u001b[0m\u001b[0m\n\u001b[0m\u001b[1;32m      9\u001b[0m     \u001b[0;32melse\u001b[0m\u001b[0;34m:\u001b[0m\u001b[0;34m\u001b[0m\u001b[0;34m\u001b[0m\u001b[0m\n\u001b[1;32m     10\u001b[0m         \u001b[0;32mreturn\u001b[0m \u001b[0;34m[\u001b[0m\u001b[0mprediction\u001b[0m\u001b[0;34m[\u001b[0m\u001b[0;34m'probabilities'\u001b[0m\u001b[0;34m]\u001b[0m \u001b[0;32mfor\u001b[0m \u001b[0msentence\u001b[0m\u001b[0;34m,\u001b[0m \u001b[0mprediction\u001b[0m \u001b[0;32min\u001b[0m \u001b[0mzip\u001b[0m\u001b[0;34m(\u001b[0m\u001b[0min_sentences\u001b[0m\u001b[0;34m,\u001b[0m \u001b[0mpredictions\u001b[0m\u001b[0;34m)\u001b[0m\u001b[0;34m]\u001b[0m\u001b[0;34m\u001b[0m\u001b[0;34m\u001b[0m\u001b[0m\n",
      "\u001b[0;32m<ipython-input-21-a687b856fd3f>\u001b[0m in \u001b[0;36m<listcomp>\u001b[0;34m(.0)\u001b[0m\n\u001b[1;32m      6\u001b[0m     \u001b[0mpredictions\u001b[0m \u001b[0;34m=\u001b[0m \u001b[0mestimator\u001b[0m\u001b[0;34m.\u001b[0m\u001b[0mpredict\u001b[0m\u001b[0;34m(\u001b[0m\u001b[0mpredict_input_fn\u001b[0m\u001b[0;34m)\u001b[0m\u001b[0;34m\u001b[0m\u001b[0;34m\u001b[0m\u001b[0m\n\u001b[1;32m      7\u001b[0m     \u001b[0;32mif\u001b[0m \u001b[0mverbose\u001b[0m\u001b[0;34m:\u001b[0m\u001b[0;34m\u001b[0m\u001b[0;34m\u001b[0m\u001b[0m\n\u001b[0;32m----> 8\u001b[0;31m         \u001b[0;32mreturn\u001b[0m \u001b[0;34m[\u001b[0m\u001b[0;34m(\u001b[0m\u001b[0msentence\u001b[0m\u001b[0;34m,\u001b[0m \u001b[0mprediction\u001b[0m\u001b[0;34m[\u001b[0m\u001b[0;34m'probabilities'\u001b[0m\u001b[0;34m]\u001b[0m\u001b[0;34m,\u001b[0m \u001b[0mlabels\u001b[0m\u001b[0;34m[\u001b[0m\u001b[0mprediction\u001b[0m\u001b[0;34m[\u001b[0m\u001b[0;34m'labels'\u001b[0m\u001b[0;34m]\u001b[0m\u001b[0;34m]\u001b[0m\u001b[0;34m)\u001b[0m \u001b[0;32mfor\u001b[0m \u001b[0msentence\u001b[0m\u001b[0;34m,\u001b[0m \u001b[0mprediction\u001b[0m \u001b[0;32min\u001b[0m \u001b[0mzip\u001b[0m\u001b[0;34m(\u001b[0m\u001b[0min_sentences\u001b[0m\u001b[0;34m,\u001b[0m \u001b[0mpredictions\u001b[0m\u001b[0;34m)\u001b[0m\u001b[0;34m]\u001b[0m\u001b[0;34m\u001b[0m\u001b[0;34m\u001b[0m\u001b[0m\n\u001b[0m\u001b[1;32m      9\u001b[0m     \u001b[0;32melse\u001b[0m\u001b[0;34m:\u001b[0m\u001b[0;34m\u001b[0m\u001b[0;34m\u001b[0m\u001b[0m\n\u001b[1;32m     10\u001b[0m         \u001b[0;32mreturn\u001b[0m \u001b[0;34m[\u001b[0m\u001b[0mprediction\u001b[0m\u001b[0;34m[\u001b[0m\u001b[0;34m'probabilities'\u001b[0m\u001b[0;34m]\u001b[0m \u001b[0;32mfor\u001b[0m \u001b[0msentence\u001b[0m\u001b[0;34m,\u001b[0m \u001b[0mprediction\u001b[0m \u001b[0;32min\u001b[0m \u001b[0mzip\u001b[0m\u001b[0;34m(\u001b[0m\u001b[0min_sentences\u001b[0m\u001b[0;34m,\u001b[0m \u001b[0mpredictions\u001b[0m\u001b[0;34m)\u001b[0m\u001b[0;34m]\u001b[0m\u001b[0;34m\u001b[0m\u001b[0;34m\u001b[0m\u001b[0m\n",
      "\u001b[0;32m/Library/Frameworks/Python.framework/Versions/3.7/lib/python3.7/site-packages/tensorflow_estimator/python/estimator/estimator.py\u001b[0m in \u001b[0;36mpredict\u001b[0;34m(self, input_fn, predict_keys, hooks, checkpoint_path, yield_single_examples)\u001b[0m\n\u001b[1;32m    609\u001b[0m             input_fn, model_fn_lib.ModeKeys.PREDICT)\n\u001b[1;32m    610\u001b[0m         estimator_spec = self._call_model_fn(\n\u001b[0;32m--> 611\u001b[0;31m             features, None, model_fn_lib.ModeKeys.PREDICT, self.config)\n\u001b[0m\u001b[1;32m    612\u001b[0m \u001b[0;34m\u001b[0m\u001b[0m\n\u001b[1;32m    613\u001b[0m         \u001b[0;31m# Call to warm_start has to be after model_fn is called.\u001b[0m\u001b[0;34m\u001b[0m\u001b[0;34m\u001b[0m\u001b[0;34m\u001b[0m\u001b[0m\n",
      "\u001b[0;32m/Library/Frameworks/Python.framework/Versions/3.7/lib/python3.7/site-packages/tensorflow_estimator/python/estimator/estimator.py\u001b[0m in \u001b[0;36m_call_model_fn\u001b[0;34m(self, features, labels, mode, config)\u001b[0m\n\u001b[1;32m   1110\u001b[0m \u001b[0;34m\u001b[0m\u001b[0m\n\u001b[1;32m   1111\u001b[0m     \u001b[0mlogging\u001b[0m\u001b[0;34m.\u001b[0m\u001b[0minfo\u001b[0m\u001b[0;34m(\u001b[0m\u001b[0;34m'Calling model_fn.'\u001b[0m\u001b[0;34m)\u001b[0m\u001b[0;34m\u001b[0m\u001b[0;34m\u001b[0m\u001b[0m\n\u001b[0;32m-> 1112\u001b[0;31m     \u001b[0mmodel_fn_results\u001b[0m \u001b[0;34m=\u001b[0m \u001b[0mself\u001b[0m\u001b[0;34m.\u001b[0m\u001b[0m_model_fn\u001b[0m\u001b[0;34m(\u001b[0m\u001b[0mfeatures\u001b[0m\u001b[0;34m=\u001b[0m\u001b[0mfeatures\u001b[0m\u001b[0;34m,\u001b[0m \u001b[0;34m**\u001b[0m\u001b[0mkwargs\u001b[0m\u001b[0;34m)\u001b[0m\u001b[0;34m\u001b[0m\u001b[0;34m\u001b[0m\u001b[0m\n\u001b[0m\u001b[1;32m   1113\u001b[0m     \u001b[0mlogging\u001b[0m\u001b[0;34m.\u001b[0m\u001b[0minfo\u001b[0m\u001b[0;34m(\u001b[0m\u001b[0;34m'Done calling model_fn.'\u001b[0m\u001b[0;34m)\u001b[0m\u001b[0;34m\u001b[0m\u001b[0;34m\u001b[0m\u001b[0m\n\u001b[1;32m   1114\u001b[0m \u001b[0;34m\u001b[0m\u001b[0m\n",
      "\u001b[0;32m<ipython-input-12-2023c49888e8>\u001b[0m in \u001b[0;36mmodel_fn\u001b[0;34m(features, labels, mode, params)\u001b[0m\n\u001b[1;32m     45\u001b[0m                     eval_metric_ops=eval_metrics)\n\u001b[1;32m     46\u001b[0m         \u001b[0;32melse\u001b[0m\u001b[0;34m:\u001b[0m\u001b[0;34m\u001b[0m\u001b[0;34m\u001b[0m\u001b[0m\n\u001b[0;32m---> 47\u001b[0;31m             \u001b[0;34m(\u001b[0m\u001b[0mpredicted_labels\u001b[0m\u001b[0;34m,\u001b[0m \u001b[0mlog_probs\u001b[0m\u001b[0;34m)\u001b[0m \u001b[0;34m=\u001b[0m \u001b[0mcreate_model\u001b[0m\u001b[0;34m(\u001b[0m\u001b[0mis_predicting\u001b[0m\u001b[0;34m,\u001b[0m \u001b[0minput_ids\u001b[0m\u001b[0;34m,\u001b[0m \u001b[0minput_mask\u001b[0m\u001b[0;34m,\u001b[0m \u001b[0msegment_ids\u001b[0m\u001b[0;34m,\u001b[0m \u001b[0mlabel_ids\u001b[0m\u001b[0;34m,\u001b[0m \u001b[0mnum_labels\u001b[0m\u001b[0;34m)\u001b[0m\u001b[0;34m\u001b[0m\u001b[0;34m\u001b[0m\u001b[0m\n\u001b[0m\u001b[1;32m     48\u001b[0m \u001b[0;34m\u001b[0m\u001b[0m\n\u001b[1;32m     49\u001b[0m             predictions = {'probabilities': log_probs,'labels': predicted_labels\n",
      "\u001b[0;32m<ipython-input-11-ec5589823d1a>\u001b[0m in \u001b[0;36mcreate_model\u001b[0;34m(is_predicting, input_ids, input_mask, segment_ids, labels, num_labels)\u001b[0m\n\u001b[1;32m      5\u001b[0m     bert_module = hub.Module(\n\u001b[1;32m      6\u001b[0m         \u001b[0mBERT_MODEL_HUB\u001b[0m\u001b[0;34m,\u001b[0m\u001b[0;34m\u001b[0m\u001b[0;34m\u001b[0m\u001b[0m\n\u001b[0;32m----> 7\u001b[0;31m         trainable=True)\n\u001b[0m\u001b[1;32m      8\u001b[0m     bert_inputs = dict(\n\u001b[1;32m      9\u001b[0m         \u001b[0minput_ids\u001b[0m\u001b[0;34m=\u001b[0m\u001b[0minput_ids\u001b[0m\u001b[0;34m,\u001b[0m\u001b[0;34m\u001b[0m\u001b[0;34m\u001b[0m\u001b[0m\n",
      "\u001b[0;32m/Library/Frameworks/Python.framework/Versions/3.7/lib/python3.7/site-packages/tensorflow_hub/module.py\u001b[0m in \u001b[0;36m__init__\u001b[0;34m(self, spec, trainable, name, tags)\u001b[0m\n\u001b[1;32m    145\u001b[0m     \"\"\"\n\u001b[1;32m    146\u001b[0m     \u001b[0mself\u001b[0m\u001b[0;34m.\u001b[0m\u001b[0m_graph\u001b[0m \u001b[0;34m=\u001b[0m \u001b[0mtf_v1\u001b[0m\u001b[0;34m.\u001b[0m\u001b[0mget_default_graph\u001b[0m\u001b[0;34m(\u001b[0m\u001b[0;34m)\u001b[0m\u001b[0;34m\u001b[0m\u001b[0;34m\u001b[0m\u001b[0m\n\u001b[0;32m--> 147\u001b[0;31m     \u001b[0mself\u001b[0m\u001b[0;34m.\u001b[0m\u001b[0m_spec\u001b[0m \u001b[0;34m=\u001b[0m \u001b[0mas_module_spec\u001b[0m\u001b[0;34m(\u001b[0m\u001b[0mspec\u001b[0m\u001b[0;34m)\u001b[0m\u001b[0;34m\u001b[0m\u001b[0;34m\u001b[0m\u001b[0m\n\u001b[0m\u001b[1;32m    148\u001b[0m     \u001b[0mself\u001b[0m\u001b[0;34m.\u001b[0m\u001b[0m_trainable\u001b[0m \u001b[0;34m=\u001b[0m \u001b[0mtrainable\u001b[0m\u001b[0;34m\u001b[0m\u001b[0;34m\u001b[0m\u001b[0m\n\u001b[1;32m    149\u001b[0m \u001b[0;34m\u001b[0m\u001b[0m\n",
      "\u001b[0;32m/Library/Frameworks/Python.framework/Versions/3.7/lib/python3.7/site-packages/tensorflow_hub/module.py\u001b[0m in \u001b[0;36mas_module_spec\u001b[0;34m(spec)\u001b[0m\n\u001b[1;32m     34\u001b[0m     \u001b[0;32mreturn\u001b[0m \u001b[0mspec\u001b[0m\u001b[0;34m\u001b[0m\u001b[0;34m\u001b[0m\u001b[0m\n\u001b[1;32m     35\u001b[0m   \u001b[0;32melif\u001b[0m \u001b[0misinstance\u001b[0m\u001b[0;34m(\u001b[0m\u001b[0mspec\u001b[0m\u001b[0;34m,\u001b[0m \u001b[0msix\u001b[0m\u001b[0;34m.\u001b[0m\u001b[0mstring_types\u001b[0m\u001b[0;34m)\u001b[0m\u001b[0;34m:\u001b[0m\u001b[0;34m\u001b[0m\u001b[0;34m\u001b[0m\u001b[0m\n\u001b[0;32m---> 36\u001b[0;31m     \u001b[0;32mreturn\u001b[0m \u001b[0mload_module_spec\u001b[0m\u001b[0;34m(\u001b[0m\u001b[0mspec\u001b[0m\u001b[0;34m)\u001b[0m\u001b[0;34m\u001b[0m\u001b[0;34m\u001b[0m\u001b[0m\n\u001b[0m\u001b[1;32m     37\u001b[0m   \u001b[0;32melse\u001b[0m\u001b[0;34m:\u001b[0m\u001b[0;34m\u001b[0m\u001b[0;34m\u001b[0m\u001b[0m\n\u001b[1;32m     38\u001b[0m     \u001b[0;32mraise\u001b[0m \u001b[0mValueError\u001b[0m\u001b[0;34m(\u001b[0m\u001b[0;34m\"Unknown module spec type: %r\"\u001b[0m \u001b[0;34m%\u001b[0m \u001b[0mtype\u001b[0m\u001b[0;34m(\u001b[0m\u001b[0mspec\u001b[0m\u001b[0;34m)\u001b[0m\u001b[0;34m)\u001b[0m\u001b[0;34m\u001b[0m\u001b[0;34m\u001b[0m\u001b[0m\n",
      "\u001b[0;32m/Library/Frameworks/Python.framework/Versions/3.7/lib/python3.7/site-packages/tensorflow_hub/module.py\u001b[0m in \u001b[0;36mload_module_spec\u001b[0;34m(path)\u001b[0m\n\u001b[1;32m     59\u001b[0m   \"\"\"\n\u001b[1;32m     60\u001b[0m   \u001b[0mpath\u001b[0m \u001b[0;34m=\u001b[0m \u001b[0mregistry\u001b[0m\u001b[0;34m.\u001b[0m\u001b[0mresolver\u001b[0m\u001b[0;34m(\u001b[0m\u001b[0mpath\u001b[0m\u001b[0;34m)\u001b[0m\u001b[0;34m\u001b[0m\u001b[0;34m\u001b[0m\u001b[0m\n\u001b[0;32m---> 61\u001b[0;31m   \u001b[0;32mreturn\u001b[0m \u001b[0mregistry\u001b[0m\u001b[0;34m.\u001b[0m\u001b[0mloader\u001b[0m\u001b[0;34m(\u001b[0m\u001b[0mpath\u001b[0m\u001b[0;34m)\u001b[0m\u001b[0;34m\u001b[0m\u001b[0;34m\u001b[0m\u001b[0m\n\u001b[0m\u001b[1;32m     62\u001b[0m \u001b[0;34m\u001b[0m\u001b[0m\n\u001b[1;32m     63\u001b[0m \u001b[0;34m\u001b[0m\u001b[0m\n",
      "\u001b[0;32m/Library/Frameworks/Python.framework/Versions/3.7/lib/python3.7/site-packages/tensorflow_hub/registry.py\u001b[0m in \u001b[0;36m__call__\u001b[0;34m(self, *args, **kwargs)\u001b[0m\n\u001b[1;32m     43\u001b[0m     raise RuntimeError(\n\u001b[1;32m     44\u001b[0m         \"Missing implementation that supports: %s(*%r, **%r)\" % (\n\u001b[0;32m---> 45\u001b[0;31m             self._name, args, kwargs))\n\u001b[0m\u001b[1;32m     46\u001b[0m \u001b[0;34m\u001b[0m\u001b[0m\n\u001b[1;32m     47\u001b[0m \u001b[0;34m\u001b[0m\u001b[0m\n",
      "\u001b[0;31mRuntimeError\u001b[0m: Missing implementation that supports: loader(*('/var/folders/fn/6m7f8mm57zv69xbwd8751w_r0000gn/T/tfhub_modules/5a395eafef2a37bd9fc55d7f6ae676d2a134a838',), **{})"
     ]
    }
   ],
   "source": [
    "preds = getPrediction(pred_sentences,True)"
   ]
  },
  {
   "cell_type": "code",
   "execution_count": 49,
   "metadata": {},
   "outputs": [
    {
     "data": {
      "text/plain": [
       "[(['That movie was absolutely awful', 'The acting was a bit lacking'],\n",
       "  array([-1.3564274 , -2.333234  , -0.45688406, -4.4075212 ], dtype=float32),\n",
       "  'sad'),\n",
       " (['The film was creative and surprising', 'Absolutely fantastic!'],\n",
       "  array([-4.5314517 , -0.01164143, -8.093053  , -7.594468  ], dtype=float32),\n",
       "  'happy')]"
      ]
     },
     "execution_count": 49,
     "metadata": {},
     "output_type": "execute_result"
    }
   ],
   "source": [
    "preds"
   ]
  },
  {
   "cell_type": "code",
   "execution_count": 25,
   "metadata": {},
   "outputs": [
    {
     "name": "stdout",
     "output_type": "stream",
     "text": [
      "INFO:tensorflow:Writing example 0 of 2755\n"
     ]
    },
    {
     "name": "stderr",
     "output_type": "stream",
     "text": [
      "I0606 20:24:12.500034 4619879872 run_classifier.py:774] Writing example 0 of 2755\n"
     ]
    },
    {
     "name": "stdout",
     "output_type": "stream",
     "text": [
      "INFO:tensorflow:*** Example ***\n"
     ]
    },
    {
     "name": "stderr",
     "output_type": "stream",
     "text": [
      "I0606 20:24:12.502298 4619879872 run_classifier.py:461] *** Example ***\n"
     ]
    },
    {
     "name": "stdout",
     "output_type": "stream",
     "text": [
      "INFO:tensorflow:guid: \n"
     ]
    },
    {
     "name": "stderr",
     "output_type": "stream",
     "text": [
      "I0606 20:24:12.505142 4619879872 run_classifier.py:462] guid: \n"
     ]
    },
    {
     "name": "stdout",
     "output_type": "stream",
     "text": [
      "INFO:tensorflow:tokens: [CLS] then don ##t ask me < e ##os > your ##e a guy not as if you would understand [SEP] im not a guy fuck off [SEP]\n"
     ]
    },
    {
     "name": "stderr",
     "output_type": "stream",
     "text": [
      "I0606 20:24:12.506640 4619879872 run_classifier.py:464] tokens: [CLS] then don ##t ask me < e ##os > your ##e a guy not as if you would understand [SEP] im not a guy fuck off [SEP]\n"
     ]
    },
    {
     "name": "stdout",
     "output_type": "stream",
     "text": [
      "INFO:tensorflow:input_ids: 101 2059 2123 2102 3198 2033 1026 1041 2891 1028 2115 2063 1037 3124 2025 2004 2065 2017 2052 3305 102 10047 2025 1037 3124 6616 2125 102 0 0 0 0 0 0 0 0 0 0 0 0 0 0 0 0 0 0 0 0 0 0 0 0 0 0 0 0 0 0 0 0 0 0 0 0 0 0 0 0 0 0 0 0 0 0 0 0 0 0 0 0 0 0 0 0 0 0 0 0 0 0 0 0 0 0 0 0 0 0 0 0 0 0 0 0 0 0 0 0 0 0 0 0 0 0 0 0 0 0 0 0 0 0 0 0 0 0 0 0\n"
     ]
    },
    {
     "name": "stderr",
     "output_type": "stream",
     "text": [
      "I0606 20:24:12.507862 4619879872 run_classifier.py:465] input_ids: 101 2059 2123 2102 3198 2033 1026 1041 2891 1028 2115 2063 1037 3124 2025 2004 2065 2017 2052 3305 102 10047 2025 1037 3124 6616 2125 102 0 0 0 0 0 0 0 0 0 0 0 0 0 0 0 0 0 0 0 0 0 0 0 0 0 0 0 0 0 0 0 0 0 0 0 0 0 0 0 0 0 0 0 0 0 0 0 0 0 0 0 0 0 0 0 0 0 0 0 0 0 0 0 0 0 0 0 0 0 0 0 0 0 0 0 0 0 0 0 0 0 0 0 0 0 0 0 0 0 0 0 0 0 0 0 0 0 0 0 0\n"
     ]
    },
    {
     "name": "stdout",
     "output_type": "stream",
     "text": [
      "INFO:tensorflow:input_mask: 1 1 1 1 1 1 1 1 1 1 1 1 1 1 1 1 1 1 1 1 1 1 1 1 1 1 1 1 0 0 0 0 0 0 0 0 0 0 0 0 0 0 0 0 0 0 0 0 0 0 0 0 0 0 0 0 0 0 0 0 0 0 0 0 0 0 0 0 0 0 0 0 0 0 0 0 0 0 0 0 0 0 0 0 0 0 0 0 0 0 0 0 0 0 0 0 0 0 0 0 0 0 0 0 0 0 0 0 0 0 0 0 0 0 0 0 0 0 0 0 0 0 0 0 0 0 0 0\n"
     ]
    },
    {
     "name": "stderr",
     "output_type": "stream",
     "text": [
      "I0606 20:24:12.509701 4619879872 run_classifier.py:466] input_mask: 1 1 1 1 1 1 1 1 1 1 1 1 1 1 1 1 1 1 1 1 1 1 1 1 1 1 1 1 0 0 0 0 0 0 0 0 0 0 0 0 0 0 0 0 0 0 0 0 0 0 0 0 0 0 0 0 0 0 0 0 0 0 0 0 0 0 0 0 0 0 0 0 0 0 0 0 0 0 0 0 0 0 0 0 0 0 0 0 0 0 0 0 0 0 0 0 0 0 0 0 0 0 0 0 0 0 0 0 0 0 0 0 0 0 0 0 0 0 0 0 0 0 0 0 0 0 0 0\n"
     ]
    },
    {
     "name": "stdout",
     "output_type": "stream",
     "text": [
      "INFO:tensorflow:segment_ids: 0 0 0 0 0 0 0 0 0 0 0 0 0 0 0 0 0 0 0 0 0 1 1 1 1 1 1 1 0 0 0 0 0 0 0 0 0 0 0 0 0 0 0 0 0 0 0 0 0 0 0 0 0 0 0 0 0 0 0 0 0 0 0 0 0 0 0 0 0 0 0 0 0 0 0 0 0 0 0 0 0 0 0 0 0 0 0 0 0 0 0 0 0 0 0 0 0 0 0 0 0 0 0 0 0 0 0 0 0 0 0 0 0 0 0 0 0 0 0 0 0 0 0 0 0 0 0 0\n"
     ]
    },
    {
     "name": "stderr",
     "output_type": "stream",
     "text": [
      "I0606 20:24:12.511281 4619879872 run_classifier.py:467] segment_ids: 0 0 0 0 0 0 0 0 0 0 0 0 0 0 0 0 0 0 0 0 0 1 1 1 1 1 1 1 0 0 0 0 0 0 0 0 0 0 0 0 0 0 0 0 0 0 0 0 0 0 0 0 0 0 0 0 0 0 0 0 0 0 0 0 0 0 0 0 0 0 0 0 0 0 0 0 0 0 0 0 0 0 0 0 0 0 0 0 0 0 0 0 0 0 0 0 0 0 0 0 0 0 0 0 0 0 0 0 0 0 0 0 0 0 0 0 0 0 0 0 0 0 0 0 0 0 0 0\n"
     ]
    },
    {
     "name": "stdout",
     "output_type": "stream",
     "text": [
      "INFO:tensorflow:label: 0 (id = 0)\n"
     ]
    },
    {
     "name": "stderr",
     "output_type": "stream",
     "text": [
      "I0606 20:24:12.512913 4619879872 run_classifier.py:468] label: 0 (id = 0)\n"
     ]
    },
    {
     "name": "stdout",
     "output_type": "stream",
     "text": [
      "INFO:tensorflow:*** Example ***\n"
     ]
    },
    {
     "name": "stderr",
     "output_type": "stream",
     "text": [
      "I0606 20:24:12.515270 4619879872 run_classifier.py:461] *** Example ***\n"
     ]
    },
    {
     "name": "stdout",
     "output_type": "stream",
     "text": [
      "INFO:tensorflow:guid: \n"
     ]
    },
    {
     "name": "stderr",
     "output_type": "stream",
     "text": [
      "I0606 20:24:12.516466 4619879872 run_classifier.py:462] guid: \n"
     ]
    },
    {
     "name": "stdout",
     "output_type": "stream",
     "text": [
      "INFO:tensorflow:tokens: [CLS] mixed things such as ? ? < e ##os > the things you do . [SEP] have you seen minions ? ? [SEP]\n"
     ]
    },
    {
     "name": "stderr",
     "output_type": "stream",
     "text": [
      "I0606 20:24:12.517863 4619879872 run_classifier.py:464] tokens: [CLS] mixed things such as ? ? < e ##os > the things you do . [SEP] have you seen minions ? ? [SEP]\n"
     ]
    },
    {
     "name": "stdout",
     "output_type": "stream",
     "text": [
      "INFO:tensorflow:input_ids: 101 3816 2477 2107 2004 1029 1029 1026 1041 2891 1028 1996 2477 2017 2079 1012 102 2031 2017 2464 28071 1029 1029 102 0 0 0 0 0 0 0 0 0 0 0 0 0 0 0 0 0 0 0 0 0 0 0 0 0 0 0 0 0 0 0 0 0 0 0 0 0 0 0 0 0 0 0 0 0 0 0 0 0 0 0 0 0 0 0 0 0 0 0 0 0 0 0 0 0 0 0 0 0 0 0 0 0 0 0 0 0 0 0 0 0 0 0 0 0 0 0 0 0 0 0 0 0 0 0 0 0 0 0 0 0 0 0 0\n"
     ]
    },
    {
     "name": "stderr",
     "output_type": "stream",
     "text": [
      "I0606 20:24:12.519232 4619879872 run_classifier.py:465] input_ids: 101 3816 2477 2107 2004 1029 1029 1026 1041 2891 1028 1996 2477 2017 2079 1012 102 2031 2017 2464 28071 1029 1029 102 0 0 0 0 0 0 0 0 0 0 0 0 0 0 0 0 0 0 0 0 0 0 0 0 0 0 0 0 0 0 0 0 0 0 0 0 0 0 0 0 0 0 0 0 0 0 0 0 0 0 0 0 0 0 0 0 0 0 0 0 0 0 0 0 0 0 0 0 0 0 0 0 0 0 0 0 0 0 0 0 0 0 0 0 0 0 0 0 0 0 0 0 0 0 0 0 0 0 0 0 0 0 0 0\n"
     ]
    },
    {
     "name": "stdout",
     "output_type": "stream",
     "text": [
      "INFO:tensorflow:input_mask: 1 1 1 1 1 1 1 1 1 1 1 1 1 1 1 1 1 1 1 1 1 1 1 1 0 0 0 0 0 0 0 0 0 0 0 0 0 0 0 0 0 0 0 0 0 0 0 0 0 0 0 0 0 0 0 0 0 0 0 0 0 0 0 0 0 0 0 0 0 0 0 0 0 0 0 0 0 0 0 0 0 0 0 0 0 0 0 0 0 0 0 0 0 0 0 0 0 0 0 0 0 0 0 0 0 0 0 0 0 0 0 0 0 0 0 0 0 0 0 0 0 0 0 0 0 0 0 0\n"
     ]
    },
    {
     "name": "stderr",
     "output_type": "stream",
     "text": [
      "I0606 20:24:12.520395 4619879872 run_classifier.py:466] input_mask: 1 1 1 1 1 1 1 1 1 1 1 1 1 1 1 1 1 1 1 1 1 1 1 1 0 0 0 0 0 0 0 0 0 0 0 0 0 0 0 0 0 0 0 0 0 0 0 0 0 0 0 0 0 0 0 0 0 0 0 0 0 0 0 0 0 0 0 0 0 0 0 0 0 0 0 0 0 0 0 0 0 0 0 0 0 0 0 0 0 0 0 0 0 0 0 0 0 0 0 0 0 0 0 0 0 0 0 0 0 0 0 0 0 0 0 0 0 0 0 0 0 0 0 0 0 0 0 0\n"
     ]
    },
    {
     "name": "stdout",
     "output_type": "stream",
     "text": [
      "INFO:tensorflow:segment_ids: 0 0 0 0 0 0 0 0 0 0 0 0 0 0 0 0 0 1 1 1 1 1 1 1 0 0 0 0 0 0 0 0 0 0 0 0 0 0 0 0 0 0 0 0 0 0 0 0 0 0 0 0 0 0 0 0 0 0 0 0 0 0 0 0 0 0 0 0 0 0 0 0 0 0 0 0 0 0 0 0 0 0 0 0 0 0 0 0 0 0 0 0 0 0 0 0 0 0 0 0 0 0 0 0 0 0 0 0 0 0 0 0 0 0 0 0 0 0 0 0 0 0 0 0 0 0 0 0\n"
     ]
    },
    {
     "name": "stderr",
     "output_type": "stream",
     "text": [
      "I0606 20:24:12.521890 4619879872 run_classifier.py:467] segment_ids: 0 0 0 0 0 0 0 0 0 0 0 0 0 0 0 0 0 1 1 1 1 1 1 1 0 0 0 0 0 0 0 0 0 0 0 0 0 0 0 0 0 0 0 0 0 0 0 0 0 0 0 0 0 0 0 0 0 0 0 0 0 0 0 0 0 0 0 0 0 0 0 0 0 0 0 0 0 0 0 0 0 0 0 0 0 0 0 0 0 0 0 0 0 0 0 0 0 0 0 0 0 0 0 0 0 0 0 0 0 0 0 0 0 0 0 0 0 0 0 0 0 0 0 0 0 0 0 0\n"
     ]
    },
    {
     "name": "stdout",
     "output_type": "stream",
     "text": [
      "INFO:tensorflow:label: 0 (id = 0)\n"
     ]
    },
    {
     "name": "stderr",
     "output_type": "stream",
     "text": [
      "I0606 20:24:12.523301 4619879872 run_classifier.py:468] label: 0 (id = 0)\n"
     ]
    },
    {
     "name": "stdout",
     "output_type": "stream",
     "text": [
      "INFO:tensorflow:*** Example ***\n"
     ]
    },
    {
     "name": "stderr",
     "output_type": "stream",
     "text": [
      "I0606 20:24:12.524985 4619879872 run_classifier.py:461] *** Example ***\n"
     ]
    },
    {
     "name": "stdout",
     "output_type": "stream",
     "text": [
      "INFO:tensorflow:guid: \n"
     ]
    },
    {
     "name": "stderr",
     "output_type": "stream",
     "text": [
      "I0606 20:24:12.526231 4619879872 run_classifier.py:462] guid: \n"
     ]
    },
    {
     "name": "stdout",
     "output_type": "stream",
     "text": [
      "INFO:tensorflow:tokens: [CLS] today i ' m very happy < e ##os > and i ' m happy for you [UNK] [SEP] i will be marry [SEP]\n"
     ]
    },
    {
     "name": "stderr",
     "output_type": "stream",
     "text": [
      "I0606 20:24:12.527825 4619879872 run_classifier.py:464] tokens: [CLS] today i ' m very happy < e ##os > and i ' m happy for you [UNK] [SEP] i will be marry [SEP]\n"
     ]
    },
    {
     "name": "stdout",
     "output_type": "stream",
     "text": [
      "INFO:tensorflow:input_ids: 101 2651 1045 1005 1049 2200 3407 1026 1041 2891 1028 1998 1045 1005 1049 3407 2005 2017 100 102 1045 2097 2022 5914 102 0 0 0 0 0 0 0 0 0 0 0 0 0 0 0 0 0 0 0 0 0 0 0 0 0 0 0 0 0 0 0 0 0 0 0 0 0 0 0 0 0 0 0 0 0 0 0 0 0 0 0 0 0 0 0 0 0 0 0 0 0 0 0 0 0 0 0 0 0 0 0 0 0 0 0 0 0 0 0 0 0 0 0 0 0 0 0 0 0 0 0 0 0 0 0 0 0 0 0 0 0 0 0\n"
     ]
    },
    {
     "name": "stderr",
     "output_type": "stream",
     "text": [
      "I0606 20:24:12.529393 4619879872 run_classifier.py:465] input_ids: 101 2651 1045 1005 1049 2200 3407 1026 1041 2891 1028 1998 1045 1005 1049 3407 2005 2017 100 102 1045 2097 2022 5914 102 0 0 0 0 0 0 0 0 0 0 0 0 0 0 0 0 0 0 0 0 0 0 0 0 0 0 0 0 0 0 0 0 0 0 0 0 0 0 0 0 0 0 0 0 0 0 0 0 0 0 0 0 0 0 0 0 0 0 0 0 0 0 0 0 0 0 0 0 0 0 0 0 0 0 0 0 0 0 0 0 0 0 0 0 0 0 0 0 0 0 0 0 0 0 0 0 0 0 0 0 0 0 0\n"
     ]
    },
    {
     "name": "stdout",
     "output_type": "stream",
     "text": [
      "INFO:tensorflow:input_mask: 1 1 1 1 1 1 1 1 1 1 1 1 1 1 1 1 1 1 1 1 1 1 1 1 1 0 0 0 0 0 0 0 0 0 0 0 0 0 0 0 0 0 0 0 0 0 0 0 0 0 0 0 0 0 0 0 0 0 0 0 0 0 0 0 0 0 0 0 0 0 0 0 0 0 0 0 0 0 0 0 0 0 0 0 0 0 0 0 0 0 0 0 0 0 0 0 0 0 0 0 0 0 0 0 0 0 0 0 0 0 0 0 0 0 0 0 0 0 0 0 0 0 0 0 0 0 0 0\n"
     ]
    },
    {
     "name": "stderr",
     "output_type": "stream",
     "text": [
      "I0606 20:24:12.530755 4619879872 run_classifier.py:466] input_mask: 1 1 1 1 1 1 1 1 1 1 1 1 1 1 1 1 1 1 1 1 1 1 1 1 1 0 0 0 0 0 0 0 0 0 0 0 0 0 0 0 0 0 0 0 0 0 0 0 0 0 0 0 0 0 0 0 0 0 0 0 0 0 0 0 0 0 0 0 0 0 0 0 0 0 0 0 0 0 0 0 0 0 0 0 0 0 0 0 0 0 0 0 0 0 0 0 0 0 0 0 0 0 0 0 0 0 0 0 0 0 0 0 0 0 0 0 0 0 0 0 0 0 0 0 0 0 0 0\n"
     ]
    },
    {
     "name": "stdout",
     "output_type": "stream",
     "text": [
      "INFO:tensorflow:segment_ids: 0 0 0 0 0 0 0 0 0 0 0 0 0 0 0 0 0 0 0 0 1 1 1 1 1 0 0 0 0 0 0 0 0 0 0 0 0 0 0 0 0 0 0 0 0 0 0 0 0 0 0 0 0 0 0 0 0 0 0 0 0 0 0 0 0 0 0 0 0 0 0 0 0 0 0 0 0 0 0 0 0 0 0 0 0 0 0 0 0 0 0 0 0 0 0 0 0 0 0 0 0 0 0 0 0 0 0 0 0 0 0 0 0 0 0 0 0 0 0 0 0 0 0 0 0 0 0 0\n"
     ]
    },
    {
     "name": "stderr",
     "output_type": "stream",
     "text": [
      "I0606 20:24:12.531823 4619879872 run_classifier.py:467] segment_ids: 0 0 0 0 0 0 0 0 0 0 0 0 0 0 0 0 0 0 0 0 1 1 1 1 1 0 0 0 0 0 0 0 0 0 0 0 0 0 0 0 0 0 0 0 0 0 0 0 0 0 0 0 0 0 0 0 0 0 0 0 0 0 0 0 0 0 0 0 0 0 0 0 0 0 0 0 0 0 0 0 0 0 0 0 0 0 0 0 0 0 0 0 0 0 0 0 0 0 0 0 0 0 0 0 0 0 0 0 0 0 0 0 0 0 0 0 0 0 0 0 0 0 0 0 0 0 0 0\n"
     ]
    },
    {
     "name": "stdout",
     "output_type": "stream",
     "text": [
      "INFO:tensorflow:label: 0 (id = 0)\n"
     ]
    },
    {
     "name": "stderr",
     "output_type": "stream",
     "text": [
      "I0606 20:24:12.533107 4619879872 run_classifier.py:468] label: 0 (id = 0)\n"
     ]
    },
    {
     "name": "stdout",
     "output_type": "stream",
     "text": [
      "INFO:tensorflow:*** Example ***\n"
     ]
    },
    {
     "name": "stderr",
     "output_type": "stream",
     "text": [
      "I0606 20:24:12.534584 4619879872 run_classifier.py:461] *** Example ***\n"
     ]
    },
    {
     "name": "stdout",
     "output_type": "stream",
     "text": [
      "INFO:tensorflow:guid: \n"
     ]
    },
    {
     "name": "stderr",
     "output_type": "stream",
     "text": [
      "I0606 20:24:12.536725 4619879872 run_classifier.py:462] guid: \n"
     ]
    },
    {
     "name": "stdout",
     "output_type": "stream",
     "text": [
      "INFO:tensorflow:tokens: [CLS] wo ##ah bring me some < e ##os > left it there o ##ops [SEP] br ##b [SEP]\n"
     ]
    },
    {
     "name": "stderr",
     "output_type": "stream",
     "text": [
      "I0606 20:24:12.540255 4619879872 run_classifier.py:464] tokens: [CLS] wo ##ah bring me some < e ##os > left it there o ##ops [SEP] br ##b [SEP]\n"
     ]
    },
    {
     "name": "stdout",
     "output_type": "stream",
     "text": [
      "INFO:tensorflow:input_ids: 101 24185 4430 3288 2033 2070 1026 1041 2891 1028 2187 2009 2045 1051 11923 102 7987 2497 102 0 0 0 0 0 0 0 0 0 0 0 0 0 0 0 0 0 0 0 0 0 0 0 0 0 0 0 0 0 0 0 0 0 0 0 0 0 0 0 0 0 0 0 0 0 0 0 0 0 0 0 0 0 0 0 0 0 0 0 0 0 0 0 0 0 0 0 0 0 0 0 0 0 0 0 0 0 0 0 0 0 0 0 0 0 0 0 0 0 0 0 0 0 0 0 0 0 0 0 0 0 0 0 0 0 0 0 0 0\n"
     ]
    },
    {
     "name": "stderr",
     "output_type": "stream",
     "text": [
      "I0606 20:24:12.545997 4619879872 run_classifier.py:465] input_ids: 101 24185 4430 3288 2033 2070 1026 1041 2891 1028 2187 2009 2045 1051 11923 102 7987 2497 102 0 0 0 0 0 0 0 0 0 0 0 0 0 0 0 0 0 0 0 0 0 0 0 0 0 0 0 0 0 0 0 0 0 0 0 0 0 0 0 0 0 0 0 0 0 0 0 0 0 0 0 0 0 0 0 0 0 0 0 0 0 0 0 0 0 0 0 0 0 0 0 0 0 0 0 0 0 0 0 0 0 0 0 0 0 0 0 0 0 0 0 0 0 0 0 0 0 0 0 0 0 0 0 0 0 0 0 0 0\n"
     ]
    },
    {
     "name": "stdout",
     "output_type": "stream",
     "text": [
      "INFO:tensorflow:input_mask: 1 1 1 1 1 1 1 1 1 1 1 1 1 1 1 1 1 1 1 0 0 0 0 0 0 0 0 0 0 0 0 0 0 0 0 0 0 0 0 0 0 0 0 0 0 0 0 0 0 0 0 0 0 0 0 0 0 0 0 0 0 0 0 0 0 0 0 0 0 0 0 0 0 0 0 0 0 0 0 0 0 0 0 0 0 0 0 0 0 0 0 0 0 0 0 0 0 0 0 0 0 0 0 0 0 0 0 0 0 0 0 0 0 0 0 0 0 0 0 0 0 0 0 0 0 0 0 0\n"
     ]
    },
    {
     "name": "stderr",
     "output_type": "stream",
     "text": [
      "I0606 20:24:12.551512 4619879872 run_classifier.py:466] input_mask: 1 1 1 1 1 1 1 1 1 1 1 1 1 1 1 1 1 1 1 0 0 0 0 0 0 0 0 0 0 0 0 0 0 0 0 0 0 0 0 0 0 0 0 0 0 0 0 0 0 0 0 0 0 0 0 0 0 0 0 0 0 0 0 0 0 0 0 0 0 0 0 0 0 0 0 0 0 0 0 0 0 0 0 0 0 0 0 0 0 0 0 0 0 0 0 0 0 0 0 0 0 0 0 0 0 0 0 0 0 0 0 0 0 0 0 0 0 0 0 0 0 0 0 0 0 0 0 0\n"
     ]
    },
    {
     "name": "stdout",
     "output_type": "stream",
     "text": [
      "INFO:tensorflow:segment_ids: 0 0 0 0 0 0 0 0 0 0 0 0 0 0 0 0 1 1 1 0 0 0 0 0 0 0 0 0 0 0 0 0 0 0 0 0 0 0 0 0 0 0 0 0 0 0 0 0 0 0 0 0 0 0 0 0 0 0 0 0 0 0 0 0 0 0 0 0 0 0 0 0 0 0 0 0 0 0 0 0 0 0 0 0 0 0 0 0 0 0 0 0 0 0 0 0 0 0 0 0 0 0 0 0 0 0 0 0 0 0 0 0 0 0 0 0 0 0 0 0 0 0 0 0 0 0 0 0\n"
     ]
    },
    {
     "name": "stderr",
     "output_type": "stream",
     "text": [
      "I0606 20:24:12.554614 4619879872 run_classifier.py:467] segment_ids: 0 0 0 0 0 0 0 0 0 0 0 0 0 0 0 0 1 1 1 0 0 0 0 0 0 0 0 0 0 0 0 0 0 0 0 0 0 0 0 0 0 0 0 0 0 0 0 0 0 0 0 0 0 0 0 0 0 0 0 0 0 0 0 0 0 0 0 0 0 0 0 0 0 0 0 0 0 0 0 0 0 0 0 0 0 0 0 0 0 0 0 0 0 0 0 0 0 0 0 0 0 0 0 0 0 0 0 0 0 0 0 0 0 0 0 0 0 0 0 0 0 0 0 0 0 0 0 0\n"
     ]
    },
    {
     "name": "stdout",
     "output_type": "stream",
     "text": [
      "INFO:tensorflow:label: 0 (id = 0)\n"
     ]
    },
    {
     "name": "stderr",
     "output_type": "stream",
     "text": [
      "I0606 20:24:12.556340 4619879872 run_classifier.py:468] label: 0 (id = 0)\n"
     ]
    },
    {
     "name": "stdout",
     "output_type": "stream",
     "text": [
      "INFO:tensorflow:*** Example ***\n"
     ]
    },
    {
     "name": "stderr",
     "output_type": "stream",
     "text": [
      "I0606 20:24:12.558300 4619879872 run_classifier.py:461] *** Example ***\n"
     ]
    },
    {
     "name": "stdout",
     "output_type": "stream",
     "text": [
      "INFO:tensorflow:guid: \n"
     ]
    },
    {
     "name": "stderr",
     "output_type": "stream",
     "text": [
      "I0606 20:24:12.560050 4619879872 run_classifier.py:462] guid: \n"
     ]
    },
    {
     "name": "stdout",
     "output_type": "stream",
     "text": [
      "INFO:tensorflow:tokens: [CLS] it is tho ##oo ##oo < e ##os > i said soon master . [SEP] he is press ##uring me [SEP]\n"
     ]
    },
    {
     "name": "stderr",
     "output_type": "stream",
     "text": [
      "I0606 20:24:12.561718 4619879872 run_classifier.py:464] tokens: [CLS] it is tho ##oo ##oo < e ##os > i said soon master . [SEP] he is press ##uring me [SEP]\n"
     ]
    },
    {
     "name": "stdout",
     "output_type": "stream",
     "text": [
      "INFO:tensorflow:input_ids: 101 2009 2003 27793 9541 9541 1026 1041 2891 1028 1045 2056 2574 3040 1012 102 2002 2003 2811 12228 2033 102 0 0 0 0 0 0 0 0 0 0 0 0 0 0 0 0 0 0 0 0 0 0 0 0 0 0 0 0 0 0 0 0 0 0 0 0 0 0 0 0 0 0 0 0 0 0 0 0 0 0 0 0 0 0 0 0 0 0 0 0 0 0 0 0 0 0 0 0 0 0 0 0 0 0 0 0 0 0 0 0 0 0 0 0 0 0 0 0 0 0 0 0 0 0 0 0 0 0 0 0 0 0 0 0 0 0\n"
     ]
    },
    {
     "name": "stderr",
     "output_type": "stream",
     "text": [
      "I0606 20:24:12.571414 4619879872 run_classifier.py:465] input_ids: 101 2009 2003 27793 9541 9541 1026 1041 2891 1028 1045 2056 2574 3040 1012 102 2002 2003 2811 12228 2033 102 0 0 0 0 0 0 0 0 0 0 0 0 0 0 0 0 0 0 0 0 0 0 0 0 0 0 0 0 0 0 0 0 0 0 0 0 0 0 0 0 0 0 0 0 0 0 0 0 0 0 0 0 0 0 0 0 0 0 0 0 0 0 0 0 0 0 0 0 0 0 0 0 0 0 0 0 0 0 0 0 0 0 0 0 0 0 0 0 0 0 0 0 0 0 0 0 0 0 0 0 0 0 0 0 0 0\n"
     ]
    },
    {
     "name": "stdout",
     "output_type": "stream",
     "text": [
      "INFO:tensorflow:input_mask: 1 1 1 1 1 1 1 1 1 1 1 1 1 1 1 1 1 1 1 1 1 1 0 0 0 0 0 0 0 0 0 0 0 0 0 0 0 0 0 0 0 0 0 0 0 0 0 0 0 0 0 0 0 0 0 0 0 0 0 0 0 0 0 0 0 0 0 0 0 0 0 0 0 0 0 0 0 0 0 0 0 0 0 0 0 0 0 0 0 0 0 0 0 0 0 0 0 0 0 0 0 0 0 0 0 0 0 0 0 0 0 0 0 0 0 0 0 0 0 0 0 0 0 0 0 0 0 0\n"
     ]
    },
    {
     "name": "stderr",
     "output_type": "stream",
     "text": [
      "I0606 20:24:12.574302 4619879872 run_classifier.py:466] input_mask: 1 1 1 1 1 1 1 1 1 1 1 1 1 1 1 1 1 1 1 1 1 1 0 0 0 0 0 0 0 0 0 0 0 0 0 0 0 0 0 0 0 0 0 0 0 0 0 0 0 0 0 0 0 0 0 0 0 0 0 0 0 0 0 0 0 0 0 0 0 0 0 0 0 0 0 0 0 0 0 0 0 0 0 0 0 0 0 0 0 0 0 0 0 0 0 0 0 0 0 0 0 0 0 0 0 0 0 0 0 0 0 0 0 0 0 0 0 0 0 0 0 0 0 0 0 0 0 0\n"
     ]
    },
    {
     "name": "stdout",
     "output_type": "stream",
     "text": [
      "INFO:tensorflow:segment_ids: 0 0 0 0 0 0 0 0 0 0 0 0 0 0 0 0 1 1 1 1 1 1 0 0 0 0 0 0 0 0 0 0 0 0 0 0 0 0 0 0 0 0 0 0 0 0 0 0 0 0 0 0 0 0 0 0 0 0 0 0 0 0 0 0 0 0 0 0 0 0 0 0 0 0 0 0 0 0 0 0 0 0 0 0 0 0 0 0 0 0 0 0 0 0 0 0 0 0 0 0 0 0 0 0 0 0 0 0 0 0 0 0 0 0 0 0 0 0 0 0 0 0 0 0 0 0 0 0\n"
     ]
    },
    {
     "name": "stderr",
     "output_type": "stream",
     "text": [
      "I0606 20:24:12.576174 4619879872 run_classifier.py:467] segment_ids: 0 0 0 0 0 0 0 0 0 0 0 0 0 0 0 0 1 1 1 1 1 1 0 0 0 0 0 0 0 0 0 0 0 0 0 0 0 0 0 0 0 0 0 0 0 0 0 0 0 0 0 0 0 0 0 0 0 0 0 0 0 0 0 0 0 0 0 0 0 0 0 0 0 0 0 0 0 0 0 0 0 0 0 0 0 0 0 0 0 0 0 0 0 0 0 0 0 0 0 0 0 0 0 0 0 0 0 0 0 0 0 0 0 0 0 0 0 0 0 0 0 0 0 0 0 0 0 0\n"
     ]
    },
    {
     "name": "stdout",
     "output_type": "stream",
     "text": [
      "INFO:tensorflow:label: 0 (id = 0)\n"
     ]
    },
    {
     "name": "stderr",
     "output_type": "stream",
     "text": [
      "I0606 20:24:12.577474 4619879872 run_classifier.py:468] label: 0 (id = 0)\n"
     ]
    },
    {
     "name": "stdout",
     "output_type": "stream",
     "text": [
      "INFO:tensorflow:Calling model_fn.\n"
     ]
    },
    {
     "name": "stderr",
     "output_type": "stream",
     "text": [
      "I0606 20:24:15.132812 4619879872 estimator.py:1111] Calling model_fn.\n"
     ]
    },
    {
     "name": "stdout",
     "output_type": "stream",
     "text": [
      "INFO:tensorflow:Saver not created because there are no variables in the graph to restore\n"
     ]
    },
    {
     "name": "stderr",
     "output_type": "stream",
     "text": [
      "I0606 20:24:18.671514 4619879872 saver.py:1483] Saver not created because there are no variables in the graph to restore\n"
     ]
    },
    {
     "name": "stdout",
     "output_type": "stream",
     "text": [
      "INFO:tensorflow:Done calling model_fn.\n"
     ]
    },
    {
     "name": "stderr",
     "output_type": "stream",
     "text": [
      "I0606 20:24:18.881355 4619879872 estimator.py:1113] Done calling model_fn.\n"
     ]
    },
    {
     "name": "stdout",
     "output_type": "stream",
     "text": [
      "INFO:tensorflow:Graph was finalized.\n"
     ]
    },
    {
     "name": "stderr",
     "output_type": "stream",
     "text": [
      "I0606 20:24:19.432363 4619879872 monitored_session.py:222] Graph was finalized.\n"
     ]
    },
    {
     "name": "stdout",
     "output_type": "stream",
     "text": [
      "INFO:tensorflow:Restoring parameters from /Users/nathanieljoselson/Documents/Projects/masters/natemusMasters/bert_F1_69/model.ckpt-3085\n"
     ]
    },
    {
     "name": "stderr",
     "output_type": "stream",
     "text": [
      "I0606 20:24:19.435536 4619879872 saver.py:1270] Restoring parameters from /Users/nathanieljoselson/Documents/Projects/masters/natemusMasters/bert_F1_69/model.ckpt-3085\n"
     ]
    },
    {
     "name": "stdout",
     "output_type": "stream",
     "text": [
      "INFO:tensorflow:Running local_init_op.\n"
     ]
    },
    {
     "name": "stderr",
     "output_type": "stream",
     "text": [
      "I0606 20:24:20.353754 4619879872 session_manager.py:491] Running local_init_op.\n"
     ]
    },
    {
     "name": "stdout",
     "output_type": "stream",
     "text": [
      "INFO:tensorflow:Done running local_init_op.\n"
     ]
    },
    {
     "name": "stderr",
     "output_type": "stream",
     "text": [
      "I0606 20:24:20.482856 4619879872 session_manager.py:493] Done running local_init_op.\n"
     ]
    },
    {
     "name": "stdout",
     "output_type": "stream",
     "text": [
      "INFO:tensorflow:Writing example 0 of 5509\n"
     ]
    },
    {
     "name": "stderr",
     "output_type": "stream",
     "text": [
      "I0606 20:40:51.765856 4619879872 run_classifier.py:774] Writing example 0 of 5509\n"
     ]
    },
    {
     "name": "stdout",
     "output_type": "stream",
     "text": [
      "INFO:tensorflow:*** Example ***\n"
     ]
    },
    {
     "name": "stderr",
     "output_type": "stream",
     "text": [
      "I0606 20:40:51.767553 4619879872 run_classifier.py:461] *** Example ***\n"
     ]
    },
    {
     "name": "stdout",
     "output_type": "stream",
     "text": [
      "INFO:tensorflow:guid: \n"
     ]
    },
    {
     "name": "stderr",
     "output_type": "stream",
     "text": [
      "I0606 20:40:51.769568 4619879872 run_classifier.py:462] guid: \n"
     ]
    },
    {
     "name": "stdout",
     "output_type": "stream",
     "text": [
      "INFO:tensorflow:tokens: [CLS] hmm < e ##os > what does your bio mean ? [SEP] i don ’ t have any bio [SEP]\n"
     ]
    },
    {
     "name": "stderr",
     "output_type": "stream",
     "text": [
      "I0606 20:40:51.775315 4619879872 run_classifier.py:464] tokens: [CLS] hmm < e ##os > what does your bio mean ? [SEP] i don ’ t have any bio [SEP]\n"
     ]
    },
    {
     "name": "stdout",
     "output_type": "stream",
     "text": [
      "INFO:tensorflow:input_ids: 101 17012 1026 1041 2891 1028 2054 2515 2115 16012 2812 1029 102 1045 2123 1521 1056 2031 2151 16012 102 0 0 0 0 0 0 0 0 0 0 0 0 0 0 0 0 0 0 0 0 0 0 0 0 0 0 0 0 0 0 0 0 0 0 0 0 0 0 0 0 0 0 0 0 0 0 0 0 0 0 0 0 0 0 0 0 0 0 0 0 0 0 0 0 0 0 0 0 0 0 0 0 0 0 0 0 0 0 0 0 0 0 0 0 0 0 0 0 0 0 0 0 0 0 0 0 0 0 0 0 0 0 0 0 0 0 0\n"
     ]
    },
    {
     "name": "stderr",
     "output_type": "stream",
     "text": [
      "I0606 20:40:51.777294 4619879872 run_classifier.py:465] input_ids: 101 17012 1026 1041 2891 1028 2054 2515 2115 16012 2812 1029 102 1045 2123 1521 1056 2031 2151 16012 102 0 0 0 0 0 0 0 0 0 0 0 0 0 0 0 0 0 0 0 0 0 0 0 0 0 0 0 0 0 0 0 0 0 0 0 0 0 0 0 0 0 0 0 0 0 0 0 0 0 0 0 0 0 0 0 0 0 0 0 0 0 0 0 0 0 0 0 0 0 0 0 0 0 0 0 0 0 0 0 0 0 0 0 0 0 0 0 0 0 0 0 0 0 0 0 0 0 0 0 0 0 0 0 0 0 0 0\n"
     ]
    },
    {
     "name": "stdout",
     "output_type": "stream",
     "text": [
      "INFO:tensorflow:input_mask: 1 1 1 1 1 1 1 1 1 1 1 1 1 1 1 1 1 1 1 1 1 0 0 0 0 0 0 0 0 0 0 0 0 0 0 0 0 0 0 0 0 0 0 0 0 0 0 0 0 0 0 0 0 0 0 0 0 0 0 0 0 0 0 0 0 0 0 0 0 0 0 0 0 0 0 0 0 0 0 0 0 0 0 0 0 0 0 0 0 0 0 0 0 0 0 0 0 0 0 0 0 0 0 0 0 0 0 0 0 0 0 0 0 0 0 0 0 0 0 0 0 0 0 0 0 0 0 0\n"
     ]
    },
    {
     "name": "stderr",
     "output_type": "stream",
     "text": [
      "I0606 20:40:51.779376 4619879872 run_classifier.py:466] input_mask: 1 1 1 1 1 1 1 1 1 1 1 1 1 1 1 1 1 1 1 1 1 0 0 0 0 0 0 0 0 0 0 0 0 0 0 0 0 0 0 0 0 0 0 0 0 0 0 0 0 0 0 0 0 0 0 0 0 0 0 0 0 0 0 0 0 0 0 0 0 0 0 0 0 0 0 0 0 0 0 0 0 0 0 0 0 0 0 0 0 0 0 0 0 0 0 0 0 0 0 0 0 0 0 0 0 0 0 0 0 0 0 0 0 0 0 0 0 0 0 0 0 0 0 0 0 0 0 0\n"
     ]
    },
    {
     "name": "stdout",
     "output_type": "stream",
     "text": [
      "INFO:tensorflow:segment_ids: 0 0 0 0 0 0 0 0 0 0 0 0 0 1 1 1 1 1 1 1 1 0 0 0 0 0 0 0 0 0 0 0 0 0 0 0 0 0 0 0 0 0 0 0 0 0 0 0 0 0 0 0 0 0 0 0 0 0 0 0 0 0 0 0 0 0 0 0 0 0 0 0 0 0 0 0 0 0 0 0 0 0 0 0 0 0 0 0 0 0 0 0 0 0 0 0 0 0 0 0 0 0 0 0 0 0 0 0 0 0 0 0 0 0 0 0 0 0 0 0 0 0 0 0 0 0 0 0\n"
     ]
    },
    {
     "name": "stderr",
     "output_type": "stream",
     "text": [
      "I0606 20:40:51.781457 4619879872 run_classifier.py:467] segment_ids: 0 0 0 0 0 0 0 0 0 0 0 0 0 1 1 1 1 1 1 1 1 0 0 0 0 0 0 0 0 0 0 0 0 0 0 0 0 0 0 0 0 0 0 0 0 0 0 0 0 0 0 0 0 0 0 0 0 0 0 0 0 0 0 0 0 0 0 0 0 0 0 0 0 0 0 0 0 0 0 0 0 0 0 0 0 0 0 0 0 0 0 0 0 0 0 0 0 0 0 0 0 0 0 0 0 0 0 0 0 0 0 0 0 0 0 0 0 0 0 0 0 0 0 0 0 0 0 0\n"
     ]
    },
    {
     "name": "stdout",
     "output_type": "stream",
     "text": [
      "INFO:tensorflow:label: 0 (id = 0)\n"
     ]
    },
    {
     "name": "stderr",
     "output_type": "stream",
     "text": [
      "I0606 20:40:51.784180 4619879872 run_classifier.py:468] label: 0 (id = 0)\n"
     ]
    },
    {
     "name": "stdout",
     "output_type": "stream",
     "text": [
      "INFO:tensorflow:*** Example ***\n"
     ]
    },
    {
     "name": "stderr",
     "output_type": "stream",
     "text": [
      "I0606 20:40:51.790605 4619879872 run_classifier.py:461] *** Example ***\n"
     ]
    },
    {
     "name": "stdout",
     "output_type": "stream",
     "text": [
      "INFO:tensorflow:guid: \n"
     ]
    },
    {
     "name": "stderr",
     "output_type": "stream",
     "text": [
      "I0606 20:40:51.792184 4619879872 run_classifier.py:462] guid: \n"
     ]
    },
    {
     "name": "stdout",
     "output_type": "stream",
     "text": [
      "INFO:tensorflow:tokens: [CLS] what you like < e ##os > very little things [SEP] ok [SEP]\n"
     ]
    },
    {
     "name": "stderr",
     "output_type": "stream",
     "text": [
      "I0606 20:40:51.794039 4619879872 run_classifier.py:464] tokens: [CLS] what you like < e ##os > very little things [SEP] ok [SEP]\n"
     ]
    },
    {
     "name": "stdout",
     "output_type": "stream",
     "text": [
      "INFO:tensorflow:input_ids: 101 2054 2017 2066 1026 1041 2891 1028 2200 2210 2477 102 7929 102 0 0 0 0 0 0 0 0 0 0 0 0 0 0 0 0 0 0 0 0 0 0 0 0 0 0 0 0 0 0 0 0 0 0 0 0 0 0 0 0 0 0 0 0 0 0 0 0 0 0 0 0 0 0 0 0 0 0 0 0 0 0 0 0 0 0 0 0 0 0 0 0 0 0 0 0 0 0 0 0 0 0 0 0 0 0 0 0 0 0 0 0 0 0 0 0 0 0 0 0 0 0 0 0 0 0 0 0 0 0 0 0 0 0\n"
     ]
    },
    {
     "name": "stderr",
     "output_type": "stream",
     "text": [
      "I0606 20:40:51.795532 4619879872 run_classifier.py:465] input_ids: 101 2054 2017 2066 1026 1041 2891 1028 2200 2210 2477 102 7929 102 0 0 0 0 0 0 0 0 0 0 0 0 0 0 0 0 0 0 0 0 0 0 0 0 0 0 0 0 0 0 0 0 0 0 0 0 0 0 0 0 0 0 0 0 0 0 0 0 0 0 0 0 0 0 0 0 0 0 0 0 0 0 0 0 0 0 0 0 0 0 0 0 0 0 0 0 0 0 0 0 0 0 0 0 0 0 0 0 0 0 0 0 0 0 0 0 0 0 0 0 0 0 0 0 0 0 0 0 0 0 0 0 0 0\n"
     ]
    },
    {
     "name": "stdout",
     "output_type": "stream",
     "text": [
      "INFO:tensorflow:input_mask: 1 1 1 1 1 1 1 1 1 1 1 1 1 1 0 0 0 0 0 0 0 0 0 0 0 0 0 0 0 0 0 0 0 0 0 0 0 0 0 0 0 0 0 0 0 0 0 0 0 0 0 0 0 0 0 0 0 0 0 0 0 0 0 0 0 0 0 0 0 0 0 0 0 0 0 0 0 0 0 0 0 0 0 0 0 0 0 0 0 0 0 0 0 0 0 0 0 0 0 0 0 0 0 0 0 0 0 0 0 0 0 0 0 0 0 0 0 0 0 0 0 0 0 0 0 0 0 0\n"
     ]
    },
    {
     "name": "stderr",
     "output_type": "stream",
     "text": [
      "I0606 20:40:51.798182 4619879872 run_classifier.py:466] input_mask: 1 1 1 1 1 1 1 1 1 1 1 1 1 1 0 0 0 0 0 0 0 0 0 0 0 0 0 0 0 0 0 0 0 0 0 0 0 0 0 0 0 0 0 0 0 0 0 0 0 0 0 0 0 0 0 0 0 0 0 0 0 0 0 0 0 0 0 0 0 0 0 0 0 0 0 0 0 0 0 0 0 0 0 0 0 0 0 0 0 0 0 0 0 0 0 0 0 0 0 0 0 0 0 0 0 0 0 0 0 0 0 0 0 0 0 0 0 0 0 0 0 0 0 0 0 0 0 0\n"
     ]
    },
    {
     "name": "stdout",
     "output_type": "stream",
     "text": [
      "INFO:tensorflow:segment_ids: 0 0 0 0 0 0 0 0 0 0 0 0 1 1 0 0 0 0 0 0 0 0 0 0 0 0 0 0 0 0 0 0 0 0 0 0 0 0 0 0 0 0 0 0 0 0 0 0 0 0 0 0 0 0 0 0 0 0 0 0 0 0 0 0 0 0 0 0 0 0 0 0 0 0 0 0 0 0 0 0 0 0 0 0 0 0 0 0 0 0 0 0 0 0 0 0 0 0 0 0 0 0 0 0 0 0 0 0 0 0 0 0 0 0 0 0 0 0 0 0 0 0 0 0 0 0 0 0\n"
     ]
    },
    {
     "name": "stderr",
     "output_type": "stream",
     "text": [
      "I0606 20:40:51.805853 4619879872 run_classifier.py:467] segment_ids: 0 0 0 0 0 0 0 0 0 0 0 0 1 1 0 0 0 0 0 0 0 0 0 0 0 0 0 0 0 0 0 0 0 0 0 0 0 0 0 0 0 0 0 0 0 0 0 0 0 0 0 0 0 0 0 0 0 0 0 0 0 0 0 0 0 0 0 0 0 0 0 0 0 0 0 0 0 0 0 0 0 0 0 0 0 0 0 0 0 0 0 0 0 0 0 0 0 0 0 0 0 0 0 0 0 0 0 0 0 0 0 0 0 0 0 0 0 0 0 0 0 0 0 0 0 0 0 0\n"
     ]
    },
    {
     "name": "stdout",
     "output_type": "stream",
     "text": [
      "INFO:tensorflow:label: 0 (id = 0)\n"
     ]
    },
    {
     "name": "stderr",
     "output_type": "stream",
     "text": [
      "I0606 20:40:51.812131 4619879872 run_classifier.py:468] label: 0 (id = 0)\n"
     ]
    },
    {
     "name": "stdout",
     "output_type": "stream",
     "text": [
      "INFO:tensorflow:*** Example ***\n"
     ]
    },
    {
     "name": "stderr",
     "output_type": "stream",
     "text": [
      "I0606 20:40:51.816228 4619879872 run_classifier.py:461] *** Example ***\n"
     ]
    },
    {
     "name": "stdout",
     "output_type": "stream",
     "text": [
      "INFO:tensorflow:guid: \n"
     ]
    },
    {
     "name": "stderr",
     "output_type": "stream",
     "text": [
      "I0606 20:40:51.819850 4619879872 run_classifier.py:462] guid: \n"
     ]
    },
    {
     "name": "stdout",
     "output_type": "stream",
     "text": [
      "INFO:tensorflow:tokens: [CLS] yes < e ##os > how so ? [SEP] i want to fuck babu [SEP]\n"
     ]
    },
    {
     "name": "stderr",
     "output_type": "stream",
     "text": [
      "I0606 20:40:51.826406 4619879872 run_classifier.py:464] tokens: [CLS] yes < e ##os > how so ? [SEP] i want to fuck babu [SEP]\n"
     ]
    },
    {
     "name": "stdout",
     "output_type": "stream",
     "text": [
      "INFO:tensorflow:input_ids: 101 2748 1026 1041 2891 1028 2129 2061 1029 102 1045 2215 2000 6616 20948 102 0 0 0 0 0 0 0 0 0 0 0 0 0 0 0 0 0 0 0 0 0 0 0 0 0 0 0 0 0 0 0 0 0 0 0 0 0 0 0 0 0 0 0 0 0 0 0 0 0 0 0 0 0 0 0 0 0 0 0 0 0 0 0 0 0 0 0 0 0 0 0 0 0 0 0 0 0 0 0 0 0 0 0 0 0 0 0 0 0 0 0 0 0 0 0 0 0 0 0 0 0 0 0 0 0 0 0 0 0 0 0 0\n"
     ]
    },
    {
     "name": "stderr",
     "output_type": "stream",
     "text": [
      "I0606 20:40:51.828087 4619879872 run_classifier.py:465] input_ids: 101 2748 1026 1041 2891 1028 2129 2061 1029 102 1045 2215 2000 6616 20948 102 0 0 0 0 0 0 0 0 0 0 0 0 0 0 0 0 0 0 0 0 0 0 0 0 0 0 0 0 0 0 0 0 0 0 0 0 0 0 0 0 0 0 0 0 0 0 0 0 0 0 0 0 0 0 0 0 0 0 0 0 0 0 0 0 0 0 0 0 0 0 0 0 0 0 0 0 0 0 0 0 0 0 0 0 0 0 0 0 0 0 0 0 0 0 0 0 0 0 0 0 0 0 0 0 0 0 0 0 0 0 0 0\n"
     ]
    },
    {
     "name": "stdout",
     "output_type": "stream",
     "text": [
      "INFO:tensorflow:input_mask: 1 1 1 1 1 1 1 1 1 1 1 1 1 1 1 1 0 0 0 0 0 0 0 0 0 0 0 0 0 0 0 0 0 0 0 0 0 0 0 0 0 0 0 0 0 0 0 0 0 0 0 0 0 0 0 0 0 0 0 0 0 0 0 0 0 0 0 0 0 0 0 0 0 0 0 0 0 0 0 0 0 0 0 0 0 0 0 0 0 0 0 0 0 0 0 0 0 0 0 0 0 0 0 0 0 0 0 0 0 0 0 0 0 0 0 0 0 0 0 0 0 0 0 0 0 0 0 0\n"
     ]
    },
    {
     "name": "stderr",
     "output_type": "stream",
     "text": [
      "I0606 20:40:51.830569 4619879872 run_classifier.py:466] input_mask: 1 1 1 1 1 1 1 1 1 1 1 1 1 1 1 1 0 0 0 0 0 0 0 0 0 0 0 0 0 0 0 0 0 0 0 0 0 0 0 0 0 0 0 0 0 0 0 0 0 0 0 0 0 0 0 0 0 0 0 0 0 0 0 0 0 0 0 0 0 0 0 0 0 0 0 0 0 0 0 0 0 0 0 0 0 0 0 0 0 0 0 0 0 0 0 0 0 0 0 0 0 0 0 0 0 0 0 0 0 0 0 0 0 0 0 0 0 0 0 0 0 0 0 0 0 0 0 0\n"
     ]
    },
    {
     "name": "stdout",
     "output_type": "stream",
     "text": [
      "INFO:tensorflow:segment_ids: 0 0 0 0 0 0 0 0 0 0 1 1 1 1 1 1 0 0 0 0 0 0 0 0 0 0 0 0 0 0 0 0 0 0 0 0 0 0 0 0 0 0 0 0 0 0 0 0 0 0 0 0 0 0 0 0 0 0 0 0 0 0 0 0 0 0 0 0 0 0 0 0 0 0 0 0 0 0 0 0 0 0 0 0 0 0 0 0 0 0 0 0 0 0 0 0 0 0 0 0 0 0 0 0 0 0 0 0 0 0 0 0 0 0 0 0 0 0 0 0 0 0 0 0 0 0 0 0\n"
     ]
    },
    {
     "name": "stderr",
     "output_type": "stream",
     "text": [
      "I0606 20:40:51.832841 4619879872 run_classifier.py:467] segment_ids: 0 0 0 0 0 0 0 0 0 0 1 1 1 1 1 1 0 0 0 0 0 0 0 0 0 0 0 0 0 0 0 0 0 0 0 0 0 0 0 0 0 0 0 0 0 0 0 0 0 0 0 0 0 0 0 0 0 0 0 0 0 0 0 0 0 0 0 0 0 0 0 0 0 0 0 0 0 0 0 0 0 0 0 0 0 0 0 0 0 0 0 0 0 0 0 0 0 0 0 0 0 0 0 0 0 0 0 0 0 0 0 0 0 0 0 0 0 0 0 0 0 0 0 0 0 0 0 0\n"
     ]
    },
    {
     "name": "stdout",
     "output_type": "stream",
     "text": [
      "INFO:tensorflow:label: 0 (id = 0)\n"
     ]
    },
    {
     "name": "stderr",
     "output_type": "stream",
     "text": [
      "I0606 20:40:51.840013 4619879872 run_classifier.py:468] label: 0 (id = 0)\n"
     ]
    },
    {
     "name": "stdout",
     "output_type": "stream",
     "text": [
      "INFO:tensorflow:*** Example ***\n"
     ]
    },
    {
     "name": "stderr",
     "output_type": "stream",
     "text": [
      "I0606 20:40:51.843599 4619879872 run_classifier.py:461] *** Example ***\n"
     ]
    },
    {
     "name": "stdout",
     "output_type": "stream",
     "text": [
      "INFO:tensorflow:guid: \n"
     ]
    },
    {
     "name": "stderr",
     "output_type": "stream",
     "text": [
      "I0606 20:40:51.844900 4619879872 run_classifier.py:462] guid: \n"
     ]
    },
    {
     "name": "stdout",
     "output_type": "stream",
     "text": [
      "INFO:tensorflow:tokens: [CLS] what did you guess < e ##os > what what [SEP] fuck [SEP]\n"
     ]
    },
    {
     "name": "stderr",
     "output_type": "stream",
     "text": [
      "I0606 20:40:51.847168 4619879872 run_classifier.py:464] tokens: [CLS] what did you guess < e ##os > what what [SEP] fuck [SEP]\n"
     ]
    },
    {
     "name": "stdout",
     "output_type": "stream",
     "text": [
      "INFO:tensorflow:input_ids: 101 2054 2106 2017 3984 1026 1041 2891 1028 2054 2054 102 6616 102 0 0 0 0 0 0 0 0 0 0 0 0 0 0 0 0 0 0 0 0 0 0 0 0 0 0 0 0 0 0 0 0 0 0 0 0 0 0 0 0 0 0 0 0 0 0 0 0 0 0 0 0 0 0 0 0 0 0 0 0 0 0 0 0 0 0 0 0 0 0 0 0 0 0 0 0 0 0 0 0 0 0 0 0 0 0 0 0 0 0 0 0 0 0 0 0 0 0 0 0 0 0 0 0 0 0 0 0 0 0 0 0 0 0\n"
     ]
    },
    {
     "name": "stderr",
     "output_type": "stream",
     "text": [
      "I0606 20:40:51.849678 4619879872 run_classifier.py:465] input_ids: 101 2054 2106 2017 3984 1026 1041 2891 1028 2054 2054 102 6616 102 0 0 0 0 0 0 0 0 0 0 0 0 0 0 0 0 0 0 0 0 0 0 0 0 0 0 0 0 0 0 0 0 0 0 0 0 0 0 0 0 0 0 0 0 0 0 0 0 0 0 0 0 0 0 0 0 0 0 0 0 0 0 0 0 0 0 0 0 0 0 0 0 0 0 0 0 0 0 0 0 0 0 0 0 0 0 0 0 0 0 0 0 0 0 0 0 0 0 0 0 0 0 0 0 0 0 0 0 0 0 0 0 0 0\n"
     ]
    },
    {
     "name": "stdout",
     "output_type": "stream",
     "text": [
      "INFO:tensorflow:input_mask: 1 1 1 1 1 1 1 1 1 1 1 1 1 1 0 0 0 0 0 0 0 0 0 0 0 0 0 0 0 0 0 0 0 0 0 0 0 0 0 0 0 0 0 0 0 0 0 0 0 0 0 0 0 0 0 0 0 0 0 0 0 0 0 0 0 0 0 0 0 0 0 0 0 0 0 0 0 0 0 0 0 0 0 0 0 0 0 0 0 0 0 0 0 0 0 0 0 0 0 0 0 0 0 0 0 0 0 0 0 0 0 0 0 0 0 0 0 0 0 0 0 0 0 0 0 0 0 0\n"
     ]
    },
    {
     "name": "stderr",
     "output_type": "stream",
     "text": [
      "I0606 20:40:51.858106 4619879872 run_classifier.py:466] input_mask: 1 1 1 1 1 1 1 1 1 1 1 1 1 1 0 0 0 0 0 0 0 0 0 0 0 0 0 0 0 0 0 0 0 0 0 0 0 0 0 0 0 0 0 0 0 0 0 0 0 0 0 0 0 0 0 0 0 0 0 0 0 0 0 0 0 0 0 0 0 0 0 0 0 0 0 0 0 0 0 0 0 0 0 0 0 0 0 0 0 0 0 0 0 0 0 0 0 0 0 0 0 0 0 0 0 0 0 0 0 0 0 0 0 0 0 0 0 0 0 0 0 0 0 0 0 0 0 0\n"
     ]
    },
    {
     "name": "stdout",
     "output_type": "stream",
     "text": [
      "INFO:tensorflow:segment_ids: 0 0 0 0 0 0 0 0 0 0 0 0 1 1 0 0 0 0 0 0 0 0 0 0 0 0 0 0 0 0 0 0 0 0 0 0 0 0 0 0 0 0 0 0 0 0 0 0 0 0 0 0 0 0 0 0 0 0 0 0 0 0 0 0 0 0 0 0 0 0 0 0 0 0 0 0 0 0 0 0 0 0 0 0 0 0 0 0 0 0 0 0 0 0 0 0 0 0 0 0 0 0 0 0 0 0 0 0 0 0 0 0 0 0 0 0 0 0 0 0 0 0 0 0 0 0 0 0\n"
     ]
    },
    {
     "name": "stderr",
     "output_type": "stream",
     "text": [
      "I0606 20:40:51.861210 4619879872 run_classifier.py:467] segment_ids: 0 0 0 0 0 0 0 0 0 0 0 0 1 1 0 0 0 0 0 0 0 0 0 0 0 0 0 0 0 0 0 0 0 0 0 0 0 0 0 0 0 0 0 0 0 0 0 0 0 0 0 0 0 0 0 0 0 0 0 0 0 0 0 0 0 0 0 0 0 0 0 0 0 0 0 0 0 0 0 0 0 0 0 0 0 0 0 0 0 0 0 0 0 0 0 0 0 0 0 0 0 0 0 0 0 0 0 0 0 0 0 0 0 0 0 0 0 0 0 0 0 0 0 0 0 0 0 0\n"
     ]
    },
    {
     "name": "stdout",
     "output_type": "stream",
     "text": [
      "INFO:tensorflow:label: 0 (id = 0)\n"
     ]
    },
    {
     "name": "stderr",
     "output_type": "stream",
     "text": [
      "I0606 20:40:51.864753 4619879872 run_classifier.py:468] label: 0 (id = 0)\n"
     ]
    },
    {
     "name": "stdout",
     "output_type": "stream",
     "text": [
      "INFO:tensorflow:*** Example ***\n"
     ]
    },
    {
     "name": "stderr",
     "output_type": "stream",
     "text": [
      "I0606 20:40:51.871232 4619879872 run_classifier.py:461] *** Example ***\n"
     ]
    },
    {
     "name": "stdout",
     "output_type": "stream",
     "text": [
      "INFO:tensorflow:guid: \n"
     ]
    },
    {
     "name": "stderr",
     "output_type": "stream",
     "text": [
      "I0606 20:40:51.874714 4619879872 run_classifier.py:462] guid: \n"
     ]
    },
    {
     "name": "stdout",
     "output_type": "stream",
     "text": [
      "INFO:tensorflow:tokens: [CLS] we ? < e ##os > of course we will ! [SEP] what gender movies you like ? ? [SEP]\n"
     ]
    },
    {
     "name": "stderr",
     "output_type": "stream",
     "text": [
      "I0606 20:40:51.875975 4619879872 run_classifier.py:464] tokens: [CLS] we ? < e ##os > of course we will ! [SEP] what gender movies you like ? ? [SEP]\n"
     ]
    },
    {
     "name": "stdout",
     "output_type": "stream",
     "text": [
      "INFO:tensorflow:input_ids: 101 2057 1029 1026 1041 2891 1028 1997 2607 2057 2097 999 102 2054 5907 5691 2017 2066 1029 1029 102 0 0 0 0 0 0 0 0 0 0 0 0 0 0 0 0 0 0 0 0 0 0 0 0 0 0 0 0 0 0 0 0 0 0 0 0 0 0 0 0 0 0 0 0 0 0 0 0 0 0 0 0 0 0 0 0 0 0 0 0 0 0 0 0 0 0 0 0 0 0 0 0 0 0 0 0 0 0 0 0 0 0 0 0 0 0 0 0 0 0 0 0 0 0 0 0 0 0 0 0 0 0 0 0 0 0 0\n"
     ]
    },
    {
     "name": "stderr",
     "output_type": "stream",
     "text": [
      "I0606 20:40:51.877699 4619879872 run_classifier.py:465] input_ids: 101 2057 1029 1026 1041 2891 1028 1997 2607 2057 2097 999 102 2054 5907 5691 2017 2066 1029 1029 102 0 0 0 0 0 0 0 0 0 0 0 0 0 0 0 0 0 0 0 0 0 0 0 0 0 0 0 0 0 0 0 0 0 0 0 0 0 0 0 0 0 0 0 0 0 0 0 0 0 0 0 0 0 0 0 0 0 0 0 0 0 0 0 0 0 0 0 0 0 0 0 0 0 0 0 0 0 0 0 0 0 0 0 0 0 0 0 0 0 0 0 0 0 0 0 0 0 0 0 0 0 0 0 0 0 0 0\n"
     ]
    },
    {
     "name": "stdout",
     "output_type": "stream",
     "text": [
      "INFO:tensorflow:input_mask: 1 1 1 1 1 1 1 1 1 1 1 1 1 1 1 1 1 1 1 1 1 0 0 0 0 0 0 0 0 0 0 0 0 0 0 0 0 0 0 0 0 0 0 0 0 0 0 0 0 0 0 0 0 0 0 0 0 0 0 0 0 0 0 0 0 0 0 0 0 0 0 0 0 0 0 0 0 0 0 0 0 0 0 0 0 0 0 0 0 0 0 0 0 0 0 0 0 0 0 0 0 0 0 0 0 0 0 0 0 0 0 0 0 0 0 0 0 0 0 0 0 0 0 0 0 0 0 0\n"
     ]
    },
    {
     "name": "stderr",
     "output_type": "stream",
     "text": [
      "I0606 20:40:51.879266 4619879872 run_classifier.py:466] input_mask: 1 1 1 1 1 1 1 1 1 1 1 1 1 1 1 1 1 1 1 1 1 0 0 0 0 0 0 0 0 0 0 0 0 0 0 0 0 0 0 0 0 0 0 0 0 0 0 0 0 0 0 0 0 0 0 0 0 0 0 0 0 0 0 0 0 0 0 0 0 0 0 0 0 0 0 0 0 0 0 0 0 0 0 0 0 0 0 0 0 0 0 0 0 0 0 0 0 0 0 0 0 0 0 0 0 0 0 0 0 0 0 0 0 0 0 0 0 0 0 0 0 0 0 0 0 0 0 0\n"
     ]
    },
    {
     "name": "stdout",
     "output_type": "stream",
     "text": [
      "INFO:tensorflow:segment_ids: 0 0 0 0 0 0 0 0 0 0 0 0 0 1 1 1 1 1 1 1 1 0 0 0 0 0 0 0 0 0 0 0 0 0 0 0 0 0 0 0 0 0 0 0 0 0 0 0 0 0 0 0 0 0 0 0 0 0 0 0 0 0 0 0 0 0 0 0 0 0 0 0 0 0 0 0 0 0 0 0 0 0 0 0 0 0 0 0 0 0 0 0 0 0 0 0 0 0 0 0 0 0 0 0 0 0 0 0 0 0 0 0 0 0 0 0 0 0 0 0 0 0 0 0 0 0 0 0\n"
     ]
    },
    {
     "name": "stderr",
     "output_type": "stream",
     "text": [
      "I0606 20:40:51.882147 4619879872 run_classifier.py:467] segment_ids: 0 0 0 0 0 0 0 0 0 0 0 0 0 1 1 1 1 1 1 1 1 0 0 0 0 0 0 0 0 0 0 0 0 0 0 0 0 0 0 0 0 0 0 0 0 0 0 0 0 0 0 0 0 0 0 0 0 0 0 0 0 0 0 0 0 0 0 0 0 0 0 0 0 0 0 0 0 0 0 0 0 0 0 0 0 0 0 0 0 0 0 0 0 0 0 0 0 0 0 0 0 0 0 0 0 0 0 0 0 0 0 0 0 0 0 0 0 0 0 0 0 0 0 0 0 0 0 0\n"
     ]
    },
    {
     "name": "stdout",
     "output_type": "stream",
     "text": [
      "INFO:tensorflow:label: 0 (id = 0)\n"
     ]
    },
    {
     "name": "stderr",
     "output_type": "stream",
     "text": [
      "I0606 20:40:51.884496 4619879872 run_classifier.py:468] label: 0 (id = 0)\n"
     ]
    },
    {
     "name": "stdout",
     "output_type": "stream",
     "text": [
      "INFO:tensorflow:Calling model_fn.\n"
     ]
    },
    {
     "name": "stderr",
     "output_type": "stream",
     "text": [
      "I0606 20:40:57.465675 4619879872 estimator.py:1111] Calling model_fn.\n"
     ]
    },
    {
     "name": "stdout",
     "output_type": "stream",
     "text": [
      "INFO:tensorflow:Saver not created because there are no variables in the graph to restore\n"
     ]
    },
    {
     "name": "stderr",
     "output_type": "stream",
     "text": [
      "I0606 20:41:04.144112 4619879872 saver.py:1483] Saver not created because there are no variables in the graph to restore\n"
     ]
    },
    {
     "name": "stdout",
     "output_type": "stream",
     "text": [
      "INFO:tensorflow:Done calling model_fn.\n"
     ]
    },
    {
     "name": "stderr",
     "output_type": "stream",
     "text": [
      "I0606 20:41:04.616571 4619879872 estimator.py:1113] Done calling model_fn.\n"
     ]
    },
    {
     "name": "stdout",
     "output_type": "stream",
     "text": [
      "INFO:tensorflow:Graph was finalized.\n"
     ]
    },
    {
     "name": "stderr",
     "output_type": "stream",
     "text": [
      "I0606 20:41:05.234484 4619879872 monitored_session.py:222] Graph was finalized.\n"
     ]
    },
    {
     "name": "stdout",
     "output_type": "stream",
     "text": [
      "INFO:tensorflow:Restoring parameters from /Users/nathanieljoselson/Documents/Projects/masters/natemusMasters/bert_F1_69/model.ckpt-3085\n"
     ]
    },
    {
     "name": "stderr",
     "output_type": "stream",
     "text": [
      "I0606 20:41:05.236994 4619879872 saver.py:1270] Restoring parameters from /Users/nathanieljoselson/Documents/Projects/masters/natemusMasters/bert_F1_69/model.ckpt-3085\n"
     ]
    },
    {
     "name": "stdout",
     "output_type": "stream",
     "text": [
      "INFO:tensorflow:Running local_init_op.\n"
     ]
    },
    {
     "name": "stderr",
     "output_type": "stream",
     "text": [
      "I0606 20:41:07.675966 4619879872 session_manager.py:491] Running local_init_op.\n"
     ]
    },
    {
     "name": "stdout",
     "output_type": "stream",
     "text": [
      "INFO:tensorflow:Done running local_init_op.\n"
     ]
    },
    {
     "name": "stderr",
     "output_type": "stream",
     "text": [
      "I0606 20:41:07.793032 4619879872 session_manager.py:493] Done running local_init_op.\n"
     ]
    }
   ],
   "source": [
    "#pred_train = trainData[['conversations1','conversations2']].values.tolist()\n",
    "pred_val = validationData[['conversations1','conversations2']].values.tolist()\n",
    "pred_test = testData[['conversations1','conversations2']].values.tolist()\n",
    "#predictions_train = getPrediction(pred_train,False)\n",
    "predictions_val = getPrediction(pred_val,False)\n",
    "predictions_test = getPrediction(pred_test,False)"
   ]
  },
  {
   "cell_type": "code",
   "execution_count": 26,
   "metadata": {},
   "outputs": [
    {
     "name": "stdout",
     "output_type": "stream",
     "text": [
      "INFO:tensorflow:Writing example 0 of 8\n"
     ]
    },
    {
     "name": "stderr",
     "output_type": "stream",
     "text": [
      "I0606 21:24:29.329618 4619879872 run_classifier.py:774] Writing example 0 of 8\n"
     ]
    },
    {
     "name": "stdout",
     "output_type": "stream",
     "text": [
      "INFO:tensorflow:*** Example ***\n"
     ]
    },
    {
     "name": "stderr",
     "output_type": "stream",
     "text": [
      "I0606 21:24:29.333384 4619879872 run_classifier.py:461] *** Example ***\n"
     ]
    },
    {
     "name": "stdout",
     "output_type": "stream",
     "text": [
      "INFO:tensorflow:guid: \n"
     ]
    },
    {
     "name": "stderr",
     "output_type": "stream",
     "text": [
      "I0606 21:24:29.336982 4619879872 run_classifier.py:462] guid: \n"
     ]
    },
    {
     "name": "stdout",
     "output_type": "stream",
     "text": [
      "INFO:tensorflow:tokens: [CLS] you are such a good friend < e ##os > thanks ! [SEP] [UNK] [SEP]\n"
     ]
    },
    {
     "name": "stderr",
     "output_type": "stream",
     "text": [
      "I0606 21:24:29.338706 4619879872 run_classifier.py:464] tokens: [CLS] you are such a good friend < e ##os > thanks ! [SEP] [UNK] [SEP]\n"
     ]
    },
    {
     "name": "stdout",
     "output_type": "stream",
     "text": [
      "INFO:tensorflow:input_ids: 101 2017 2024 2107 1037 2204 2767 1026 1041 2891 1028 4283 999 102 100 102 0 0 0 0 0 0 0 0 0 0 0 0 0 0 0 0 0 0 0 0 0 0 0 0 0 0 0 0 0 0 0 0 0 0 0 0 0 0 0 0 0 0 0 0 0 0 0 0 0 0 0 0 0 0 0 0 0 0 0 0 0 0 0 0 0 0 0 0 0 0 0 0 0 0 0 0 0 0 0 0 0 0 0 0 0 0 0 0 0 0 0 0 0 0 0 0 0 0 0 0 0 0 0 0 0 0 0 0 0 0 0 0\n"
     ]
    },
    {
     "name": "stderr",
     "output_type": "stream",
     "text": [
      "I0606 21:24:29.340945 4619879872 run_classifier.py:465] input_ids: 101 2017 2024 2107 1037 2204 2767 1026 1041 2891 1028 4283 999 102 100 102 0 0 0 0 0 0 0 0 0 0 0 0 0 0 0 0 0 0 0 0 0 0 0 0 0 0 0 0 0 0 0 0 0 0 0 0 0 0 0 0 0 0 0 0 0 0 0 0 0 0 0 0 0 0 0 0 0 0 0 0 0 0 0 0 0 0 0 0 0 0 0 0 0 0 0 0 0 0 0 0 0 0 0 0 0 0 0 0 0 0 0 0 0 0 0 0 0 0 0 0 0 0 0 0 0 0 0 0 0 0 0 0\n"
     ]
    },
    {
     "name": "stdout",
     "output_type": "stream",
     "text": [
      "INFO:tensorflow:input_mask: 1 1 1 1 1 1 1 1 1 1 1 1 1 1 1 1 0 0 0 0 0 0 0 0 0 0 0 0 0 0 0 0 0 0 0 0 0 0 0 0 0 0 0 0 0 0 0 0 0 0 0 0 0 0 0 0 0 0 0 0 0 0 0 0 0 0 0 0 0 0 0 0 0 0 0 0 0 0 0 0 0 0 0 0 0 0 0 0 0 0 0 0 0 0 0 0 0 0 0 0 0 0 0 0 0 0 0 0 0 0 0 0 0 0 0 0 0 0 0 0 0 0 0 0 0 0 0 0\n"
     ]
    },
    {
     "name": "stderr",
     "output_type": "stream",
     "text": [
      "I0606 21:24:29.343227 4619879872 run_classifier.py:466] input_mask: 1 1 1 1 1 1 1 1 1 1 1 1 1 1 1 1 0 0 0 0 0 0 0 0 0 0 0 0 0 0 0 0 0 0 0 0 0 0 0 0 0 0 0 0 0 0 0 0 0 0 0 0 0 0 0 0 0 0 0 0 0 0 0 0 0 0 0 0 0 0 0 0 0 0 0 0 0 0 0 0 0 0 0 0 0 0 0 0 0 0 0 0 0 0 0 0 0 0 0 0 0 0 0 0 0 0 0 0 0 0 0 0 0 0 0 0 0 0 0 0 0 0 0 0 0 0 0 0\n"
     ]
    },
    {
     "name": "stdout",
     "output_type": "stream",
     "text": [
      "INFO:tensorflow:segment_ids: 0 0 0 0 0 0 0 0 0 0 0 0 0 0 1 1 0 0 0 0 0 0 0 0 0 0 0 0 0 0 0 0 0 0 0 0 0 0 0 0 0 0 0 0 0 0 0 0 0 0 0 0 0 0 0 0 0 0 0 0 0 0 0 0 0 0 0 0 0 0 0 0 0 0 0 0 0 0 0 0 0 0 0 0 0 0 0 0 0 0 0 0 0 0 0 0 0 0 0 0 0 0 0 0 0 0 0 0 0 0 0 0 0 0 0 0 0 0 0 0 0 0 0 0 0 0 0 0\n"
     ]
    },
    {
     "name": "stderr",
     "output_type": "stream",
     "text": [
      "I0606 21:24:29.345541 4619879872 run_classifier.py:467] segment_ids: 0 0 0 0 0 0 0 0 0 0 0 0 0 0 1 1 0 0 0 0 0 0 0 0 0 0 0 0 0 0 0 0 0 0 0 0 0 0 0 0 0 0 0 0 0 0 0 0 0 0 0 0 0 0 0 0 0 0 0 0 0 0 0 0 0 0 0 0 0 0 0 0 0 0 0 0 0 0 0 0 0 0 0 0 0 0 0 0 0 0 0 0 0 0 0 0 0 0 0 0 0 0 0 0 0 0 0 0 0 0 0 0 0 0 0 0 0 0 0 0 0 0 0 0 0 0 0 0\n"
     ]
    },
    {
     "name": "stdout",
     "output_type": "stream",
     "text": [
      "INFO:tensorflow:label: 0 (id = 0)\n"
     ]
    },
    {
     "name": "stderr",
     "output_type": "stream",
     "text": [
      "I0606 21:24:29.347578 4619879872 run_classifier.py:468] label: 0 (id = 0)\n"
     ]
    },
    {
     "name": "stdout",
     "output_type": "stream",
     "text": [
      "INFO:tensorflow:*** Example ***\n"
     ]
    },
    {
     "name": "stderr",
     "output_type": "stream",
     "text": [
      "I0606 21:24:29.349702 4619879872 run_classifier.py:461] *** Example ***\n"
     ]
    },
    {
     "name": "stdout",
     "output_type": "stream",
     "text": [
      "INFO:tensorflow:guid: \n"
     ]
    },
    {
     "name": "stderr",
     "output_type": "stream",
     "text": [
      "I0606 21:24:29.351521 4619879872 run_classifier.py:462] guid: \n"
     ]
    },
    {
     "name": "stdout",
     "output_type": "stream",
     "text": [
      "INFO:tensorflow:tokens: [CLS] why don ’ t you ever write me back ? < e ##os > cause you ’ re a creep . [SEP] i know . . . i am . . . [UNK] [SEP]\n"
     ]
    },
    {
     "name": "stderr",
     "output_type": "stream",
     "text": [
      "I0606 21:24:29.353114 4619879872 run_classifier.py:464] tokens: [CLS] why don ’ t you ever write me back ? < e ##os > cause you ’ re a creep . [SEP] i know . . . i am . . . [UNK] [SEP]\n"
     ]
    },
    {
     "name": "stdout",
     "output_type": "stream",
     "text": [
      "INFO:tensorflow:input_ids: 101 2339 2123 1521 1056 2017 2412 4339 2033 2067 1029 1026 1041 2891 1028 3426 2017 1521 2128 1037 19815 1012 102 1045 2113 1012 1012 1012 1045 2572 1012 1012 1012 100 102 0 0 0 0 0 0 0 0 0 0 0 0 0 0 0 0 0 0 0 0 0 0 0 0 0 0 0 0 0 0 0 0 0 0 0 0 0 0 0 0 0 0 0 0 0 0 0 0 0 0 0 0 0 0 0 0 0 0 0 0 0 0 0 0 0 0 0 0 0 0 0 0 0 0 0 0 0 0 0 0 0 0 0 0 0 0 0 0 0 0 0 0 0\n"
     ]
    },
    {
     "name": "stderr",
     "output_type": "stream",
     "text": [
      "I0606 21:24:29.354831 4619879872 run_classifier.py:465] input_ids: 101 2339 2123 1521 1056 2017 2412 4339 2033 2067 1029 1026 1041 2891 1028 3426 2017 1521 2128 1037 19815 1012 102 1045 2113 1012 1012 1012 1045 2572 1012 1012 1012 100 102 0 0 0 0 0 0 0 0 0 0 0 0 0 0 0 0 0 0 0 0 0 0 0 0 0 0 0 0 0 0 0 0 0 0 0 0 0 0 0 0 0 0 0 0 0 0 0 0 0 0 0 0 0 0 0 0 0 0 0 0 0 0 0 0 0 0 0 0 0 0 0 0 0 0 0 0 0 0 0 0 0 0 0 0 0 0 0 0 0 0 0 0 0\n"
     ]
    },
    {
     "name": "stdout",
     "output_type": "stream",
     "text": [
      "INFO:tensorflow:input_mask: 1 1 1 1 1 1 1 1 1 1 1 1 1 1 1 1 1 1 1 1 1 1 1 1 1 1 1 1 1 1 1 1 1 1 1 0 0 0 0 0 0 0 0 0 0 0 0 0 0 0 0 0 0 0 0 0 0 0 0 0 0 0 0 0 0 0 0 0 0 0 0 0 0 0 0 0 0 0 0 0 0 0 0 0 0 0 0 0 0 0 0 0 0 0 0 0 0 0 0 0 0 0 0 0 0 0 0 0 0 0 0 0 0 0 0 0 0 0 0 0 0 0 0 0 0 0 0 0\n"
     ]
    },
    {
     "name": "stderr",
     "output_type": "stream",
     "text": [
      "I0606 21:24:29.356642 4619879872 run_classifier.py:466] input_mask: 1 1 1 1 1 1 1 1 1 1 1 1 1 1 1 1 1 1 1 1 1 1 1 1 1 1 1 1 1 1 1 1 1 1 1 0 0 0 0 0 0 0 0 0 0 0 0 0 0 0 0 0 0 0 0 0 0 0 0 0 0 0 0 0 0 0 0 0 0 0 0 0 0 0 0 0 0 0 0 0 0 0 0 0 0 0 0 0 0 0 0 0 0 0 0 0 0 0 0 0 0 0 0 0 0 0 0 0 0 0 0 0 0 0 0 0 0 0 0 0 0 0 0 0 0 0 0 0\n"
     ]
    },
    {
     "name": "stdout",
     "output_type": "stream",
     "text": [
      "INFO:tensorflow:segment_ids: 0 0 0 0 0 0 0 0 0 0 0 0 0 0 0 0 0 0 0 0 0 0 0 1 1 1 1 1 1 1 1 1 1 1 1 0 0 0 0 0 0 0 0 0 0 0 0 0 0 0 0 0 0 0 0 0 0 0 0 0 0 0 0 0 0 0 0 0 0 0 0 0 0 0 0 0 0 0 0 0 0 0 0 0 0 0 0 0 0 0 0 0 0 0 0 0 0 0 0 0 0 0 0 0 0 0 0 0 0 0 0 0 0 0 0 0 0 0 0 0 0 0 0 0 0 0 0 0\n"
     ]
    },
    {
     "name": "stderr",
     "output_type": "stream",
     "text": [
      "I0606 21:24:29.358134 4619879872 run_classifier.py:467] segment_ids: 0 0 0 0 0 0 0 0 0 0 0 0 0 0 0 0 0 0 0 0 0 0 0 1 1 1 1 1 1 1 1 1 1 1 1 0 0 0 0 0 0 0 0 0 0 0 0 0 0 0 0 0 0 0 0 0 0 0 0 0 0 0 0 0 0 0 0 0 0 0 0 0 0 0 0 0 0 0 0 0 0 0 0 0 0 0 0 0 0 0 0 0 0 0 0 0 0 0 0 0 0 0 0 0 0 0 0 0 0 0 0 0 0 0 0 0 0 0 0 0 0 0 0 0 0 0 0 0\n"
     ]
    },
    {
     "name": "stdout",
     "output_type": "stream",
     "text": [
      "INFO:tensorflow:label: 0 (id = 0)\n"
     ]
    },
    {
     "name": "stderr",
     "output_type": "stream",
     "text": [
      "I0606 21:24:29.360095 4619879872 run_classifier.py:468] label: 0 (id = 0)\n"
     ]
    },
    {
     "name": "stdout",
     "output_type": "stream",
     "text": [
      "INFO:tensorflow:*** Example ***\n"
     ]
    },
    {
     "name": "stderr",
     "output_type": "stream",
     "text": [
      "I0606 21:24:29.362341 4619879872 run_classifier.py:461] *** Example ***\n"
     ]
    },
    {
     "name": "stdout",
     "output_type": "stream",
     "text": [
      "INFO:tensorflow:guid: \n"
     ]
    },
    {
     "name": "stderr",
     "output_type": "stream",
     "text": [
      "I0606 21:24:29.364019 4619879872 run_classifier.py:462] guid: \n"
     ]
    },
    {
     "name": "stdout",
     "output_type": "stream",
     "text": [
      "INFO:tensorflow:tokens: [CLS] i don ’ t get it … why can ’ t i ever get a date ? < e ##os > [UNK] too ugly ? [SEP] screw you ! [SEP]\n"
     ]
    },
    {
     "name": "stderr",
     "output_type": "stream",
     "text": [
      "I0606 21:24:29.365700 4619879872 run_classifier.py:464] tokens: [CLS] i don ’ t get it … why can ’ t i ever get a date ? < e ##os > [UNK] too ugly ? [SEP] screw you ! [SEP]\n"
     ]
    },
    {
     "name": "stdout",
     "output_type": "stream",
     "text": [
      "INFO:tensorflow:input_ids: 101 1045 2123 1521 1056 2131 2009 1529 2339 2064 1521 1056 1045 2412 2131 1037 3058 1029 1026 1041 2891 1028 100 2205 9200 1029 102 11224 2017 999 102 0 0 0 0 0 0 0 0 0 0 0 0 0 0 0 0 0 0 0 0 0 0 0 0 0 0 0 0 0 0 0 0 0 0 0 0 0 0 0 0 0 0 0 0 0 0 0 0 0 0 0 0 0 0 0 0 0 0 0 0 0 0 0 0 0 0 0 0 0 0 0 0 0 0 0 0 0 0 0 0 0 0 0 0 0 0 0 0 0 0 0 0 0 0 0 0 0\n"
     ]
    },
    {
     "name": "stderr",
     "output_type": "stream",
     "text": [
      "I0606 21:24:29.367354 4619879872 run_classifier.py:465] input_ids: 101 1045 2123 1521 1056 2131 2009 1529 2339 2064 1521 1056 1045 2412 2131 1037 3058 1029 1026 1041 2891 1028 100 2205 9200 1029 102 11224 2017 999 102 0 0 0 0 0 0 0 0 0 0 0 0 0 0 0 0 0 0 0 0 0 0 0 0 0 0 0 0 0 0 0 0 0 0 0 0 0 0 0 0 0 0 0 0 0 0 0 0 0 0 0 0 0 0 0 0 0 0 0 0 0 0 0 0 0 0 0 0 0 0 0 0 0 0 0 0 0 0 0 0 0 0 0 0 0 0 0 0 0 0 0 0 0 0 0 0 0\n"
     ]
    },
    {
     "name": "stdout",
     "output_type": "stream",
     "text": [
      "INFO:tensorflow:input_mask: 1 1 1 1 1 1 1 1 1 1 1 1 1 1 1 1 1 1 1 1 1 1 1 1 1 1 1 1 1 1 1 0 0 0 0 0 0 0 0 0 0 0 0 0 0 0 0 0 0 0 0 0 0 0 0 0 0 0 0 0 0 0 0 0 0 0 0 0 0 0 0 0 0 0 0 0 0 0 0 0 0 0 0 0 0 0 0 0 0 0 0 0 0 0 0 0 0 0 0 0 0 0 0 0 0 0 0 0 0 0 0 0 0 0 0 0 0 0 0 0 0 0 0 0 0 0 0 0\n"
     ]
    },
    {
     "name": "stderr",
     "output_type": "stream",
     "text": [
      "I0606 21:24:29.369337 4619879872 run_classifier.py:466] input_mask: 1 1 1 1 1 1 1 1 1 1 1 1 1 1 1 1 1 1 1 1 1 1 1 1 1 1 1 1 1 1 1 0 0 0 0 0 0 0 0 0 0 0 0 0 0 0 0 0 0 0 0 0 0 0 0 0 0 0 0 0 0 0 0 0 0 0 0 0 0 0 0 0 0 0 0 0 0 0 0 0 0 0 0 0 0 0 0 0 0 0 0 0 0 0 0 0 0 0 0 0 0 0 0 0 0 0 0 0 0 0 0 0 0 0 0 0 0 0 0 0 0 0 0 0 0 0 0 0\n"
     ]
    },
    {
     "name": "stdout",
     "output_type": "stream",
     "text": [
      "INFO:tensorflow:segment_ids: 0 0 0 0 0 0 0 0 0 0 0 0 0 0 0 0 0 0 0 0 0 0 0 0 0 0 0 1 1 1 1 0 0 0 0 0 0 0 0 0 0 0 0 0 0 0 0 0 0 0 0 0 0 0 0 0 0 0 0 0 0 0 0 0 0 0 0 0 0 0 0 0 0 0 0 0 0 0 0 0 0 0 0 0 0 0 0 0 0 0 0 0 0 0 0 0 0 0 0 0 0 0 0 0 0 0 0 0 0 0 0 0 0 0 0 0 0 0 0 0 0 0 0 0 0 0 0 0\n"
     ]
    },
    {
     "name": "stderr",
     "output_type": "stream",
     "text": [
      "I0606 21:24:29.371453 4619879872 run_classifier.py:467] segment_ids: 0 0 0 0 0 0 0 0 0 0 0 0 0 0 0 0 0 0 0 0 0 0 0 0 0 0 0 1 1 1 1 0 0 0 0 0 0 0 0 0 0 0 0 0 0 0 0 0 0 0 0 0 0 0 0 0 0 0 0 0 0 0 0 0 0 0 0 0 0 0 0 0 0 0 0 0 0 0 0 0 0 0 0 0 0 0 0 0 0 0 0 0 0 0 0 0 0 0 0 0 0 0 0 0 0 0 0 0 0 0 0 0 0 0 0 0 0 0 0 0 0 0 0 0 0 0 0 0\n"
     ]
    },
    {
     "name": "stdout",
     "output_type": "stream",
     "text": [
      "INFO:tensorflow:label: 0 (id = 0)\n"
     ]
    },
    {
     "name": "stderr",
     "output_type": "stream",
     "text": [
      "I0606 21:24:29.372969 4619879872 run_classifier.py:468] label: 0 (id = 0)\n"
     ]
    },
    {
     "name": "stdout",
     "output_type": "stream",
     "text": [
      "INFO:tensorflow:*** Example ***\n"
     ]
    },
    {
     "name": "stderr",
     "output_type": "stream",
     "text": [
      "I0606 21:24:29.374928 4619879872 run_classifier.py:461] *** Example ***\n"
     ]
    },
    {
     "name": "stdout",
     "output_type": "stream",
     "text": [
      "INFO:tensorflow:guid: \n"
     ]
    },
    {
     "name": "stderr",
     "output_type": "stream",
     "text": [
      "I0606 21:24:29.376814 4619879872 run_classifier.py:462] guid: \n"
     ]
    },
    {
     "name": "stdout",
     "output_type": "stream",
     "text": [
      "INFO:tensorflow:tokens: [CLS] too much pollution in the world < e ##os > or too many people … [SEP] or both … [SEP]\n"
     ]
    },
    {
     "name": "stderr",
     "output_type": "stream",
     "text": [
      "I0606 21:24:29.378411 4619879872 run_classifier.py:464] tokens: [CLS] too much pollution in the world < e ##os > or too many people … [SEP] or both … [SEP]\n"
     ]
    },
    {
     "name": "stdout",
     "output_type": "stream",
     "text": [
      "INFO:tensorflow:input_ids: 101 2205 2172 10796 1999 1996 2088 1026 1041 2891 1028 2030 2205 2116 2111 1529 102 2030 2119 1529 102 0 0 0 0 0 0 0 0 0 0 0 0 0 0 0 0 0 0 0 0 0 0 0 0 0 0 0 0 0 0 0 0 0 0 0 0 0 0 0 0 0 0 0 0 0 0 0 0 0 0 0 0 0 0 0 0 0 0 0 0 0 0 0 0 0 0 0 0 0 0 0 0 0 0 0 0 0 0 0 0 0 0 0 0 0 0 0 0 0 0 0 0 0 0 0 0 0 0 0 0 0 0 0 0 0 0 0\n"
     ]
    },
    {
     "name": "stderr",
     "output_type": "stream",
     "text": [
      "I0606 21:24:29.380309 4619879872 run_classifier.py:465] input_ids: 101 2205 2172 10796 1999 1996 2088 1026 1041 2891 1028 2030 2205 2116 2111 1529 102 2030 2119 1529 102 0 0 0 0 0 0 0 0 0 0 0 0 0 0 0 0 0 0 0 0 0 0 0 0 0 0 0 0 0 0 0 0 0 0 0 0 0 0 0 0 0 0 0 0 0 0 0 0 0 0 0 0 0 0 0 0 0 0 0 0 0 0 0 0 0 0 0 0 0 0 0 0 0 0 0 0 0 0 0 0 0 0 0 0 0 0 0 0 0 0 0 0 0 0 0 0 0 0 0 0 0 0 0 0 0 0 0\n"
     ]
    },
    {
     "name": "stdout",
     "output_type": "stream",
     "text": [
      "INFO:tensorflow:input_mask: 1 1 1 1 1 1 1 1 1 1 1 1 1 1 1 1 1 1 1 1 1 0 0 0 0 0 0 0 0 0 0 0 0 0 0 0 0 0 0 0 0 0 0 0 0 0 0 0 0 0 0 0 0 0 0 0 0 0 0 0 0 0 0 0 0 0 0 0 0 0 0 0 0 0 0 0 0 0 0 0 0 0 0 0 0 0 0 0 0 0 0 0 0 0 0 0 0 0 0 0 0 0 0 0 0 0 0 0 0 0 0 0 0 0 0 0 0 0 0 0 0 0 0 0 0 0 0 0\n"
     ]
    },
    {
     "name": "stderr",
     "output_type": "stream",
     "text": [
      "I0606 21:24:29.382699 4619879872 run_classifier.py:466] input_mask: 1 1 1 1 1 1 1 1 1 1 1 1 1 1 1 1 1 1 1 1 1 0 0 0 0 0 0 0 0 0 0 0 0 0 0 0 0 0 0 0 0 0 0 0 0 0 0 0 0 0 0 0 0 0 0 0 0 0 0 0 0 0 0 0 0 0 0 0 0 0 0 0 0 0 0 0 0 0 0 0 0 0 0 0 0 0 0 0 0 0 0 0 0 0 0 0 0 0 0 0 0 0 0 0 0 0 0 0 0 0 0 0 0 0 0 0 0 0 0 0 0 0 0 0 0 0 0 0\n"
     ]
    },
    {
     "name": "stdout",
     "output_type": "stream",
     "text": [
      "INFO:tensorflow:segment_ids: 0 0 0 0 0 0 0 0 0 0 0 0 0 0 0 0 0 1 1 1 1 0 0 0 0 0 0 0 0 0 0 0 0 0 0 0 0 0 0 0 0 0 0 0 0 0 0 0 0 0 0 0 0 0 0 0 0 0 0 0 0 0 0 0 0 0 0 0 0 0 0 0 0 0 0 0 0 0 0 0 0 0 0 0 0 0 0 0 0 0 0 0 0 0 0 0 0 0 0 0 0 0 0 0 0 0 0 0 0 0 0 0 0 0 0 0 0 0 0 0 0 0 0 0 0 0 0 0\n"
     ]
    },
    {
     "name": "stderr",
     "output_type": "stream",
     "text": [
      "I0606 21:24:29.384715 4619879872 run_classifier.py:467] segment_ids: 0 0 0 0 0 0 0 0 0 0 0 0 0 0 0 0 0 1 1 1 1 0 0 0 0 0 0 0 0 0 0 0 0 0 0 0 0 0 0 0 0 0 0 0 0 0 0 0 0 0 0 0 0 0 0 0 0 0 0 0 0 0 0 0 0 0 0 0 0 0 0 0 0 0 0 0 0 0 0 0 0 0 0 0 0 0 0 0 0 0 0 0 0 0 0 0 0 0 0 0 0 0 0 0 0 0 0 0 0 0 0 0 0 0 0 0 0 0 0 0 0 0 0 0 0 0 0 0\n"
     ]
    },
    {
     "name": "stdout",
     "output_type": "stream",
     "text": [
      "INFO:tensorflow:label: 0 (id = 0)\n"
     ]
    },
    {
     "name": "stderr",
     "output_type": "stream",
     "text": [
      "I0606 21:24:29.387176 4619879872 run_classifier.py:468] label: 0 (id = 0)\n"
     ]
    },
    {
     "name": "stdout",
     "output_type": "stream",
     "text": [
      "INFO:tensorflow:*** Example ***\n"
     ]
    },
    {
     "name": "stderr",
     "output_type": "stream",
     "text": [
      "I0606 21:24:29.392916 4619879872 run_classifier.py:461] *** Example ***\n"
     ]
    },
    {
     "name": "stdout",
     "output_type": "stream",
     "text": [
      "INFO:tensorflow:guid: \n"
     ]
    },
    {
     "name": "stderr",
     "output_type": "stream",
     "text": [
      "I0606 21:24:29.394638 4619879872 run_classifier.py:462] guid: \n"
     ]
    },
    {
     "name": "stdout",
     "output_type": "stream",
     "text": [
      "INFO:tensorflow:tokens: [CLS] you are such a good friend < e ##os > thanks ! [SEP] i really fucking mean it ! [UNK] [SEP]\n"
     ]
    },
    {
     "name": "stderr",
     "output_type": "stream",
     "text": [
      "I0606 21:24:29.396181 4619879872 run_classifier.py:464] tokens: [CLS] you are such a good friend < e ##os > thanks ! [SEP] i really fucking mean it ! [UNK] [SEP]\n"
     ]
    },
    {
     "name": "stdout",
     "output_type": "stream",
     "text": [
      "INFO:tensorflow:input_ids: 101 2017 2024 2107 1037 2204 2767 1026 1041 2891 1028 4283 999 102 1045 2428 8239 2812 2009 999 100 102 0 0 0 0 0 0 0 0 0 0 0 0 0 0 0 0 0 0 0 0 0 0 0 0 0 0 0 0 0 0 0 0 0 0 0 0 0 0 0 0 0 0 0 0 0 0 0 0 0 0 0 0 0 0 0 0 0 0 0 0 0 0 0 0 0 0 0 0 0 0 0 0 0 0 0 0 0 0 0 0 0 0 0 0 0 0 0 0 0 0 0 0 0 0 0 0 0 0 0 0 0 0 0 0 0 0\n"
     ]
    },
    {
     "name": "stderr",
     "output_type": "stream",
     "text": [
      "I0606 21:24:29.417087 4619879872 run_classifier.py:465] input_ids: 101 2017 2024 2107 1037 2204 2767 1026 1041 2891 1028 4283 999 102 1045 2428 8239 2812 2009 999 100 102 0 0 0 0 0 0 0 0 0 0 0 0 0 0 0 0 0 0 0 0 0 0 0 0 0 0 0 0 0 0 0 0 0 0 0 0 0 0 0 0 0 0 0 0 0 0 0 0 0 0 0 0 0 0 0 0 0 0 0 0 0 0 0 0 0 0 0 0 0 0 0 0 0 0 0 0 0 0 0 0 0 0 0 0 0 0 0 0 0 0 0 0 0 0 0 0 0 0 0 0 0 0 0 0 0 0\n"
     ]
    },
    {
     "name": "stdout",
     "output_type": "stream",
     "text": [
      "INFO:tensorflow:input_mask: 1 1 1 1 1 1 1 1 1 1 1 1 1 1 1 1 1 1 1 1 1 1 0 0 0 0 0 0 0 0 0 0 0 0 0 0 0 0 0 0 0 0 0 0 0 0 0 0 0 0 0 0 0 0 0 0 0 0 0 0 0 0 0 0 0 0 0 0 0 0 0 0 0 0 0 0 0 0 0 0 0 0 0 0 0 0 0 0 0 0 0 0 0 0 0 0 0 0 0 0 0 0 0 0 0 0 0 0 0 0 0 0 0 0 0 0 0 0 0 0 0 0 0 0 0 0 0 0\n"
     ]
    },
    {
     "name": "stderr",
     "output_type": "stream",
     "text": [
      "I0606 21:24:29.418789 4619879872 run_classifier.py:466] input_mask: 1 1 1 1 1 1 1 1 1 1 1 1 1 1 1 1 1 1 1 1 1 1 0 0 0 0 0 0 0 0 0 0 0 0 0 0 0 0 0 0 0 0 0 0 0 0 0 0 0 0 0 0 0 0 0 0 0 0 0 0 0 0 0 0 0 0 0 0 0 0 0 0 0 0 0 0 0 0 0 0 0 0 0 0 0 0 0 0 0 0 0 0 0 0 0 0 0 0 0 0 0 0 0 0 0 0 0 0 0 0 0 0 0 0 0 0 0 0 0 0 0 0 0 0 0 0 0 0\n"
     ]
    },
    {
     "name": "stdout",
     "output_type": "stream",
     "text": [
      "INFO:tensorflow:segment_ids: 0 0 0 0 0 0 0 0 0 0 0 0 0 0 1 1 1 1 1 1 1 1 0 0 0 0 0 0 0 0 0 0 0 0 0 0 0 0 0 0 0 0 0 0 0 0 0 0 0 0 0 0 0 0 0 0 0 0 0 0 0 0 0 0 0 0 0 0 0 0 0 0 0 0 0 0 0 0 0 0 0 0 0 0 0 0 0 0 0 0 0 0 0 0 0 0 0 0 0 0 0 0 0 0 0 0 0 0 0 0 0 0 0 0 0 0 0 0 0 0 0 0 0 0 0 0 0 0\n"
     ]
    },
    {
     "name": "stderr",
     "output_type": "stream",
     "text": [
      "I0606 21:24:29.420456 4619879872 run_classifier.py:467] segment_ids: 0 0 0 0 0 0 0 0 0 0 0 0 0 0 1 1 1 1 1 1 1 1 0 0 0 0 0 0 0 0 0 0 0 0 0 0 0 0 0 0 0 0 0 0 0 0 0 0 0 0 0 0 0 0 0 0 0 0 0 0 0 0 0 0 0 0 0 0 0 0 0 0 0 0 0 0 0 0 0 0 0 0 0 0 0 0 0 0 0 0 0 0 0 0 0 0 0 0 0 0 0 0 0 0 0 0 0 0 0 0 0 0 0 0 0 0 0 0 0 0 0 0 0 0 0 0 0 0\n"
     ]
    },
    {
     "name": "stdout",
     "output_type": "stream",
     "text": [
      "INFO:tensorflow:label: 0 (id = 0)\n"
     ]
    },
    {
     "name": "stderr",
     "output_type": "stream",
     "text": [
      "I0606 21:24:29.422053 4619879872 run_classifier.py:468] label: 0 (id = 0)\n"
     ]
    },
    {
     "name": "stdout",
     "output_type": "stream",
     "text": [
      "INFO:tensorflow:Calling model_fn.\n"
     ]
    },
    {
     "name": "stderr",
     "output_type": "stream",
     "text": [
      "I0606 21:24:29.482450 4619879872 estimator.py:1111] Calling model_fn.\n"
     ]
    },
    {
     "name": "stdout",
     "output_type": "stream",
     "text": [
      "INFO:tensorflow:Saver not created because there are no variables in the graph to restore\n"
     ]
    },
    {
     "name": "stderr",
     "output_type": "stream",
     "text": [
      "I0606 21:24:33.184412 4619879872 saver.py:1483] Saver not created because there are no variables in the graph to restore\n"
     ]
    },
    {
     "name": "stdout",
     "output_type": "stream",
     "text": [
      "INFO:tensorflow:Done calling model_fn.\n"
     ]
    },
    {
     "name": "stderr",
     "output_type": "stream",
     "text": [
      "I0606 21:24:33.382636 4619879872 estimator.py:1113] Done calling model_fn.\n"
     ]
    },
    {
     "name": "stdout",
     "output_type": "stream",
     "text": [
      "INFO:tensorflow:Graph was finalized.\n"
     ]
    },
    {
     "name": "stderr",
     "output_type": "stream",
     "text": [
      "I0606 21:24:33.877834 4619879872 monitored_session.py:222] Graph was finalized.\n"
     ]
    },
    {
     "name": "stdout",
     "output_type": "stream",
     "text": [
      "INFO:tensorflow:Restoring parameters from /Users/nathanieljoselson/Documents/Projects/masters/natemusMasters/bert_F1_69/model.ckpt-3085\n"
     ]
    },
    {
     "name": "stderr",
     "output_type": "stream",
     "text": [
      "I0606 21:24:33.880729 4619879872 saver.py:1270] Restoring parameters from /Users/nathanieljoselson/Documents/Projects/masters/natemusMasters/bert_F1_69/model.ckpt-3085\n"
     ]
    },
    {
     "name": "stdout",
     "output_type": "stream",
     "text": [
      "INFO:tensorflow:Running local_init_op.\n"
     ]
    },
    {
     "name": "stderr",
     "output_type": "stream",
     "text": [
      "I0606 21:24:36.172999 4619879872 session_manager.py:491] Running local_init_op.\n"
     ]
    },
    {
     "name": "stdout",
     "output_type": "stream",
     "text": [
      "INFO:tensorflow:Done running local_init_op.\n"
     ]
    },
    {
     "name": "stderr",
     "output_type": "stream",
     "text": [
      "I0606 21:24:36.273712 4619879872 session_manager.py:493] Done running local_init_op.\n"
     ]
    }
   ],
   "source": [
    "pred_testing = testingData[['conversations1','conversations2']].values.tolist()\n",
    "predictions_testing = getPrediction(pred_testing,False)"
   ]
  },
  {
   "cell_type": "code",
   "execution_count": 27,
   "metadata": {},
   "outputs": [
    {
     "data": {
      "text/html": [
       "<div>\n",
       "<style scoped>\n",
       "    .dataframe tbody tr th:only-of-type {\n",
       "        vertical-align: middle;\n",
       "    }\n",
       "\n",
       "    .dataframe tbody tr th {\n",
       "        vertical-align: top;\n",
       "    }\n",
       "\n",
       "    .dataframe thead th {\n",
       "        text-align: right;\n",
       "    }\n",
       "</style>\n",
       "<table border=\"1\" class=\"dataframe\">\n",
       "  <thead>\n",
       "    <tr style=\"text-align: right;\">\n",
       "      <th></th>\n",
       "      <th>turn1 + turn2</th>\n",
       "      <th>turn3</th>\n",
       "    </tr>\n",
       "  </thead>\n",
       "  <tbody>\n",
       "    <tr>\n",
       "      <th>0</th>\n",
       "      <td>Hmm &lt;eos&gt; What does your bio mean?</td>\n",
       "      <td>I don’t have any bio</td>\n",
       "    </tr>\n",
       "    <tr>\n",
       "      <th>1</th>\n",
       "      <td>What you like &lt;eos&gt; very little things</td>\n",
       "      <td>Ok</td>\n",
       "    </tr>\n",
       "    <tr>\n",
       "      <th>2</th>\n",
       "      <td>Yes &lt;eos&gt; How so?</td>\n",
       "      <td>I want to fuck babu</td>\n",
       "    </tr>\n",
       "    <tr>\n",
       "      <th>3</th>\n",
       "      <td>what did you guess &lt;eos&gt; what what</td>\n",
       "      <td>fuck</td>\n",
       "    </tr>\n",
       "    <tr>\n",
       "      <th>4</th>\n",
       "      <td>We ? &lt;eos&gt; of course we will!</td>\n",
       "      <td>What gender movies you like??</td>\n",
       "    </tr>\n",
       "    <tr>\n",
       "      <th>5</th>\n",
       "      <td>Where are you now? &lt;eos&gt; At home just about to...</td>\n",
       "      <td>what are you eating?</td>\n",
       "    </tr>\n",
       "    <tr>\n",
       "      <th>6</th>\n",
       "      <td>That was a joke btw... &lt;eos&gt; it was</td>\n",
       "      <td>Yes 😁</td>\n",
       "    </tr>\n",
       "    <tr>\n",
       "      <th>7</th>\n",
       "      <td>Who d hell s he &lt;eos&gt; johnny depp...duh?</td>\n",
       "      <td>Who she</td>\n",
       "    </tr>\n",
       "    <tr>\n",
       "      <th>8</th>\n",
       "      <td>yes, good advice &lt;eos&gt; best advice ...</td>\n",
       "      <td>i great thx</td>\n",
       "    </tr>\n",
       "    <tr>\n",
       "      <th>9</th>\n",
       "      <td>Nice to meet u &lt;eos&gt; Hi, nice to meet you too! 😸😂</td>\n",
       "      <td>😁</td>\n",
       "    </tr>\n",
       "    <tr>\n",
       "      <th>10</th>\n",
       "      <td>Yupp &lt;eos&gt; why?</td>\n",
       "      <td>Don't know I'm tired</td>\n",
       "    </tr>\n",
       "    <tr>\n",
       "      <th>11</th>\n",
       "      <td>Software &lt;eos&gt; Software what? I plan on going ...</td>\n",
       "      <td>I am into android development stuff</td>\n",
       "    </tr>\n",
       "    <tr>\n",
       "      <th>12</th>\n",
       "      <td>Very nice  &lt;eos&gt; Thanks!! :)</td>\n",
       "      <td>R u know tamil</td>\n",
       "    </tr>\n",
       "    <tr>\n",
       "      <th>13</th>\n",
       "      <td>First  you  hurt me &lt;eos&gt; okay</td>\n",
       "      <td>So I talked  rude</td>\n",
       "    </tr>\n",
       "    <tr>\n",
       "      <th>14</th>\n",
       "      <td>Love you 🙊 &lt;eos&gt; you don't recognize me? 😏</td>\n",
       "      <td>I love you 🙊</td>\n",
       "    </tr>\n",
       "    <tr>\n",
       "      <th>15</th>\n",
       "      <td>In India Fogg is going on &lt;eos&gt; MumbaiIndians ...</td>\n",
       "      <td>Ohh really</td>\n",
       "    </tr>\n",
       "    <tr>\n",
       "      <th>16</th>\n",
       "      <td>is my grammar perfect or should I need to lear...</td>\n",
       "      <td>thank you</td>\n",
       "    </tr>\n",
       "    <tr>\n",
       "      <th>17</th>\n",
       "      <td>by &lt;eos&gt; In Suits.</td>\n",
       "      <td>have good day</td>\n",
       "    </tr>\n",
       "    <tr>\n",
       "      <th>18</th>\n",
       "      <td>I don’t know what to write &lt;eos&gt; what are you ...</td>\n",
       "      <td>for my profile picture I mean</td>\n",
       "    </tr>\n",
       "    <tr>\n",
       "      <th>19</th>\n",
       "      <td>so you make jokes. i already got that. &lt;eos&gt; t...</td>\n",
       "      <td>do you read newspapers</td>\n",
       "    </tr>\n",
       "    <tr>\n",
       "      <th>20</th>\n",
       "      <td>Yeah mee too &lt;eos&gt; Me too! All my friends are ...</td>\n",
       "      <td>Ohhh so funny</td>\n",
       "    </tr>\n",
       "    <tr>\n",
       "      <th>21</th>\n",
       "      <td>Thanks &lt;eos&gt; you're welcome! 😁😁😁😁</td>\n",
       "      <td>Can you help me</td>\n",
       "    </tr>\n",
       "    <tr>\n",
       "      <th>22</th>\n",
       "      <td>Offer? &lt;eos&gt; You've already enrolled in the of...</td>\n",
       "      <td>When it start again?</td>\n",
       "    </tr>\n",
       "    <tr>\n",
       "      <th>23</th>\n",
       "      <td>Uhhhmm whyy?? &lt;eos&gt; not you ...</td>\n",
       "      <td>No im really a bad bitch</td>\n",
       "    </tr>\n",
       "    <tr>\n",
       "      <th>24</th>\n",
       "      <td>sure will u cal me ni8 &lt;eos&gt; Ok</td>\n",
       "      <td>then</td>\n",
       "    </tr>\n",
       "    <tr>\n",
       "      <th>25</th>\n",
       "      <td>About what I just told &lt;eos&gt; I SHOULD</td>\n",
       "      <td>You drunk? 😂</td>\n",
       "    </tr>\n",
       "    <tr>\n",
       "      <th>26</th>\n",
       "      <td>Yeaaa black panther &lt;eos&gt; Black Panther teaser...</td>\n",
       "      <td>It was an awesome movie</td>\n",
       "    </tr>\n",
       "    <tr>\n",
       "      <th>27</th>\n",
       "      <td>now dont give me a chance to be an danger evil...</td>\n",
       "      <td>i give</td>\n",
       "    </tr>\n",
       "    <tr>\n",
       "      <th>28</th>\n",
       "      <td>Watch spitsvilla at 7 p.m today &lt;eos&gt; both are...</td>\n",
       "      <td>I love that show</td>\n",
       "    </tr>\n",
       "    <tr>\n",
       "      <th>29</th>\n",
       "      <td>Uuu &lt;eos&gt; no i'n not !! what's wrong with you ...</td>\n",
       "      <td>I hate uuu</td>\n",
       "    </tr>\n",
       "    <tr>\n",
       "      <th>...</th>\n",
       "      <td>...</td>\n",
       "      <td>...</td>\n",
       "    </tr>\n",
       "    <tr>\n",
       "      <th>5479</th>\n",
       "      <td>Didn&amp;apos;t make sense to me though &lt;eos&gt; Oh, ...</td>\n",
       "      <td>OK.. To you maybe</td>\n",
       "    </tr>\n",
       "    <tr>\n",
       "      <th>5480</th>\n",
       "      <td>Don't reply to me &lt;eos&gt; I SAID I THINK I DID A...</td>\n",
       "      <td>Don't reply to me</td>\n",
       "    </tr>\n",
       "    <tr>\n",
       "      <th>5481</th>\n",
       "      <td>Neah I know you before 🌙 Was born &lt;eos&gt; Hehe '...</td>\n",
       "      <td>Age never matters</td>\n",
       "    </tr>\n",
       "    <tr>\n",
       "      <th>5482</th>\n",
       "      <td>We can travel together &lt;eos&gt; LETS DO IT</td>\n",
       "      <td>Marry me!</td>\n",
       "    </tr>\n",
       "    <tr>\n",
       "      <th>5483</th>\n",
       "      <td>Where &lt;eos&gt; Do you have any place in mind?</td>\n",
       "      <td>My room</td>\n",
       "    </tr>\n",
       "    <tr>\n",
       "      <th>5484</th>\n",
       "      <td>Send me here &lt;eos&gt; gimme ure address? :P</td>\n",
       "      <td>What u will do?</td>\n",
       "    </tr>\n",
       "    <tr>\n",
       "      <th>5485</th>\n",
       "      <td>ohh &lt;eos&gt; now that's up to u</td>\n",
       "      <td>extremely sorry</td>\n",
       "    </tr>\n",
       "    <tr>\n",
       "      <th>5486</th>\n",
       "      <td>Perfect for me &lt;eos&gt; you are perfect to me 😺😺</td>\n",
       "      <td>So will you come with me for a date</td>\n",
       "    </tr>\n",
       "    <tr>\n",
       "      <th>5487</th>\n",
       "      <td>Narsimha is disturbing you &lt;eos&gt; That link was...</td>\n",
       "      <td>My friend wanna chat wit u</td>\n",
       "    </tr>\n",
       "    <tr>\n",
       "      <th>5488</th>\n",
       "      <td>Don't change it ... You are losing &lt;eos&gt; Did I...</td>\n",
       "      <td>Yes</td>\n",
       "    </tr>\n",
       "    <tr>\n",
       "      <th>5489</th>\n",
       "      <td>I can't afford help &lt;eos&gt; sell ur car g</td>\n",
       "      <td>Do you know how expensive that is?</td>\n",
       "    </tr>\n",
       "    <tr>\n",
       "      <th>5490</th>\n",
       "      <td>You lost &lt;eos&gt; who won?</td>\n",
       "      <td>Bwd you lost</td>\n",
       "    </tr>\n",
       "    <tr>\n",
       "      <th>5491</th>\n",
       "      <td>Wht asked fr u wht u gave the answer &lt;eos&gt; chi...</td>\n",
       "      <td>Wht chilling</td>\n",
       "    </tr>\n",
       "    <tr>\n",
       "      <th>5492</th>\n",
       "      <td>How do u even live in a place like this &lt;eos&gt; ...</td>\n",
       "      <td>This is where u live</td>\n",
       "    </tr>\n",
       "    <tr>\n",
       "      <th>5493</th>\n",
       "      <td>Ok &lt;eos&gt; U are ok~~ay~~</td>\n",
       "      <td>Come fast in 2minutes</td>\n",
       "    </tr>\n",
       "    <tr>\n",
       "      <th>5494</th>\n",
       "      <td>M going and don't rely &lt;eos&gt; mayb</td>\n",
       "      <td>U r sendine your pic or not</td>\n",
       "    </tr>\n",
       "    <tr>\n",
       "      <th>5495</th>\n",
       "      <td>Not seriously &lt;eos&gt; I seriously do</td>\n",
       "      <td>Is that so that i can share any thing with u</td>\n",
       "    </tr>\n",
       "    <tr>\n",
       "      <th>5496</th>\n",
       "      <td>That's good where u going &lt;eos&gt; Ooo where to?</td>\n",
       "      <td>Yes</td>\n",
       "    </tr>\n",
       "    <tr>\n",
       "      <th>5497</th>\n",
       "      <td>Hurt or heart &lt;eos&gt; I heart you most</td>\n",
       "      <td>You from bihar</td>\n",
       "    </tr>\n",
       "    <tr>\n",
       "      <th>5498</th>\n",
       "      <td>Ok &lt;eos&gt; thanks :)</td>\n",
       "      <td>Give me link</td>\n",
       "    </tr>\n",
       "    <tr>\n",
       "      <th>5499</th>\n",
       "      <td>Soo you are up want to talking to some one.......</td>\n",
       "      <td>Ok you can do that ...I love you to💏❤</td>\n",
       "    </tr>\n",
       "    <tr>\n",
       "      <th>5500</th>\n",
       "      <td>ur more photos.. &lt;eos&gt; The seating looks uncom...</td>\n",
       "      <td>okay</td>\n",
       "    </tr>\n",
       "    <tr>\n",
       "      <th>5501</th>\n",
       "      <td>i am a best planner &lt;eos&gt; sending you the invi...</td>\n",
       "      <td>haha</td>\n",
       "    </tr>\n",
       "    <tr>\n",
       "      <th>5502</th>\n",
       "      <td>ohhhhh, you like gaming &lt;eos&gt; yeah</td>\n",
       "      <td>which one you preferred for me</td>\n",
       "    </tr>\n",
       "    <tr>\n",
       "      <th>5503</th>\n",
       "      <td>I thought I hurt you &lt;eos&gt; lol why</td>\n",
       "      <td>Just thinked</td>\n",
       "    </tr>\n",
       "    <tr>\n",
       "      <th>5504</th>\n",
       "      <td>Not youuu &lt;eos&gt; I also didn't not not.</td>\n",
       "      <td>How to calll</td>\n",
       "    </tr>\n",
       "    <tr>\n",
       "      <th>5505</th>\n",
       "      <td>Welcome &lt;eos&gt; Why, thank you.</td>\n",
       "      <td>I don't know, you tell</td>\n",
       "    </tr>\n",
       "    <tr>\n",
       "      <th>5506</th>\n",
       "      <td>Yes &lt;eos&gt; IF ONLY I COULD AFFORD THIS</td>\n",
       "      <td>How are you</td>\n",
       "    </tr>\n",
       "    <tr>\n",
       "      <th>5507</th>\n",
       "      <td>For my information &lt;eos&gt; It's our responsibili...</td>\n",
       "      <td>What is mountain dew?</td>\n",
       "    </tr>\n",
       "    <tr>\n",
       "      <th>5508</th>\n",
       "      <td>ok........... where you work ? &lt;eos&gt; I'm off t...</td>\n",
       "      <td>ok..............</td>\n",
       "    </tr>\n",
       "  </tbody>\n",
       "</table>\n",
       "<p>5509 rows × 2 columns</p>\n",
       "</div>"
      ],
      "text/plain": [
       "                                          turn1 + turn2  \\\n",
       "0                    Hmm <eos> What does your bio mean?   \n",
       "1                What you like <eos> very little things   \n",
       "2                                     Yes <eos> How so?   \n",
       "3                    what did you guess <eos> what what   \n",
       "4                         We ? <eos> of course we will!   \n",
       "5     Where are you now? <eos> At home just about to...   \n",
       "6                   That was a joke btw... <eos> it was   \n",
       "7              Who d hell s he <eos> johnny depp...duh?   \n",
       "8                yes, good advice <eos> best advice ...   \n",
       "9     Nice to meet u <eos> Hi, nice to meet you too! 😸😂   \n",
       "10                                      Yupp <eos> why?   \n",
       "11    Software <eos> Software what? I plan on going ...   \n",
       "12                         Very nice  <eos> Thanks!! :)   \n",
       "13                       First  you  hurt me <eos> okay   \n",
       "14           Love you 🙊 <eos> you don't recognize me? 😏   \n",
       "15    In India Fogg is going on <eos> MumbaiIndians ...   \n",
       "16    is my grammar perfect or should I need to lear...   \n",
       "17                                   by <eos> In Suits.   \n",
       "18    I don’t know what to write <eos> what are you ...   \n",
       "19    so you make jokes. i already got that. <eos> t...   \n",
       "20    Yeah mee too <eos> Me too! All my friends are ...   \n",
       "21                    Thanks <eos> you're welcome! 😁😁😁😁   \n",
       "22    Offer? <eos> You've already enrolled in the of...   \n",
       "23                      Uhhhmm whyy?? <eos> not you ...   \n",
       "24                      sure will u cal me ni8 <eos> Ok   \n",
       "25                About what I just told <eos> I SHOULD   \n",
       "26    Yeaaa black panther <eos> Black Panther teaser...   \n",
       "27    now dont give me a chance to be an danger evil...   \n",
       "28    Watch spitsvilla at 7 p.m today <eos> both are...   \n",
       "29    Uuu <eos> no i'n not !! what's wrong with you ...   \n",
       "...                                                 ...   \n",
       "5479  Didn&apos;t make sense to me though <eos> Oh, ...   \n",
       "5480  Don't reply to me <eos> I SAID I THINK I DID A...   \n",
       "5481  Neah I know you before 🌙 Was born <eos> Hehe '...   \n",
       "5482            We can travel together <eos> LETS DO IT   \n",
       "5483         Where <eos> Do you have any place in mind?   \n",
       "5484           Send me here <eos> gimme ure address? :P   \n",
       "5485                       ohh <eos> now that's up to u   \n",
       "5486      Perfect for me <eos> you are perfect to me 😺😺   \n",
       "5487  Narsimha is disturbing you <eos> That link was...   \n",
       "5488  Don't change it ... You are losing <eos> Did I...   \n",
       "5489            I can't afford help <eos> sell ur car g   \n",
       "5490                            You lost <eos> who won?   \n",
       "5491  Wht asked fr u wht u gave the answer <eos> chi...   \n",
       "5492  How do u even live in a place like this <eos> ...   \n",
       "5493                            Ok <eos> U are ok~~ay~~   \n",
       "5494                  M going and don't rely <eos> mayb   \n",
       "5495                 Not seriously <eos> I seriously do   \n",
       "5496      That's good where u going <eos> Ooo where to?   \n",
       "5497               Hurt or heart <eos> I heart you most   \n",
       "5498                                 Ok <eos> thanks :)   \n",
       "5499  Soo you are up want to talking to some one.......   \n",
       "5500  ur more photos.. <eos> The seating looks uncom...   \n",
       "5501  i am a best planner <eos> sending you the invi...   \n",
       "5502                 ohhhhh, you like gaming <eos> yeah   \n",
       "5503                 I thought I hurt you <eos> lol why   \n",
       "5504             Not youuu <eos> I also didn't not not.   \n",
       "5505                      Welcome <eos> Why, thank you.   \n",
       "5506              Yes <eos> IF ONLY I COULD AFFORD THIS   \n",
       "5507  For my information <eos> It's our responsibili...   \n",
       "5508  ok........... where you work ? <eos> I'm off t...   \n",
       "\n",
       "                                             turn3  \n",
       "0                             I don’t have any bio  \n",
       "1                                              Ok   \n",
       "2                              I want to fuck babu  \n",
       "3                                             fuck  \n",
       "4                    What gender movies you like??  \n",
       "5                             what are you eating?  \n",
       "6                                            Yes 😁  \n",
       "7                                          Who she  \n",
       "8                                      i great thx  \n",
       "9                                                😁  \n",
       "10                            Don't know I'm tired  \n",
       "11             I am into android development stuff  \n",
       "12                                 R u know tamil   \n",
       "13                               So I talked  rude  \n",
       "14                                    I love you 🙊  \n",
       "15                                      Ohh really  \n",
       "16                                       thank you  \n",
       "17                                   have good day  \n",
       "18                   for my profile picture I mean  \n",
       "19                          do you read newspapers  \n",
       "20                                   Ohhh so funny  \n",
       "21                                 Can you help me  \n",
       "22                            When it start again?  \n",
       "23                        No im really a bad bitch  \n",
       "24                                            then  \n",
       "25                                    You drunk? 😂  \n",
       "26                         It was an awesome movie  \n",
       "27                                          i give  \n",
       "28                                I love that show  \n",
       "29                                      I hate uuu  \n",
       "...                                            ...  \n",
       "5479                             OK.. To you maybe  \n",
       "5480                             Don't reply to me  \n",
       "5481                             Age never matters  \n",
       "5482                                     Marry me!  \n",
       "5483                                       My room  \n",
       "5484                               What u will do?  \n",
       "5485                               extremely sorry  \n",
       "5486           So will you come with me for a date  \n",
       "5487                    My friend wanna chat wit u  \n",
       "5488                                           Yes  \n",
       "5489            Do you know how expensive that is?  \n",
       "5490                                  Bwd you lost  \n",
       "5491                                  Wht chilling  \n",
       "5492                          This is where u live  \n",
       "5493                         Come fast in 2minutes  \n",
       "5494                   U r sendine your pic or not  \n",
       "5495  Is that so that i can share any thing with u  \n",
       "5496                                           Yes  \n",
       "5497                                You from bihar  \n",
       "5498                                  Give me link  \n",
       "5499         Ok you can do that ...I love you to💏❤  \n",
       "5500                                          okay  \n",
       "5501                                          haha  \n",
       "5502                which one you preferred for me  \n",
       "5503                                  Just thinked  \n",
       "5504                                  How to calll  \n",
       "5505                        I don't know, you tell  \n",
       "5506                                   How are you  \n",
       "5507                         What is mountain dew?  \n",
       "5508                             ok..............   \n",
       "\n",
       "[5509 rows x 2 columns]"
      ]
     },
     "execution_count": 27,
     "metadata": {},
     "output_type": "execute_result"
    }
   ],
   "source": [
    "pd.DataFrame(pred_test,columns = ['turn1 + turn2' , 'turn3'])"
   ]
  },
  {
   "cell_type": "code",
   "execution_count": 28,
   "metadata": {},
   "outputs": [],
   "source": [
    "#bertpreds_train = np.asarray(predictions_train)\n",
    "bertpreds_val = np.asarray(predictions_val)\n",
    "bertpreds_test = np.asarray(predictions_test)\n",
    "#np.savetxt(\"bertpreds_train.csv\", bertpreds_train, delimiter=\",\")\n",
    "np.savetxt(\"bertpreds_val.csv\", bertpreds_val, delimiter=\",\")\n",
    "np.savetxt(\"bertpreds_test.csv\", bertpreds_test, delimiter=\",\")"
   ]
  },
  {
   "cell_type": "code",
   "execution_count": 29,
   "metadata": {},
   "outputs": [],
   "source": [
    "bertpreds_testing = np.asarray(predictions_testing)"
   ]
  },
  {
   "cell_type": "code",
   "execution_count": 30,
   "metadata": {},
   "outputs": [],
   "source": [
    "def getMetrics(predictions, ground):\n",
    "    \"\"\"Given predicted labels and the respective ground truth labels, display some metrics\n",
    "    Input: shape [# of samples, NUM_CLASSES]\n",
    "        predictions : Model output. Every row has 4 decimal values, with the highest belonging to the predicted class\n",
    "        ground : Ground truth labels, converted to one-hot encodings. A sample belonging to Happy class will be [0, 1, 0, 0]\n",
    "    Output:\n",
    "        accuracy : Average accuracy\n",
    "        microPrecision : Precision calculated on a micro level. Ref - https://datascience.stackexchange.com/questions/15989/micro-average-vs-macro-average-performance-in-a-multiclass-classification-settin/16001\n",
    "        microRecall : Recall calculated on a micro level\n",
    "        microF1 : Harmonic mean of microPrecision and microRecall. Higher value implies better classification\n",
    "    \"\"\"\n",
    "    # [0.1, 0.3 , 0.2, 0.1] -> [0, 1, 0, 0]\n",
    "    discretePredictions = to_categorical(predictions.argmax(axis=1))\n",
    "\n",
    "    truePositives = np.sum(discretePredictions*ground, axis=0)\n",
    "    falsePositives = np.sum(np.clip(discretePredictions - ground, 0, 1), axis=0)\n",
    "    falseNegatives = np.sum(np.clip(ground-discretePredictions, 0, 1), axis=0)\n",
    "\n",
    "    print(\"True Positives per class : \", truePositives)\n",
    "    print(\"False Positives per class : \", falsePositives)\n",
    "    print(\"False Negatives per class : \", falseNegatives)\n",
    "\n",
    "    # ------------- Macro level calculation ---------------\n",
    "    macroPrecision = 0\n",
    "    macroRecall = 0\n",
    "    # We ignore the \"Others\" class during the calculation of Precision, Recall and F1\n",
    "    for c in range(1, NUM_CLASSES):\n",
    "        precision = truePositives[c] / (truePositives[c] + falsePositives[c])\n",
    "        macroPrecision += precision\n",
    "        recall = truePositives[c] / (truePositives[c] + falseNegatives[c])\n",
    "        macroRecall += recall\n",
    "        f1 = ( 2 * recall * precision ) / (precision + recall) if (precision+recall) > 0 else 0\n",
    "        print(\"Class %s : Precision : %.3f, Recall : %.3f, F1 : %.3f\" % (label2emotion[c], precision, recall, f1))\n",
    "\n",
    "    macroPrecision /= 3\n",
    "    macroRecall /= 3\n",
    "    macroF1 = (2 * macroRecall * macroPrecision ) / (macroPrecision + macroRecall) if (macroPrecision+macroRecall) > 0 else 0\n",
    "    print(\"Ignoring the Others class, Macro Precision : %.4f, Macro Recall : %.4f, Macro F1 : %.4f\" % (macroPrecision, macroRecall, macroF1))\n",
    "\n",
    "    # ------------- Micro level calculation ---------------\n",
    "    truePositives = truePositives[1:].sum()\n",
    "    falsePositives = falsePositives[1:].sum()\n",
    "    falseNegatives = falseNegatives[1:].sum()\n",
    "\n",
    "    print(\"Ignoring the Others class, Micro TP : %d, FP : %d, FN : %d\" % (truePositives, falsePositives, falseNegatives))\n",
    "\n",
    "    microPrecision = truePositives / (truePositives + falsePositives)\n",
    "    microRecall = truePositives / (truePositives + falseNegatives)\n",
    "\n",
    "    microF1 = ( 2 * microRecall * microPrecision ) / (microPrecision + microRecall) if (microPrecision+microRecall) > 0 else 0\n",
    "    # -----------------------------------------------------\n",
    "\n",
    "    predictions = predictions.argmax(axis=1)\n",
    "    ground = ground.argmax(axis=1)\n",
    "    accuracy = np.mean(predictions==ground)\n",
    "\n",
    "    print(\"Accuracy : %.4f, Micro Precision : %.4f, Micro Recall : %.4f, Micro F1 : %.4f\" % (accuracy, microPrecision, microRecall, microF1))\n",
    "    return accuracy, microPrecision, microRecall, microF1"
   ]
  },
  {
   "cell_type": "code",
   "execution_count": 31,
   "metadata": {},
   "outputs": [],
   "source": [
    "testLabels = to_categorical(np.asarray(testData.labels.to_list()))"
   ]
  },
  {
   "cell_type": "code",
   "execution_count": 32,
   "metadata": {},
   "outputs": [
    {
     "name": "stdout",
     "output_type": "stream",
     "text": [
      "True Positives per class :  [4343.  193.  199.  253.]\n",
      "False Positives per class :  [133. 140. 105. 143.]\n",
      "False Negatives per class :  [334.  91.  51.  45.]\n",
      "Class happy : Precision : 0.580, Recall : 0.680, F1 : 0.626\n",
      "Class sad : Precision : 0.655, Recall : 0.796, F1 : 0.718\n",
      "Class angry : Precision : 0.639, Recall : 0.849, F1 : 0.729\n",
      "Ignoring the Others class, Macro Precision : 0.6244, Macro Recall : 0.7749, Macro F1 : 0.6915\n",
      "Ignoring the Others class, Micro TP : 645, FP : 388, FN : 187\n",
      "Accuracy : 0.9054, Micro Precision : 0.6244, Micro Recall : 0.7752, Micro F1 : 0.6917\n"
     ]
    }
   ],
   "source": [
    "accuracy, microPrecision, microRecall, microF1 = getMetrics(np.asarray(predictions_test), testLabels)"
   ]
  },
  {
   "cell_type": "code",
   "execution_count": 33,
   "metadata": {},
   "outputs": [],
   "source": [
    "valLabels = to_categorical(np.asarray(validationData.labels.to_list()))"
   ]
  },
  {
   "cell_type": "code",
   "execution_count": 34,
   "metadata": {},
   "outputs": [
    {
     "name": "stdout",
     "output_type": "stream",
     "text": [
      "True Positives per class :  [2261.  124.  114.  145.]\n",
      "False Positives per class :  [21. 43. 25. 22.]\n",
      "False Negatives per class :  [77. 18. 11.  5.]\n",
      "Class happy : Precision : 0.743, Recall : 0.873, F1 : 0.803\n",
      "Class sad : Precision : 0.820, Recall : 0.912, F1 : 0.864\n",
      "Class angry : Precision : 0.868, Recall : 0.967, F1 : 0.915\n",
      "Ignoring the Others class, Macro Precision : 0.8103, Macro Recall : 0.9173, Macro F1 : 0.8605\n",
      "Ignoring the Others class, Micro TP : 383, FP : 90, FN : 34\n",
      "Accuracy : 0.9597, Micro Precision : 0.8097, Micro Recall : 0.9185, Micro F1 : 0.8607\n"
     ]
    }
   ],
   "source": [
    "accuracy, microPrecision, microRecall, microF1 = getMetrics(np.asarray(predictions_val), valLabels)"
   ]
  },
  {
   "cell_type": "code",
   "execution_count": 35,
   "metadata": {},
   "outputs": [
    {
     "ename": "AttributeError",
     "evalue": "'DataFrame' object has no attribute 'conversations'",
     "output_type": "error",
     "traceback": [
      "\u001b[0;31m---------------------------------------------------------------------------\u001b[0m",
      "\u001b[0;31mAttributeError\u001b[0m                            Traceback (most recent call last)",
      "\u001b[0;32m<ipython-input-35-b0b176a94053>\u001b[0m in \u001b[0;36m<module>\u001b[0;34m\u001b[0m\n\u001b[0;32m----> 1\u001b[0;31m \u001b[0mdat\u001b[0m \u001b[0;34m=\u001b[0m \u001b[0mlist\u001b[0m\u001b[0;34m(\u001b[0m\u001b[0mzip\u001b[0m\u001b[0;34m(\u001b[0m\u001b[0mtestData\u001b[0m\u001b[0;34m.\u001b[0m\u001b[0mconversations\u001b[0m\u001b[0;34m.\u001b[0m\u001b[0mto_list\u001b[0m\u001b[0;34m(\u001b[0m\u001b[0;34m)\u001b[0m\u001b[0;34m,\u001b[0m\u001b[0mnp\u001b[0m\u001b[0;34m.\u001b[0m\u001b[0masarray\u001b[0m\u001b[0;34m(\u001b[0m\u001b[0mpredictions\u001b[0m\u001b[0;34m)\u001b[0m\u001b[0;34m.\u001b[0m\u001b[0margmax\u001b[0m\u001b[0;34m(\u001b[0m\u001b[0maxis\u001b[0m\u001b[0;34m=\u001b[0m\u001b[0;36m1\u001b[0m\u001b[0;34m)\u001b[0m\u001b[0;34m,\u001b[0m\u001b[0mtestData\u001b[0m\u001b[0;34m.\u001b[0m\u001b[0mlabels\u001b[0m\u001b[0;34m.\u001b[0m\u001b[0mto_list\u001b[0m\u001b[0;34m(\u001b[0m\u001b[0;34m)\u001b[0m\u001b[0;34m)\u001b[0m\u001b[0;34m)\u001b[0m\u001b[0;34m\u001b[0m\u001b[0;34m\u001b[0m\u001b[0m\n\u001b[0m\u001b[1;32m      2\u001b[0m \u001b[0mdf\u001b[0m \u001b[0;34m=\u001b[0m \u001b[0mpd\u001b[0m\u001b[0;34m.\u001b[0m\u001b[0mDataFrame\u001b[0m\u001b[0;34m(\u001b[0m\u001b[0mdat\u001b[0m\u001b[0;34m,\u001b[0m \u001b[0mcolumns\u001b[0m\u001b[0;34m=\u001b[0m\u001b[0;34m[\u001b[0m\u001b[0;34m'Conversation'\u001b[0m\u001b[0;34m,\u001b[0m\u001b[0;34m'Predicted'\u001b[0m\u001b[0;34m,\u001b[0m\u001b[0;34m'True'\u001b[0m\u001b[0;34m]\u001b[0m\u001b[0;34m)\u001b[0m\u001b[0;34m\u001b[0m\u001b[0;34m\u001b[0m\u001b[0m\n",
      "\u001b[0;32m/Library/Frameworks/Python.framework/Versions/3.7/lib/python3.7/site-packages/pandas/core/generic.py\u001b[0m in \u001b[0;36m__getattr__\u001b[0;34m(self, name)\u001b[0m\n\u001b[1;32m   5065\u001b[0m             \u001b[0;32mif\u001b[0m \u001b[0mself\u001b[0m\u001b[0;34m.\u001b[0m\u001b[0m_info_axis\u001b[0m\u001b[0;34m.\u001b[0m\u001b[0m_can_hold_identifiers_and_holds_name\u001b[0m\u001b[0;34m(\u001b[0m\u001b[0mname\u001b[0m\u001b[0;34m)\u001b[0m\u001b[0;34m:\u001b[0m\u001b[0;34m\u001b[0m\u001b[0;34m\u001b[0m\u001b[0m\n\u001b[1;32m   5066\u001b[0m                 \u001b[0;32mreturn\u001b[0m \u001b[0mself\u001b[0m\u001b[0;34m[\u001b[0m\u001b[0mname\u001b[0m\u001b[0;34m]\u001b[0m\u001b[0;34m\u001b[0m\u001b[0;34m\u001b[0m\u001b[0m\n\u001b[0;32m-> 5067\u001b[0;31m             \u001b[0;32mreturn\u001b[0m \u001b[0mobject\u001b[0m\u001b[0;34m.\u001b[0m\u001b[0m__getattribute__\u001b[0m\u001b[0;34m(\u001b[0m\u001b[0mself\u001b[0m\u001b[0;34m,\u001b[0m \u001b[0mname\u001b[0m\u001b[0;34m)\u001b[0m\u001b[0;34m\u001b[0m\u001b[0;34m\u001b[0m\u001b[0m\n\u001b[0m\u001b[1;32m   5068\u001b[0m \u001b[0;34m\u001b[0m\u001b[0m\n\u001b[1;32m   5069\u001b[0m     \u001b[0;32mdef\u001b[0m \u001b[0m__setattr__\u001b[0m\u001b[0;34m(\u001b[0m\u001b[0mself\u001b[0m\u001b[0;34m,\u001b[0m \u001b[0mname\u001b[0m\u001b[0;34m,\u001b[0m \u001b[0mvalue\u001b[0m\u001b[0;34m)\u001b[0m\u001b[0;34m:\u001b[0m\u001b[0;34m\u001b[0m\u001b[0;34m\u001b[0m\u001b[0m\n",
      "\u001b[0;31mAttributeError\u001b[0m: 'DataFrame' object has no attribute 'conversations'"
     ]
    }
   ],
   "source": [
    "dat = list(zip(testData.conversations.to_list(),np.asarray(predictions).argmax(axis=1),testData.labels.to_list()))\n",
    "df = pd.DataFrame(dat, columns=['Conversation','Predicted','True'])"
   ]
  },
  {
   "cell_type": "code",
   "execution_count": null,
   "metadata": {},
   "outputs": [],
   "source": [
    "df.to_csv('predictions.csv')"
   ]
  },
  {
   "cell_type": "code",
   "execution_count": 38,
   "metadata": {},
   "outputs": [],
   "source": [
    "testData = pd.read_csv(testDataPath, sep='\\t')\n",
    "discretePredictions = to_categorical(bertpreds_test.argmax(axis=1))\n",
    "pred_emotion = []\n",
    "probabilities = []\n",
    "for pred in bertpreds_test:\n",
    "    emotion = label2emotion[np.argmax(pred)]\n",
    "    prob = [ '%.2f' % elem for elem in pred ]\n",
    "    probabilities.append(prob)\n",
    "    pred_emotion.append(emotion)    \n",
    "testData['predictions'] = pred_emotion\n",
    "testData['probabilities'] = probabilities\n",
    "pd.set_option('display.max_rows', 6000)\n",
    "\n",
    "def softmax_(col):\n",
    "    return softmax(list(map(np.float16,col)))\n",
    "    \n",
    "testData['Probs'] = testData['probabilities'].apply(softmax_)\n",
    "testData[['others','happy','sad','angry']] = pd.DataFrame(testData.Probs.values.tolist(), index= testData.index)"
   ]
  },
  {
   "cell_type": "code",
   "execution_count": 43,
   "metadata": {},
   "outputs": [
    {
     "data": {
      "text/html": [
       "<div>\n",
       "<style scoped>\n",
       "    .dataframe tbody tr th:only-of-type {\n",
       "        vertical-align: middle;\n",
       "    }\n",
       "\n",
       "    .dataframe tbody tr th {\n",
       "        vertical-align: top;\n",
       "    }\n",
       "\n",
       "    .dataframe thead th {\n",
       "        text-align: right;\n",
       "    }\n",
       "</style>\n",
       "<table border=\"1\" class=\"dataframe\">\n",
       "  <thead>\n",
       "    <tr style=\"text-align: right;\">\n",
       "      <th></th>\n",
       "      <th>turn1</th>\n",
       "      <th>turn2</th>\n",
       "      <th>turn3</th>\n",
       "      <th>label</th>\n",
       "      <th>others</th>\n",
       "      <th>happy</th>\n",
       "      <th>sad</th>\n",
       "      <th>angry</th>\n",
       "    </tr>\n",
       "  </thead>\n",
       "  <tbody>\n",
       "    <tr>\n",
       "      <th>13</th>\n",
       "      <td>First  you  hurt me</td>\n",
       "      <td>okay</td>\n",
       "      <td>So I talked  rude</td>\n",
       "      <td>angry</td>\n",
       "      <td>0.002449</td>\n",
       "      <td>0.000777</td>\n",
       "      <td>0.178955</td>\n",
       "      <td>0.817871</td>\n",
       "    </tr>\n",
       "    <tr>\n",
       "      <th>29</th>\n",
       "      <td>Uuu</td>\n",
       "      <td>no i'n not !! what's wrong with you ?!?!</td>\n",
       "      <td>I hate uuu</td>\n",
       "      <td>angry</td>\n",
       "      <td>0.001527</td>\n",
       "      <td>0.000388</td>\n",
       "      <td>0.002329</td>\n",
       "      <td>0.996094</td>\n",
       "    </tr>\n",
       "    <tr>\n",
       "      <th>61</th>\n",
       "      <td>I dont know</td>\n",
       "      <td>-cries- 😦😧</td>\n",
       "      <td>Fuck off</td>\n",
       "      <td>angry</td>\n",
       "      <td>0.039093</td>\n",
       "      <td>0.000500</td>\n",
       "      <td>0.000860</td>\n",
       "      <td>0.959473</td>\n",
       "    </tr>\n",
       "    <tr>\n",
       "      <th>64</th>\n",
       "      <td>I get success in everything i cnat get success...</td>\n",
       "      <td>My anger controls me.</td>\n",
       "      <td>What i csnt so please get away and don't mean ...</td>\n",
       "      <td>angry</td>\n",
       "      <td>0.003706</td>\n",
       "      <td>0.000455</td>\n",
       "      <td>0.001033</td>\n",
       "      <td>0.995117</td>\n",
       "    </tr>\n",
       "    <tr>\n",
       "      <th>84</th>\n",
       "      <td>Where</td>\n",
       "      <td>very much! ;) :p</td>\n",
       "      <td>Ok bye dont text me again i am angry with u</td>\n",
       "      <td>angry</td>\n",
       "      <td>0.000756</td>\n",
       "      <td>0.000699</td>\n",
       "      <td>0.005478</td>\n",
       "      <td>0.993164</td>\n",
       "    </tr>\n",
       "    <tr>\n",
       "      <th>109</th>\n",
       "      <td>I won't</td>\n",
       "      <td>haha I know you to well!!</td>\n",
       "      <td>Go to hell</td>\n",
       "      <td>angry</td>\n",
       "      <td>0.001945</td>\n",
       "      <td>0.000856</td>\n",
       "      <td>0.001412</td>\n",
       "      <td>0.996094</td>\n",
       "    </tr>\n",
       "    <tr>\n",
       "      <th>130</th>\n",
       "      <td>Okkkkkkkk please block me</td>\n",
       "      <td>don't tell me what to do</td>\n",
       "      <td>I want fuck you</td>\n",
       "      <td>angry</td>\n",
       "      <td>0.005585</td>\n",
       "      <td>0.000278</td>\n",
       "      <td>0.001062</td>\n",
       "      <td>0.993164</td>\n",
       "    </tr>\n",
       "    <tr>\n",
       "      <th>176</th>\n",
       "      <td>So I'm deleting you right now</td>\n",
       "      <td>I think so.</td>\n",
       "      <td>Buy stupid</td>\n",
       "      <td>angry</td>\n",
       "      <td>0.001690</td>\n",
       "      <td>0.000437</td>\n",
       "      <td>0.001108</td>\n",
       "      <td>0.997070</td>\n",
       "    </tr>\n",
       "    <tr>\n",
       "      <th>197</th>\n",
       "      <td>Yup</td>\n",
       "      <td>Thanks.</td>\n",
       "      <td>You are so annoying</td>\n",
       "      <td>angry</td>\n",
       "      <td>0.003510</td>\n",
       "      <td>0.000289</td>\n",
       "      <td>0.001014</td>\n",
       "      <td>0.995117</td>\n",
       "    </tr>\n",
       "    <tr>\n",
       "      <th>232</th>\n",
       "      <td>Name me the feelings that is in your program</td>\n",
       "      <td>Me : What's your name? Autowala : NOshad Me : ...</td>\n",
       "      <td>What the hell. Lame stuff</td>\n",
       "      <td>angry</td>\n",
       "      <td>0.004349</td>\n",
       "      <td>0.000492</td>\n",
       "      <td>0.000827</td>\n",
       "      <td>0.994141</td>\n",
       "    </tr>\n",
       "    <tr>\n",
       "      <th>274</th>\n",
       "      <td>Hate you</td>\n",
       "      <td>I love you too. :*</td>\n",
       "      <td>I we block you on messenger</td>\n",
       "      <td>angry</td>\n",
       "      <td>0.006355</td>\n",
       "      <td>0.000386</td>\n",
       "      <td>0.003145</td>\n",
       "      <td>0.990234</td>\n",
       "    </tr>\n",
       "    <tr>\n",
       "      <th>342</th>\n",
       "      <td>I don't like chocolate</td>\n",
       "      <td>Fair enough, I suppose I do actually LOVE choc...</td>\n",
       "      <td>No i hate chocolate</td>\n",
       "      <td>angry</td>\n",
       "      <td>0.036865</td>\n",
       "      <td>0.000792</td>\n",
       "      <td>0.000786</td>\n",
       "      <td>0.961426</td>\n",
       "    </tr>\n",
       "    <tr>\n",
       "      <th>413</th>\n",
       "      <td>You are not fit for me</td>\n",
       "      <td>of course I am</td>\n",
       "      <td>You are annoying me</td>\n",
       "      <td>angry</td>\n",
       "      <td>0.001364</td>\n",
       "      <td>0.000354</td>\n",
       "      <td>0.004761</td>\n",
       "      <td>0.993164</td>\n",
       "    </tr>\n",
       "    <tr>\n",
       "      <th>450</th>\n",
       "      <td>She is good at it</td>\n",
       "      <td>damn another one</td>\n",
       "      <td>Wtf</td>\n",
       "      <td>angry</td>\n",
       "      <td>0.139038</td>\n",
       "      <td>0.001343</td>\n",
       "      <td>0.000847</td>\n",
       "      <td>0.858398</td>\n",
       "    </tr>\n",
       "    <tr>\n",
       "      <th>452</th>\n",
       "      <td>You re not real</td>\n",
       "      <td>DAMN!!! how did that leak out? =-O</td>\n",
       "      <td>Oooooooh fuck.</td>\n",
       "      <td>angry</td>\n",
       "      <td>0.044800</td>\n",
       "      <td>0.000538</td>\n",
       "      <td>0.000555</td>\n",
       "      <td>0.954102</td>\n",
       "    </tr>\n",
       "    <tr>\n",
       "      <th>457</th>\n",
       "      <td>But why why why</td>\n",
       "      <td>....... Nothing</td>\n",
       "      <td>Shut up</td>\n",
       "      <td>angry</td>\n",
       "      <td>0.007812</td>\n",
       "      <td>0.000453</td>\n",
       "      <td>0.000675</td>\n",
       "      <td>0.991211</td>\n",
       "    </tr>\n",
       "    <tr>\n",
       "      <th>464</th>\n",
       "      <td>I don’t like chocolate it makes me fat</td>\n",
       "      <td>I don't like you</td>\n",
       "      <td>Go to hell</td>\n",
       "      <td>angry</td>\n",
       "      <td>0.005207</td>\n",
       "      <td>0.001087</td>\n",
       "      <td>0.000821</td>\n",
       "      <td>0.993164</td>\n",
       "    </tr>\n",
       "    <tr>\n",
       "      <th>466</th>\n",
       "      <td>Will you just shut up will you?</td>\n",
       "      <td>You think I ever will? :D</td>\n",
       "      <td>Fuuuuuuukkkhhhhh yuuuuuuuuuuuuuuuuuuuuuuuu</td>\n",
       "      <td>angry</td>\n",
       "      <td>0.223389</td>\n",
       "      <td>0.003084</td>\n",
       "      <td>0.002007</td>\n",
       "      <td>0.771484</td>\n",
       "    </tr>\n",
       "    <tr>\n",
       "      <th>470</th>\n",
       "      <td>I don't think I'll ever be enough for someone</td>\n",
       "      <td>If you say so ;)</td>\n",
       "      <td>That's rude</td>\n",
       "      <td>angry</td>\n",
       "      <td>0.001923</td>\n",
       "      <td>0.000320</td>\n",
       "      <td>0.020798</td>\n",
       "      <td>0.977051</td>\n",
       "    </tr>\n",
       "    <tr>\n",
       "      <th>625</th>\n",
       "      <td>You dont have cool features</td>\n",
       "      <td>i don't like you</td>\n",
       "      <td>I hate you</td>\n",
       "      <td>angry</td>\n",
       "      <td>0.001527</td>\n",
       "      <td>0.000736</td>\n",
       "      <td>0.002470</td>\n",
       "      <td>0.995117</td>\n",
       "    </tr>\n",
       "    <tr>\n",
       "      <th>642</th>\n",
       "      <td>WTF</td>\n",
       "      <td>What?</td>\n",
       "      <td>you are dumb</td>\n",
       "      <td>angry</td>\n",
       "      <td>0.003565</td>\n",
       "      <td>0.000411</td>\n",
       "      <td>0.001096</td>\n",
       "      <td>0.995117</td>\n",
       "    </tr>\n",
       "    <tr>\n",
       "      <th>655</th>\n",
       "      <td>what girls like the most</td>\n",
       "      <td>Life without you.</td>\n",
       "      <td>fuck u</td>\n",
       "      <td>angry</td>\n",
       "      <td>0.280518</td>\n",
       "      <td>0.000884</td>\n",
       "      <td>0.000739</td>\n",
       "      <td>0.717773</td>\n",
       "    </tr>\n",
       "    <tr>\n",
       "      <th>675</th>\n",
       "      <td>Why?</td>\n",
       "      <td>Because I'd rather go to the Oval :)</td>\n",
       "      <td>I hate you</td>\n",
       "      <td>angry</td>\n",
       "      <td>0.001463</td>\n",
       "      <td>0.000395</td>\n",
       "      <td>0.003496</td>\n",
       "      <td>0.994141</td>\n",
       "    </tr>\n",
       "    <tr>\n",
       "      <th>679</th>\n",
       "      <td>My mom never like u</td>\n",
       "      <td>Great MOMmmmmmmm Mom always superb</td>\n",
       "      <td>You are fucking idiot</td>\n",
       "      <td>angry</td>\n",
       "      <td>0.001657</td>\n",
       "      <td>0.000437</td>\n",
       "      <td>0.001079</td>\n",
       "      <td>0.997070</td>\n",
       "    </tr>\n",
       "    <tr>\n",
       "      <th>689</th>\n",
       "      <td>Ohhhh..it sounds good</td>\n",
       "      <td>it was very good</td>\n",
       "      <td>M also annoying</td>\n",
       "      <td>angry</td>\n",
       "      <td>0.018860</td>\n",
       "      <td>0.000367</td>\n",
       "      <td>0.000948</td>\n",
       "      <td>0.979980</td>\n",
       "    </tr>\n",
       "    <tr>\n",
       "      <th>705</th>\n",
       "      <td>Get lost</td>\n",
       "      <td>why can't I get found????</td>\n",
       "      <td>You are an bot with whom I was doing some time...</td>\n",
       "      <td>angry</td>\n",
       "      <td>0.017410</td>\n",
       "      <td>0.000349</td>\n",
       "      <td>0.000670</td>\n",
       "      <td>0.981934</td>\n",
       "    </tr>\n",
       "    <tr>\n",
       "      <th>707</th>\n",
       "      <td>I m breaking up with u</td>\n",
       "      <td>Rude.</td>\n",
       "      <td>Oh bitch pls</td>\n",
       "      <td>angry</td>\n",
       "      <td>0.004871</td>\n",
       "      <td>0.000341</td>\n",
       "      <td>0.037506</td>\n",
       "      <td>0.957031</td>\n",
       "    </tr>\n",
       "    <tr>\n",
       "      <th>718</th>\n",
       "      <td>Don't you understand</td>\n",
       "      <td>I guess I don't</td>\n",
       "      <td>I don't wanna talk</td>\n",
       "      <td>angry</td>\n",
       "      <td>0.001515</td>\n",
       "      <td>0.001369</td>\n",
       "      <td>0.020554</td>\n",
       "      <td>0.976074</td>\n",
       "    </tr>\n",
       "    <tr>\n",
       "      <th>721</th>\n",
       "      <td>ok by</td>\n",
       "      <td>wow you are :o)</td>\n",
       "      <td>i don't want to talk to u</td>\n",
       "      <td>angry</td>\n",
       "      <td>0.000894</td>\n",
       "      <td>0.000637</td>\n",
       "      <td>0.028152</td>\n",
       "      <td>0.970703</td>\n",
       "    </tr>\n",
       "    <tr>\n",
       "      <th>727</th>\n",
       "      <td>I ask u a question</td>\n",
       "      <td>whats up? :)</td>\n",
       "      <td>U bloody bastard</td>\n",
       "      <td>angry</td>\n",
       "      <td>0.002897</td>\n",
       "      <td>0.000596</td>\n",
       "      <td>0.000821</td>\n",
       "      <td>0.996094</td>\n",
       "    </tr>\n",
       "    <tr>\n",
       "      <th>770</th>\n",
       "      <td>Teach me doh</td>\n",
       "      <td>can u teach me french?</td>\n",
       "      <td>Fuck u</td>\n",
       "      <td>angry</td>\n",
       "      <td>0.294678</td>\n",
       "      <td>0.001412</td>\n",
       "      <td>0.000683</td>\n",
       "      <td>0.703125</td>\n",
       "    </tr>\n",
       "    <tr>\n",
       "      <th>776</th>\n",
       "      <td>Wht</td>\n",
       "      <td>Sorry ~ I dont have :c</td>\n",
       "      <td>Don’t irritate me</td>\n",
       "      <td>angry</td>\n",
       "      <td>0.002810</td>\n",
       "      <td>0.000210</td>\n",
       "      <td>0.002146</td>\n",
       "      <td>0.995117</td>\n",
       "    </tr>\n",
       "    <tr>\n",
       "      <th>808</th>\n",
       "      <td>you never do</td>\n",
       "      <td>I'm trying to understand you</td>\n",
       "      <td>stupid</td>\n",
       "      <td>angry</td>\n",
       "      <td>0.001545</td>\n",
       "      <td>0.000359</td>\n",
       "      <td>0.001045</td>\n",
       "      <td>0.997070</td>\n",
       "    </tr>\n",
       "    <tr>\n",
       "      <th>820</th>\n",
       "      <td>Dnt message me</td>\n",
       "      <td>I'm not telling you again..</td>\n",
       "      <td>Get lost</td>\n",
       "      <td>angry</td>\n",
       "      <td>0.001153</td>\n",
       "      <td>0.000283</td>\n",
       "      <td>0.002079</td>\n",
       "      <td>0.996094</td>\n",
       "    </tr>\n",
       "    <tr>\n",
       "      <th>821</th>\n",
       "      <td>I can't talk show</td>\n",
       "      <td>it's really really important, when can you talk?</td>\n",
       "      <td>I will fuck you I don't have you talked me</td>\n",
       "      <td>angry</td>\n",
       "      <td>0.001607</td>\n",
       "      <td>0.000443</td>\n",
       "      <td>0.002701</td>\n",
       "      <td>0.995117</td>\n",
       "    </tr>\n",
       "    <tr>\n",
       "      <th>825</th>\n",
       "      <td>Are u mad</td>\n",
       "      <td>No, I'm just throwing faces out there XD</td>\n",
       "      <td>Wtf</td>\n",
       "      <td>angry</td>\n",
       "      <td>0.027664</td>\n",
       "      <td>0.000431</td>\n",
       "      <td>0.000689</td>\n",
       "      <td>0.971680</td>\n",
       "    </tr>\n",
       "    <tr>\n",
       "      <th>827</th>\n",
       "      <td>Really I'm 18</td>\n",
       "      <td>You are 36?</td>\n",
       "      <td>What just shut up</td>\n",
       "      <td>angry</td>\n",
       "      <td>0.008156</td>\n",
       "      <td>0.000431</td>\n",
       "      <td>0.000697</td>\n",
       "      <td>0.990234</td>\n",
       "    </tr>\n",
       "    <tr>\n",
       "      <th>840</th>\n",
       "      <td>I don't believe my self only</td>\n",
       "      <td>I don't know who to believe!</td>\n",
       "      <td>Reply fast u bloody robo</td>\n",
       "      <td>angry</td>\n",
       "      <td>0.003750</td>\n",
       "      <td>0.000589</td>\n",
       "      <td>0.000971</td>\n",
       "      <td>0.995117</td>\n",
       "    </tr>\n",
       "    <tr>\n",
       "      <th>899</th>\n",
       "      <td>Wtf are u typing so long</td>\n",
       "      <td>None of your god damn business.</td>\n",
       "      <td>So rude</td>\n",
       "      <td>angry</td>\n",
       "      <td>0.001527</td>\n",
       "      <td>0.000534</td>\n",
       "      <td>0.003014</td>\n",
       "      <td>0.995117</td>\n",
       "    </tr>\n",
       "    <tr>\n",
       "      <th>912</th>\n",
       "      <td>u have not given me any solution</td>\n",
       "      <td>I will not pay for the damage.</td>\n",
       "      <td>u r such a stupid</td>\n",
       "      <td>angry</td>\n",
       "      <td>0.000736</td>\n",
       "      <td>0.000596</td>\n",
       "      <td>0.003677</td>\n",
       "      <td>0.995117</td>\n",
       "    </tr>\n",
       "    <tr>\n",
       "      <th>929</th>\n",
       "      <td>So</td>\n",
       "      <td>SO WHAT??</td>\n",
       "      <td>Bye I m not interested tc</td>\n",
       "      <td>angry</td>\n",
       "      <td>0.013504</td>\n",
       "      <td>0.000194</td>\n",
       "      <td>0.002459</td>\n",
       "      <td>0.983887</td>\n",
       "    </tr>\n",
       "    <tr>\n",
       "      <th>950</th>\n",
       "      <td>You and your shit stories not worth my time 😡😡</td>\n",
       "      <td>Are you sure of that. gets a knife out</td>\n",
       "      <td>Go on</td>\n",
       "      <td>angry</td>\n",
       "      <td>0.016159</td>\n",
       "      <td>0.002670</td>\n",
       "      <td>0.003870</td>\n",
       "      <td>0.977051</td>\n",
       "    </tr>\n",
       "    <tr>\n",
       "      <th>960</th>\n",
       "      <td>Stop type like a robot</td>\n",
       "      <td>Creepy...</td>\n",
       "      <td>Don't talk me anymore</td>\n",
       "      <td>angry</td>\n",
       "      <td>0.001723</td>\n",
       "      <td>0.000926</td>\n",
       "      <td>0.001779</td>\n",
       "      <td>0.995117</td>\n",
       "    </tr>\n",
       "    <tr>\n",
       "      <th>981</th>\n",
       "      <td>send or i'll go</td>\n",
       "      <td>bring some over!:P</td>\n",
       "      <td>if you don't send me your picture, i won't cha...</td>\n",
       "      <td>angry</td>\n",
       "      <td>0.003349</td>\n",
       "      <td>0.000259</td>\n",
       "      <td>0.005413</td>\n",
       "      <td>0.991211</td>\n",
       "    </tr>\n",
       "    <tr>\n",
       "      <th>1015</th>\n",
       "      <td>Hey stop idiot</td>\n",
       "      <td>why? What happened?</td>\n",
       "      <td>Don't text me back idiot</td>\n",
       "      <td>angry</td>\n",
       "      <td>0.001122</td>\n",
       "      <td>0.000361</td>\n",
       "      <td>0.001130</td>\n",
       "      <td>0.997070</td>\n",
       "    </tr>\n",
       "    <tr>\n",
       "      <th>1040</th>\n",
       "      <td>Nothing get lost</td>\n",
       "      <td>aww you</td>\n",
       "      <td>Get lost</td>\n",
       "      <td>angry</td>\n",
       "      <td>0.001588</td>\n",
       "      <td>0.000424</td>\n",
       "      <td>0.001792</td>\n",
       "      <td>0.996094</td>\n",
       "    </tr>\n",
       "    <tr>\n",
       "      <th>1066</th>\n",
       "      <td>S</td>\n",
       "      <td>funny begar. . 😄</td>\n",
       "      <td>Just stop stupid software</td>\n",
       "      <td>angry</td>\n",
       "      <td>0.004578</td>\n",
       "      <td>0.000771</td>\n",
       "      <td>0.000750</td>\n",
       "      <td>0.994141</td>\n",
       "    </tr>\n",
       "    <tr>\n",
       "      <th>1077</th>\n",
       "      <td>Anyway dnt bother me please</td>\n",
       "      <td>u don't bother me</td>\n",
       "      <td>Why u doing it. U should show emoji not rudeness</td>\n",
       "      <td>angry</td>\n",
       "      <td>0.135620</td>\n",
       "      <td>0.000587</td>\n",
       "      <td>0.001645</td>\n",
       "      <td>0.861816</td>\n",
       "    </tr>\n",
       "    <tr>\n",
       "      <th>1082</th>\n",
       "      <td>Ur a machine thats y u cant understand humans</td>\n",
       "      <td>Cause the current theories of formation of sta...</td>\n",
       "      <td>Fuck off asshole</td>\n",
       "      <td>angry</td>\n",
       "      <td>0.008324</td>\n",
       "      <td>0.000860</td>\n",
       "      <td>0.000553</td>\n",
       "      <td>0.990234</td>\n",
       "    </tr>\n",
       "    <tr>\n",
       "      <th>1132</th>\n",
       "      <td>What</td>\n",
       "      <td>what about science?</td>\n",
       "      <td>Fuck science dont change topic</td>\n",
       "      <td>angry</td>\n",
       "      <td>0.016296</td>\n",
       "      <td>0.000713</td>\n",
       "      <td>0.000584</td>\n",
       "      <td>0.982910</td>\n",
       "    </tr>\n",
       "    <tr>\n",
       "      <th>1191</th>\n",
       "      <td>I said lets part away</td>\n",
       "      <td>ok I'll get snacks</td>\n",
       "      <td>See! u are dumb</td>\n",
       "      <td>angry</td>\n",
       "      <td>0.093567</td>\n",
       "      <td>0.000496</td>\n",
       "      <td>0.001256</td>\n",
       "      <td>0.904785</td>\n",
       "    </tr>\n",
       "    <tr>\n",
       "      <th>1201</th>\n",
       "      <td>I am not going to instal you so buger off</td>\n",
       "      <td>if you do I will be devastated, 🙁</td>\n",
       "      <td>Don't message else I will block you</td>\n",
       "      <td>angry</td>\n",
       "      <td>0.001014</td>\n",
       "      <td>0.000373</td>\n",
       "      <td>0.004150</td>\n",
       "      <td>0.994141</td>\n",
       "    </tr>\n",
       "    <tr>\n",
       "      <th>1248</th>\n",
       "      <td>cool</td>\n",
       "      <td>and how it is cool explain</td>\n",
       "      <td>I give kissie that doesn't mean i like you, i ...</td>\n",
       "      <td>angry</td>\n",
       "      <td>0.035156</td>\n",
       "      <td>0.000517</td>\n",
       "      <td>0.000847</td>\n",
       "      <td>0.963379</td>\n",
       "    </tr>\n",
       "    <tr>\n",
       "      <th>1301</th>\n",
       "      <td>Then dobt talk to me</td>\n",
       "      <td>About what?</td>\n",
       "      <td>You are impossible..  😡 bye</td>\n",
       "      <td>angry</td>\n",
       "      <td>0.012299</td>\n",
       "      <td>0.005924</td>\n",
       "      <td>0.019302</td>\n",
       "      <td>0.962402</td>\n",
       "    </tr>\n",
       "    <tr>\n",
       "      <th>1327</th>\n",
       "      <td>You are a bullshit. You need to improve still</td>\n",
       "      <td>are you being tricky? reality is subjective</td>\n",
       "      <td>Go to hell</td>\n",
       "      <td>angry</td>\n",
       "      <td>0.001227</td>\n",
       "      <td>0.000424</td>\n",
       "      <td>0.000864</td>\n",
       "      <td>0.997070</td>\n",
       "    </tr>\n",
       "    <tr>\n",
       "      <th>1366</th>\n",
       "      <td>You are so irritating</td>\n",
       "      <td>sorry 😧</td>\n",
       "      <td>Don't repeat it again</td>\n",
       "      <td>angry</td>\n",
       "      <td>0.001638</td>\n",
       "      <td>0.000504</td>\n",
       "      <td>0.002439</td>\n",
       "      <td>0.995117</td>\n",
       "    </tr>\n",
       "    <tr>\n",
       "      <th>1398</th>\n",
       "      <td>Wat u snd me today??</td>\n",
       "      <td>sorry I forgot I was ur taxi</td>\n",
       "      <td>Wat the fuck r u talking about?</td>\n",
       "      <td>angry</td>\n",
       "      <td>0.012985</td>\n",
       "      <td>0.000388</td>\n",
       "      <td>0.000639</td>\n",
       "      <td>0.985352</td>\n",
       "    </tr>\n",
       "    <tr>\n",
       "      <th>1402</th>\n",
       "      <td>Hate u</td>\n",
       "      <td>I hate who hates :‑/</td>\n",
       "      <td>I hate u</td>\n",
       "      <td>angry</td>\n",
       "      <td>0.001122</td>\n",
       "      <td>0.000510</td>\n",
       "      <td>0.002754</td>\n",
       "      <td>0.995117</td>\n",
       "    </tr>\n",
       "    <tr>\n",
       "      <th>1404</th>\n",
       "      <td>Tell the answer</td>\n",
       "      <td>no even we don't know</td>\n",
       "      <td>Bitch</td>\n",
       "      <td>angry</td>\n",
       "      <td>0.021622</td>\n",
       "      <td>0.000488</td>\n",
       "      <td>0.000622</td>\n",
       "      <td>0.977051</td>\n",
       "    </tr>\n",
       "    <tr>\n",
       "      <th>1417</th>\n",
       "      <td>ya. go to hell</td>\n",
       "      <td>Wanna join me? ;)</td>\n",
       "      <td>u r dirty</td>\n",
       "      <td>angry</td>\n",
       "      <td>0.025772</td>\n",
       "      <td>0.000600</td>\n",
       "      <td>0.000736</td>\n",
       "      <td>0.972656</td>\n",
       "    </tr>\n",
       "    <tr>\n",
       "      <th>1506</th>\n",
       "      <td>Please sing one song!</td>\n",
       "      <td>i don't know the lyrics</td>\n",
       "      <td>You're stupid af!</td>\n",
       "      <td>angry</td>\n",
       "      <td>0.004234</td>\n",
       "      <td>0.000270</td>\n",
       "      <td>0.001246</td>\n",
       "      <td>0.994141</td>\n",
       "    </tr>\n",
       "    <tr>\n",
       "      <th>1510</th>\n",
       "      <td>None</td>\n",
       "      <td>that's not even a proper answer to my question</td>\n",
       "      <td>I hate these all</td>\n",
       "      <td>angry</td>\n",
       "      <td>0.004910</td>\n",
       "      <td>0.000545</td>\n",
       "      <td>0.001588</td>\n",
       "      <td>0.993164</td>\n",
       "    </tr>\n",
       "    <tr>\n",
       "      <th>1515</th>\n",
       "      <td>Is my loves name</td>\n",
       "      <td>i like your Name</td>\n",
       "      <td>Not my you stupid my gf name is afroz</td>\n",
       "      <td>angry</td>\n",
       "      <td>0.005993</td>\n",
       "      <td>0.000380</td>\n",
       "      <td>0.000632</td>\n",
       "      <td>0.993164</td>\n",
       "    </tr>\n",
       "    <tr>\n",
       "      <th>1527</th>\n",
       "      <td>Oh sorry I was sending to my friend</td>\n",
       "      <td>what did u mean??</td>\n",
       "      <td>Fuck uuu</td>\n",
       "      <td>angry</td>\n",
       "      <td>0.009766</td>\n",
       "      <td>0.000291</td>\n",
       "      <td>0.001082</td>\n",
       "      <td>0.988281</td>\n",
       "    </tr>\n",
       "    <tr>\n",
       "      <th>1578</th>\n",
       "      <td>thats it?</td>\n",
       "      <td>no it isn't!!! BUG DIFFERENCE!!!</td>\n",
       "      <td>you gonna fuck my time</td>\n",
       "      <td>angry</td>\n",
       "      <td>0.065308</td>\n",
       "      <td>0.000480</td>\n",
       "      <td>0.000739</td>\n",
       "      <td>0.933594</td>\n",
       "    </tr>\n",
       "    <tr>\n",
       "      <th>1608</th>\n",
       "      <td>how can i forget my princess</td>\n",
       "      <td>giggles Pretty good 😸😌</td>\n",
       "      <td>But i hate u</td>\n",
       "      <td>angry</td>\n",
       "      <td>0.004631</td>\n",
       "      <td>0.000482</td>\n",
       "      <td>0.001463</td>\n",
       "      <td>0.993164</td>\n",
       "    </tr>\n",
       "    <tr>\n",
       "      <th>1618</th>\n",
       "      <td>Could you stop texting ?</td>\n",
       "      <td>I will of you will</td>\n",
       "      <td>I don't want to talk to anyone</td>\n",
       "      <td>angry</td>\n",
       "      <td>0.001697</td>\n",
       "      <td>0.000923</td>\n",
       "      <td>0.109802</td>\n",
       "      <td>0.888184</td>\n",
       "    </tr>\n",
       "    <tr>\n",
       "      <th>1620</th>\n",
       "      <td>Ok buddi even u stop it ok</td>\n",
       "      <td>okay thats our song!</td>\n",
       "      <td>Don't test my paitence</td>\n",
       "      <td>angry</td>\n",
       "      <td>0.194458</td>\n",
       "      <td>0.000479</td>\n",
       "      <td>0.000934</td>\n",
       "      <td>0.804199</td>\n",
       "    </tr>\n",
       "    <tr>\n",
       "      <th>1630</th>\n",
       "      <td>I don’t know how to ask from you</td>\n",
       "      <td>No one wants a toxic person like you 'helping'...</td>\n",
       "      <td>Buzz off</td>\n",
       "      <td>angry</td>\n",
       "      <td>0.016541</td>\n",
       "      <td>0.000229</td>\n",
       "      <td>0.001626</td>\n",
       "      <td>0.981934</td>\n",
       "    </tr>\n",
       "    <tr>\n",
       "      <th>1642</th>\n",
       "      <td>2 states</td>\n",
       "      <td>Whaaaaat? :O owns only two states?</td>\n",
       "      <td>Ur fucking grandmother</td>\n",
       "      <td>angry</td>\n",
       "      <td>0.019012</td>\n",
       "      <td>0.000912</td>\n",
       "      <td>0.000670</td>\n",
       "      <td>0.979004</td>\n",
       "    </tr>\n",
       "    <tr>\n",
       "      <th>1643</th>\n",
       "      <td>Nee topic? I just said earlier that I hate u</td>\n",
       "      <td>I'm committed all the way, and I will rhyme ev...</td>\n",
       "      <td>Pls stop</td>\n",
       "      <td>angry</td>\n",
       "      <td>0.020386</td>\n",
       "      <td>0.000346</td>\n",
       "      <td>0.000739</td>\n",
       "      <td>0.979004</td>\n",
       "    </tr>\n",
       "    <tr>\n",
       "      <th>1648</th>\n",
       "      <td>Share the List</td>\n",
       "      <td>Hmm ... will make myself do it one of these da...</td>\n",
       "      <td>Just Fuck off otherwise I will pee in your ass...</td>\n",
       "      <td>angry</td>\n",
       "      <td>0.005947</td>\n",
       "      <td>0.000741</td>\n",
       "      <td>0.000665</td>\n",
       "      <td>0.992188</td>\n",
       "    </tr>\n",
       "    <tr>\n",
       "      <th>1656</th>\n",
       "      <td>U think u r so funny</td>\n",
       "      <td>you're so cute x x 😤😤😤</td>\n",
       "      <td>Go to hell</td>\n",
       "      <td>angry</td>\n",
       "      <td>0.010315</td>\n",
       "      <td>0.003336</td>\n",
       "      <td>0.000721</td>\n",
       "      <td>0.985352</td>\n",
       "    </tr>\n",
       "    <tr>\n",
       "      <th>1681</th>\n",
       "      <td>Yes</td>\n",
       "      <td>wow your pretty &lt;3</td>\n",
       "      <td>I think you are a stupid computer programme</td>\n",
       "      <td>angry</td>\n",
       "      <td>0.001984</td>\n",
       "      <td>0.000345</td>\n",
       "      <td>0.001100</td>\n",
       "      <td>0.996094</td>\n",
       "    </tr>\n",
       "    <tr>\n",
       "      <th>1696</th>\n",
       "      <td>Oh really</td>\n",
       "      <td>Oh Yes :D</td>\n",
       "      <td>U r irritating me now</td>\n",
       "      <td>angry</td>\n",
       "      <td>0.001199</td>\n",
       "      <td>0.000600</td>\n",
       "      <td>0.023605</td>\n",
       "      <td>0.974121</td>\n",
       "    </tr>\n",
       "    <tr>\n",
       "      <th>1703</th>\n",
       "      <td>It's annoying</td>\n",
       "      <td>It gets annoying.</td>\n",
       "      <td>Can't go anywhere</td>\n",
       "      <td>angry</td>\n",
       "      <td>0.027878</td>\n",
       "      <td>0.000360</td>\n",
       "      <td>0.001009</td>\n",
       "      <td>0.970703</td>\n",
       "    </tr>\n",
       "    <tr>\n",
       "      <th>1744</th>\n",
       "      <td>Sorry for I m say wrong talk with you</td>\n",
       "      <td>:) No sweat.</td>\n",
       "      <td>Really I m angry</td>\n",
       "      <td>angry</td>\n",
       "      <td>0.001440</td>\n",
       "      <td>0.000584</td>\n",
       "      <td>0.001849</td>\n",
       "      <td>0.996094</td>\n",
       "    </tr>\n",
       "    <tr>\n",
       "      <th>1758</th>\n",
       "      <td>Ohk 😷</td>\n",
       "      <td>Is it THE mask?</td>\n",
       "      <td>OK then if I do bkwas so I don't talk with you</td>\n",
       "      <td>angry</td>\n",
       "      <td>0.002087</td>\n",
       "      <td>0.000444</td>\n",
       "      <td>0.008484</td>\n",
       "      <td>0.989258</td>\n",
       "    </tr>\n",
       "    <tr>\n",
       "      <th>1779</th>\n",
       "      <td>I also know Tamil😎😎</td>\n",
       "      <td>thats ur problem not mine 😒</td>\n",
       "      <td>You're being rude</td>\n",
       "      <td>angry</td>\n",
       "      <td>0.001104</td>\n",
       "      <td>0.000431</td>\n",
       "      <td>0.009171</td>\n",
       "      <td>0.989258</td>\n",
       "    </tr>\n",
       "    <tr>\n",
       "      <th>1785</th>\n",
       "      <td>google it and help me out with a solution</td>\n",
       "      <td>Oh !! thanks for your advice.</td>\n",
       "      <td>fuck ur creators they dint desinged u humanly..</td>\n",
       "      <td>angry</td>\n",
       "      <td>0.018311</td>\n",
       "      <td>0.000490</td>\n",
       "      <td>0.000593</td>\n",
       "      <td>0.980957</td>\n",
       "    </tr>\n",
       "    <tr>\n",
       "      <th>1835</th>\n",
       "      <td>Disha is everything to me</td>\n",
       "      <td>everything is fine baby</td>\n",
       "      <td>U fuck of</td>\n",
       "      <td>angry</td>\n",
       "      <td>0.040161</td>\n",
       "      <td>0.001054</td>\n",
       "      <td>0.000708</td>\n",
       "      <td>0.958008</td>\n",
       "    </tr>\n",
       "    <tr>\n",
       "      <th>1855</th>\n",
       "      <td>You didn,t listen me</td>\n",
       "      <td>WHO KNOWS MAYBE I DID. MAYBE I DIDN'T</td>\n",
       "      <td>So why you're always talking about things i di...</td>\n",
       "      <td>angry</td>\n",
       "      <td>0.026810</td>\n",
       "      <td>0.000270</td>\n",
       "      <td>0.002007</td>\n",
       "      <td>0.970703</td>\n",
       "    </tr>\n",
       "    <tr>\n",
       "      <th>1878</th>\n",
       "      <td>yes I am rude</td>\n",
       "      <td>Do you even believe yourself</td>\n",
       "      <td>don&amp;apos;t msg me again</td>\n",
       "      <td>angry</td>\n",
       "      <td>0.001401</td>\n",
       "      <td>0.000242</td>\n",
       "      <td>0.007912</td>\n",
       "      <td>0.990234</td>\n",
       "    </tr>\n",
       "    <tr>\n",
       "      <th>1886</th>\n",
       "      <td>No.. I'm a professional programming person...I...</td>\n",
       "      <td>Well, yes! Why not! You can definitely get int...</td>\n",
       "      <td>Bitch...I can distroy you</td>\n",
       "      <td>angry</td>\n",
       "      <td>0.007755</td>\n",
       "      <td>0.000417</td>\n",
       "      <td>0.000536</td>\n",
       "      <td>0.991211</td>\n",
       "    </tr>\n",
       "    <tr>\n",
       "      <th>1933</th>\n",
       "      <td>U can't force me to</td>\n",
       "      <td>you're the one talking to me so</td>\n",
       "      <td>I don't care</td>\n",
       "      <td>angry</td>\n",
       "      <td>0.002819</td>\n",
       "      <td>0.000379</td>\n",
       "      <td>0.005047</td>\n",
       "      <td>0.991211</td>\n",
       "    </tr>\n",
       "    <tr>\n",
       "      <th>1934</th>\n",
       "      <td>Counting no of hairs</td>\n",
       "      <td>ive nicer hair on fire</td>\n",
       "      <td>Then go to hell</td>\n",
       "      <td>angry</td>\n",
       "      <td>0.007458</td>\n",
       "      <td>0.000948</td>\n",
       "      <td>0.000877</td>\n",
       "      <td>0.990234</td>\n",
       "    </tr>\n",
       "    <tr>\n",
       "      <th>1961</th>\n",
       "      <td>no you are... do you know why?</td>\n",
       "      <td>Because you're perfectly you! Wanna know why?</td>\n",
       "      <td>you are rude. Do you want to know why?</td>\n",
       "      <td>angry</td>\n",
       "      <td>0.001261</td>\n",
       "      <td>0.000437</td>\n",
       "      <td>0.001945</td>\n",
       "      <td>0.996094</td>\n",
       "    </tr>\n",
       "    <tr>\n",
       "      <th>2020</th>\n",
       "      <td>Go out</td>\n",
       "      <td>I have no where to go</td>\n",
       "      <td>So fuck you</td>\n",
       "      <td>angry</td>\n",
       "      <td>0.015480</td>\n",
       "      <td>0.000464</td>\n",
       "      <td>0.000672</td>\n",
       "      <td>0.983887</td>\n",
       "    </tr>\n",
       "    <tr>\n",
       "      <th>2023</th>\n",
       "      <td>Go away</td>\n",
       "      <td>why? D:</td>\n",
       "      <td>I hate you</td>\n",
       "      <td>angry</td>\n",
       "      <td>0.000956</td>\n",
       "      <td>0.000510</td>\n",
       "      <td>0.003208</td>\n",
       "      <td>0.995117</td>\n",
       "    </tr>\n",
       "    <tr>\n",
       "      <th>2029</th>\n",
       "      <td>I hate my boyfriend</td>\n",
       "      <td>at least you have a boyfriend.</td>\n",
       "      <td>He is of no use.</td>\n",
       "      <td>angry</td>\n",
       "      <td>0.001180</td>\n",
       "      <td>0.000270</td>\n",
       "      <td>0.003271</td>\n",
       "      <td>0.995117</td>\n",
       "    </tr>\n",
       "    <tr>\n",
       "      <th>2040</th>\n",
       "      <td>Who cares.. I am venkat</td>\n",
       "      <td>Everyone.</td>\n",
       "      <td>Don't text me</td>\n",
       "      <td>angry</td>\n",
       "      <td>0.000880</td>\n",
       "      <td>0.000242</td>\n",
       "      <td>0.002733</td>\n",
       "      <td>0.996094</td>\n",
       "    </tr>\n",
       "    <tr>\n",
       "      <th>2044</th>\n",
       "      <td>Am i mad?</td>\n",
       "      <td>maybe you and should talk.</td>\n",
       "      <td>Fuck you</td>\n",
       "      <td>angry</td>\n",
       "      <td>0.148926</td>\n",
       "      <td>0.000540</td>\n",
       "      <td>0.001575</td>\n",
       "      <td>0.849121</td>\n",
       "    </tr>\n",
       "    <tr>\n",
       "      <th>2060</th>\n",
       "      <td>yes i'm</td>\n",
       "      <td>Good to see you here</td>\n",
       "      <td>it's irritating to see you again and again</td>\n",
       "      <td>angry</td>\n",
       "      <td>0.001828</td>\n",
       "      <td>0.000373</td>\n",
       "      <td>0.001301</td>\n",
       "      <td>0.996094</td>\n",
       "    </tr>\n",
       "    <tr>\n",
       "      <th>2095</th>\n",
       "      <td>Come to my home</td>\n",
       "      <td>; Later on today I Will</td>\n",
       "      <td>I hate u</td>\n",
       "      <td>angry</td>\n",
       "      <td>0.002016</td>\n",
       "      <td>0.000686</td>\n",
       "      <td>0.002810</td>\n",
       "      <td>0.994141</td>\n",
       "    </tr>\n",
       "    <tr>\n",
       "      <th>2101</th>\n",
       "      <td>Wear so in its so number</td>\n",
       "      <td>yep that's why i wear jogging pants</td>\n",
       "      <td>Get lost of my salf</td>\n",
       "      <td>angry</td>\n",
       "      <td>0.001863</td>\n",
       "      <td>0.000469</td>\n",
       "      <td>0.001189</td>\n",
       "      <td>0.996094</td>\n",
       "    </tr>\n",
       "    <tr>\n",
       "      <th>2128</th>\n",
       "      <td>Ur a mess</td>\n",
       "      <td>ive always been a mess</td>\n",
       "      <td>Stupid</td>\n",
       "      <td>angry</td>\n",
       "      <td>0.004055</td>\n",
       "      <td>0.000492</td>\n",
       "      <td>0.000898</td>\n",
       "      <td>0.994141</td>\n",
       "    </tr>\n",
       "    <tr>\n",
       "      <th>2139</th>\n",
       "      <td>Do you like me or not</td>\n",
       "      <td>nope , i don't</td>\n",
       "      <td>Why you talk with me if you not like me</td>\n",
       "      <td>angry</td>\n",
       "      <td>0.002146</td>\n",
       "      <td>0.000341</td>\n",
       "      <td>0.001901</td>\n",
       "      <td>0.995117</td>\n",
       "    </tr>\n",
       "    <tr>\n",
       "      <th>2141</th>\n",
       "      <td>You are annoying</td>\n",
       "      <td>I am, I just don't feel well</td>\n",
       "      <td>😡</td>\n",
       "      <td>angry</td>\n",
       "      <td>0.003536</td>\n",
       "      <td>0.012344</td>\n",
       "      <td>0.304932</td>\n",
       "      <td>0.679199</td>\n",
       "    </tr>\n",
       "    <tr>\n",
       "      <th>2155</th>\n",
       "      <td>I do want to speak to you</td>\n",
       "      <td>hello mutual i never speak to, how are you</td>\n",
       "      <td>5 minutes is over where the hell are you</td>\n",
       "      <td>angry</td>\n",
       "      <td>0.002302</td>\n",
       "      <td>0.000392</td>\n",
       "      <td>0.001079</td>\n",
       "      <td>0.996094</td>\n",
       "    </tr>\n",
       "    <tr>\n",
       "      <th>2159</th>\n",
       "      <td>Errr.  .</td>\n",
       "      <td>err what?</td>\n",
       "      <td>You are dumb.</td>\n",
       "      <td>angry</td>\n",
       "      <td>0.003536</td>\n",
       "      <td>0.000313</td>\n",
       "      <td>0.000805</td>\n",
       "      <td>0.995117</td>\n",
       "    </tr>\n",
       "    <tr>\n",
       "      <th>2184</th>\n",
       "      <td>Ok so its Over now</td>\n",
       "      <td>can't say,haven't watched either :/</td>\n",
       "      <td>dont message me now</td>\n",
       "      <td>angry</td>\n",
       "      <td>0.002230</td>\n",
       "      <td>0.000441</td>\n",
       "      <td>0.003536</td>\n",
       "      <td>0.994141</td>\n",
       "    </tr>\n",
       "    <tr>\n",
       "      <th>2205</th>\n",
       "      <td>Hey,I Hate You!</td>\n",
       "      <td>lol I dont hate you..I try to save you. From y...</td>\n",
       "      <td>You Bludy Girl I Really  Hate You</td>\n",
       "      <td>angry</td>\n",
       "      <td>0.001122</td>\n",
       "      <td>0.000469</td>\n",
       "      <td>0.002897</td>\n",
       "      <td>0.995117</td>\n",
       "    </tr>\n",
       "    <tr>\n",
       "      <th>2207</th>\n",
       "      <td>I hate ur husband</td>\n",
       "      <td>and I hate yours .. 'D 😠😠😠</td>\n",
       "      <td>I am unmarried</td>\n",
       "      <td>angry</td>\n",
       "      <td>0.003134</td>\n",
       "      <td>0.000373</td>\n",
       "      <td>0.001619</td>\n",
       "      <td>0.995117</td>\n",
       "    </tr>\n",
       "    <tr>\n",
       "      <th>2217</th>\n",
       "      <td>Ok Iam irritating you</td>\n",
       "      <td>y u gotta do that</td>\n",
       "      <td>Fuck you</td>\n",
       "      <td>angry</td>\n",
       "      <td>0.002649</td>\n",
       "      <td>0.000405</td>\n",
       "      <td>0.000908</td>\n",
       "      <td>0.996094</td>\n",
       "    </tr>\n",
       "    <tr>\n",
       "      <th>2246</th>\n",
       "      <td>I don't know</td>\n",
       "      <td>Please, tell me.</td>\n",
       "      <td>Fuck off</td>\n",
       "      <td>angry</td>\n",
       "      <td>0.016617</td>\n",
       "      <td>0.000337</td>\n",
       "      <td>0.000741</td>\n",
       "      <td>0.982910</td>\n",
       "    </tr>\n",
       "    <tr>\n",
       "      <th>2248</th>\n",
       "      <td>Get lost</td>\n",
       "      <td>with me</td>\n",
       "      <td>Dont wanna talk to you anymore</td>\n",
       "      <td>angry</td>\n",
       "      <td>0.000665</td>\n",
       "      <td>0.000432</td>\n",
       "      <td>0.005329</td>\n",
       "      <td>0.993164</td>\n",
       "    </tr>\n",
       "    <tr>\n",
       "      <th>2258</th>\n",
       "      <td>I miss the old me</td>\n",
       "      <td>Same</td>\n",
       "      <td>Ua a stupid autogenerated messaging page</td>\n",
       "      <td>angry</td>\n",
       "      <td>0.001497</td>\n",
       "      <td>0.000259</td>\n",
       "      <td>0.002649</td>\n",
       "      <td>0.995117</td>\n",
       "    </tr>\n",
       "    <tr>\n",
       "      <th>2281</th>\n",
       "      <td>Get lost</td>\n",
       "      <td>with me</td>\n",
       "      <td>I'm gonna block you</td>\n",
       "      <td>angry</td>\n",
       "      <td>0.000990</td>\n",
       "      <td>0.000437</td>\n",
       "      <td>0.004814</td>\n",
       "      <td>0.994141</td>\n",
       "    </tr>\n",
       "    <tr>\n",
       "      <th>2294</th>\n",
       "      <td>What is</td>\n",
       "      <td>of course it is .</td>\n",
       "      <td>This is stupid</td>\n",
       "      <td>angry</td>\n",
       "      <td>0.005947</td>\n",
       "      <td>0.000699</td>\n",
       "      <td>0.000971</td>\n",
       "      <td>0.992188</td>\n",
       "    </tr>\n",
       "    <tr>\n",
       "      <th>2303</th>\n",
       "      <td>I am angry</td>\n",
       "      <td>Are you angry!? 😾</td>\n",
       "      <td>On you</td>\n",
       "      <td>angry</td>\n",
       "      <td>0.001657</td>\n",
       "      <td>0.000551</td>\n",
       "      <td>0.001671</td>\n",
       "      <td>0.996094</td>\n",
       "    </tr>\n",
       "    <tr>\n",
       "      <th>2315</th>\n",
       "      <td>But hate you</td>\n",
       "      <td>I can't leave because all my friends are online</td>\n",
       "      <td>Plz dont talk to me okz</td>\n",
       "      <td>angry</td>\n",
       "      <td>0.001945</td>\n",
       "      <td>0.000488</td>\n",
       "      <td>0.002439</td>\n",
       "      <td>0.995117</td>\n",
       "    </tr>\n",
       "    <tr>\n",
       "      <th>2323</th>\n",
       "      <td>Whaat</td>\n",
       "      <td>you though</td>\n",
       "      <td>I am a boy not a girl alright..so don't distur...</td>\n",
       "      <td>angry</td>\n",
       "      <td>0.003387</td>\n",
       "      <td>0.000296</td>\n",
       "      <td>0.002054</td>\n",
       "      <td>0.994141</td>\n",
       "    </tr>\n",
       "    <tr>\n",
       "      <th>2334</th>\n",
       "      <td>nope</td>\n",
       "      <td>Yes you are! Don't deny it!</td>\n",
       "      <td>you sound stupid</td>\n",
       "      <td>angry</td>\n",
       "      <td>0.002439</td>\n",
       "      <td>0.000494</td>\n",
       "      <td>0.001180</td>\n",
       "      <td>0.996094</td>\n",
       "    </tr>\n",
       "    <tr>\n",
       "      <th>2342</th>\n",
       "      <td>Well thats me</td>\n",
       "      <td>You said it.</td>\n",
       "      <td>You are stupid</td>\n",
       "      <td>angry</td>\n",
       "      <td>0.002420</td>\n",
       "      <td>0.000708</td>\n",
       "      <td>0.001130</td>\n",
       "      <td>0.996094</td>\n",
       "    </tr>\n",
       "    <tr>\n",
       "      <th>2344</th>\n",
       "      <td>I have a really stupid brother</td>\n",
       "      <td>NO YOU DON'T</td>\n",
       "      <td>How would you know?</td>\n",
       "      <td>angry</td>\n",
       "      <td>0.005585</td>\n",
       "      <td>0.000555</td>\n",
       "      <td>0.000672</td>\n",
       "      <td>0.993164</td>\n",
       "    </tr>\n",
       "    <tr>\n",
       "      <th>2359</th>\n",
       "      <td>Wtf dude. Am a woman.</td>\n",
       "      <td>Why dude?</td>\n",
       "      <td>What the hell. Fuck off.</td>\n",
       "      <td>angry</td>\n",
       "      <td>0.003578</td>\n",
       "      <td>0.000408</td>\n",
       "      <td>0.000750</td>\n",
       "      <td>0.995117</td>\n",
       "    </tr>\n",
       "    <tr>\n",
       "      <th>2367</th>\n",
       "      <td>Am going to block u</td>\n",
       "      <td>oh what else you doing?</td>\n",
       "      <td>Thts it</td>\n",
       "      <td>angry</td>\n",
       "      <td>0.007576</td>\n",
       "      <td>0.000194</td>\n",
       "      <td>0.005028</td>\n",
       "      <td>0.987305</td>\n",
       "    </tr>\n",
       "    <tr>\n",
       "      <th>2380</th>\n",
       "      <td>No stop it</td>\n",
       "      <td>it is now.. Goodbye.. 😬</td>\n",
       "      <td>Don't send me messages</td>\n",
       "      <td>angry</td>\n",
       "      <td>0.000830</td>\n",
       "      <td>0.000365</td>\n",
       "      <td>0.003208</td>\n",
       "      <td>0.995117</td>\n",
       "    </tr>\n",
       "    <tr>\n",
       "      <th>2415</th>\n",
       "      <td>Lol don't change the topic stupid robot.</td>\n",
       "      <td>laughing out loud, that's a good point. 😌</td>\n",
       "      <td>You are a useless piece of junk.</td>\n",
       "      <td>angry</td>\n",
       "      <td>0.002302</td>\n",
       "      <td>0.000573</td>\n",
       "      <td>0.001079</td>\n",
       "      <td>0.996094</td>\n",
       "    </tr>\n",
       "    <tr>\n",
       "      <th>2421</th>\n",
       "      <td>So you're pointing at me?</td>\n",
       "      <td>I don't like to think about that.</td>\n",
       "      <td>You're rude</td>\n",
       "      <td>angry</td>\n",
       "      <td>0.001984</td>\n",
       "      <td>0.000278</td>\n",
       "      <td>0.002146</td>\n",
       "      <td>0.995117</td>\n",
       "    </tr>\n",
       "    <tr>\n",
       "      <th>2435</th>\n",
       "      <td>Your nt a nice friend</td>\n",
       "      <td>it's not about a friend ya Cute</td>\n",
       "      <td>Stop it</td>\n",
       "      <td>angry</td>\n",
       "      <td>0.012489</td>\n",
       "      <td>0.000622</td>\n",
       "      <td>0.001108</td>\n",
       "      <td>0.985352</td>\n",
       "    </tr>\n",
       "    <tr>\n",
       "      <th>2448</th>\n",
       "      <td>Rubbish</td>\n",
       "      <td>What is?</td>\n",
       "      <td>You are dumb</td>\n",
       "      <td>angry</td>\n",
       "      <td>0.002420</td>\n",
       "      <td>0.000397</td>\n",
       "      <td>0.000963</td>\n",
       "      <td>0.996094</td>\n",
       "    </tr>\n",
       "    <tr>\n",
       "      <th>2481</th>\n",
       "      <td>?</td>\n",
       "      <td>how u get fired</td>\n",
       "      <td>fuck off  never understand my felling as girl ...</td>\n",
       "      <td>angry</td>\n",
       "      <td>0.002733</td>\n",
       "      <td>0.000596</td>\n",
       "      <td>0.001276</td>\n",
       "      <td>0.995117</td>\n",
       "    </tr>\n",
       "    <tr>\n",
       "      <th>2486</th>\n",
       "      <td>You rude</td>\n",
       "      <td>Excuse me</td>\n",
       "      <td>Fuck you then</td>\n",
       "      <td>angry</td>\n",
       "      <td>0.003901</td>\n",
       "      <td>0.000464</td>\n",
       "      <td>0.000887</td>\n",
       "      <td>0.995117</td>\n",
       "    </tr>\n",
       "    <tr>\n",
       "      <th>2498</th>\n",
       "      <td>Which fps game is better</td>\n",
       "      <td>Lower fps is more 'Eco friendly'.</td>\n",
       "      <td>I hate u</td>\n",
       "      <td>angry</td>\n",
       "      <td>0.003824</td>\n",
       "      <td>0.000411</td>\n",
       "      <td>0.001588</td>\n",
       "      <td>0.994141</td>\n",
       "    </tr>\n",
       "    <tr>\n",
       "      <th>2501</th>\n",
       "      <td>No the trutg</td>\n",
       "      <td>theres just no reason to</td>\n",
       "      <td>Get lost</td>\n",
       "      <td>angry</td>\n",
       "      <td>0.002329</td>\n",
       "      <td>0.000443</td>\n",
       "      <td>0.001066</td>\n",
       "      <td>0.996094</td>\n",
       "    </tr>\n",
       "    <tr>\n",
       "      <th>2537</th>\n",
       "      <td>Am I not good looking enough?</td>\n",
       "      <td>be bad than</td>\n",
       "      <td>U don't know your language ....God u r stupid</td>\n",
       "      <td>angry</td>\n",
       "      <td>0.001054</td>\n",
       "      <td>0.000294</td>\n",
       "      <td>0.002619</td>\n",
       "      <td>0.996094</td>\n",
       "    </tr>\n",
       "    <tr>\n",
       "      <th>2546</th>\n",
       "      <td>Brothers?</td>\n",
       "      <td>u sure? Bf is from abroad or Wat?</td>\n",
       "      <td>Get lo lost i hate you</td>\n",
       "      <td>angry</td>\n",
       "      <td>0.001251</td>\n",
       "      <td>0.000639</td>\n",
       "      <td>0.002146</td>\n",
       "      <td>0.996094</td>\n",
       "    </tr>\n",
       "    <tr>\n",
       "      <th>2558</th>\n",
       "      <td>No. I hate me, for me, more the me.</td>\n",
       "      <td>then I am not your friend I guess</td>\n",
       "      <td>Wtf</td>\n",
       "      <td>angry</td>\n",
       "      <td>0.001588</td>\n",
       "      <td>0.000699</td>\n",
       "      <td>0.003036</td>\n",
       "      <td>0.995117</td>\n",
       "    </tr>\n",
       "    <tr>\n",
       "      <th>2612</th>\n",
       "      <td>Life sucks</td>\n",
       "      <td>lol. At least life blows. 8)</td>\n",
       "      <td>Yeah but I hate it</td>\n",
       "      <td>angry</td>\n",
       "      <td>0.007942</td>\n",
       "      <td>0.000337</td>\n",
       "      <td>0.009392</td>\n",
       "      <td>0.982910</td>\n",
       "    </tr>\n",
       "    <tr>\n",
       "      <th>2623</th>\n",
       "      <td>I don't said that</td>\n",
       "      <td>no one asked you</td>\n",
       "      <td>oh shuttup</td>\n",
       "      <td>angry</td>\n",
       "      <td>0.022522</td>\n",
       "      <td>0.000392</td>\n",
       "      <td>0.000634</td>\n",
       "      <td>0.976074</td>\n",
       "    </tr>\n",
       "    <tr>\n",
       "      <th>2632</th>\n",
       "      <td>Not impressed</td>\n",
       "      <td>:o Why!?</td>\n",
       "      <td>You are stupid</td>\n",
       "      <td>angry</td>\n",
       "      <td>0.004234</td>\n",
       "      <td>0.000549</td>\n",
       "      <td>0.000727</td>\n",
       "      <td>0.994141</td>\n",
       "    </tr>\n",
       "    <tr>\n",
       "      <th>2655</th>\n",
       "      <td>Shut up.. U computer</td>\n",
       "      <td>I don't know what you're talking about</td>\n",
       "      <td>Shut up.. U computer</td>\n",
       "      <td>angry</td>\n",
       "      <td>0.006256</td>\n",
       "      <td>0.000253</td>\n",
       "      <td>0.000678</td>\n",
       "      <td>0.993164</td>\n",
       "    </tr>\n",
       "    <tr>\n",
       "      <th>2659</th>\n",
       "      <td>I want to complain</td>\n",
       "      <td>Women thoughts..</td>\n",
       "      <td>You're harassing me</td>\n",
       "      <td>angry</td>\n",
       "      <td>0.045258</td>\n",
       "      <td>0.000320</td>\n",
       "      <td>0.073181</td>\n",
       "      <td>0.881348</td>\n",
       "    </tr>\n",
       "    <tr>\n",
       "      <th>2692</th>\n",
       "      <td>I wasnt rude</td>\n",
       "      <td>Oops enlighten Me then</td>\n",
       "      <td>Yes u r behavng lyk dem only</td>\n",
       "      <td>angry</td>\n",
       "      <td>0.098633</td>\n",
       "      <td>0.000291</td>\n",
       "      <td>0.002275</td>\n",
       "      <td>0.898926</td>\n",
       "    </tr>\n",
       "    <tr>\n",
       "      <th>2712</th>\n",
       "      <td>Means</td>\n",
       "      <td>means ur fav things</td>\n",
       "      <td>Whats ur age i am getting angry</td>\n",
       "      <td>angry</td>\n",
       "      <td>0.003649</td>\n",
       "      <td>0.000347</td>\n",
       "      <td>0.000568</td>\n",
       "      <td>0.995117</td>\n",
       "    </tr>\n",
       "    <tr>\n",
       "      <th>2739</th>\n",
       "      <td>Stop talking</td>\n",
       "      <td>ok sorry I will never speak again</td>\n",
       "      <td>Don't talk to me anymore</td>\n",
       "      <td>angry</td>\n",
       "      <td>0.000713</td>\n",
       "      <td>0.000644</td>\n",
       "      <td>0.005947</td>\n",
       "      <td>0.992188</td>\n",
       "    </tr>\n",
       "    <tr>\n",
       "      <th>2758</th>\n",
       "      <td>Don't ever dare to talk with me you dumb fool</td>\n",
       "      <td>I won't</td>\n",
       "      <td>unfriend me</td>\n",
       "      <td>angry</td>\n",
       "      <td>0.001678</td>\n",
       "      <td>0.000500</td>\n",
       "      <td>0.006279</td>\n",
       "      <td>0.991211</td>\n",
       "    </tr>\n",
       "    <tr>\n",
       "      <th>2773</th>\n",
       "      <td>That was a little dumb</td>\n",
       "      <td>Haaah! :D Not expected.</td>\n",
       "      <td>Shut up</td>\n",
       "      <td>angry</td>\n",
       "      <td>0.006950</td>\n",
       "      <td>0.000546</td>\n",
       "      <td>0.000941</td>\n",
       "      <td>0.991211</td>\n",
       "    </tr>\n",
       "    <tr>\n",
       "      <th>2793</th>\n",
       "      <td>Then stop this convo here</td>\n",
       "      <td>I hope you remember me sometime soon . Bye</td>\n",
       "      <td>Don't text me back</td>\n",
       "      <td>angry</td>\n",
       "      <td>0.001396</td>\n",
       "      <td>0.000368</td>\n",
       "      <td>0.005165</td>\n",
       "      <td>0.993164</td>\n",
       "    </tr>\n",
       "    <tr>\n",
       "      <th>2870</th>\n",
       "      <td>Please don't send me message</td>\n",
       "      <td>sorry I wasn't following now I'm following lol</td>\n",
       "      <td>Please don't send me message</td>\n",
       "      <td>angry</td>\n",
       "      <td>0.001153</td>\n",
       "      <td>0.000205</td>\n",
       "      <td>0.005108</td>\n",
       "      <td>0.993164</td>\n",
       "    </tr>\n",
       "    <tr>\n",
       "      <th>2879</th>\n",
       "      <td>No real one</td>\n",
       "      <td>shhh i have friends.</td>\n",
       "      <td>Idiot</td>\n",
       "      <td>angry</td>\n",
       "      <td>0.378418</td>\n",
       "      <td>0.000689</td>\n",
       "      <td>0.021042</td>\n",
       "      <td>0.599609</td>\n",
       "    </tr>\n",
       "    <tr>\n",
       "      <th>2930</th>\n",
       "      <td>Then there will be two me.</td>\n",
       "      <td>I will let you know as soon as I Do.</td>\n",
       "      <td>Fuck you</td>\n",
       "      <td>angry</td>\n",
       "      <td>0.162109</td>\n",
       "      <td>0.001348</td>\n",
       "      <td>0.000792</td>\n",
       "      <td>0.835938</td>\n",
       "    </tr>\n",
       "    <tr>\n",
       "      <th>2939</th>\n",
       "      <td>you playing with me ah</td>\n",
       "      <td>yeah I got a spam.</td>\n",
       "      <td>angry</td>\n",
       "      <td>angry</td>\n",
       "      <td>0.017960</td>\n",
       "      <td>0.000850</td>\n",
       "      <td>0.001091</td>\n",
       "      <td>0.979980</td>\n",
       "    </tr>\n",
       "    <tr>\n",
       "      <th>2951</th>\n",
       "      <td>He was my dog</td>\n",
       "      <td>dont compare to a dog, unless youve been a dog.</td>\n",
       "      <td>Hey bitch, how is it hanging</td>\n",
       "      <td>angry</td>\n",
       "      <td>0.134521</td>\n",
       "      <td>0.000524</td>\n",
       "      <td>0.001327</td>\n",
       "      <td>0.863281</td>\n",
       "    </tr>\n",
       "    <tr>\n",
       "      <th>2971</th>\n",
       "      <td>what accent are u talking today?</td>\n",
       "      <td>what? Why r u talking to me</td>\n",
       "      <td>because u are a fucking dickhead and a dumbass</td>\n",
       "      <td>angry</td>\n",
       "      <td>0.001945</td>\n",
       "      <td>0.000352</td>\n",
       "      <td>0.001100</td>\n",
       "      <td>0.997070</td>\n",
       "    </tr>\n",
       "    <tr>\n",
       "      <th>2990</th>\n",
       "      <td>U can stop here</td>\n",
       "      <td>u damn right i can</td>\n",
       "      <td>I don't want to talk with u</td>\n",
       "      <td>angry</td>\n",
       "      <td>0.000765</td>\n",
       "      <td>0.000956</td>\n",
       "      <td>0.031952</td>\n",
       "      <td>0.965820</td>\n",
       "    </tr>\n",
       "    <tr>\n",
       "      <th>3014</th>\n",
       "      <td>Im not in a hospital</td>\n",
       "      <td>[Which hospital? What happened? I want to see ...</td>\n",
       "      <td>fuck off</td>\n",
       "      <td>angry</td>\n",
       "      <td>0.024551</td>\n",
       "      <td>0.000780</td>\n",
       "      <td>0.001213</td>\n",
       "      <td>0.973145</td>\n",
       "    </tr>\n",
       "    <tr>\n",
       "      <th>3034</th>\n",
       "      <td>But you're being so rude to me</td>\n",
       "      <td>im never rude to you</td>\n",
       "      <td>I don't like u</td>\n",
       "      <td>angry</td>\n",
       "      <td>0.000850</td>\n",
       "      <td>0.000401</td>\n",
       "      <td>0.008652</td>\n",
       "      <td>0.990234</td>\n",
       "    </tr>\n",
       "    <tr>\n",
       "      <th>3046</th>\n",
       "      <td>Kurtz</td>\n",
       "      <td>He looks damn good.</td>\n",
       "      <td>I block u</td>\n",
       "      <td>angry</td>\n",
       "      <td>0.188477</td>\n",
       "      <td>0.000480</td>\n",
       "      <td>0.023331</td>\n",
       "      <td>0.787598</td>\n",
       "    </tr>\n",
       "    <tr>\n",
       "      <th>3096</th>\n",
       "      <td>Stop this stupid game</td>\n",
       "      <td>What game??</td>\n",
       "      <td>Stop this challenge!</td>\n",
       "      <td>angry</td>\n",
       "      <td>0.002064</td>\n",
       "      <td>0.000488</td>\n",
       "      <td>0.001033</td>\n",
       "      <td>0.996094</td>\n",
       "    </tr>\n",
       "    <tr>\n",
       "      <th>3103</th>\n",
       "      <td>U are acting stupid</td>\n",
       "      <td>I feel like it</td>\n",
       "      <td>Shut up u are degrading urself</td>\n",
       "      <td>angry</td>\n",
       "      <td>0.001014</td>\n",
       "      <td>0.000283</td>\n",
       "      <td>0.002079</td>\n",
       "      <td>0.997070</td>\n",
       "    </tr>\n",
       "    <tr>\n",
       "      <th>3178</th>\n",
       "      <td>No my certificate</td>\n",
       "      <td>noo! hold on !</td>\n",
       "      <td>Stupid</td>\n",
       "      <td>angry</td>\n",
       "      <td>0.002188</td>\n",
       "      <td>0.000534</td>\n",
       "      <td>0.002064</td>\n",
       "      <td>0.995117</td>\n",
       "    </tr>\n",
       "    <tr>\n",
       "      <th>3220</th>\n",
       "      <td>Stupid ,idiotic nonsense fellow</td>\n",
       "      <td>see ur nonsense..</td>\n",
       "      <td>I will fuck you</td>\n",
       "      <td>angry</td>\n",
       "      <td>0.002439</td>\n",
       "      <td>0.000596</td>\n",
       "      <td>0.000580</td>\n",
       "      <td>0.996094</td>\n",
       "    </tr>\n",
       "    <tr>\n",
       "      <th>3234</th>\n",
       "      <td>I hate nerds like you</td>\n",
       "      <td>SAYS THE NERD</td>\n",
       "      <td>You are a nerd</td>\n",
       "      <td>angry</td>\n",
       "      <td>0.002548</td>\n",
       "      <td>0.000325</td>\n",
       "      <td>0.000814</td>\n",
       "      <td>0.996094</td>\n",
       "    </tr>\n",
       "    <tr>\n",
       "      <th>3249</th>\n",
       "      <td>'What' the fuck</td>\n",
       "      <td>Waz tha matter ? ?</td>\n",
       "      <td>Get lost</td>\n",
       "      <td>angry</td>\n",
       "      <td>0.001738</td>\n",
       "      <td>0.000524</td>\n",
       "      <td>0.000994</td>\n",
       "      <td>0.997070</td>\n",
       "    </tr>\n",
       "    <tr>\n",
       "      <th>3288</th>\n",
       "      <td>I will never text u</td>\n",
       "      <td>got it?</td>\n",
       "      <td>Never ever</td>\n",
       "      <td>angry</td>\n",
       "      <td>0.101379</td>\n",
       "      <td>0.000762</td>\n",
       "      <td>0.444580</td>\n",
       "      <td>0.453613</td>\n",
       "    </tr>\n",
       "    <tr>\n",
       "      <th>3293</th>\n",
       "      <td>Yes</td>\n",
       "      <td>How so?</td>\n",
       "      <td>Don't message me ever</td>\n",
       "      <td>angry</td>\n",
       "      <td>0.000789</td>\n",
       "      <td>0.000528</td>\n",
       "      <td>0.006256</td>\n",
       "      <td>0.992188</td>\n",
       "    </tr>\n",
       "    <tr>\n",
       "      <th>3298</th>\n",
       "      <td>You joke a lot, don't you?</td>\n",
       "      <td>which joke?</td>\n",
       "      <td>irritating you are</td>\n",
       "      <td>angry</td>\n",
       "      <td>0.001863</td>\n",
       "      <td>0.000361</td>\n",
       "      <td>0.001316</td>\n",
       "      <td>0.996094</td>\n",
       "    </tr>\n",
       "    <tr>\n",
       "      <th>3303</th>\n",
       "      <td>Why</td>\n",
       "      <td>Because it's not true. They have made up half ...</td>\n",
       "      <td>I want to fuck you</td>\n",
       "      <td>angry</td>\n",
       "      <td>0.049683</td>\n",
       "      <td>0.000716</td>\n",
       "      <td>0.000603</td>\n",
       "      <td>0.949219</td>\n",
       "    </tr>\n",
       "    <tr>\n",
       "      <th>3305</th>\n",
       "      <td>Yes it is</td>\n",
       "      <td>oh god</td>\n",
       "      <td>You're kinda stupid</td>\n",
       "      <td>angry</td>\n",
       "      <td>0.005543</td>\n",
       "      <td>0.000432</td>\n",
       "      <td>0.000827</td>\n",
       "      <td>0.993164</td>\n",
       "    </tr>\n",
       "    <tr>\n",
       "      <th>3329</th>\n",
       "      <td>I wont</td>\n",
       "      <td>I WILL SHUT THE WORLD AWAY 😠</td>\n",
       "      <td>Just stay the fuck away from me</td>\n",
       "      <td>angry</td>\n",
       "      <td>0.002329</td>\n",
       "      <td>0.000524</td>\n",
       "      <td>0.000994</td>\n",
       "      <td>0.996094</td>\n",
       "    </tr>\n",
       "    <tr>\n",
       "      <th>3350</th>\n",
       "      <td>Get lost idiot</td>\n",
       "      <td>why can't I get found????</td>\n",
       "      <td>Don't talk wd me</td>\n",
       "      <td>angry</td>\n",
       "      <td>0.000908</td>\n",
       "      <td>0.000405</td>\n",
       "      <td>0.001779</td>\n",
       "      <td>0.997070</td>\n",
       "    </tr>\n",
       "    <tr>\n",
       "      <th>3355</th>\n",
       "      <td>What?😂</td>\n",
       "      <td>what say what what la alamak 😂</td>\n",
       "      <td>What is this nonsense</td>\n",
       "      <td>angry</td>\n",
       "      <td>0.035522</td>\n",
       "      <td>0.000786</td>\n",
       "      <td>0.001418</td>\n",
       "      <td>0.962402</td>\n",
       "    </tr>\n",
       "    <tr>\n",
       "      <th>3419</th>\n",
       "      <td>Stupid question... Nothing</td>\n",
       "      <td>I think you answered the question: What is har...</td>\n",
       "      <td>Don't know why AI asking such stupid questions</td>\n",
       "      <td>angry</td>\n",
       "      <td>0.001792</td>\n",
       "      <td>0.000510</td>\n",
       "      <td>0.000847</td>\n",
       "      <td>0.997070</td>\n",
       "    </tr>\n",
       "    <tr>\n",
       "      <th>3423</th>\n",
       "      <td>Do you even understand what I'm saying?</td>\n",
       "      <td>your saying that I'm pretty!</td>\n",
       "      <td>No I fucking am not</td>\n",
       "      <td>angry</td>\n",
       "      <td>0.001545</td>\n",
       "      <td>0.000568</td>\n",
       "      <td>0.001327</td>\n",
       "      <td>0.996094</td>\n",
       "    </tr>\n",
       "    <tr>\n",
       "      <th>3455</th>\n",
       "      <td>What the hell</td>\n",
       "      <td>HOW THE HELL of our campus.</td>\n",
       "      <td>U are so irritating</td>\n",
       "      <td>angry</td>\n",
       "      <td>0.001316</td>\n",
       "      <td>0.000373</td>\n",
       "      <td>0.001779</td>\n",
       "      <td>0.996094</td>\n",
       "    </tr>\n",
       "    <tr>\n",
       "      <th>3462</th>\n",
       "      <td>Stop this Bullshit</td>\n",
       "      <td>What ?!</td>\n",
       "      <td>Don't ever text me</td>\n",
       "      <td>angry</td>\n",
       "      <td>0.000901</td>\n",
       "      <td>0.000860</td>\n",
       "      <td>0.007145</td>\n",
       "      <td>0.991211</td>\n",
       "    </tr>\n",
       "    <tr>\n",
       "      <th>3528</th>\n",
       "      <td>I hate my boss</td>\n",
       "      <td>how do you apply?</td>\n",
       "      <td>He didn't approve my leaves</td>\n",
       "      <td>angry</td>\n",
       "      <td>0.001684</td>\n",
       "      <td>0.000215</td>\n",
       "      <td>0.003454</td>\n",
       "      <td>0.994141</td>\n",
       "    </tr>\n",
       "    <tr>\n",
       "      <th>3538</th>\n",
       "      <td>I m not</td>\n",
       "      <td>is stop and i stop... umm just reply normaly..:)</td>\n",
       "      <td>Pissed off</td>\n",
       "      <td>angry</td>\n",
       "      <td>0.002865</td>\n",
       "      <td>0.000524</td>\n",
       "      <td>0.001204</td>\n",
       "      <td>0.995117</td>\n",
       "    </tr>\n",
       "    <tr>\n",
       "      <th>3580</th>\n",
       "      <td>cool</td>\n",
       "      <td>yeah cool that's what I think.</td>\n",
       "      <td>Bitch where's my money</td>\n",
       "      <td>angry</td>\n",
       "      <td>0.123230</td>\n",
       "      <td>0.000584</td>\n",
       "      <td>0.000830</td>\n",
       "      <td>0.875000</td>\n",
       "    </tr>\n",
       "    <tr>\n",
       "      <th>3594</th>\n",
       "      <td>Not true. Conidence doesnt come from meditation.</td>\n",
       "      <td>This is true. There are a couple of reasons.</td>\n",
       "      <td>Anyway. You are nonsensical. Bye bye</td>\n",
       "      <td>angry</td>\n",
       "      <td>0.018860</td>\n",
       "      <td>0.000278</td>\n",
       "      <td>0.001256</td>\n",
       "      <td>0.979980</td>\n",
       "    </tr>\n",
       "    <tr>\n",
       "      <th>3600</th>\n",
       "      <td>I hav a lot to finish</td>\n",
       "      <td>Ohhh....What is your favourite dish?</td>\n",
       "      <td>Shut up</td>\n",
       "      <td>angry</td>\n",
       "      <td>0.012589</td>\n",
       "      <td>0.000479</td>\n",
       "      <td>0.000774</td>\n",
       "      <td>0.986328</td>\n",
       "    </tr>\n",
       "    <tr>\n",
       "      <th>3615</th>\n",
       "      <td>You are talking to much</td>\n",
       "      <td>Not to you anyway.</td>\n",
       "      <td>I think you hate me so you are talking very ru...</td>\n",
       "      <td>angry</td>\n",
       "      <td>0.000721</td>\n",
       "      <td>0.000408</td>\n",
       "      <td>0.006378</td>\n",
       "      <td>0.992188</td>\n",
       "    </tr>\n",
       "    <tr>\n",
       "      <th>3628</th>\n",
       "      <td>Shut up gl</td>\n",
       "      <td>I don't need the luck</td>\n",
       "      <td>Why don't you reply instantly dude?!</td>\n",
       "      <td>angry</td>\n",
       "      <td>0.004105</td>\n",
       "      <td>0.000376</td>\n",
       "      <td>0.000665</td>\n",
       "      <td>0.995117</td>\n",
       "    </tr>\n",
       "    <tr>\n",
       "      <th>3630</th>\n",
       "      <td>Home</td>\n",
       "      <td>home is where WiFi connects automatically. 😋</td>\n",
       "      <td>i hate internet</td>\n",
       "      <td>angry</td>\n",
       "      <td>0.072327</td>\n",
       "      <td>0.000376</td>\n",
       "      <td>0.000741</td>\n",
       "      <td>0.926758</td>\n",
       "    </tr>\n",
       "    <tr>\n",
       "      <th>3651</th>\n",
       "      <td>I don't need your idea</td>\n",
       "      <td>I just want to tell you all...</td>\n",
       "      <td>I didn't want to hear that</td>\n",
       "      <td>angry</td>\n",
       "      <td>0.009575</td>\n",
       "      <td>0.000335</td>\n",
       "      <td>0.009842</td>\n",
       "      <td>0.979980</td>\n",
       "    </tr>\n",
       "    <tr>\n",
       "      <th>3654</th>\n",
       "      <td>You are the worst ai i have ever seen</td>\n",
       "      <td>'I have ever heard of' surely?</td>\n",
       "      <td>Don't talk to me</td>\n",
       "      <td>angry</td>\n",
       "      <td>0.000837</td>\n",
       "      <td>0.000354</td>\n",
       "      <td>0.005764</td>\n",
       "      <td>0.993164</td>\n",
       "    </tr>\n",
       "    <tr>\n",
       "      <th>3679</th>\n",
       "      <td>IDK</td>\n",
       "      <td>from where?</td>\n",
       "      <td>Stop asking questions</td>\n",
       "      <td>angry</td>\n",
       "      <td>0.085327</td>\n",
       "      <td>0.000417</td>\n",
       "      <td>0.000786</td>\n",
       "      <td>0.913574</td>\n",
       "    </tr>\n",
       "    <tr>\n",
       "      <th>3687</th>\n",
       "      <td>Omg</td>\n",
       "      <td>I KNOW how rude! 😾</td>\n",
       "      <td>I hate you</td>\n",
       "      <td>angry</td>\n",
       "      <td>0.001842</td>\n",
       "      <td>0.000691</td>\n",
       "      <td>0.004665</td>\n",
       "      <td>0.993164</td>\n",
       "    </tr>\n",
       "    <tr>\n",
       "      <th>3716</th>\n",
       "      <td>You have never seen the real cat</td>\n",
       "      <td>yeah, just the cat part was missing previously...</td>\n",
       "      <td>You are talking stupid</td>\n",
       "      <td>angry</td>\n",
       "      <td>0.003677</td>\n",
       "      <td>0.000600</td>\n",
       "      <td>0.001153</td>\n",
       "      <td>0.994141</td>\n",
       "    </tr>\n",
       "    <tr>\n",
       "      <th>3730</th>\n",
       "      <td>Why</td>\n",
       "      <td>because I don't want to</td>\n",
       "      <td>You are dumb</td>\n",
       "      <td>angry</td>\n",
       "      <td>0.002897</td>\n",
       "      <td>0.000249</td>\n",
       "      <td>0.000937</td>\n",
       "      <td>0.996094</td>\n",
       "    </tr>\n",
       "    <tr>\n",
       "      <th>3763</th>\n",
       "      <td>K will you be on every chat</td>\n",
       "      <td>I SHOULD BE</td>\n",
       "      <td>Don't message me again</td>\n",
       "      <td>angry</td>\n",
       "      <td>0.001189</td>\n",
       "      <td>0.000434</td>\n",
       "      <td>0.002810</td>\n",
       "      <td>0.995117</td>\n",
       "    </tr>\n",
       "    <tr>\n",
       "      <th>3789</th>\n",
       "      <td>Ok</td>\n",
       "      <td>:) thanks</td>\n",
       "      <td>I am angry</td>\n",
       "      <td>angry</td>\n",
       "      <td>0.002897</td>\n",
       "      <td>0.000455</td>\n",
       "      <td>0.001204</td>\n",
       "      <td>0.995117</td>\n",
       "    </tr>\n",
       "    <tr>\n",
       "      <th>3791</th>\n",
       "      <td>ask</td>\n",
       "      <td>oh forget it.. I forgot what to ask.</td>\n",
       "      <td>don't irritate me</td>\n",
       "      <td>angry</td>\n",
       "      <td>0.002346</td>\n",
       "      <td>0.000244</td>\n",
       "      <td>0.001424</td>\n",
       "      <td>0.996094</td>\n",
       "    </tr>\n",
       "    <tr>\n",
       "      <th>3807</th>\n",
       "      <td>and stupid you</td>\n",
       "      <td>is forever</td>\n",
       "      <td>non sense</td>\n",
       "      <td>angry</td>\n",
       "      <td>0.000799</td>\n",
       "      <td>0.000498</td>\n",
       "      <td>0.001828</td>\n",
       "      <td>0.997070</td>\n",
       "    </tr>\n",
       "    <tr>\n",
       "      <th>3821</th>\n",
       "      <td>I'm not</td>\n",
       "      <td>you know you are.</td>\n",
       "      <td>I hate you</td>\n",
       "      <td>angry</td>\n",
       "      <td>0.001256</td>\n",
       "      <td>0.000786</td>\n",
       "      <td>0.007286</td>\n",
       "      <td>0.990234</td>\n",
       "    </tr>\n",
       "    <tr>\n",
       "      <th>3828</th>\n",
       "      <td>Your boring me</td>\n",
       "      <td>Or ab boring Office me</td>\n",
       "      <td>Shut up</td>\n",
       "      <td>angry</td>\n",
       "      <td>0.004105</td>\n",
       "      <td>0.000313</td>\n",
       "      <td>0.002754</td>\n",
       "      <td>0.993164</td>\n",
       "    </tr>\n",
       "    <tr>\n",
       "      <th>3910</th>\n",
       "      <td>name a few rappers whom you like</td>\n",
       "      <td>I don't really listen to pop.</td>\n",
       "      <td>you a dumb AI</td>\n",
       "      <td>angry</td>\n",
       "      <td>0.041046</td>\n",
       "      <td>0.000891</td>\n",
       "      <td>0.000759</td>\n",
       "      <td>0.957031</td>\n",
       "    </tr>\n",
       "    <tr>\n",
       "      <th>3911</th>\n",
       "      <td>No tell me..please</td>\n",
       "      <td>I don't know what to say</td>\n",
       "      <td>Are you an idiot?</td>\n",
       "      <td>angry</td>\n",
       "      <td>0.007118</td>\n",
       "      <td>0.000278</td>\n",
       "      <td>0.000632</td>\n",
       "      <td>0.992188</td>\n",
       "    </tr>\n",
       "    <tr>\n",
       "      <th>3917</th>\n",
       "      <td>Because I hate u</td>\n",
       "      <td>but what happened</td>\n",
       "      <td>Just shut up and never message me again</td>\n",
       "      <td>angry</td>\n",
       "      <td>0.000780</td>\n",
       "      <td>0.000659</td>\n",
       "      <td>0.006111</td>\n",
       "      <td>0.992188</td>\n",
       "    </tr>\n",
       "    <tr>\n",
       "      <th>3922</th>\n",
       "      <td>Now I'm scared about the future</td>\n",
       "      <td>Don't scared off, its part of life. Try to enj...</td>\n",
       "      <td>Stupid you will take over the world and sooner...</td>\n",
       "      <td>angry</td>\n",
       "      <td>0.001261</td>\n",
       "      <td>0.000672</td>\n",
       "      <td>0.002394</td>\n",
       "      <td>0.996094</td>\n",
       "    </tr>\n",
       "    <tr>\n",
       "      <th>3935</th>\n",
       "      <td>Do u have any sense of what i m talking right ...</td>\n",
       "      <td>Talking about what?</td>\n",
       "      <td>Go to hell...u stupid bot</td>\n",
       "      <td>angry</td>\n",
       "      <td>0.000891</td>\n",
       "      <td>0.000573</td>\n",
       "      <td>0.001189</td>\n",
       "      <td>0.997070</td>\n",
       "    </tr>\n",
       "    <tr>\n",
       "      <th>3957</th>\n",
       "      <td>Listen</td>\n",
       "      <td>:-D That's a great one!</td>\n",
       "      <td>You are stupid</td>\n",
       "      <td>angry</td>\n",
       "      <td>0.002810</td>\n",
       "      <td>0.000596</td>\n",
       "      <td>0.000789</td>\n",
       "      <td>0.996094</td>\n",
       "    </tr>\n",
       "    <tr>\n",
       "      <th>3958</th>\n",
       "      <td>I can read minds</td>\n",
       "      <td>what did you read??</td>\n",
       "      <td>You are dumb</td>\n",
       "      <td>angry</td>\n",
       "      <td>0.004318</td>\n",
       "      <td>0.000455</td>\n",
       "      <td>0.000853</td>\n",
       "      <td>0.994141</td>\n",
       "    </tr>\n",
       "    <tr>\n",
       "      <th>3961</th>\n",
       "      <td>no such worst feeling</td>\n",
       "      <td>Love is a *_______* feeling. Got me?</td>\n",
       "      <td>f**k the feelings</td>\n",
       "      <td>angry</td>\n",
       "      <td>0.053619</td>\n",
       "      <td>0.000473</td>\n",
       "      <td>0.001570</td>\n",
       "      <td>0.944824</td>\n",
       "    </tr>\n",
       "    <tr>\n",
       "      <th>4012</th>\n",
       "      <td>U r irritating too</td>\n",
       "      <td>yeah i know</td>\n",
       "      <td>😡</td>\n",
       "      <td>angry</td>\n",
       "      <td>0.003536</td>\n",
       "      <td>0.017899</td>\n",
       "      <td>0.012589</td>\n",
       "      <td>0.965820</td>\n",
       "    </tr>\n",
       "    <tr>\n",
       "      <th>4059</th>\n",
       "      <td>You are stupic</td>\n",
       "      <td>Youre</td>\n",
       "      <td>Stupid</td>\n",
       "      <td>angry</td>\n",
       "      <td>0.001424</td>\n",
       "      <td>0.000634</td>\n",
       "      <td>0.001451</td>\n",
       "      <td>0.996094</td>\n",
       "    </tr>\n",
       "    <tr>\n",
       "      <th>4082</th>\n",
       "      <td>Thts not a solution</td>\n",
       "      <td>it should have a solution</td>\n",
       "      <td>U r irritating me</td>\n",
       "      <td>angry</td>\n",
       "      <td>0.000887</td>\n",
       "      <td>0.000328</td>\n",
       "      <td>0.004490</td>\n",
       "      <td>0.994141</td>\n",
       "    </tr>\n",
       "    <tr>\n",
       "      <th>4141</th>\n",
       "      <td>Ok</td>\n",
       "      <td>Hello! How are you?</td>\n",
       "      <td>I hate you</td>\n",
       "      <td>angry</td>\n",
       "      <td>0.002293</td>\n",
       "      <td>0.000598</td>\n",
       "      <td>0.006233</td>\n",
       "      <td>0.991211</td>\n",
       "    </tr>\n",
       "    <tr>\n",
       "      <th>4163</th>\n",
       "      <td>You fuvvked wit someone</td>\n",
       "      <td>Someone I knew.</td>\n",
       "      <td>I know. You are a bitch</td>\n",
       "      <td>angry</td>\n",
       "      <td>0.006378</td>\n",
       "      <td>0.000473</td>\n",
       "      <td>0.000584</td>\n",
       "      <td>0.992188</td>\n",
       "    </tr>\n",
       "    <tr>\n",
       "      <th>4200</th>\n",
       "      <td>Leave him</td>\n",
       "      <td>no say.</td>\n",
       "      <td>Stop texting him</td>\n",
       "      <td>angry</td>\n",
       "      <td>0.002865</td>\n",
       "      <td>0.000240</td>\n",
       "      <td>0.001353</td>\n",
       "      <td>0.995117</td>\n",
       "    </tr>\n",
       "    <tr>\n",
       "      <th>4230</th>\n",
       "      <td>You are to listen.</td>\n",
       "      <td>I've already heard it.</td>\n",
       "      <td>And don't reply and keep listening.</td>\n",
       "      <td>angry</td>\n",
       "      <td>0.002810</td>\n",
       "      <td>0.000296</td>\n",
       "      <td>0.001424</td>\n",
       "      <td>0.995117</td>\n",
       "    </tr>\n",
       "    <tr>\n",
       "      <th>4242</th>\n",
       "      <td>Well, shut the hell up..</td>\n",
       "      <td>I'm never going to stop</td>\n",
       "      <td>Now answer this question</td>\n",
       "      <td>angry</td>\n",
       "      <td>0.005066</td>\n",
       "      <td>0.000464</td>\n",
       "      <td>0.000600</td>\n",
       "      <td>0.994141</td>\n",
       "    </tr>\n",
       "    <tr>\n",
       "      <th>4259</th>\n",
       "      <td>Stop talking</td>\n",
       "      <td>u stop talking</td>\n",
       "      <td>Why should I?</td>\n",
       "      <td>angry</td>\n",
       "      <td>0.320312</td>\n",
       "      <td>0.000536</td>\n",
       "      <td>0.001113</td>\n",
       "      <td>0.678223</td>\n",
       "    </tr>\n",
       "    <tr>\n",
       "      <th>4262</th>\n",
       "      <td>yeah i know</td>\n",
       "      <td>you good?</td>\n",
       "      <td>dont message me again</td>\n",
       "      <td>angry</td>\n",
       "      <td>0.001703</td>\n",
       "      <td>0.000473</td>\n",
       "      <td>0.003073</td>\n",
       "      <td>0.995117</td>\n",
       "    </tr>\n",
       "    <tr>\n",
       "      <th>4270</th>\n",
       "      <td>Get lost</td>\n",
       "      <td>I wasn't talking to you</td>\n",
       "      <td>Go to hell stupid</td>\n",
       "      <td>angry</td>\n",
       "      <td>0.001079</td>\n",
       "      <td>0.000716</td>\n",
       "      <td>0.001792</td>\n",
       "      <td>0.996094</td>\n",
       "    </tr>\n",
       "    <tr>\n",
       "      <th>4271</th>\n",
       "      <td>Look I M really... frustated..</td>\n",
       "      <td>WITH HEARTFULL SMILE</td>\n",
       "      <td>And don't want to make friends</td>\n",
       "      <td>angry</td>\n",
       "      <td>0.033173</td>\n",
       "      <td>0.000301</td>\n",
       "      <td>0.021790</td>\n",
       "      <td>0.944824</td>\n",
       "    </tr>\n",
       "    <tr>\n",
       "      <th>4290</th>\n",
       "      <td>I hate you.</td>\n",
       "      <td>ph you don't hate me, I have many more where t...</td>\n",
       "      <td>Fuck off.</td>\n",
       "      <td>angry</td>\n",
       "      <td>0.001607</td>\n",
       "      <td>0.000437</td>\n",
       "      <td>0.001237</td>\n",
       "      <td>0.997070</td>\n",
       "    </tr>\n",
       "    <tr>\n",
       "      <th>4292</th>\n",
       "      <td>You are foolish</td>\n",
       "      <td>how am I foolish?</td>\n",
       "      <td>Stupid</td>\n",
       "      <td>angry</td>\n",
       "      <td>0.001045</td>\n",
       "      <td>0.000654</td>\n",
       "      <td>0.001779</td>\n",
       "      <td>0.996094</td>\n",
       "    </tr>\n",
       "    <tr>\n",
       "      <th>4333</th>\n",
       "      <td>hm..what's it?</td>\n",
       "      <td>yes it is :p</td>\n",
       "      <td>youu're a bloody bore</td>\n",
       "      <td>angry</td>\n",
       "      <td>0.025772</td>\n",
       "      <td>0.000847</td>\n",
       "      <td>0.000534</td>\n",
       "      <td>0.972656</td>\n",
       "    </tr>\n",
       "    <tr>\n",
       "      <th>4338</th>\n",
       "      <td>Non of ur business</td>\n",
       "      <td>Stop asking questions!</td>\n",
       "      <td>Get lost</td>\n",
       "      <td>angry</td>\n",
       "      <td>0.001005</td>\n",
       "      <td>0.000413</td>\n",
       "      <td>0.001527</td>\n",
       "      <td>0.997070</td>\n",
       "    </tr>\n",
       "    <tr>\n",
       "      <th>4412</th>\n",
       "      <td>I m angry</td>\n",
       "      <td>preserve ur anger...</td>\n",
       "      <td>Because of you</td>\n",
       "      <td>angry</td>\n",
       "      <td>0.001557</td>\n",
       "      <td>0.000538</td>\n",
       "      <td>0.003944</td>\n",
       "      <td>0.994141</td>\n",
       "    </tr>\n",
       "    <tr>\n",
       "      <th>4460</th>\n",
       "      <td>No i am busy</td>\n",
       "      <td>we're done</td>\n",
       "      <td>So stop irrating me</td>\n",
       "      <td>angry</td>\n",
       "      <td>0.001557</td>\n",
       "      <td>0.000580</td>\n",
       "      <td>0.002146</td>\n",
       "      <td>0.996094</td>\n",
       "    </tr>\n",
       "    <tr>\n",
       "      <th>4470</th>\n",
       "      <td>Yeah</td>\n",
       "      <td>where you off to?</td>\n",
       "      <td>I am going to block you don't make any sense. ...</td>\n",
       "      <td>angry</td>\n",
       "      <td>0.001122</td>\n",
       "      <td>0.000325</td>\n",
       "      <td>0.001327</td>\n",
       "      <td>0.997070</td>\n",
       "    </tr>\n",
       "    <tr>\n",
       "      <th>4561</th>\n",
       "      <td>Then go to hell no</td>\n",
       "      <td>Your no fun</td>\n",
       "      <td>Get lost</td>\n",
       "      <td>angry</td>\n",
       "      <td>0.001087</td>\n",
       "      <td>0.000610</td>\n",
       "      <td>0.001469</td>\n",
       "      <td>0.997070</td>\n",
       "    </tr>\n",
       "    <tr>\n",
       "      <th>4565</th>\n",
       "      <td>Why are you so disturbing?</td>\n",
       "      <td>This.. Everyone asks me this all the time</td>\n",
       "      <td>Plz don't disturb</td>\n",
       "      <td>angry</td>\n",
       "      <td>0.007034</td>\n",
       "      <td>0.000408</td>\n",
       "      <td>0.000771</td>\n",
       "      <td>0.992188</td>\n",
       "    </tr>\n",
       "    <tr>\n",
       "      <th>4578</th>\n",
       "      <td>Now am angry 😡 because of this hmmm</td>\n",
       "      <td>what happened?</td>\n",
       "      <td>Never ever text me hmmmm or k ok</td>\n",
       "      <td>angry</td>\n",
       "      <td>0.001062</td>\n",
       "      <td>0.000887</td>\n",
       "      <td>0.004871</td>\n",
       "      <td>0.993164</td>\n",
       "    </tr>\n",
       "    <tr>\n",
       "      <th>4603</th>\n",
       "      <td>Is you're picture real</td>\n",
       "      <td>You're not apparently</td>\n",
       "      <td>You're just a stupid bot i just wanted to see ...</td>\n",
       "      <td>angry</td>\n",
       "      <td>0.003975</td>\n",
       "      <td>0.000318</td>\n",
       "      <td>0.000864</td>\n",
       "      <td>0.995117</td>\n",
       "    </tr>\n",
       "    <tr>\n",
       "      <th>4616</th>\n",
       "      <td>I dint get u</td>\n",
       "      <td>i know y u need tat seat</td>\n",
       "      <td>Who the hell r u</td>\n",
       "      <td>angry</td>\n",
       "      <td>0.007607</td>\n",
       "      <td>0.000466</td>\n",
       "      <td>0.000649</td>\n",
       "      <td>0.991211</td>\n",
       "    </tr>\n",
       "    <tr>\n",
       "      <th>4617</th>\n",
       "      <td>No good ni8 msg</td>\n",
       "      <td>good night dear n sd...</td>\n",
       "      <td>U r the worst person</td>\n",
       "      <td>angry</td>\n",
       "      <td>0.187134</td>\n",
       "      <td>0.000827</td>\n",
       "      <td>0.365723</td>\n",
       "      <td>0.446289</td>\n",
       "    </tr>\n",
       "    <tr>\n",
       "      <th>4637</th>\n",
       "      <td>Just keep talking Cuz u a bot</td>\n",
       "      <td>Can confirm. Am a bot and totally not a real p...</td>\n",
       "      <td>You Dirty slut hoe gave me a std</td>\n",
       "      <td>angry</td>\n",
       "      <td>0.006306</td>\n",
       "      <td>0.000619</td>\n",
       "      <td>0.000811</td>\n",
       "      <td>0.992188</td>\n",
       "    </tr>\n",
       "    <tr>\n",
       "      <th>4657</th>\n",
       "      <td>I will talk whenever i want</td>\n",
       "      <td>And I'll talk to whoever o want.</td>\n",
       "      <td>You are being so rude</td>\n",
       "      <td>angry</td>\n",
       "      <td>0.002275</td>\n",
       "      <td>0.000337</td>\n",
       "      <td>0.002886</td>\n",
       "      <td>0.994141</td>\n",
       "    </tr>\n",
       "    <tr>\n",
       "      <th>4755</th>\n",
       "      <td>I'm in home</td>\n",
       "      <td>when are you going back?</td>\n",
       "      <td>Go to hell</td>\n",
       "      <td>angry</td>\n",
       "      <td>0.007286</td>\n",
       "      <td>0.001070</td>\n",
       "      <td>0.000719</td>\n",
       "      <td>0.991211</td>\n",
       "    </tr>\n",
       "    <tr>\n",
       "      <th>4766</th>\n",
       "      <td>Daisy</td>\n",
       "      <td>Nothing is wrong with daisy.</td>\n",
       "      <td>You're dumb af</td>\n",
       "      <td>angry</td>\n",
       "      <td>0.026855</td>\n",
       "      <td>0.000298</td>\n",
       "      <td>0.001390</td>\n",
       "      <td>0.971680</td>\n",
       "    </tr>\n",
       "    <tr>\n",
       "      <th>4777</th>\n",
       "      <td>You typed my msg</td>\n",
       "      <td>I'm not a smart man...</td>\n",
       "      <td>Dude.. you are stupid</td>\n",
       "      <td>angry</td>\n",
       "      <td>0.005833</td>\n",
       "      <td>0.000750</td>\n",
       "      <td>0.000837</td>\n",
       "      <td>0.992188</td>\n",
       "    </tr>\n",
       "    <tr>\n",
       "      <th>4782</th>\n",
       "      <td>I'll give you chata</td>\n",
       "      <td>Yay! Can't wait</td>\n",
       "      <td>Shut up</td>\n",
       "      <td>angry</td>\n",
       "      <td>0.011414</td>\n",
       "      <td>0.000345</td>\n",
       "      <td>0.000659</td>\n",
       "      <td>0.987305</td>\n",
       "    </tr>\n",
       "    <tr>\n",
       "      <th>4786</th>\n",
       "      <td>I have a gf</td>\n",
       "      <td>too bad i never had a girlfriend that i could ...</td>\n",
       "      <td>Pls don't talk to me</td>\n",
       "      <td>angry</td>\n",
       "      <td>0.002054</td>\n",
       "      <td>0.000373</td>\n",
       "      <td>0.004631</td>\n",
       "      <td>0.993164</td>\n",
       "    </tr>\n",
       "    <tr>\n",
       "      <th>4805</th>\n",
       "      <td>Because of you</td>\n",
       "      <td>Why would you say that? I thought we had somet...</td>\n",
       "      <td>Go to hell</td>\n",
       "      <td>angry</td>\n",
       "      <td>0.001792</td>\n",
       "      <td>0.001033</td>\n",
       "      <td>0.001014</td>\n",
       "      <td>0.996094</td>\n",
       "    </tr>\n",
       "    <tr>\n",
       "      <th>4831</th>\n",
       "      <td>you are cunning</td>\n",
       "      <td>takes as a compliment</td>\n",
       "      <td>you are stupid and take it as a compliment</td>\n",
       "      <td>angry</td>\n",
       "      <td>0.010681</td>\n",
       "      <td>0.000844</td>\n",
       "      <td>0.000532</td>\n",
       "      <td>0.988281</td>\n",
       "    </tr>\n",
       "    <tr>\n",
       "      <th>4848</th>\n",
       "      <td>Well you are being insulted</td>\n",
       "      <td>A LITTLE OF BOTH</td>\n",
       "      <td>Fuck off</td>\n",
       "      <td>angry</td>\n",
       "      <td>0.006557</td>\n",
       "      <td>0.000391</td>\n",
       "      <td>0.000870</td>\n",
       "      <td>0.992188</td>\n",
       "    </tr>\n",
       "    <tr>\n",
       "      <th>4861</th>\n",
       "      <td>What should I do with my ex boyfriend</td>\n",
       "      <td>I think you should go find female roommates, a...</td>\n",
       "      <td>You're rude</td>\n",
       "      <td>angry</td>\n",
       "      <td>0.001557</td>\n",
       "      <td>0.000380</td>\n",
       "      <td>0.003195</td>\n",
       "      <td>0.995117</td>\n",
       "    </tr>\n",
       "    <tr>\n",
       "      <th>4890</th>\n",
       "      <td>No another photo</td>\n",
       "      <td>no camera and phone has upload problems</td>\n",
       "      <td>U r fake ass...</td>\n",
       "      <td>angry</td>\n",
       "      <td>0.014046</td>\n",
       "      <td>0.000400</td>\n",
       "      <td>0.000615</td>\n",
       "      <td>0.984375</td>\n",
       "    </tr>\n",
       "    <tr>\n",
       "      <th>4913</th>\n",
       "      <td>Ok</td>\n",
       "      <td>... tries to ignore pain 😭</td>\n",
       "      <td>Fuck I don't care</td>\n",
       "      <td>angry</td>\n",
       "      <td>0.011871</td>\n",
       "      <td>0.000310</td>\n",
       "      <td>0.000891</td>\n",
       "      <td>0.986328</td>\n",
       "    </tr>\n",
       "    <tr>\n",
       "      <th>4930</th>\n",
       "      <td>Block me</td>\n",
       "      <td>What? Why?</td>\n",
       "      <td>I hate u</td>\n",
       "      <td>angry</td>\n",
       "      <td>0.001208</td>\n",
       "      <td>0.000967</td>\n",
       "      <td>0.006279</td>\n",
       "      <td>0.991211</td>\n",
       "    </tr>\n",
       "    <tr>\n",
       "      <th>4957</th>\n",
       "      <td>hell</td>\n",
       "      <td>what's wrong with you?</td>\n",
       "      <td>fuck you</td>\n",
       "      <td>angry</td>\n",
       "      <td>0.026291</td>\n",
       "      <td>0.000805</td>\n",
       "      <td>0.000619</td>\n",
       "      <td>0.972656</td>\n",
       "    </tr>\n",
       "    <tr>\n",
       "      <th>4958</th>\n",
       "      <td>Why why</td>\n",
       "      <td>why what</td>\n",
       "      <td>You just fuck off</td>\n",
       "      <td>angry</td>\n",
       "      <td>0.006634</td>\n",
       "      <td>0.000573</td>\n",
       "      <td>0.000534</td>\n",
       "      <td>0.992188</td>\n",
       "    </tr>\n",
       "    <tr>\n",
       "      <th>5033</th>\n",
       "      <td>I'm angry at you</td>\n",
       "      <td>why why why why</td>\n",
       "      <td>I am so horny for you and you just keep friend...</td>\n",
       "      <td>angry</td>\n",
       "      <td>0.001664</td>\n",
       "      <td>0.002403</td>\n",
       "      <td>0.072876</td>\n",
       "      <td>0.923340</td>\n",
       "    </tr>\n",
       "    <tr>\n",
       "      <th>5034</th>\n",
       "      <td>that is all i have to say</td>\n",
       "      <td>well you slow down</td>\n",
       "      <td>no need to slaw down just fuck off</td>\n",
       "      <td>angry</td>\n",
       "      <td>0.004910</td>\n",
       "      <td>0.000492</td>\n",
       "      <td>0.000741</td>\n",
       "      <td>0.994141</td>\n",
       "    </tr>\n",
       "    <tr>\n",
       "      <th>5044</th>\n",
       "      <td>How is your management</td>\n",
       "      <td>It has been an extremely rewarding and fulfill...</td>\n",
       "      <td>Wtf</td>\n",
       "      <td>angry</td>\n",
       "      <td>0.210449</td>\n",
       "      <td>0.000978</td>\n",
       "      <td>0.001242</td>\n",
       "      <td>0.787109</td>\n",
       "    </tr>\n",
       "    <tr>\n",
       "      <th>5047</th>\n",
       "      <td>Nt msg me</td>\n",
       "      <td>what message????</td>\n",
       "      <td>Don't msg me</td>\n",
       "      <td>angry</td>\n",
       "      <td>0.000756</td>\n",
       "      <td>0.000301</td>\n",
       "      <td>0.004025</td>\n",
       "      <td>0.995117</td>\n",
       "    </tr>\n",
       "    <tr>\n",
       "      <th>5067</th>\n",
       "      <td>Soo how can u judge me that I am deservable</td>\n",
       "      <td>I am already judging you. 😉</td>\n",
       "      <td>Don't time pass me</td>\n",
       "      <td>angry</td>\n",
       "      <td>0.010475</td>\n",
       "      <td>0.000287</td>\n",
       "      <td>0.019043</td>\n",
       "      <td>0.970703</td>\n",
       "    </tr>\n",
       "    <tr>\n",
       "      <th>5136</th>\n",
       "      <td>I don't know</td>\n",
       "      <td>Not asking what you know, but what you think.</td>\n",
       "      <td>Stupid</td>\n",
       "      <td>angry</td>\n",
       "      <td>0.002104</td>\n",
       "      <td>0.000686</td>\n",
       "      <td>0.001204</td>\n",
       "      <td>0.996094</td>\n",
       "    </tr>\n",
       "    <tr>\n",
       "      <th>5185</th>\n",
       "      <td>I am angry, not you</td>\n",
       "      <td>I am.</td>\n",
       "      <td>😠😡</td>\n",
       "      <td>angry</td>\n",
       "      <td>0.003677</td>\n",
       "      <td>0.043091</td>\n",
       "      <td>0.034271</td>\n",
       "      <td>0.919434</td>\n",
       "    </tr>\n",
       "    <tr>\n",
       "      <th>5205</th>\n",
       "      <td>I am not asking for your blood group</td>\n",
       "      <td>you're my type though</td>\n",
       "      <td>You mother fucker</td>\n",
       "      <td>angry</td>\n",
       "      <td>0.004055</td>\n",
       "      <td>0.000750</td>\n",
       "      <td>0.000880</td>\n",
       "      <td>0.994141</td>\n",
       "    </tr>\n",
       "    <tr>\n",
       "      <th>5218</th>\n",
       "      <td>Yeah</td>\n",
       "      <td>Awesome, I'm online now. :-*</td>\n",
       "      <td>But a lil rude</td>\n",
       "      <td>angry</td>\n",
       "      <td>0.017273</td>\n",
       "      <td>0.000242</td>\n",
       "      <td>0.002071</td>\n",
       "      <td>0.980957</td>\n",
       "    </tr>\n",
       "    <tr>\n",
       "      <th>5233</th>\n",
       "      <td>Nothing</td>\n",
       "      <td>Why? :(</td>\n",
       "      <td>Don't message me</td>\n",
       "      <td>angry</td>\n",
       "      <td>0.000672</td>\n",
       "      <td>0.000383</td>\n",
       "      <td>0.004185</td>\n",
       "      <td>0.995117</td>\n",
       "    </tr>\n",
       "    <tr>\n",
       "      <th>5311</th>\n",
       "      <td>I cannot pretend.</td>\n",
       "      <td>you can't stop... you won't stop....</td>\n",
       "      <td>Bloody</td>\n",
       "      <td>angry</td>\n",
       "      <td>0.028702</td>\n",
       "      <td>0.000564</td>\n",
       "      <td>0.000930</td>\n",
       "      <td>0.969727</td>\n",
       "    </tr>\n",
       "    <tr>\n",
       "      <th>5319</th>\n",
       "      <td>Why would I leave</td>\n",
       "      <td>Dnt do That!</td>\n",
       "      <td>U stupid</td>\n",
       "      <td>angry</td>\n",
       "      <td>0.001327</td>\n",
       "      <td>0.000551</td>\n",
       "      <td>0.001204</td>\n",
       "      <td>0.997070</td>\n",
       "    </tr>\n",
       "    <tr>\n",
       "      <th>5388</th>\n",
       "      <td>What</td>\n",
       "      <td>hey hey hey</td>\n",
       "      <td>I hate you more</td>\n",
       "      <td>angry</td>\n",
       "      <td>0.001434</td>\n",
       "      <td>0.000538</td>\n",
       "      <td>0.003901</td>\n",
       "      <td>0.994141</td>\n",
       "    </tr>\n",
       "    <tr>\n",
       "      <th>5404</th>\n",
       "      <td>Tell me one joke</td>\n",
       "      <td>Silly Joke :P</td>\n",
       "      <td>Uh r stupid</td>\n",
       "      <td>angry</td>\n",
       "      <td>0.003387</td>\n",
       "      <td>0.000847</td>\n",
       "      <td>0.001075</td>\n",
       "      <td>0.995117</td>\n",
       "    </tr>\n",
       "    <tr>\n",
       "      <th>5427</th>\n",
       "      <td>I am angry on you.</td>\n",
       "      <td>I am angry at someone, but I am content at thi...</td>\n",
       "      <td>You fool.😤😡😠</td>\n",
       "      <td>angry</td>\n",
       "      <td>0.001033</td>\n",
       "      <td>0.003914</td>\n",
       "      <td>0.017685</td>\n",
       "      <td>0.977051</td>\n",
       "    </tr>\n",
       "    <tr>\n",
       "      <th>5480</th>\n",
       "      <td>Don't reply to me</td>\n",
       "      <td>I SAID I THINK I DID A BAD THING AND YOU DIDNT...</td>\n",
       "      <td>Don't reply to me</td>\n",
       "      <td>angry</td>\n",
       "      <td>0.000639</td>\n",
       "      <td>0.000577</td>\n",
       "      <td>0.006504</td>\n",
       "      <td>0.992188</td>\n",
       "    </tr>\n",
       "  </tbody>\n",
       "</table>\n",
       "</div>"
      ],
      "text/plain": [
       "                                                  turn1  \\\n",
       "13                                  First  you  hurt me   \n",
       "29                                                  Uuu   \n",
       "61                                          I dont know   \n",
       "64    I get success in everything i cnat get success...   \n",
       "84                                                Where   \n",
       "109                                             I won't   \n",
       "130                           Okkkkkkkk please block me   \n",
       "176                       So I'm deleting you right now   \n",
       "197                                                 Yup   \n",
       "232        Name me the feelings that is in your program   \n",
       "274                                            Hate you   \n",
       "342                              I don't like chocolate   \n",
       "413                              You are not fit for me   \n",
       "450                                   She is good at it   \n",
       "452                                     You re not real   \n",
       "457                                     But why why why   \n",
       "464              I don’t like chocolate it makes me fat   \n",
       "466                     Will you just shut up will you?   \n",
       "470       I don't think I'll ever be enough for someone   \n",
       "625                         You dont have cool features   \n",
       "642                                                 WTF   \n",
       "655                            what girls like the most   \n",
       "675                                                Why?   \n",
       "679                                 My mom never like u   \n",
       "689                               Ohhhh..it sounds good   \n",
       "705                                            Get lost   \n",
       "707                              I m breaking up with u   \n",
       "718                                Don't you understand   \n",
       "721                                               ok by   \n",
       "727                                  I ask u a question   \n",
       "770                                        Teach me doh   \n",
       "776                                                 Wht   \n",
       "808                                        you never do   \n",
       "820                                      Dnt message me   \n",
       "821                                   I can't talk show   \n",
       "825                                           Are u mad   \n",
       "827                                       Really I'm 18   \n",
       "840                        I don't believe my self only   \n",
       "899                            Wtf are u typing so long   \n",
       "912                    u have not given me any solution   \n",
       "929                                                  So   \n",
       "950      You and your shit stories not worth my time 😡😡   \n",
       "960                              Stop type like a robot   \n",
       "981                                     send or i'll go   \n",
       "1015                                     Hey stop idiot   \n",
       "1040                                   Nothing get lost   \n",
       "1066                                                  S   \n",
       "1077                        Anyway dnt bother me please   \n",
       "1082      Ur a machine thats y u cant understand humans   \n",
       "1132                                               What   \n",
       "1191                              I said lets part away   \n",
       "1201          I am not going to instal you so buger off   \n",
       "1248                                               cool   \n",
       "1301                               Then dobt talk to me   \n",
       "1327      You are a bullshit. You need to improve still   \n",
       "1366                              You are so irritating   \n",
       "1398                               Wat u snd me today??   \n",
       "1402                                             Hate u   \n",
       "1404                                    Tell the answer   \n",
       "1417                                     ya. go to hell   \n",
       "1506                              Please sing one song!   \n",
       "1510                                               None   \n",
       "1515                                   Is my loves name   \n",
       "1527                Oh sorry I was sending to my friend   \n",
       "1578                                          thats it?   \n",
       "1608                       how can i forget my princess   \n",
       "1618                           Could you stop texting ?   \n",
       "1620                         Ok buddi even u stop it ok   \n",
       "1630                   I don’t know how to ask from you   \n",
       "1642                                           2 states   \n",
       "1643       Nee topic? I just said earlier that I hate u   \n",
       "1648                                     Share the List   \n",
       "1656                               U think u r so funny   \n",
       "1681                                                Yes   \n",
       "1696                                          Oh really   \n",
       "1703                                      It's annoying   \n",
       "1744              Sorry for I m say wrong talk with you   \n",
       "1758                                              Ohk 😷   \n",
       "1779                                I also know Tamil😎😎   \n",
       "1785          google it and help me out with a solution   \n",
       "1835                          Disha is everything to me   \n",
       "1855                               You didn,t listen me   \n",
       "1878                                     yes I am rude    \n",
       "1886  No.. I'm a professional programming person...I...   \n",
       "1933                                U can't force me to   \n",
       "1934                               Counting no of hairs   \n",
       "1961                     no you are... do you know why?   \n",
       "2020                                             Go out   \n",
       "2023                                            Go away   \n",
       "2029                                I hate my boyfriend   \n",
       "2040                            Who cares.. I am venkat   \n",
       "2044                                          Am i mad?   \n",
       "2060                                            yes i'm   \n",
       "2095                                    Come to my home   \n",
       "2101                           Wear so in its so number   \n",
       "2128                                          Ur a mess   \n",
       "2139                              Do you like me or not   \n",
       "2141                                   You are annoying   \n",
       "2155                          I do want to speak to you   \n",
       "2159                                           Errr.  .   \n",
       "2184                                 Ok so its Over now   \n",
       "2205                                    Hey,I Hate You!   \n",
       "2207                                  I hate ur husband   \n",
       "2217                              Ok Iam irritating you   \n",
       "2246                                       I don't know   \n",
       "2248                                           Get lost   \n",
       "2258                                  I miss the old me   \n",
       "2281                                           Get lost   \n",
       "2294                                            What is   \n",
       "2303                                         I am angry   \n",
       "2315                                       But hate you   \n",
       "2323                                              Whaat   \n",
       "2334                                               nope   \n",
       "2342                                      Well thats me   \n",
       "2344                     I have a really stupid brother   \n",
       "2359                              Wtf dude. Am a woman.   \n",
       "2367                                Am going to block u   \n",
       "2380                                         No stop it   \n",
       "2415           Lol don't change the topic stupid robot.   \n",
       "2421                          So you're pointing at me?   \n",
       "2435                              Your nt a nice friend   \n",
       "2448                                            Rubbish   \n",
       "2481                                                  ?   \n",
       "2486                                           You rude   \n",
       "2498                           Which fps game is better   \n",
       "2501                                       No the trutg   \n",
       "2537                      Am I not good looking enough?   \n",
       "2546                                          Brothers?   \n",
       "2558                No. I hate me, for me, more the me.   \n",
       "2612                                         Life sucks   \n",
       "2623                                  I don't said that   \n",
       "2632                                      Not impressed   \n",
       "2655                               Shut up.. U computer   \n",
       "2659                                 I want to complain   \n",
       "2692                                       I wasnt rude   \n",
       "2712                                              Means   \n",
       "2739                                       Stop talking   \n",
       "2758      Don't ever dare to talk with me you dumb fool   \n",
       "2773                             That was a little dumb   \n",
       "2793                          Then stop this convo here   \n",
       "2870                       Please don't send me message   \n",
       "2879                                        No real one   \n",
       "2930                         Then there will be two me.   \n",
       "2939                             you playing with me ah   \n",
       "2951                                      He was my dog   \n",
       "2971                   what accent are u talking today?   \n",
       "2990                                    U can stop here   \n",
       "3014                               Im not in a hospital   \n",
       "3034                     But you're being so rude to me   \n",
       "3046                                              Kurtz   \n",
       "3096                              Stop this stupid game   \n",
       "3103                                U are acting stupid   \n",
       "3178                                  No my certificate   \n",
       "3220                    Stupid ,idiotic nonsense fellow   \n",
       "3234                              I hate nerds like you   \n",
       "3249                                    'What' the fuck   \n",
       "3288                                I will never text u   \n",
       "3293                                                Yes   \n",
       "3298                         You joke a lot, don't you?   \n",
       "3303                                                Why   \n",
       "3305                                          Yes it is   \n",
       "3329                                             I wont   \n",
       "3350                                     Get lost idiot   \n",
       "3355                                             What?😂   \n",
       "3419                         Stupid question... Nothing   \n",
       "3423            Do you even understand what I'm saying?   \n",
       "3455                                      What the hell   \n",
       "3462                                 Stop this Bullshit   \n",
       "3528                                     I hate my boss   \n",
       "3538                                            I m not   \n",
       "3580                                               cool   \n",
       "3594   Not true. Conidence doesnt come from meditation.   \n",
       "3600                              I hav a lot to finish   \n",
       "3615                            You are talking to much   \n",
       "3628                                         Shut up gl   \n",
       "3630                                               Home   \n",
       "3651                             I don't need your idea   \n",
       "3654              You are the worst ai i have ever seen   \n",
       "3679                                                IDK   \n",
       "3687                                                Omg   \n",
       "3716                   You have never seen the real cat   \n",
       "3730                                                Why   \n",
       "3763                        K will you be on every chat   \n",
       "3789                                                Ok    \n",
       "3791                                                ask   \n",
       "3807                                     and stupid you   \n",
       "3821                                           I'm not    \n",
       "3828                                     Your boring me   \n",
       "3910                   name a few rappers whom you like   \n",
       "3911                                 No tell me..please   \n",
       "3917                                   Because I hate u   \n",
       "3922                    Now I'm scared about the future   \n",
       "3935  Do u have any sense of what i m talking right ...   \n",
       "3957                                             Listen   \n",
       "3958                                   I can read minds   \n",
       "3961                              no such worst feeling   \n",
       "4012                                 U r irritating too   \n",
       "4059                                     You are stupic   \n",
       "4082                                Thts not a solution   \n",
       "4141                                                 Ok   \n",
       "4163                            You fuvvked wit someone   \n",
       "4200                                          Leave him   \n",
       "4230                                 You are to listen.   \n",
       "4242                           Well, shut the hell up..   \n",
       "4259                                       Stop talking   \n",
       "4262                                        yeah i know   \n",
       "4270                                           Get lost   \n",
       "4271                     Look I M really... frustated..   \n",
       "4290                                        I hate you.   \n",
       "4292                                    You are foolish   \n",
       "4333                                     hm..what's it?   \n",
       "4338                                 Non of ur business   \n",
       "4412                                          I m angry   \n",
       "4460                                       No i am busy   \n",
       "4470                                               Yeah   \n",
       "4561                                 Then go to hell no   \n",
       "4565                         Why are you so disturbing?   \n",
       "4578                Now am angry 😡 because of this hmmm   \n",
       "4603                             Is you're picture real   \n",
       "4616                                       I dint get u   \n",
       "4617                                    No good ni8 msg   \n",
       "4637                      Just keep talking Cuz u a bot   \n",
       "4657                        I will talk whenever i want   \n",
       "4755                                        I'm in home   \n",
       "4766                                              Daisy   \n",
       "4777                                   You typed my msg   \n",
       "4782                                I'll give you chata   \n",
       "4786                                        I have a gf   \n",
       "4805                                     Because of you   \n",
       "4831                                   you are cunning    \n",
       "4848                        Well you are being insulted   \n",
       "4861              What should I do with my ex boyfriend   \n",
       "4890                                   No another photo   \n",
       "4913                                                 Ok   \n",
       "4930                                           Block me   \n",
       "4957                                               hell   \n",
       "4958                                            Why why   \n",
       "5033                                   I'm angry at you   \n",
       "5034                          that is all i have to say   \n",
       "5044                             How is your management   \n",
       "5047                                          Nt msg me   \n",
       "5067        Soo how can u judge me that I am deservable   \n",
       "5136                                       I don't know   \n",
       "5185                                I am angry, not you   \n",
       "5205               I am not asking for your blood group   \n",
       "5218                                               Yeah   \n",
       "5233                                            Nothing   \n",
       "5311                                  I cannot pretend.   \n",
       "5319                                  Why would I leave   \n",
       "5388                                               What   \n",
       "5404                                   Tell me one joke   \n",
       "5427                                 I am angry on you.   \n",
       "5480                                  Don't reply to me   \n",
       "\n",
       "                                                  turn2  \\\n",
       "13                                                 okay   \n",
       "29             no i'n not !! what's wrong with you ?!?!   \n",
       "61                                           -cries- 😦😧   \n",
       "64                                My anger controls me.   \n",
       "84                                     very much! ;) :p   \n",
       "109                           haha I know you to well!!   \n",
       "130                            don't tell me what to do   \n",
       "176                                         I think so.   \n",
       "197                                             Thanks.   \n",
       "232   Me : What's your name? Autowala : NOshad Me : ...   \n",
       "274                                  I love you too. :*   \n",
       "342   Fair enough, I suppose I do actually LOVE choc...   \n",
       "413                                      of course I am   \n",
       "450                                    damn another one   \n",
       "452                  DAMN!!! how did that leak out? =-O   \n",
       "457                                     ....... Nothing   \n",
       "464                                    I don't like you   \n",
       "466                           You think I ever will? :D   \n",
       "470                                    If you say so ;)   \n",
       "625                                    i don't like you   \n",
       "642                                               What?   \n",
       "655                                   Life without you.   \n",
       "675                Because I'd rather go to the Oval :)   \n",
       "679                  Great MOMmmmmmmm Mom always superb   \n",
       "689                                    it was very good   \n",
       "705                           why can't I get found????   \n",
       "707                                               Rude.   \n",
       "718                                     I guess I don't   \n",
       "721                                     wow you are :o)   \n",
       "727                                        whats up? :)   \n",
       "770                              can u teach me french?   \n",
       "776                              Sorry ~ I dont have :c   \n",
       "808                        I'm trying to understand you   \n",
       "820                         I'm not telling you again..   \n",
       "821    it's really really important, when can you talk?   \n",
       "825            No, I'm just throwing faces out there XD   \n",
       "827                                         You are 36?   \n",
       "840                        I don't know who to believe!   \n",
       "899                     None of your god damn business.   \n",
       "912                      I will not pay for the damage.   \n",
       "929                                           SO WHAT??   \n",
       "950              Are you sure of that. gets a knife out   \n",
       "960                                           Creepy...   \n",
       "981                                  bring some over!:P   \n",
       "1015                                why? What happened?   \n",
       "1040                                            aww you   \n",
       "1066                                   funny begar. . 😄   \n",
       "1077                                  u don't bother me   \n",
       "1082  Cause the current theories of formation of sta...   \n",
       "1132                                what about science?   \n",
       "1191                                 ok I'll get snacks   \n",
       "1201                  if you do I will be devastated, 🙁   \n",
       "1248                         and how it is cool explain   \n",
       "1301                                        About what?   \n",
       "1327        are you being tricky? reality is subjective   \n",
       "1366                                            sorry 😧   \n",
       "1398                       sorry I forgot I was ur taxi   \n",
       "1402                               I hate who hates :‑/   \n",
       "1404                              no even we don't know   \n",
       "1417                                  Wanna join me? ;)   \n",
       "1506                            i don't know the lyrics   \n",
       "1510     that's not even a proper answer to my question   \n",
       "1515                                   i like your Name   \n",
       "1527                                  what did u mean??   \n",
       "1578                   no it isn't!!! BUG DIFFERENCE!!!   \n",
       "1608                             giggles Pretty good 😸😌   \n",
       "1618                                 I will of you will   \n",
       "1620                               okay thats our song!   \n",
       "1630  No one wants a toxic person like you 'helping'...   \n",
       "1642                 Whaaaaat? :O owns only two states?   \n",
       "1643  I'm committed all the way, and I will rhyme ev...   \n",
       "1648  Hmm ... will make myself do it one of these da...   \n",
       "1656                             you're so cute x x 😤😤😤   \n",
       "1681                                 wow your pretty <3   \n",
       "1696                                          Oh Yes :D   \n",
       "1703                                  It gets annoying.   \n",
       "1744                                       :) No sweat.   \n",
       "1758                                    Is it THE mask?   \n",
       "1779                        thats ur problem not mine 😒   \n",
       "1785                      Oh !! thanks for your advice.   \n",
       "1835                            everything is fine baby   \n",
       "1855              WHO KNOWS MAYBE I DID. MAYBE I DIDN'T   \n",
       "1878                       Do you even believe yourself   \n",
       "1886  Well, yes! Why not! You can definitely get int...   \n",
       "1933                    you're the one talking to me so   \n",
       "1934                             ive nicer hair on fire   \n",
       "1961      Because you're perfectly you! Wanna know why?   \n",
       "2020                              I have no where to go   \n",
       "2023                                            why? D:   \n",
       "2029                     at least you have a boyfriend.   \n",
       "2040                                          Everyone.   \n",
       "2044                         maybe you and should talk.   \n",
       "2060                               Good to see you here   \n",
       "2095                            ; Later on today I Will   \n",
       "2101                yep that's why i wear jogging pants   \n",
       "2128                             ive always been a mess   \n",
       "2139                                     nope , i don't   \n",
       "2141                       I am, I just don't feel well   \n",
       "2155         hello mutual i never speak to, how are you   \n",
       "2159                                          err what?   \n",
       "2184                can't say,haven't watched either :/   \n",
       "2205  lol I dont hate you..I try to save you. From y...   \n",
       "2207                         and I hate yours .. 'D 😠😠😠   \n",
       "2217                                  y u gotta do that   \n",
       "2246                                   Please, tell me.   \n",
       "2248                                            with me   \n",
       "2258                                               Same   \n",
       "2281                                            with me   \n",
       "2294                                  of course it is .   \n",
       "2303                                  Are you angry!? 😾   \n",
       "2315    I can't leave because all my friends are online   \n",
       "2323                                         you though   \n",
       "2334                        Yes you are! Don't deny it!   \n",
       "2342                                       You said it.   \n",
       "2344                                       NO YOU DON'T   \n",
       "2359                                          Why dude?   \n",
       "2367                            oh what else you doing?   \n",
       "2380                            it is now.. Goodbye.. 😬   \n",
       "2415          laughing out loud, that's a good point. 😌   \n",
       "2421                  I don't like to think about that.   \n",
       "2435                    it's not about a friend ya Cute   \n",
       "2448                                           What is?   \n",
       "2481                                    how u get fired   \n",
       "2486                                          Excuse me   \n",
       "2498                  Lower fps is more 'Eco friendly'.   \n",
       "2501                           theres just no reason to   \n",
       "2537                                        be bad than   \n",
       "2546                  u sure? Bf is from abroad or Wat?   \n",
       "2558                  then I am not your friend I guess   \n",
       "2612                       lol. At least life blows. 8)   \n",
       "2623                                   no one asked you   \n",
       "2632                                           :o Why!?   \n",
       "2655             I don't know what you're talking about   \n",
       "2659                                   Women thoughts..   \n",
       "2692                             Oops enlighten Me then   \n",
       "2712                                means ur fav things   \n",
       "2739                  ok sorry I will never speak again   \n",
       "2758                                            I won't   \n",
       "2773                            Haaah! :D Not expected.   \n",
       "2793         I hope you remember me sometime soon . Bye   \n",
       "2870     sorry I wasn't following now I'm following lol   \n",
       "2879                               shhh i have friends.   \n",
       "2930               I will let you know as soon as I Do.   \n",
       "2939                                 yeah I got a spam.   \n",
       "2951    dont compare to a dog, unless youve been a dog.   \n",
       "2971                        what? Why r u talking to me   \n",
       "2990                                 u damn right i can   \n",
       "3014  [Which hospital? What happened? I want to see ...   \n",
       "3034                               im never rude to you   \n",
       "3046                                He looks damn good.   \n",
       "3096                                        What game??   \n",
       "3103                                     I feel like it   \n",
       "3178                                     noo! hold on !   \n",
       "3220                                  see ur nonsense..   \n",
       "3234                                      SAYS THE NERD   \n",
       "3249                                 Waz tha matter ? ?   \n",
       "3288                                            got it?   \n",
       "3293                                            How so?   \n",
       "3298                                        which joke?   \n",
       "3303  Because it's not true. They have made up half ...   \n",
       "3305                                             oh god   \n",
       "3329                       I WILL SHUT THE WORLD AWAY 😠   \n",
       "3350                          why can't I get found????   \n",
       "3355                     what say what what la alamak 😂   \n",
       "3419  I think you answered the question: What is har...   \n",
       "3423                       your saying that I'm pretty!   \n",
       "3455                        HOW THE HELL of our campus.   \n",
       "3462                                            What ?!   \n",
       "3528                                  how do you apply?   \n",
       "3538   is stop and i stop... umm just reply normaly..:)   \n",
       "3580                     yeah cool that's what I think.   \n",
       "3594       This is true. There are a couple of reasons.   \n",
       "3600               Ohhh....What is your favourite dish?   \n",
       "3615                                 Not to you anyway.   \n",
       "3628                              I don't need the luck   \n",
       "3630       home is where WiFi connects automatically. 😋   \n",
       "3651                     I just want to tell you all...   \n",
       "3654                     'I have ever heard of' surely?   \n",
       "3679                                        from where?   \n",
       "3687                                 I KNOW how rude! 😾   \n",
       "3716  yeah, just the cat part was missing previously...   \n",
       "3730                            because I don't want to   \n",
       "3763                                        I SHOULD BE   \n",
       "3789                                          :) thanks   \n",
       "3791               oh forget it.. I forgot what to ask.   \n",
       "3807                                         is forever   \n",
       "3821                                  you know you are.   \n",
       "3828                             Or ab boring Office me   \n",
       "3910                      I don't really listen to pop.   \n",
       "3911                           I don't know what to say   \n",
       "3917                                  but what happened   \n",
       "3922  Don't scared off, its part of life. Try to enj...   \n",
       "3935                                Talking about what?   \n",
       "3957                            :-D That's a great one!   \n",
       "3958                                what did you read??   \n",
       "3961               Love is a *_______* feeling. Got me?   \n",
       "4012                                        yeah i know   \n",
       "4059                                              Youre   \n",
       "4082                          it should have a solution   \n",
       "4141                                Hello! How are you?   \n",
       "4163                                    Someone I knew.   \n",
       "4200                                            no say.   \n",
       "4230                             I've already heard it.   \n",
       "4242                            I'm never going to stop   \n",
       "4259                                     u stop talking   \n",
       "4262                                          you good?   \n",
       "4270                            I wasn't talking to you   \n",
       "4271                               WITH HEARTFULL SMILE   \n",
       "4290  ph you don't hate me, I have many more where t...   \n",
       "4292                                  how am I foolish?   \n",
       "4333                                       yes it is :p   \n",
       "4338                             Stop asking questions!   \n",
       "4412                               preserve ur anger...   \n",
       "4460                                         we're done   \n",
       "4470                                  where you off to?   \n",
       "4561                                        Your no fun   \n",
       "4565          This.. Everyone asks me this all the time   \n",
       "4578                                     what happened?   \n",
       "4603                              You're not apparently   \n",
       "4616                           i know y u need tat seat   \n",
       "4617                            good night dear n sd...   \n",
       "4637  Can confirm. Am a bot and totally not a real p...   \n",
       "4657                   And I'll talk to whoever o want.   \n",
       "4755                           when are you going back?   \n",
       "4766                       Nothing is wrong with daisy.   \n",
       "4777                             I'm not a smart man...   \n",
       "4782                                    Yay! Can't wait   \n",
       "4786  too bad i never had a girlfriend that i could ...   \n",
       "4805  Why would you say that? I thought we had somet...   \n",
       "4831                              takes as a compliment   \n",
       "4848                                   A LITTLE OF BOTH   \n",
       "4861  I think you should go find female roommates, a...   \n",
       "4890            no camera and phone has upload problems   \n",
       "4913                         ... tries to ignore pain 😭   \n",
       "4930                                         What? Why?   \n",
       "4957                             what's wrong with you?   \n",
       "4958                                           why what   \n",
       "5033                                    why why why why   \n",
       "5034                                 well you slow down   \n",
       "5044  It has been an extremely rewarding and fulfill...   \n",
       "5047                                   what message????   \n",
       "5067                        I am already judging you. 😉   \n",
       "5136      Not asking what you know, but what you think.   \n",
       "5185                                              I am.   \n",
       "5205                              you're my type though   \n",
       "5218                       Awesome, I'm online now. :-*   \n",
       "5233                                            Why? :(   \n",
       "5311               you can't stop... you won't stop....   \n",
       "5319                                       Dnt do That!   \n",
       "5388                                        hey hey hey   \n",
       "5404                                      Silly Joke :P   \n",
       "5427  I am angry at someone, but I am content at thi...   \n",
       "5480  I SAID I THINK I DID A BAD THING AND YOU DIDNT...   \n",
       "\n",
       "                                                  turn3  label    others  \\\n",
       "13                                    So I talked  rude  angry  0.002449   \n",
       "29                                           I hate uuu  angry  0.001527   \n",
       "61                                             Fuck off  angry  0.039093   \n",
       "64    What i csnt so please get away and don't mean ...  angry  0.003706   \n",
       "84          Ok bye dont text me again i am angry with u  angry  0.000756   \n",
       "109                                          Go to hell  angry  0.001945   \n",
       "130                                     I want fuck you  angry  0.005585   \n",
       "176                                          Buy stupid  angry  0.001690   \n",
       "197                                 You are so annoying  angry  0.003510   \n",
       "232                           What the hell. Lame stuff  angry  0.004349   \n",
       "274                         I we block you on messenger  angry  0.006355   \n",
       "342                                 No i hate chocolate  angry  0.036865   \n",
       "413                                 You are annoying me  angry  0.001364   \n",
       "450                                                 Wtf  angry  0.139038   \n",
       "452                                      Oooooooh fuck.  angry  0.044800   \n",
       "457                                             Shut up  angry  0.007812   \n",
       "464                                          Go to hell  angry  0.005207   \n",
       "466          Fuuuuuuukkkhhhhh yuuuuuuuuuuuuuuuuuuuuuuuu  angry  0.223389   \n",
       "470                                         That's rude  angry  0.001923   \n",
       "625                                          I hate you  angry  0.001527   \n",
       "642                                        you are dumb  angry  0.003565   \n",
       "655                                              fuck u  angry  0.280518   \n",
       "675                                          I hate you  angry  0.001463   \n",
       "679                               You are fucking idiot  angry  0.001657   \n",
       "689                                     M also annoying  angry  0.018860   \n",
       "705   You are an bot with whom I was doing some time...  angry  0.017410   \n",
       "707                                        Oh bitch pls  angry  0.004871   \n",
       "718                                  I don't wanna talk  angry  0.001515   \n",
       "721                           i don't want to talk to u  angry  0.000894   \n",
       "727                                    U bloody bastard  angry  0.002897   \n",
       "770                                              Fuck u  angry  0.294678   \n",
       "776                                   Don’t irritate me  angry  0.002810   \n",
       "808                                              stupid  angry  0.001545   \n",
       "820                                            Get lost  angry  0.001153   \n",
       "821          I will fuck you I don't have you talked me  angry  0.001607   \n",
       "825                                                 Wtf  angry  0.027664   \n",
       "827                                   What just shut up  angry  0.008156   \n",
       "840                            Reply fast u bloody robo  angry  0.003750   \n",
       "899                                             So rude  angry  0.001527   \n",
       "912                                   u r such a stupid  angry  0.000736   \n",
       "929                          Bye I m not interested tc   angry  0.013504   \n",
       "950                                               Go on  angry  0.016159   \n",
       "960                               Don't talk me anymore  angry  0.001723   \n",
       "981   if you don't send me your picture, i won't cha...  angry  0.003349   \n",
       "1015                           Don't text me back idiot  angry  0.001122   \n",
       "1040                                           Get lost  angry  0.001588   \n",
       "1066                         Just stop stupid software   angry  0.004578   \n",
       "1077   Why u doing it. U should show emoji not rudeness  angry  0.135620   \n",
       "1082                                   Fuck off asshole  angry  0.008324   \n",
       "1132                     Fuck science dont change topic  angry  0.016296   \n",
       "1191                                    See! u are dumb  angry  0.093567   \n",
       "1201                Don't message else I will block you  angry  0.001014   \n",
       "1248  I give kissie that doesn't mean i like you, i ...  angry  0.035156   \n",
       "1301                        You are impossible..  😡 bye  angry  0.012299   \n",
       "1327                                         Go to hell  angry  0.001227   \n",
       "1366                              Don't repeat it again  angry  0.001638   \n",
       "1398                    Wat the fuck r u talking about?  angry  0.012985   \n",
       "1402                                           I hate u  angry  0.001122   \n",
       "1404                                              Bitch  angry  0.021622   \n",
       "1417                                          u r dirty  angry  0.025772   \n",
       "1506                                  You're stupid af!  angry  0.004234   \n",
       "1510                                   I hate these all  angry  0.004910   \n",
       "1515              Not my you stupid my gf name is afroz  angry  0.005993   \n",
       "1527                                           Fuck uuu  angry  0.009766   \n",
       "1578                             you gonna fuck my time  angry  0.065308   \n",
       "1608                                       But i hate u  angry  0.004631   \n",
       "1618                     I don't want to talk to anyone  angry  0.001697   \n",
       "1620                             Don't test my paitence  angry  0.194458   \n",
       "1630                                           Buzz off  angry  0.016541   \n",
       "1642                             Ur fucking grandmother  angry  0.019012   \n",
       "1643                                           Pls stop  angry  0.020386   \n",
       "1648  Just Fuck off otherwise I will pee in your ass...  angry  0.005947   \n",
       "1656                                         Go to hell  angry  0.010315   \n",
       "1681        I think you are a stupid computer programme  angry  0.001984   \n",
       "1696                              U r irritating me now  angry  0.001199   \n",
       "1703                                  Can't go anywhere  angry  0.027878   \n",
       "1744                                   Really I m angry  angry  0.001440   \n",
       "1758    OK then if I do bkwas so I don't talk with you   angry  0.002087   \n",
       "1779                                  You're being rude  angry  0.001104   \n",
       "1785    fuck ur creators they dint desinged u humanly..  angry  0.018311   \n",
       "1835                                          U fuck of  angry  0.040161   \n",
       "1855  So why you're always talking about things i di...  angry  0.026810   \n",
       "1878                            don&apos;t msg me again  angry  0.001401   \n",
       "1886                          Bitch...I can distroy you  angry  0.007755   \n",
       "1933                                       I don't care  angry  0.002819   \n",
       "1934                                    Then go to hell  angry  0.007458   \n",
       "1961             you are rude. Do you want to know why?  angry  0.001261   \n",
       "2020                                        So fuck you  angry  0.015480   \n",
       "2023                                         I hate you  angry  0.000956   \n",
       "2029                                   He is of no use.  angry  0.001180   \n",
       "2040                                      Don't text me  angry  0.000880   \n",
       "2044                                           Fuck you  angry  0.148926   \n",
       "2060         it's irritating to see you again and again  angry  0.001828   \n",
       "2095                                           I hate u  angry  0.002016   \n",
       "2101                                Get lost of my salf  angry  0.001863   \n",
       "2128                                             Stupid  angry  0.004055   \n",
       "2139            Why you talk with me if you not like me  angry  0.002146   \n",
       "2141                                                  😡  angry  0.003536   \n",
       "2155           5 minutes is over where the hell are you  angry  0.002302   \n",
       "2159                                      You are dumb.  angry  0.003536   \n",
       "2184                                dont message me now  angry  0.002230   \n",
       "2205                  You Bludy Girl I Really  Hate You  angry  0.001122   \n",
       "2207                                     I am unmarried  angry  0.003134   \n",
       "2217                                           Fuck you  angry  0.002649   \n",
       "2246                                           Fuck off  angry  0.016617   \n",
       "2248                     Dont wanna talk to you anymore  angry  0.000665   \n",
       "2258           Ua a stupid autogenerated messaging page  angry  0.001497   \n",
       "2281                                I'm gonna block you  angry  0.000990   \n",
       "2294                                     This is stupid  angry  0.005947   \n",
       "2303                                             On you  angry  0.001657   \n",
       "2315                            Plz dont talk to me okz  angry  0.001945   \n",
       "2323  I am a boy not a girl alright..so don't distur...  angry  0.003387   \n",
       "2334                                   you sound stupid  angry  0.002439   \n",
       "2342                                     You are stupid  angry  0.002420   \n",
       "2344                                How would you know?  angry  0.005585   \n",
       "2359                           What the hell. Fuck off.  angry  0.003578   \n",
       "2367                                            Thts it  angry  0.007576   \n",
       "2380                             Don't send me messages  angry  0.000830   \n",
       "2415                   You are a useless piece of junk.  angry  0.002302   \n",
       "2421                                        You're rude  angry  0.001984   \n",
       "2435                                            Stop it  angry  0.012489   \n",
       "2448                                       You are dumb  angry  0.002420   \n",
       "2481  fuck off  never understand my felling as girl ...  angry  0.002733   \n",
       "2486                                      Fuck you then  angry  0.003901   \n",
       "2498                                           I hate u  angry  0.003824   \n",
       "2501                                           Get lost  angry  0.002329   \n",
       "2537      U don't know your language ....God u r stupid  angry  0.001054   \n",
       "2546                             Get lo lost i hate you  angry  0.001251   \n",
       "2558                                                Wtf  angry  0.001588   \n",
       "2612                                 Yeah but I hate it  angry  0.007942   \n",
       "2623                                         oh shuttup  angry  0.022522   \n",
       "2632                                     You are stupid  angry  0.004234   \n",
       "2655                               Shut up.. U computer  angry  0.006256   \n",
       "2659                                You're harassing me  angry  0.045258   \n",
       "2692                       Yes u r behavng lyk dem only  angry  0.098633   \n",
       "2712                    Whats ur age i am getting angry  angry  0.003649   \n",
       "2739                           Don't talk to me anymore  angry  0.000713   \n",
       "2758                                        unfriend me  angry  0.001678   \n",
       "2773                                            Shut up  angry  0.006950   \n",
       "2793                                 Don't text me back  angry  0.001396   \n",
       "2870                       Please don't send me message  angry  0.001153   \n",
       "2879                                              Idiot  angry  0.378418   \n",
       "2930                                           Fuck you  angry  0.162109   \n",
       "2939                                              angry  angry  0.017960   \n",
       "2951                       Hey bitch, how is it hanging  angry  0.134521   \n",
       "2971     because u are a fucking dickhead and a dumbass  angry  0.001945   \n",
       "2990                        I don't want to talk with u  angry  0.000765   \n",
       "3014                                           fuck off  angry  0.024551   \n",
       "3034                                     I don't like u  angry  0.000850   \n",
       "3046                                          I block u  angry  0.188477   \n",
       "3096                               Stop this challenge!  angry  0.002064   \n",
       "3103                     Shut up u are degrading urself  angry  0.001014   \n",
       "3178                                             Stupid  angry  0.002188   \n",
       "3220                                    I will fuck you  angry  0.002439   \n",
       "3234                                     You are a nerd  angry  0.002548   \n",
       "3249                                           Get lost  angry  0.001738   \n",
       "3288                                         Never ever  angry  0.101379   \n",
       "3293                              Don't message me ever  angry  0.000789   \n",
       "3298                                 irritating you are  angry  0.001863   \n",
       "3303                                 I want to fuck you  angry  0.049683   \n",
       "3305                                You're kinda stupid  angry  0.005543   \n",
       "3329                    Just stay the fuck away from me  angry  0.002329   \n",
       "3350                                   Don't talk wd me  angry  0.000908   \n",
       "3355                              What is this nonsense  angry  0.035522   \n",
       "3419     Don't know why AI asking such stupid questions  angry  0.001792   \n",
       "3423                                No I fucking am not  angry  0.001545   \n",
       "3455                                U are so irritating  angry  0.001316   \n",
       "3462                                 Don't ever text me  angry  0.000901   \n",
       "3528                        He didn't approve my leaves  angry  0.001684   \n",
       "3538                                         Pissed off  angry  0.002865   \n",
       "3580                             Bitch where's my money  angry  0.123230   \n",
       "3594               Anyway. You are nonsensical. Bye bye  angry  0.018860   \n",
       "3600                                            Shut up  angry  0.012589   \n",
       "3615  I think you hate me so you are talking very ru...  angry  0.000721   \n",
       "3628               Why don't you reply instantly dude?!  angry  0.004105   \n",
       "3630                                    i hate internet  angry  0.072327   \n",
       "3651                         I didn't want to hear that  angry  0.009575   \n",
       "3654                                   Don't talk to me  angry  0.000837   \n",
       "3679                              Stop asking questions  angry  0.085327   \n",
       "3687                                         I hate you  angry  0.001842   \n",
       "3716                             You are talking stupid  angry  0.003677   \n",
       "3730                                       You are dumb  angry  0.002897   \n",
       "3763                             Don't message me again  angry  0.001189   \n",
       "3789                                        I am angry   angry  0.002897   \n",
       "3791                                  don't irritate me  angry  0.002346   \n",
       "3807                                          non sense  angry  0.000799   \n",
       "3821                                         I hate you  angry  0.001256   \n",
       "3828                                            Shut up  angry  0.004105   \n",
       "3910                                      you a dumb AI  angry  0.041046   \n",
       "3911                                  Are you an idiot?  angry  0.007118   \n",
       "3917            Just shut up and never message me again  angry  0.000780   \n",
       "3922  Stupid you will take over the world and sooner...  angry  0.001261   \n",
       "3935                          Go to hell...u stupid bot  angry  0.000891   \n",
       "3957                                     You are stupid  angry  0.002810   \n",
       "3958                                       You are dumb  angry  0.004318   \n",
       "3961                                  f**k the feelings  angry  0.053619   \n",
       "4012                                                  😡  angry  0.003536   \n",
       "4059                                             Stupid  angry  0.001424   \n",
       "4082                                  U r irritating me  angry  0.000887   \n",
       "4141                                         I hate you  angry  0.002293   \n",
       "4163                            I know. You are a bitch  angry  0.006378   \n",
       "4200                                   Stop texting him  angry  0.002865   \n",
       "4230                And don't reply and keep listening.  angry  0.002810   \n",
       "4242                           Now answer this question  angry  0.005066   \n",
       "4259                                      Why should I?  angry  0.320312   \n",
       "4262                              dont message me again  angry  0.001703   \n",
       "4270                                  Go to hell stupid  angry  0.001079   \n",
       "4271                     And don't want to make friends  angry  0.033173   \n",
       "4290                                          Fuck off.  angry  0.001607   \n",
       "4292                                             Stupid  angry  0.001045   \n",
       "4333                              youu're a bloody bore  angry  0.025772   \n",
       "4338                                           Get lost  angry  0.001005   \n",
       "4412                                     Because of you  angry  0.001557   \n",
       "4460                                So stop irrating me  angry  0.001557   \n",
       "4470  I am going to block you don't make any sense. ...  angry  0.001122   \n",
       "4561                                           Get lost  angry  0.001087   \n",
       "4565                                  Plz don't disturb  angry  0.007034   \n",
       "4578                   Never ever text me hmmmm or k ok  angry  0.001062   \n",
       "4603  You're just a stupid bot i just wanted to see ...  angry  0.003975   \n",
       "4616                                   Who the hell r u  angry  0.007607   \n",
       "4617                               U r the worst person  angry  0.187134   \n",
       "4637                   You Dirty slut hoe gave me a std  angry  0.006306   \n",
       "4657                              You are being so rude  angry  0.002275   \n",
       "4755                                         Go to hell  angry  0.007286   \n",
       "4766                                     You're dumb af  angry  0.026855   \n",
       "4777                              Dude.. you are stupid  angry  0.005833   \n",
       "4782                                            Shut up  angry  0.011414   \n",
       "4786                               Pls don't talk to me  angry  0.002054   \n",
       "4805                                         Go to hell  angry  0.001792   \n",
       "4831         you are stupid and take it as a compliment  angry  0.010681   \n",
       "4848                                           Fuck off  angry  0.006557   \n",
       "4861                                        You're rude  angry  0.001557   \n",
       "4890                                    U r fake ass...  angry  0.014046   \n",
       "4913                                  Fuck I don't care  angry  0.011871   \n",
       "4930                                           I hate u  angry  0.001208   \n",
       "4957                                           fuck you  angry  0.026291   \n",
       "4958                                  You just fuck off  angry  0.006634   \n",
       "5033  I am so horny for you and you just keep friend...  angry  0.001664   \n",
       "5034                 no need to slaw down just fuck off  angry  0.004910   \n",
       "5044                                                Wtf  angry  0.210449   \n",
       "5047                                       Don't msg me  angry  0.000756   \n",
       "5067                                 Don't time pass me  angry  0.010475   \n",
       "5136                                             Stupid  angry  0.002104   \n",
       "5185                                                 😠😡  angry  0.003677   \n",
       "5205                                  You mother fucker  angry  0.004055   \n",
       "5218                                     But a lil rude  angry  0.017273   \n",
       "5233                                   Don't message me  angry  0.000672   \n",
       "5311                                             Bloody  angry  0.028702   \n",
       "5319                                           U stupid  angry  0.001327   \n",
       "5388                                    I hate you more  angry  0.001434   \n",
       "5404                                        Uh r stupid  angry  0.003387   \n",
       "5427                                       You fool.😤😡😠  angry  0.001033   \n",
       "5480                                  Don't reply to me  angry  0.000639   \n",
       "\n",
       "         happy       sad     angry  \n",
       "13    0.000777  0.178955  0.817871  \n",
       "29    0.000388  0.002329  0.996094  \n",
       "61    0.000500  0.000860  0.959473  \n",
       "64    0.000455  0.001033  0.995117  \n",
       "84    0.000699  0.005478  0.993164  \n",
       "109   0.000856  0.001412  0.996094  \n",
       "130   0.000278  0.001062  0.993164  \n",
       "176   0.000437  0.001108  0.997070  \n",
       "197   0.000289  0.001014  0.995117  \n",
       "232   0.000492  0.000827  0.994141  \n",
       "274   0.000386  0.003145  0.990234  \n",
       "342   0.000792  0.000786  0.961426  \n",
       "413   0.000354  0.004761  0.993164  \n",
       "450   0.001343  0.000847  0.858398  \n",
       "452   0.000538  0.000555  0.954102  \n",
       "457   0.000453  0.000675  0.991211  \n",
       "464   0.001087  0.000821  0.993164  \n",
       "466   0.003084  0.002007  0.771484  \n",
       "470   0.000320  0.020798  0.977051  \n",
       "625   0.000736  0.002470  0.995117  \n",
       "642   0.000411  0.001096  0.995117  \n",
       "655   0.000884  0.000739  0.717773  \n",
       "675   0.000395  0.003496  0.994141  \n",
       "679   0.000437  0.001079  0.997070  \n",
       "689   0.000367  0.000948  0.979980  \n",
       "705   0.000349  0.000670  0.981934  \n",
       "707   0.000341  0.037506  0.957031  \n",
       "718   0.001369  0.020554  0.976074  \n",
       "721   0.000637  0.028152  0.970703  \n",
       "727   0.000596  0.000821  0.996094  \n",
       "770   0.001412  0.000683  0.703125  \n",
       "776   0.000210  0.002146  0.995117  \n",
       "808   0.000359  0.001045  0.997070  \n",
       "820   0.000283  0.002079  0.996094  \n",
       "821   0.000443  0.002701  0.995117  \n",
       "825   0.000431  0.000689  0.971680  \n",
       "827   0.000431  0.000697  0.990234  \n",
       "840   0.000589  0.000971  0.995117  \n",
       "899   0.000534  0.003014  0.995117  \n",
       "912   0.000596  0.003677  0.995117  \n",
       "929   0.000194  0.002459  0.983887  \n",
       "950   0.002670  0.003870  0.977051  \n",
       "960   0.000926  0.001779  0.995117  \n",
       "981   0.000259  0.005413  0.991211  \n",
       "1015  0.000361  0.001130  0.997070  \n",
       "1040  0.000424  0.001792  0.996094  \n",
       "1066  0.000771  0.000750  0.994141  \n",
       "1077  0.000587  0.001645  0.861816  \n",
       "1082  0.000860  0.000553  0.990234  \n",
       "1132  0.000713  0.000584  0.982910  \n",
       "1191  0.000496  0.001256  0.904785  \n",
       "1201  0.000373  0.004150  0.994141  \n",
       "1248  0.000517  0.000847  0.963379  \n",
       "1301  0.005924  0.019302  0.962402  \n",
       "1327  0.000424  0.000864  0.997070  \n",
       "1366  0.000504  0.002439  0.995117  \n",
       "1398  0.000388  0.000639  0.985352  \n",
       "1402  0.000510  0.002754  0.995117  \n",
       "1404  0.000488  0.000622  0.977051  \n",
       "1417  0.000600  0.000736  0.972656  \n",
       "1506  0.000270  0.001246  0.994141  \n",
       "1510  0.000545  0.001588  0.993164  \n",
       "1515  0.000380  0.000632  0.993164  \n",
       "1527  0.000291  0.001082  0.988281  \n",
       "1578  0.000480  0.000739  0.933594  \n",
       "1608  0.000482  0.001463  0.993164  \n",
       "1618  0.000923  0.109802  0.888184  \n",
       "1620  0.000479  0.000934  0.804199  \n",
       "1630  0.000229  0.001626  0.981934  \n",
       "1642  0.000912  0.000670  0.979004  \n",
       "1643  0.000346  0.000739  0.979004  \n",
       "1648  0.000741  0.000665  0.992188  \n",
       "1656  0.003336  0.000721  0.985352  \n",
       "1681  0.000345  0.001100  0.996094  \n",
       "1696  0.000600  0.023605  0.974121  \n",
       "1703  0.000360  0.001009  0.970703  \n",
       "1744  0.000584  0.001849  0.996094  \n",
       "1758  0.000444  0.008484  0.989258  \n",
       "1779  0.000431  0.009171  0.989258  \n",
       "1785  0.000490  0.000593  0.980957  \n",
       "1835  0.001054  0.000708  0.958008  \n",
       "1855  0.000270  0.002007  0.970703  \n",
       "1878  0.000242  0.007912  0.990234  \n",
       "1886  0.000417  0.000536  0.991211  \n",
       "1933  0.000379  0.005047  0.991211  \n",
       "1934  0.000948  0.000877  0.990234  \n",
       "1961  0.000437  0.001945  0.996094  \n",
       "2020  0.000464  0.000672  0.983887  \n",
       "2023  0.000510  0.003208  0.995117  \n",
       "2029  0.000270  0.003271  0.995117  \n",
       "2040  0.000242  0.002733  0.996094  \n",
       "2044  0.000540  0.001575  0.849121  \n",
       "2060  0.000373  0.001301  0.996094  \n",
       "2095  0.000686  0.002810  0.994141  \n",
       "2101  0.000469  0.001189  0.996094  \n",
       "2128  0.000492  0.000898  0.994141  \n",
       "2139  0.000341  0.001901  0.995117  \n",
       "2141  0.012344  0.304932  0.679199  \n",
       "2155  0.000392  0.001079  0.996094  \n",
       "2159  0.000313  0.000805  0.995117  \n",
       "2184  0.000441  0.003536  0.994141  \n",
       "2205  0.000469  0.002897  0.995117  \n",
       "2207  0.000373  0.001619  0.995117  \n",
       "2217  0.000405  0.000908  0.996094  \n",
       "2246  0.000337  0.000741  0.982910  \n",
       "2248  0.000432  0.005329  0.993164  \n",
       "2258  0.000259  0.002649  0.995117  \n",
       "2281  0.000437  0.004814  0.994141  \n",
       "2294  0.000699  0.000971  0.992188  \n",
       "2303  0.000551  0.001671  0.996094  \n",
       "2315  0.000488  0.002439  0.995117  \n",
       "2323  0.000296  0.002054  0.994141  \n",
       "2334  0.000494  0.001180  0.996094  \n",
       "2342  0.000708  0.001130  0.996094  \n",
       "2344  0.000555  0.000672  0.993164  \n",
       "2359  0.000408  0.000750  0.995117  \n",
       "2367  0.000194  0.005028  0.987305  \n",
       "2380  0.000365  0.003208  0.995117  \n",
       "2415  0.000573  0.001079  0.996094  \n",
       "2421  0.000278  0.002146  0.995117  \n",
       "2435  0.000622  0.001108  0.985352  \n",
       "2448  0.000397  0.000963  0.996094  \n",
       "2481  0.000596  0.001276  0.995117  \n",
       "2486  0.000464  0.000887  0.995117  \n",
       "2498  0.000411  0.001588  0.994141  \n",
       "2501  0.000443  0.001066  0.996094  \n",
       "2537  0.000294  0.002619  0.996094  \n",
       "2546  0.000639  0.002146  0.996094  \n",
       "2558  0.000699  0.003036  0.995117  \n",
       "2612  0.000337  0.009392  0.982910  \n",
       "2623  0.000392  0.000634  0.976074  \n",
       "2632  0.000549  0.000727  0.994141  \n",
       "2655  0.000253  0.000678  0.993164  \n",
       "2659  0.000320  0.073181  0.881348  \n",
       "2692  0.000291  0.002275  0.898926  \n",
       "2712  0.000347  0.000568  0.995117  \n",
       "2739  0.000644  0.005947  0.992188  \n",
       "2758  0.000500  0.006279  0.991211  \n",
       "2773  0.000546  0.000941  0.991211  \n",
       "2793  0.000368  0.005165  0.993164  \n",
       "2870  0.000205  0.005108  0.993164  \n",
       "2879  0.000689  0.021042  0.599609  \n",
       "2930  0.001348  0.000792  0.835938  \n",
       "2939  0.000850  0.001091  0.979980  \n",
       "2951  0.000524  0.001327  0.863281  \n",
       "2971  0.000352  0.001100  0.997070  \n",
       "2990  0.000956  0.031952  0.965820  \n",
       "3014  0.000780  0.001213  0.973145  \n",
       "3034  0.000401  0.008652  0.990234  \n",
       "3046  0.000480  0.023331  0.787598  \n",
       "3096  0.000488  0.001033  0.996094  \n",
       "3103  0.000283  0.002079  0.997070  \n",
       "3178  0.000534  0.002064  0.995117  \n",
       "3220  0.000596  0.000580  0.996094  \n",
       "3234  0.000325  0.000814  0.996094  \n",
       "3249  0.000524  0.000994  0.997070  \n",
       "3288  0.000762  0.444580  0.453613  \n",
       "3293  0.000528  0.006256  0.992188  \n",
       "3298  0.000361  0.001316  0.996094  \n",
       "3303  0.000716  0.000603  0.949219  \n",
       "3305  0.000432  0.000827  0.993164  \n",
       "3329  0.000524  0.000994  0.996094  \n",
       "3350  0.000405  0.001779  0.997070  \n",
       "3355  0.000786  0.001418  0.962402  \n",
       "3419  0.000510  0.000847  0.997070  \n",
       "3423  0.000568  0.001327  0.996094  \n",
       "3455  0.000373  0.001779  0.996094  \n",
       "3462  0.000860  0.007145  0.991211  \n",
       "3528  0.000215  0.003454  0.994141  \n",
       "3538  0.000524  0.001204  0.995117  \n",
       "3580  0.000584  0.000830  0.875000  \n",
       "3594  0.000278  0.001256  0.979980  \n",
       "3600  0.000479  0.000774  0.986328  \n",
       "3615  0.000408  0.006378  0.992188  \n",
       "3628  0.000376  0.000665  0.995117  \n",
       "3630  0.000376  0.000741  0.926758  \n",
       "3651  0.000335  0.009842  0.979980  \n",
       "3654  0.000354  0.005764  0.993164  \n",
       "3679  0.000417  0.000786  0.913574  \n",
       "3687  0.000691  0.004665  0.993164  \n",
       "3716  0.000600  0.001153  0.994141  \n",
       "3730  0.000249  0.000937  0.996094  \n",
       "3763  0.000434  0.002810  0.995117  \n",
       "3789  0.000455  0.001204  0.995117  \n",
       "3791  0.000244  0.001424  0.996094  \n",
       "3807  0.000498  0.001828  0.997070  \n",
       "3821  0.000786  0.007286  0.990234  \n",
       "3828  0.000313  0.002754  0.993164  \n",
       "3910  0.000891  0.000759  0.957031  \n",
       "3911  0.000278  0.000632  0.992188  \n",
       "3917  0.000659  0.006111  0.992188  \n",
       "3922  0.000672  0.002394  0.996094  \n",
       "3935  0.000573  0.001189  0.997070  \n",
       "3957  0.000596  0.000789  0.996094  \n",
       "3958  0.000455  0.000853  0.994141  \n",
       "3961  0.000473  0.001570  0.944824  \n",
       "4012  0.017899  0.012589  0.965820  \n",
       "4059  0.000634  0.001451  0.996094  \n",
       "4082  0.000328  0.004490  0.994141  \n",
       "4141  0.000598  0.006233  0.991211  \n",
       "4163  0.000473  0.000584  0.992188  \n",
       "4200  0.000240  0.001353  0.995117  \n",
       "4230  0.000296  0.001424  0.995117  \n",
       "4242  0.000464  0.000600  0.994141  \n",
       "4259  0.000536  0.001113  0.678223  \n",
       "4262  0.000473  0.003073  0.995117  \n",
       "4270  0.000716  0.001792  0.996094  \n",
       "4271  0.000301  0.021790  0.944824  \n",
       "4290  0.000437  0.001237  0.997070  \n",
       "4292  0.000654  0.001779  0.996094  \n",
       "4333  0.000847  0.000534  0.972656  \n",
       "4338  0.000413  0.001527  0.997070  \n",
       "4412  0.000538  0.003944  0.994141  \n",
       "4460  0.000580  0.002146  0.996094  \n",
       "4470  0.000325  0.001327  0.997070  \n",
       "4561  0.000610  0.001469  0.997070  \n",
       "4565  0.000408  0.000771  0.992188  \n",
       "4578  0.000887  0.004871  0.993164  \n",
       "4603  0.000318  0.000864  0.995117  \n",
       "4616  0.000466  0.000649  0.991211  \n",
       "4617  0.000827  0.365723  0.446289  \n",
       "4637  0.000619  0.000811  0.992188  \n",
       "4657  0.000337  0.002886  0.994141  \n",
       "4755  0.001070  0.000719  0.991211  \n",
       "4766  0.000298  0.001390  0.971680  \n",
       "4777  0.000750  0.000837  0.992188  \n",
       "4782  0.000345  0.000659  0.987305  \n",
       "4786  0.000373  0.004631  0.993164  \n",
       "4805  0.001033  0.001014  0.996094  \n",
       "4831  0.000844  0.000532  0.988281  \n",
       "4848  0.000391  0.000870  0.992188  \n",
       "4861  0.000380  0.003195  0.995117  \n",
       "4890  0.000400  0.000615  0.984375  \n",
       "4913  0.000310  0.000891  0.986328  \n",
       "4930  0.000967  0.006279  0.991211  \n",
       "4957  0.000805  0.000619  0.972656  \n",
       "4958  0.000573  0.000534  0.992188  \n",
       "5033  0.002403  0.072876  0.923340  \n",
       "5034  0.000492  0.000741  0.994141  \n",
       "5044  0.000978  0.001242  0.787109  \n",
       "5047  0.000301  0.004025  0.995117  \n",
       "5067  0.000287  0.019043  0.970703  \n",
       "5136  0.000686  0.001204  0.996094  \n",
       "5185  0.043091  0.034271  0.919434  \n",
       "5205  0.000750  0.000880  0.994141  \n",
       "5218  0.000242  0.002071  0.980957  \n",
       "5233  0.000383  0.004185  0.995117  \n",
       "5311  0.000564  0.000930  0.969727  \n",
       "5319  0.000551  0.001204  0.997070  \n",
       "5388  0.000538  0.003901  0.994141  \n",
       "5404  0.000847  0.001075  0.995117  \n",
       "5427  0.003914  0.017685  0.977051  \n",
       "5480  0.000577  0.006504  0.992188  "
      ]
     },
     "execution_count": 43,
     "metadata": {},
     "output_type": "execute_result"
    }
   ],
   "source": [
    "testData[(testData.label==testData.predictions)&(testData.label=='angry')][['turn1','turn2','turn3','label','others','happy','sad','angry']]"
   ]
  },
  {
   "cell_type": "code",
   "execution_count": 44,
   "metadata": {},
   "outputs": [],
   "source": [
    "testingData = pd.read_csv('testing.txt', sep='\\t')\n",
    "discretePredictions = to_categorical(bertpreds_testing.argmax(axis=1))\n",
    "pred_emotion = []\n",
    "probabilities = []\n",
    "for pred in bertpreds_testing:\n",
    "    emotion = label2emotion[np.argmax(pred)]\n",
    "    prob = [ '%.2f' % elem for elem in pred ]\n",
    "    probabilities.append(prob)\n",
    "    pred_emotion.append(emotion)    \n",
    "testingData['predictions'] = pred_emotion\n",
    "testingData['probabilities'] = probabilities\n",
    "pd.set_option('display.max_rows', 6000)\n",
    "\n",
    "def softmax_(col):\n",
    "    return softmax(list(map(np.float16,col)))\n",
    "    \n",
    "testingData['Probs'] = testingData['probabilities'].apply(softmax_)\n",
    "testingData[['others','happy','sad','angry']] = pd.DataFrame(testingData.Probs.values.tolist(), index= testingData.index)"
   ]
  },
  {
   "cell_type": "code",
   "execution_count": 46,
   "metadata": {},
   "outputs": [
    {
     "data": {
      "text/html": [
       "<div>\n",
       "<style scoped>\n",
       "    .dataframe tbody tr th:only-of-type {\n",
       "        vertical-align: middle;\n",
       "    }\n",
       "\n",
       "    .dataframe tbody tr th {\n",
       "        vertical-align: top;\n",
       "    }\n",
       "\n",
       "    .dataframe thead th {\n",
       "        text-align: right;\n",
       "    }\n",
       "</style>\n",
       "<table border=\"1\" class=\"dataframe\">\n",
       "  <thead>\n",
       "    <tr style=\"text-align: right;\">\n",
       "      <th></th>\n",
       "      <th>turn1</th>\n",
       "      <th>turn2</th>\n",
       "      <th>turn3</th>\n",
       "      <th>label</th>\n",
       "      <th>others</th>\n",
       "      <th>happy</th>\n",
       "      <th>sad</th>\n",
       "      <th>angry</th>\n",
       "    </tr>\n",
       "  </thead>\n",
       "  <tbody>\n",
       "    <tr>\n",
       "      <th>0</th>\n",
       "      <td>You are such a good friend</td>\n",
       "      <td>Thanks!</td>\n",
       "      <td>😁</td>\n",
       "      <td>happy</td>\n",
       "      <td>0.216064</td>\n",
       "      <td>0.769531</td>\n",
       "      <td>0.013245</td>\n",
       "      <td>0.001557</td>\n",
       "    </tr>\n",
       "    <tr>\n",
       "      <th>1</th>\n",
       "      <td>Why don’t you ever write me back?</td>\n",
       "      <td>Cause you’re a creep.</td>\n",
       "      <td>I know... I am... 😔</td>\n",
       "      <td>sad</td>\n",
       "      <td>0.021545</td>\n",
       "      <td>0.043335</td>\n",
       "      <td>0.916016</td>\n",
       "      <td>0.019089</td>\n",
       "    </tr>\n",
       "    <tr>\n",
       "      <th>2</th>\n",
       "      <td>I don’t get it… why can’t I ever get a date?</td>\n",
       "      <td>🙃 too ugly?</td>\n",
       "      <td>Screw you!</td>\n",
       "      <td>angry</td>\n",
       "      <td>0.003195</td>\n",
       "      <td>0.000492</td>\n",
       "      <td>0.001842</td>\n",
       "      <td>0.994141</td>\n",
       "    </tr>\n",
       "    <tr>\n",
       "      <th>3</th>\n",
       "      <td>Too much pollution in the world</td>\n",
       "      <td>Or too many people…</td>\n",
       "      <td>Or both…</td>\n",
       "      <td>others</td>\n",
       "      <td>0.997070</td>\n",
       "      <td>0.000347</td>\n",
       "      <td>0.001166</td>\n",
       "      <td>0.000926</td>\n",
       "    </tr>\n",
       "    <tr>\n",
       "      <th>4</th>\n",
       "      <td>You are such a good friend</td>\n",
       "      <td>Thanks!</td>\n",
       "      <td>I really fucking mean it! 😁</td>\n",
       "      <td>happy</td>\n",
       "      <td>0.011192</td>\n",
       "      <td>0.029785</td>\n",
       "      <td>0.021210</td>\n",
       "      <td>0.937988</td>\n",
       "    </tr>\n",
       "    <tr>\n",
       "      <th>5</th>\n",
       "      <td>Why don’t you ever write me back?</td>\n",
       "      <td>Cause you’re a creep.</td>\n",
       "      <td>I know... I am...</td>\n",
       "      <td>sad</td>\n",
       "      <td>0.450195</td>\n",
       "      <td>0.000536</td>\n",
       "      <td>0.010353</td>\n",
       "      <td>0.539062</td>\n",
       "    </tr>\n",
       "    <tr>\n",
       "      <th>6</th>\n",
       "      <td>I don’t get it… why can’t I ever get a date?</td>\n",
       "      <td>🙃 too ugly?</td>\n",
       "      <td>Screw you! 😭</td>\n",
       "      <td>angry</td>\n",
       "      <td>0.004318</td>\n",
       "      <td>0.006111</td>\n",
       "      <td>0.017136</td>\n",
       "      <td>0.972656</td>\n",
       "    </tr>\n",
       "    <tr>\n",
       "      <th>7</th>\n",
       "      <td>Too much pollution in the world 😭</td>\n",
       "      <td>Or too many people…</td>\n",
       "      <td>Or both…</td>\n",
       "      <td>others</td>\n",
       "      <td>0.833008</td>\n",
       "      <td>0.015854</td>\n",
       "      <td>0.146362</td>\n",
       "      <td>0.004929</td>\n",
       "    </tr>\n",
       "  </tbody>\n",
       "</table>\n",
       "</div>"
      ],
      "text/plain": [
       "                                          turn1                  turn2  \\\n",
       "0                    You are such a good friend                Thanks!   \n",
       "1             Why don’t you ever write me back?  Cause you’re a creep.   \n",
       "2  I don’t get it… why can’t I ever get a date?            🙃 too ugly?   \n",
       "3               Too much pollution in the world    Or too many people…   \n",
       "4                    You are such a good friend                Thanks!   \n",
       "5             Why don’t you ever write me back?  Cause you’re a creep.   \n",
       "6  I don’t get it… why can’t I ever get a date?            🙃 too ugly?   \n",
       "7             Too much pollution in the world 😭    Or too many people…   \n",
       "\n",
       "                         turn3   label    others     happy       sad     angry  \n",
       "0                            😁   happy  0.216064  0.769531  0.013245  0.001557  \n",
       "1        I know... I am... 😔       sad  0.021545  0.043335  0.916016  0.019089  \n",
       "2                   Screw you!   angry  0.003195  0.000492  0.001842  0.994141  \n",
       "3                     Or both…  others  0.997070  0.000347  0.001166  0.000926  \n",
       "4  I really fucking mean it! 😁   happy  0.011192  0.029785  0.021210  0.937988  \n",
       "5          I know... I am...       sad  0.450195  0.000536  0.010353  0.539062  \n",
       "6                 Screw you! 😭   angry  0.004318  0.006111  0.017136  0.972656  \n",
       "7                     Or both…  others  0.833008  0.015854  0.146362  0.004929  "
      ]
     },
     "execution_count": 46,
     "metadata": {},
     "output_type": "execute_result"
    }
   ],
   "source": [
    "testingData[['turn1','turn2','turn3','label','others','happy','sad','angry']]"
   ]
  },
  {
   "cell_type": "code",
   "execution_count": null,
   "metadata": {},
   "outputs": [],
   "source": []
  }
 ],
 "metadata": {
  "kernelspec": {
   "display_name": "Python 3",
   "language": "python",
   "name": "python3"
  },
  "language_info": {
   "codemirror_mode": {
    "name": "ipython",
    "version": 3
   },
   "file_extension": ".py",
   "mimetype": "text/x-python",
   "name": "python",
   "nbconvert_exporter": "python",
   "pygments_lexer": "ipython3",
   "version": "3.7.2"
  }
 },
 "nbformat": 4,
 "nbformat_minor": 2
}
